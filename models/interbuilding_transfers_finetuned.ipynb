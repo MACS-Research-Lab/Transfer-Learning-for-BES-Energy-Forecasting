{
 "cells": [
  {
   "cell_type": "code",
   "execution_count": null,
   "metadata": {},
   "outputs": [],
   "source": [
    "import pandas as pd\n",
    "\n",
    "import plotly.express as px\n",
    "from plotly.subplots import make_subplots\n",
    "\n",
    "import matplotlib.pyplot as plt\n",
    "\n",
    "import model_generalized"
   ]
  },
  {
   "cell_type": "code",
   "execution_count": null,
   "metadata": {},
   "outputs": [],
   "source": [
    "ft_percents = [0.0, 0.2, 0.4, 0.6, 0.8]\n",
    "fixed_test_size = True"
   ]
  },
  {
   "cell_type": "code",
   "execution_count": null,
   "metadata": {},
   "outputs": [],
   "source": [
    "esb1_features = ['ESB_Tower_1 enteringWaterTemp', 'ESB_Tower_1 outdoorAirDryBulb', 'ESB_Tower_1 outdoorAirWetBulb', 'ESB_Tower_1 vfdPercent', 'ESB_Tower_1 fanA_vfdPower', 'ESB_Tower_1 fanB_vfdPower', 'ESB_Tower_1 dayOfWeek', 'ESB_Tower_1 hourOfDay']\n",
    "esb1_target = 'ESB_Tower_1 leavingWaterTemp'\n",
    "\n",
    "esb2_features = ['ESB_Tower_2 enteringWaterTemp', 'ESB_Tower_2 outdoorAirDryBulb', 'ESB_Tower_2 outdoorAirWetBulb', 'ESB_Tower_2 vfdPercent', 'ESB_Tower_2 fanA_vfdPower', 'ESB_Tower_2 fanB_vfdPower', 'ESB_Tower_2 dayOfWeek', 'ESB_Tower_2 hourOfDay']\n",
    "esb2_target = 'ESB_Tower_2 leavingWaterTemp'\n",
    "\n",
    "kissam1_features = ['Kissam_Tower_1 enteringWaterTemp', 'Kissam_Tower_1 outdoorAirDryBulb', 'Kissam_Tower_1 outdoorAirWetBulb', 'Kissam_Tower_1 vfdPercent', 'Kissam_Tower_1 fanA_vfdPower', 'Kissam_Tower_1 fanB_vfdPower', 'Kissam_Tower_1 dayOfWeek', 'Kissam_Tower_1 hourOfDay']\n",
    "kissam1_target = 'Kissam_Tower_1 leavingWaterTemp'\n",
    "\n",
    "kissam2_features = ['Kissam_Tower_2 enteringWaterTemp', 'Kissam_Tower_2 outdoorAirDryBulb', 'Kissam_Tower_2 outdoorAirWetBulb', 'Kissam_Tower_2 vfdPercent', 'Kissam_Tower_2 fanA_vfdPower', 'Kissam_Tower_2 fanB_vfdPower', 'Kissam_Tower_2 dayOfWeek', 'Kissam_Tower_2 hourOfDay']\n",
    "kissam2_target = 'Kissam_Tower_2 leavingWaterTemp'"
   ]
  },
  {
   "attachments": {},
   "cell_type": "markdown",
   "metadata": {},
   "source": [
    "## ESB 1 to Kissam 1 & 2"
   ]
  },
  {
   "cell_type": "code",
   "execution_count": null,
   "metadata": {},
   "outputs": [],
   "source": [
    "rmse_esb1_kissam1 = []\n",
    "rmse_esb1_kissam2 = []\n",
    "\n",
    "for ft_percent in ft_percents:\n",
    "    rmse_esb1_kissam1.append(model_generalized.intra_season_transfer(from_building_name=\"ESB\", from_tower_number=1, to_building_name=\"Kissam\", to_tower_number=1, to_features=kissam1_features, to_target=kissam1_target, to_season=\"summer\", finetuning_percentage=ft_percent, fixed_test_size=fixed_test_size, displayResults=False ))\n",
    "    rmse_esb1_kissam2.append(model_generalized.intra_season_transfer(from_building_name=\"ESB\", from_tower_number=1, to_building_name=\"Kissam\", to_tower_number=2, to_features=kissam2_features, to_target=kissam2_target, to_season=\"summer\", finetuning_percentage=ft_percent, fixed_test_size=fixed_test_size, displayResults=False ))"
   ]
  },
  {
   "attachments": {},
   "cell_type": "markdown",
   "metadata": {},
   "source": [
    "Using matplotlib\n",
    "\n",
    "```\n",
    "# Plotting the data\n",
    "plt.plot(ft_percents, rmse, marker='o')\n",
    "\n",
    "# Setting labels and title\n",
    "plt.xlabel('Finetuning data percentage')\n",
    "plt.ylabel('RMSE')\n",
    "plt.title('Root Mean Squared Error')\n",
    "\n",
    "# Displaying the plot\n",
    "plt.show()\n",
    "```"
   ]
  },
  {
   "cell_type": "code",
   "execution_count": null,
   "metadata": {},
   "outputs": [],
   "source": [
    "fig1 = px.line(pd.DataFrame({'Finetuning data percentage': [fp*100 for fp in ft_percents], 'Root mean squared error': rmse_esb1_kissam1}), x='Finetuning data percentage', y='Root mean squared error', title='Root mean squared errors')\n",
    "\n",
    "fig2 = px.line(pd.DataFrame({'Finetuning data percentage': [fp*100 for fp in ft_percents], 'Root mean squared error': rmse_esb1_kissam2}), x='Finetuning data percentage', y='Root mean squared error', title='Root mean squared errors')\n",
    "\n",
    "# Create subplots with 1 row and 2 columns\n",
    "figfinal = make_subplots(rows=1, cols=2)\n",
    "\n",
    "# Add the figures to the subplots\n",
    "figfinal.add_trace(fig1.data[0], row=1, col=1)\n",
    "figfinal.update_xaxes(title_text=\"Finetuning data percentage\", row=1, col=1)\n",
    "figfinal.update_yaxes(title_text=\"Root mean squared error (fahrenheit)\", row=1, col=1)\n",
    "\n",
    "figfinal.add_trace(fig2.data[0], row=1, col=2)\n",
    "figfinal.update_xaxes(title_text=\"Finetuning data percentage\", row=1, col=2)\n",
    "figfinal.update_yaxes(title_text=\"Root mean squared error (fahrenheit)\", row=1, col=2)\n",
    "\n",
    "figfinal.update_layout(title_text=\"ESB Tower 1 to Kissam Tower 1, ESB Tower 1 to Kissam Tower 2\", showlegend=False)\n",
    "\n",
    "# Show the plot\n",
    "figfinal.show()\n",
    "figfinal.write_html(f\"../plots/interbuilding_transfers/ESB1_to_Kissam1&2_gradient_summer.html\")"
   ]
  },
  {
   "attachments": {},
   "cell_type": "markdown",
   "metadata": {},
   "source": [
    "## ESB 2 to Kissam 1 & 2"
   ]
  },
  {
   "cell_type": "code",
   "execution_count": null,
   "metadata": {},
   "outputs": [],
   "source": [
    "rmse_esb2_kissam1 = []\n",
    "rmse_esb2_kissam2 = []\n",
    "\n",
    "for ft_percent in ft_percents:\n",
    "    rmse_esb2_kissam1.append(model_generalized.intra_season_transfer(from_building_name=\"ESB\", from_tower_number=2, to_building_name=\"Kissam\", to_tower_number=1, to_features=kissam1_features, to_target=kissam1_target, to_season=\"summer\", finetuning_percentage=ft_percent, fixed_test_size=fixed_test_size, displayResults=False ))\n",
    "    rmse_esb2_kissam2.append(model_generalized.intra_season_transfer(from_building_name=\"ESB\", from_tower_number=2, to_building_name=\"Kissam\", to_tower_number=2, to_features=kissam2_features, to_target=kissam2_target, to_season=\"summer\", finetuning_percentage=ft_percent, fixed_test_size=fixed_test_size, displayResults=False ))"
   ]
  },
  {
   "cell_type": "code",
   "execution_count": null,
   "metadata": {},
   "outputs": [],
   "source": [
    "fig1 = px.line(pd.DataFrame({'Finetuning data percentage': [fp*100 for fp in ft_percents], 'Root mean squared error': rmse_esb2_kissam1}), x='Finetuning data percentage', y='Root mean squared error', title='Root mean squared errors')\n",
    "\n",
    "fig2 = px.line(pd.DataFrame({'Finetuning data percentage': [fp*100 for fp in ft_percents], 'Root mean squared error': rmse_esb2_kissam2}), x='Finetuning data percentage', y='Root mean squared error', title='Root mean squared errors')\n",
    "\n",
    "# Create subplots with 1 row and 2 columns\n",
    "figfinal = make_subplots(rows=1, cols=2)\n",
    "\n",
    "# Add the figures to the subplots\n",
    "figfinal.add_trace(fig1.data[0], row=1, col=1)\n",
    "figfinal.update_xaxes(title_text=\"Finetuning data percentage\", row=1, col=1)\n",
    "figfinal.update_yaxes(title_text=\"Root mean squared error (fahrenheit)\", row=1, col=1)\n",
    "\n",
    "figfinal.add_trace(fig2.data[0], row=1, col=2)\n",
    "figfinal.update_xaxes(title_text=\"Finetuning data percentage\", row=1, col=2)\n",
    "figfinal.update_yaxes(title_text=\"Root mean squared error (fahrenheit)\", row=1, col=2)\n",
    "\n",
    "figfinal.update_layout(title_text=\"ESB Tower 2 to Kissam Tower 1, ESB Tower 2 to Kissam Tower 2\", showlegend=False)\n",
    "\n",
    "# Show the plot\n",
    "figfinal.show()\n",
    "figfinal.write_html(f\"../plots/interbuilding_transfers/ESB2_to_Kissam1&2_gradient_summer.html\")"
   ]
  },
  {
   "attachments": {},
   "cell_type": "markdown",
   "metadata": {},
   "source": [
    "## Kissam 1 to ESB 1 & 2"
   ]
  },
  {
   "cell_type": "code",
   "execution_count": null,
   "metadata": {},
   "outputs": [],
   "source": [
    "rmse_kissam1_esb1 = []\n",
    "rmse_kissam1_esb2 = []\n",
    "\n",
    "for ft_percent in ft_percents:\n",
    "    rmse_kissam1_esb1.append(model_generalized.intra_season_transfer(from_building_name=\"Kissam\", from_tower_number=1, to_building_name=\"ESB\", to_tower_number=1, to_features=esb1_features, to_target=esb1_target, to_season=\"summer\", finetuning_percentage=ft_percent, fixed_test_size=fixed_test_size, displayResults=False ))\n",
    "    rmse_kissam1_esb2.append(model_generalized.intra_season_transfer(from_building_name=\"Kissam\", from_tower_number=1, to_building_name=\"ESB\", to_tower_number=2, to_features=esb2_features, to_target=esb2_target, to_season=\"summer\", finetuning_percentage=ft_percent, fixed_test_size=fixed_test_size, displayResults=False ))"
   ]
  },
  {
   "cell_type": "code",
   "execution_count": null,
   "metadata": {},
   "outputs": [],
   "source": [
    "fig1 = px.line(pd.DataFrame({'Finetuning data percentage': [fp*100 for fp in ft_percents], 'Root mean squared error': rmse_kissam1_esb1}), x='Finetuning data percentage', y='Root mean squared error', title='Root mean squared errors')\n",
    "\n",
    "fig2 = px.line(pd.DataFrame({'Finetuning data percentage': [fp*100 for fp in ft_percents], 'Root mean squared error': rmse_kissam1_esb2}), x='Finetuning data percentage', y='Root mean squared error', title='Root mean squared errors')\n",
    "\n",
    "# Create subplots with 1 row and 2 columns\n",
    "figfinal = make_subplots(rows=1, cols=2)\n",
    "\n",
    "# Add the figures to the subplots\n",
    "figfinal.add_trace(fig1.data[0], row=1, col=1)\n",
    "figfinal.update_xaxes(title_text=\"Finetuning data percentage\", row=1, col=1)\n",
    "figfinal.update_yaxes(title_text=\"Root mean squared error (fahrenheit)\", row=1, col=1)\n",
    "\n",
    "figfinal.add_trace(fig2.data[0], row=1, col=2)\n",
    "figfinal.update_xaxes(title_text=\"Finetuning data percentage\", row=1, col=2)\n",
    "figfinal.update_yaxes(title_text=\"Root mean squared error (fahrenheit)\", row=1, col=2)\n",
    "\n",
    "figfinal.update_layout(title_text=\"Kissam Tower 1 to ESB Tower 1, Kissam Tower 1 to ESB Tower 2\", showlegend=False)\n",
    "\n",
    "# Show the plot\n",
    "figfinal.show()\n",
    "figfinal.write_html(f\"../plots/interbuilding_transfers/Kissam1_to_ESB1&2_gradient_summer.html\")"
   ]
  },
  {
   "attachments": {},
   "cell_type": "markdown",
   "metadata": {},
   "source": [
    "## Kissam 2 to ESB 1 & 2"
   ]
  },
  {
   "cell_type": "code",
   "execution_count": null,
   "metadata": {},
   "outputs": [],
   "source": [
    "rmse_kissam2_esb1 = []\n",
    "rmse_kissam2_esb2 = []\n",
    "\n",
    "for ft_percent in ft_percents:\n",
    "    rmse_kissam2_esb1.append(model_generalized.intra_season_transfer(from_building_name=\"Kissam\", from_tower_number=2, to_building_name=\"ESB\", to_tower_number=1, to_features=esb1_features, to_target=esb1_target, to_season=\"summer\", finetuning_percentage=ft_percent, fixed_test_size=fixed_test_size, displayResults=False ))\n",
    "    rmse_kissam2_esb2.append(model_generalized.intra_season_transfer(from_building_name=\"Kissam\", from_tower_number=2, to_building_name=\"ESB\", to_tower_number=2, to_features=esb2_features, to_target=esb2_target, to_season=\"summer\", finetuning_percentage=ft_percent, fixed_test_size=fixed_test_size, displayResults=False ))"
   ]
  },
  {
   "cell_type": "code",
   "execution_count": null,
   "metadata": {},
   "outputs": [],
   "source": [
    "fig1 = px.line(pd.DataFrame({'Finetuning data percentage': [fp*100 for fp in ft_percents], 'Root mean squared error': rmse_kissam2_esb1}), x='Finetuning data percentage', y='Root mean squared error', title='Root mean squared errors')\n",
    "\n",
    "fig2 = px.line(pd.DataFrame({'Finetuning data percentage': [fp*100 for fp in ft_percents], 'Root mean squared error': rmse_kissam2_esb2}), x='Finetuning data percentage', y='Root mean squared error', title='Root mean squared errors')\n",
    "\n",
    "# Create subplots with 1 row and 2 columns\n",
    "figfinal = make_subplots(rows=1, cols=2)\n",
    "\n",
    "# Add the figures to the subplots\n",
    "figfinal.add_trace(fig1.data[0], row=1, col=1)\n",
    "figfinal.update_xaxes(title_text=\"Finetuning data percentage\", row=1, col=1)\n",
    "figfinal.update_yaxes(title_text=\"Root mean squared error (fahrenheit)\", row=1, col=1)\n",
    "\n",
    "figfinal.add_trace(fig2.data[0], row=1, col=2)\n",
    "figfinal.update_xaxes(title_text=\"Finetuning data percentage\", row=1, col=2)\n",
    "figfinal.update_yaxes(title_text=\"Root mean squared error (fahrenheit)\", row=1, col=2)\n",
    "\n",
    "figfinal.update_layout(title_text=\"Kissam Tower 2 to ESB Tower 1, Kissam Tower 2 to ESB Tower 2\", showlegend=False)\n",
    "\n",
    "# Show the plot\n",
    "figfinal.show()\n",
    "figfinal.write_html(f\"../plots/interbuilding_transfers/Kissam2_to_ESB1&2_gradient_summer.html\")"
   ]
  }
 ],
 "metadata": {
  "kernelspec": {
   "display_name": "py38",
   "language": "python",
   "name": "python3"
  },
  "language_info": {
   "codemirror_mode": {
    "name": "ipython",
    "version": 3
   },
   "file_extension": ".py",
   "mimetype": "text/x-python",
   "name": "python",
   "nbconvert_exporter": "python",
   "pygments_lexer": "ipython3",
   "version": "3.8.16"
  },
  "orig_nbformat": 4
 },
 "nbformat": 4,
 "nbformat_minor": 2
}
