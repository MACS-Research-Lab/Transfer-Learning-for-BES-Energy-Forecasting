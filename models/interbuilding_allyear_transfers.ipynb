{
 "cells": [
  {
   "cell_type": "code",
   "execution_count": null,
   "metadata": {},
   "outputs": [],
   "source": [
    "import pandas as pd\n",
    "\n",
    "import plotly.express as px\n",
    "from plotly.subplots import make_subplots\n",
    "\n",
    "import matplotlib.pyplot as plt\n",
    "\n",
    "import model_weightinit\n",
    "\n",
    "degree_sign = u'\\N{DEGREE SIGN}'"
   ]
  },
  {
   "cell_type": "code",
   "execution_count": null,
   "metadata": {},
   "outputs": [],
   "source": [
    "ft_percents = [0.0, 0.2, 0.4, 0.6, 0.8]"
   ]
  },
  {
   "cell_type": "code",
   "execution_count": null,
   "metadata": {},
   "outputs": [],
   "source": [
    "esb1_features = ['ESB_Tower_1 enteringWaterTemp', 'ESB_Tower_1 outdoorAirDryBulb', 'ESB_Tower_1 outdoorAirWetBulb', 'ESB_Tower_1 vfdPercent', 'ESB_Tower_1 fanA_vfdPower', 'ESB_Tower_1 fanB_vfdPower', 'ESB_Tower_1 dayOfWeek', 'ESB_Tower_1 hourOfDay', 'ESB_Tower_1 efficiency']\n",
    "esb1_target = 'ESB_Tower_1 leavingWaterTemp'\n",
    "\n",
    "esb2_features = ['ESB_Tower_2 enteringWaterTemp', 'ESB_Tower_2 outdoorAirDryBulb', 'ESB_Tower_2 outdoorAirWetBulb', 'ESB_Tower_2 vfdPercent', 'ESB_Tower_2 fanA_vfdPower', 'ESB_Tower_2 fanB_vfdPower', 'ESB_Tower_2 dayOfWeek', 'ESB_Tower_2 hourOfDay', 'ESB_Tower_2 efficiency']\n",
    "esb2_target = 'ESB_Tower_2 leavingWaterTemp'\n",
    "\n",
    "kissam1_features = ['Kissam_Tower_1 enteringWaterTemp', 'Kissam_Tower_1 outdoorAirDryBulb', 'Kissam_Tower_1 outdoorAirWetBulb', 'Kissam_Tower_1 vfdPercent', 'Kissam_Tower_1 fanA_vfdPower', 'Kissam_Tower_1 fanB_vfdPower', 'Kissam_Tower_1 dayOfWeek', 'Kissam_Tower_1 hourOfDay', 'Kissam_Tower_1 efficiency']\n",
    "kissam1_target = 'Kissam_Tower_1 leavingWaterTemp'\n",
    "\n",
    "kissam2_features = ['Kissam_Tower_2 enteringWaterTemp', 'Kissam_Tower_2 outdoorAirDryBulb', 'Kissam_Tower_2 outdoorAirWetBulb', 'Kissam_Tower_2 vfdPercent', 'Kissam_Tower_2 fanA_vfdPower', 'Kissam_Tower_2 fanB_vfdPower', 'Kissam_Tower_2 dayOfWeek', 'Kissam_Tower_2 hourOfDay', 'Kissam_Tower_2 efficiency']\n",
    "kissam2_target = 'Kissam_Tower_2 leavingWaterTemp'"
   ]
  },
  {
   "attachments": {},
   "cell_type": "markdown",
   "metadata": {},
   "source": [
    "## ESB 1 to Kissam 1 & 2"
   ]
  },
  {
   "cell_type": "code",
   "execution_count": null,
   "metadata": {},
   "outputs": [],
   "source": [
    "rmse_list = []\n",
    "mabs_list = []\n",
    "\n",
    "fig_trend = make_subplots(rows=5, cols=2, subplot_titles=(\"ESB 1 to Kissam 1 finetuned 0%\", \"ESB 1 to Kissam 2 finetuned 0%\", \"ESB 1 to Kissam 1 finetuned 20%\", \"ESB 1 to Kissam 2 finetuned 20%\", \"ESB 1 to Kissam 1 finetuned 40%\", \"ESB 1 to Kissam 2 finetuned 40%\", \"ESB 1 to Kissam 1 finetuned 60%\", \"ESB 1 to Kissam 2 finetuned 60%\", \"ESB 1 to Kissam 1 finetuned 80%\", \"ESB 1 to Kissam 2 finetuned 80%\"))\n",
    "\n",
    "for tow in range(1,3):\n",
    "    kissam_features = [f'Kissam_Tower_{tow} enteringWaterTemp', f'Kissam_Tower_{tow} outdoorAirDryBulb', f'Kissam_Tower_{tow} outdoorAirWetBulb', f'Kissam_Tower_{tow} vfdPercent', f'Kissam_Tower_{tow} fanA_vfdPower', f'Kissam_Tower_{tow} fanB_vfdPower', f'Kissam_Tower_{tow} dayOfWeek', f'Kissam_Tower_{tow} hourOfDay', f'Kissam_Tower_{tow} efficiency']\n",
    "    kissam_target = f'Kissam_Tower_{tow} leavingWaterTemp'\n",
    "\n",
    "    figrow, figcol = 1, tow\n",
    "\n",
    "    rmse_list.append([])\n",
    "    mabs_list.append([])\n",
    "\n",
    "    for ft_percent in ft_percents:\n",
    "        rmse, fig, mabs = model_weightinit.weight_init_transfer(from_building_name=\"ESB\", from_tower_number=1, to_building_name=\"Kissam\", to_tower_number=tow, to_features=kissam_features, to_target=kissam_target, finetuning_percentage=ft_percent, display_results=True, use_delta=True )\n",
    "        rmse_list[tow-1].append(rmse)\n",
    "        mabs_list[tow-1].append(mabs)\n",
    "        \n",
    "        fig_trend.add_trace(fig.data[0], row=figrow, col=figcol)\n",
    "        fig_trend.add_trace(fig.data[1], row=figrow, col=figcol)\n",
    "        fig_trend.update_xaxes(title_text=\"time\", row=figrow, col=figcol)\n",
    "        fig_trend.update_yaxes(title_text=f\"Kissam {tow} Leaving Water Temperature ({degree_sign}F)\", row=figrow, col=figcol)\n",
    "\n",
    "        figrow += 1\n",
    "\n",
    "fig_trend.update_layout(width=1000, height=1500)\n",
    "fig_trend.show()\n",
    "fig_trend.write_html(f\"../plots/interbuilding_transfers/ESB1_to_Kissam_trend_allyear.html\")"
   ]
  }
 ],
 "metadata": {
  "kernelspec": {
   "display_name": "py38",
   "language": "python",
   "name": "python3"
  },
  "language_info": {
   "codemirror_mode": {
    "name": "ipython",
    "version": 3
   },
   "file_extension": ".py",
   "mimetype": "text/x-python",
   "name": "python",
   "nbconvert_exporter": "python",
   "pygments_lexer": "ipython3",
   "version": "3.8.16"
  },
  "orig_nbformat": 4
 },
 "nbformat": 4,
 "nbformat_minor": 2
}
