{
 "cells": [
  {
   "cell_type": "code",
   "execution_count": null,
   "metadata": {},
   "outputs": [],
   "source": [
    "import model_generalized"
   ]
  },
  {
   "cell_type": "code",
   "execution_count": null,
   "metadata": {},
   "outputs": [],
   "source": [
    "esb1_features = ['ESB_Tower_1 enteringWaterTemp', 'ESB_Tower_1 outdoorAirDryBulb', 'ESB_Tower_1 outdoorAirWetBulb', 'ESB_Tower_1 vfdPercent', 'Cell_1bFan vfdPower', 'Cell_1aFan vfdPower']\n",
    "esb1_target = 'ESB_Tower_1 leavingWaterTemp'\n",
    "\n",
    "esb2_features = ['ESB_Tower_2 enteringWaterTemp', 'ESB_Tower_2 outdoorAirDryBulb', 'ESB_Tower_2 outdoorAirWetBulb', 'ESB_Tower_2 vfdPercent', 'Cell_2bFan vfdPower', 'Cell_2aFan vfdPower']\n",
    "esb2_target = 'ESB_Tower_2 leavingWaterTemp'\n",
    "\n",
    "kissam1_features = ['Kissam_Tower_1 enteringWaterTemp', 'outdoorAirDryBulb', 'outdoorAirWetBulb', 'Kissam_Tower_1 vfdPercent', 'Kissam_Tower_1a vfdPower', 'Kissam_Tower_1b vfdPower']\n",
    "kissam1_target = 'Kissam_Tower_1 leavingWaterTemp'\n",
    "\n",
    "kissam2_features = ['Kissam_Tower_2 enteringWaterTemp', 'outdoorAirDryBulb', 'outdoorAirWetBulb', 'Kissam_Tower_2 vfdPercent', 'Kissam_Tower_2a vfdPower', 'Kissam_Tower_2b vfdPower']\n",
    "kissam2_target = 'Kissam_Tower_2 leavingWaterTemp'"
   ]
  },
  {
   "attachments": {},
   "cell_type": "markdown",
   "metadata": {},
   "source": [
    "## ESB 1 to Kissam 1"
   ]
  },
  {
   "cell_type": "code",
   "execution_count": null,
   "metadata": {},
   "outputs": [],
   "source": [
    "model_generalized.inter_building_transfer(from_building_name=\"ESB\", from_tower_number=1, to_building_name=\"Kissam\", to_tower_number=1, to_features=kissam1_features, to_target=kissam1_target, season=\"summer\")"
   ]
  },
  {
   "attachments": {},
   "cell_type": "markdown",
   "metadata": {},
   "source": [
    "## ESB 1 to Kissam 2"
   ]
  },
  {
   "cell_type": "code",
   "execution_count": null,
   "metadata": {},
   "outputs": [],
   "source": [
    "model_generalized.inter_building_transfer(from_building_name=\"ESB\", from_tower_number=1, to_building_name=\"Kissam\", to_tower_number=2, to_features=kissam2_features, to_target=kissam2_target, season=\"summer\")"
   ]
  },
  {
   "attachments": {},
   "cell_type": "markdown",
   "metadata": {},
   "source": [
    "## ESB 2 to Kissam 1"
   ]
  },
  {
   "cell_type": "code",
   "execution_count": null,
   "metadata": {},
   "outputs": [],
   "source": [
    "model_generalized.inter_building_transfer(from_building_name=\"ESB\", from_tower_number=2, to_building_name=\"Kissam\", to_tower_number=1, to_features=kissam1_features, to_target=kissam1_target, season=\"summer\")"
   ]
  },
  {
   "attachments": {},
   "cell_type": "markdown",
   "metadata": {},
   "source": [
    "## ESB 2 to Kissam 2"
   ]
  },
  {
   "cell_type": "code",
   "execution_count": null,
   "metadata": {},
   "outputs": [],
   "source": [
    "model_generalized.inter_building_transfer(from_building_name=\"ESB\", from_tower_number=2, to_building_name=\"Kissam\", to_tower_number=2, to_features=kissam2_features, to_target=kissam2_target, season=\"summer\")"
   ]
  },
  {
   "cell_type": "markdown",
   "metadata": {},
   "source": [
    "## Kissam 1 to ESB 1"
   ]
  },
  {
   "cell_type": "code",
   "execution_count": null,
   "metadata": {},
   "outputs": [],
   "source": [
    "model_generalized.inter_building_transfer(from_building_name=\"Kissam\", from_tower_number=1, to_building_name=\"ESB\", to_tower_number=1, to_features=esb1_features, to_target=esb1_target, season=\"summer\")"
   ]
  },
  {
   "attachments": {},
   "cell_type": "markdown",
   "metadata": {},
   "source": [
    "## Kissam 1 to ESB 2"
   ]
  },
  {
   "cell_type": "code",
   "execution_count": null,
   "metadata": {},
   "outputs": [],
   "source": [
    "model_generalized.inter_building_transfer(from_building_name=\"Kissam\", from_tower_number=1, to_building_name=\"ESB\", to_tower_number=2, to_features=esb2_features, to_target=esb2_target, season=\"summer\")"
   ]
  },
  {
   "attachments": {},
   "cell_type": "markdown",
   "metadata": {},
   "source": [
    "## Kissam 2 to ESB 1"
   ]
  },
  {
   "cell_type": "code",
   "execution_count": null,
   "metadata": {},
   "outputs": [],
   "source": [
    "model_generalized.inter_building_transfer(from_building_name=\"Kissam\", from_tower_number=2, to_building_name=\"ESB\", to_tower_number=1, to_features=esb1_features, to_target=esb1_target, season=\"summer\")"
   ]
  },
  {
   "attachments": {},
   "cell_type": "markdown",
   "metadata": {},
   "source": [
    "## Kissam 2 to ESB 2"
   ]
  },
  {
   "cell_type": "code",
   "execution_count": null,
   "metadata": {},
   "outputs": [],
   "source": [
    "model_generalized.inter_building_transfer(from_building_name=\"Kissam\", from_tower_number=2, to_building_name=\"ESB\", to_tower_number=2, to_features=esb2_features, to_target=esb2_target, season=\"summer\")"
   ]
  }
 ],
 "metadata": {
  "kernelspec": {
   "display_name": "py38",
   "language": "python",
   "name": "python3"
  },
  "language_info": {
   "codemirror_mode": {
    "name": "ipython",
    "version": 3
   },
   "file_extension": ".py",
   "mimetype": "text/x-python",
   "name": "python",
   "nbconvert_exporter": "python",
   "pygments_lexer": "ipython3",
   "version": "3.8.16"
  },
  "orig_nbformat": 4
 },
 "nbformat": 4,
 "nbformat_minor": 2
}
