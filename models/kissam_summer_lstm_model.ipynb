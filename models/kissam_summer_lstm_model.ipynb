{
 "cells": [
  {
   "cell_type": "code",
   "execution_count": null,
   "metadata": {},
   "outputs": [],
   "source": [
    "# Load Packages\n",
    "import pandas as pd\n",
    "import numpy as np\n",
    "from matplotlib import pyplot as plt\n",
    "import plotly.express as px\n",
    "\n",
    "import warnings\n",
    "warnings.filterwarnings('ignore')\n",
    "import os\n",
    "os.environ['TF_CPP_MIN_LOG_LEVEL'] = '1'\n",
    "\n",
    "from sklearn.model_selection import TimeSeriesSplit\n",
    "from sklearn.metrics import mean_squared_error, mean_absolute_error\n",
    "\n",
    "from keras.models import Sequential\n",
    "from keras.layers import Dense\n",
    "from keras.layers import LSTM\n",
    "\n",
    "import model_prep\n",
    "\n",
    "datapath = \"../data\""
   ]
  },
  {
   "attachments": {},
   "cell_type": "markdown",
   "metadata": {},
   "source": [
    "<h1 style=\"color:#27469c\">Kissam Cooling Tower 1 - Summer Data</h1>"
   ]
  },
  {
   "cell_type": "code",
   "execution_count": null,
   "metadata": {},
   "outputs": [],
   "source": [
    "step_back = 6 # window size = 6*5 = 30 mins"
   ]
  },
  {
   "attachments": {},
   "cell_type": "markdown",
   "metadata": {},
   "source": [
    "<h2 style=\"color:#27469c\">1. Create timestepped data on pandas and normalize</h2>"
   ]
  },
  {
   "cell_type": "code",
   "execution_count": null,
   "metadata": {},
   "outputs": [],
   "source": [
    "# load data\n",
    "df = pd.read_csv(f'{datapath}/kissam/kissam_tower_1_preprocessed.csv', index_col='time')\n",
    "df.index = pd.to_datetime(df.index)\n",
    "\n",
    "# only take data for one season\n",
    "df = model_prep.choose_season(df, season='summer', season_col_name='Kissam_Tower_1 season')\n",
    "\n",
    "# save a boolean series that specifies whether the cooling tower is on\n",
    "on_condition = df['Kissam_Tower_1 fanStatus']\n",
    "\n",
    "# select features and targets and create final dataframe that includes only relevant features and targets\n",
    "features = ['Kissam_Tower_1 enteringWaterTemp', 'outdoorAirDryBulb', 'outdoorAirWetBulb', 'Kissam_Tower_1 vfdPercent', 'Kissam_Tower_1 vfdPower', 'Kissam_Tower_1 CH_PowChi', 'Kissam_Tower_1 perFreqConP', 'Kissam_Tower_1 powConP', 'Kissam_Tower_1 CH_Tonnage']\n",
    "targets = ['Kissam_Tower_1 leavingWaterTemp']\n",
    "df = df[features].join(df[targets], on=df.index)\n",
    "\n",
    "# normalize data\n",
    "scaler = model_prep.NormalizationHandler()\n",
    "df = scaler.normalize(dtframe=df, target_col=targets[0])"
   ]
  },
  {
   "cell_type": "code",
   "execution_count": null,
   "metadata": {},
   "outputs": [],
   "source": [
    "df.columns"
   ]
  },
  {
   "cell_type": "code",
   "execution_count": null,
   "metadata": {},
   "outputs": [],
   "source": [
    "# prepare dataframe for lstm by adding timesteps\n",
    "lstm_df = model_prep.create_timesteps(df, n_in=step_back, n_out=1, target_names=targets)\n",
    "\n",
    "# remove cases where spring data would leak into summer data (i.e. intial timesteps)\n",
    "lstm_df = model_prep.remove_irrelevant_data(lstm_df, on_condition, step_back)\n",
    "\n",
    "# save\n",
    "lstm_df.to_csv(f\"{datapath}/kissam/kissam1_summer_timestepped.csv\")"
   ]
  },
  {
   "attachments": {},
   "cell_type": "markdown",
   "metadata": {},
   "source": [
    "<h2 style=\"color:#27469c\">2. Split data into training and testing sets</h2>"
   ]
  },
  {
   "cell_type": "code",
   "execution_count": null,
   "metadata": {},
   "outputs": [],
   "source": [
    "tss = TimeSeriesSplit(n_splits = 3)\n",
    "X = lstm_df.drop([f'{target}(t)' for target in targets], axis=1) # drop target columns\n",
    "y = lstm_df[[f'{target}(t)' for target in targets]] # only have target columns\n",
    "\n",
    "for train_index, test_index in tss.split(X): # split into training and testing\n",
    "    X_train, X_test = X.iloc[train_index, :], X.iloc[test_index,:]\n",
    "    y_train, y_test = y.iloc[train_index], y.iloc[test_index]"
   ]
  },
  {
   "attachments": {},
   "cell_type": "markdown",
   "metadata": {},
   "source": [
    "<h2 style=\"color:#27469c\">3. Get timestepped data as a 3D vector</h2>"
   ]
  },
  {
   "cell_type": "code",
   "execution_count": null,
   "metadata": {},
   "outputs": [],
   "source": [
    "vec_X_train = model_prep.df_to_3d(lstm_dtframe=X_train, num_columns=len(features)+1, step_back=step_back)\n",
    "vec_X_test = model_prep.df_to_3d(lstm_dtframe=X_test, num_columns=len(features)+1, step_back=step_back)\n",
    "\n",
    "vec_y_train = y_train.values\n",
    "vec_y_test = y_test.values\n",
    "\n",
    "print(vec_X_train.shape, vec_X_test.shape, vec_y_train.shape, vec_y_test.shape)"
   ]
  },
  {
   "attachments": {},
   "cell_type": "markdown",
   "metadata": {},
   "source": [
    "<h2 style=\"color:#27469c\">4. Create and Train model</h2>"
   ]
  },
  {
   "cell_type": "code",
   "execution_count": null,
   "metadata": {},
   "outputs": [],
   "source": [
    "model = Sequential()\n",
    "model.add(LSTM(50, input_shape=(vec_X_train.shape[1], vec_X_train.shape[2])))\n",
    "model.add(Dense(1))\n",
    "model.compile(loss='mae', optimizer='adam')\n",
    "\n",
    "history = model.fit(vec_X_train, vec_y_train, epochs=50, batch_size=72, validation_data=(vec_X_test, vec_y_test), verbose=0, shuffle=False)"
   ]
  },
  {
   "cell_type": "code",
   "execution_count": null,
   "metadata": {},
   "outputs": [],
   "source": [
    "# plot history\n",
    "plt.plot(history.history['loss'], label='train')\n",
    "plt.legend()\n",
    "plt.show()"
   ]
  },
  {
   "cell_type": "code",
   "execution_count": null,
   "metadata": {},
   "outputs": [],
   "source": [
    "yhat = model.predict(vec_X_test)"
   ]
  },
  {
   "attachments": {},
   "cell_type": "markdown",
   "metadata": {},
   "source": [
    "<h2 style=\"color:#27469c\">5. Display results</h2>"
   ]
  },
  {
   "cell_type": "code",
   "execution_count": null,
   "metadata": {},
   "outputs": [],
   "source": [
    "results_df = pd.DataFrame({'actual': vec_y_test.reshape((vec_y_test.shape[0])), 'predicted': yhat.reshape((yhat.shape[0]))}, index=y_test.index)\n",
    "results_df = scaler.denormalize_results(results_df)\n",
    "\n",
    "mabs_error = mean_absolute_error(results_df['actual'], results_df['predicted'])\n",
    "rmse = np.sqrt(mean_squared_error(results_df['actual'], results_df['predicted']))\n",
    "print('Mean Absolute Error: %.3f' % mabs_error)\n",
    "print('RMSE: %.3f' % rmse)\n",
    "\n",
    "fig = px.line(results_df, x=results_df.index, y=[\"actual\", \"predicted\"])\n",
    "fig.show()"
   ]
  },
  {
   "cell_type": "code",
   "execution_count": null,
   "metadata": {},
   "outputs": [],
   "source": [
    "model.summary()\n",
    "model.save('../models_saved/kissam1_summer_lstm/')"
   ]
  }
 ],
 "metadata": {
  "kernelspec": {
   "display_name": "py38",
   "language": "python",
   "name": "python3"
  },
  "language_info": {
   "codemirror_mode": {
    "name": "ipython",
    "version": 3
   },
   "file_extension": ".py",
   "mimetype": "text/x-python",
   "name": "python",
   "nbconvert_exporter": "python",
   "pygments_lexer": "ipython3",
   "version": "3.8.16"
  },
  "orig_nbformat": 4
 },
 "nbformat": 4,
 "nbformat_minor": 2
}
