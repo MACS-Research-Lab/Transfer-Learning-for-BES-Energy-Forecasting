{
  "cells": [
    {
      "cell_type": "code",
      "execution_count": null,
      "metadata": {},
      "outputs": [],
      "source": [
        "import pandas as pd\n",
        "\n",
        "import plotly.express as px\n",
        "import plotly.graph_objs as go\n",
        "from plotly.subplots import make_subplots\n",
        "\n",
        "from typing import List\n",
        "\n",
        "import model_weightinit\n",
        "\n",
        "degree_sign = u'\\N{DEGREE SIGN}'"
      ]
    },
    {
      "cell_type": "code",
      "execution_count": null,
      "metadata": {},
      "outputs": [],
      "source": [
        "ft_percents = [0.0, 0.2, 0.4, 0.6, 0.8]"
      ]
    },
    {
      "cell_type": "code",
      "execution_count": null,
      "metadata": {},
      "outputs": [],
      "source": [
        "def plot_errors_and_trend(ft_percents: List[float], from_building: str, from_tower: int, to_building: str, season: str = None):\n",
        "\n",
        "    # MAKE PREDICTIONS AND PLOT TRENDS\n",
        "    rmse_list = []\n",
        "    mabs_list = []\n",
        "\n",
        "    fig_trend = make_subplots(rows=5, cols=2, subplot_titles=(f\"{from_building} 1 to {to_building} 1 finetuned 0%\", f\"{from_building} 1 to {to_building} 2 finetuned 0%\", f\"{from_building} 1 to {to_building} 1 finetuned 20%\", f\"{from_building} 1 to {to_building} 2 finetuned 20%\", f\"{from_building} 1 to {to_building} 1 finetuned 40%\", f\"{from_building} 1 to {to_building} 2 finetuned 40%\", f\"{from_building} 1 to {to_building} 1 finetuned 60%\", f\"{from_building} 1 to {to_building} 2 finetuned 60%\", f\"{from_building} 1 to {to_building} 1 finetuned 80%\", f\"{from_building} 1 to {to_building} 2 finetuned 80%\"))\n",
        "\n",
        "    for tow in range(1,3):\n",
        "        to_features = [f'{to_building}_Tower_{tow} enteringWaterTemp', f'{to_building}_Tower_{tow} outdoorAirDryBulb', f'{to_building}_Tower_{tow} outdoorAirWetBulb', f'{to_building}_Tower_{tow} vfdPercent', f'{to_building}_Tower_{tow} fanA_vfdPower', f'{to_building}_Tower_{tow} fanB_vfdPower', f'{to_building}_Tower_{tow} dayOfWeek', f'{to_building}_Tower_{tow} hourOfDay', f'{to_building}_Tower_{tow} efficiency']\n",
        "        to_target = f'{to_building}_Tower_{tow} leavingWaterTemp'\n",
        "\n",
        "        figrow, figcol = 1, tow\n",
        "\n",
        "        rmse_list.append([])\n",
        "        mabs_list.append([])\n",
        "\n",
        "        for ft_percent in ft_percents:\n",
        "            rmse, fig, mabs = model_weightinit.weight_init_transfer(from_building_name=from_building, from_tower_number=from_tower, to_building_name=to_building, to_tower_number=tow, to_features=to_features, to_target=to_target, to_season=season, finetuning_percentage=ft_percent, display_results=True, use_delta=True )\n",
        "            rmse_list[tow-1].append(rmse)\n",
        "            mabs_list[tow-1].append(mabs)\n",
        "            \n",
        "            fig_trend.add_trace(fig.data[0], row=figrow, col=figcol)\n",
        "            fig_trend.add_trace(fig.data[1], row=figrow, col=figcol)\n",
        "            fig_trend.update_xaxes(title_text=\"time\", row=figrow, col=figcol)\n",
        "            fig_trend.update_yaxes(title_text=f\"{to_building} {tow} Leaving Water Temperature ({degree_sign}F)\", row=figrow, col=figcol)\n",
        "\n",
        "            figrow += 1\n",
        "\n",
        "    fig_trend.update_layout(width=1000, height=1500)\n",
        "    fig_trend.show()\n",
        "\n",
        "    if not season: season = \"all_year\"\n",
        "    fig_trend.write_html(f\"../plots/weight_initialized/interbuilding_transfers/{from_building}{from_tower}_to_{to_building}_trend_{season}.html\")\n",
        "\n",
        "    # PLOT ERROR GRADIENT\n",
        "\n",
        "    # tower 1: create a DataFrame and line graph using Plotly Express\n",
        "    print_df = pd.DataFrame({'finetuning data percentage': [fp*100 for fp in ft_percents], 'RMSE': rmse_list[0], 'MABS': mabs_list[0]})\n",
        "    fig1 = px.line(print_df, y=['RMSE', 'MABS'], x=\"finetuning data percentage\", title='Errors')\n",
        "    # tower 2: create a DataFrame and line graph using Plotly Expres\n",
        "    print_df = pd.DataFrame({'finetuning data percentage': [fp*100 for fp in ft_percents], 'RMSE': rmse_list[1], 'MABS': mabs_list[1]})\n",
        "    fig2 = px.line(print_df, y=['RMSE', 'MABS'], x=\"finetuning data percentage\", title='Errors')\n",
        "\n",
        "    figfinal = make_subplots(rows=1, cols=2)\n",
        "    figfinal.add_trace(fig1.data[0], row=1, col=1)\n",
        "    figfinal.add_trace(fig1.data[1], row=1, col=1)\n",
        "    figfinal.update_xaxes(title_text=\"Finetuning data percentage\", row=1, col=1)\n",
        "    figfinal.update_yaxes(title_text=\"Error\", row=1, col=1)\n",
        "\n",
        "    figfinal.add_trace(fig2.data[0], row=1, col=2)\n",
        "    figfinal.add_trace(fig2.data[1], row=1, col=2)\n",
        "    figfinal.update_xaxes(title_text=\"Finetuning data percentage\", row=1, col=2)\n",
        "    figfinal.update_yaxes(title_text=\"Error\", row=1, col=2)\n",
        "\n",
        "    figfinal.update_layout(title_text=f\"{from_building} Tower {from_tower} to {to_building} Tower 1, {from_building} Tower {from_tower} to {to_building} Tower 2 ({season}) (feature extraction)\", showlegend=True)\n",
        "\n",
        "    figfinal.show()\n",
        "    figfinal.write_html(f\"../plots/weight_initialized/interbuilding_transfers/{from_building}{from_tower}_to_{to_building}_gradient_{season}.html\")\n",
        "\n",
        "    # PLOT PERFORMANCE IMPROVEMENT RATIO\n",
        "\n",
        "    pir = [[(tower_rmses[0] - rmse) / tower_rmses[0] for rmse in tower_rmses] for tower_rmses in rmse_list]\n",
        "\n",
        "    # tower 1: create a DataFrame and line graph using Plotly Express\n",
        "    print_df = pd.DataFrame({'finetuning data percentage': [fp*100 for fp in ft_percents], 'Performance improvement ratio': pir[0]})\n",
        "    fig1 = px.line(print_df, y=[\"Performance improvement ratio\"], x=\"finetuning data percentage\", title=\"Performance improvement ratio\")\n",
        "    # tower 2: create a DataFrame and line graph using Plotly Expres\n",
        "    print_df = pd.DataFrame({'finetuning data percentage': [fp*100 for fp in ft_percents], 'Performance improvement ratio': pir[1]})\n",
        "    fig2 = px.line(print_df, y=[\"Performance improvement ratio\"], x=\"finetuning data percentage\", title=\"Performance improvement ratio\")\n",
        "    \n",
        "    figfinal = make_subplots(rows=1, cols=2)\n",
        "    figfinal.add_trace(fig1.data[0], row=1, col=1)\n",
        "    figfinal.update_xaxes(title_text=\"Finetuning data percentage\", row=1, col=1)\n",
        "    figfinal.update_yaxes(title_text=\"Performance improvement ratio\", row=1, col=1)\n",
        "\n",
        "    figfinal.add_trace(fig2.data[0], row=1, col=2)\n",
        "    figfinal.update_xaxes(title_text=\"Finetuning data percentage\", row=1, col=2)\n",
        "    figfinal.update_yaxes(title_text=\"Performance improvement ratio\", row=1, col=2)\n",
        "\n",
        "    figfinal.update_layout(title_text=f\"{from_building} Tower {from_tower} to {to_building} Tower 1, {from_building} Tower {from_tower} to {to_building} Tower 2 ({season}) (feature extraction)\", showlegend=True)\n",
        "\n",
        "    figfinal.show()\n",
        "    figfinal.write_html(f\"../plots/weight_initialized/interbuilding_transfers/{from_building}{from_tower}_to_{to_building}_pir_{season}.html\")"
      ]
    },
    {
      "attachments": {},
      "cell_type": "markdown",
      "metadata": {},
      "source": [
        "## ESB 1 to Kissam 1 & 2"
      ]
    },
    {
      "cell_type": "code",
      "execution_count": null,
      "metadata": {},
      "outputs": [],
      "source": [
        "plot_errors_and_trend(ft_percents=ft_percents, from_building=\"ESB\", from_tower=1, to_building=\"Kissam\", season=\"summer\")"
      ]
    },
    {
      "attachments": {},
      "cell_type": "markdown",
      "metadata": {},
      "source": [
        "## ESB 2 to Kissam 1 & 2"
      ]
    },
    {
      "cell_type": "code",
      "execution_count": null,
      "metadata": {},
      "outputs": [],
      "source": [
        "plot_errors_and_trend(ft_percents=ft_percents, from_building=\"ESB\", from_tower=2, to_building=\"Kissam\", season=\"summer\")"
      ]
    },
    {
      "attachments": {},
      "cell_type": "markdown",
      "metadata": {},
      "source": [
        "## Kissam 1 to ESB 1 & 2"
      ]
    },
    {
      "cell_type": "code",
      "execution_count": null,
      "metadata": {},
      "outputs": [],
      "source": [
        "plot_errors_and_trend(ft_percents=ft_percents, from_building=\"Kissam\", from_tower=1, to_building=\"ESB\", season=\"summer\")"
      ]
    },
    {
      "attachments": {},
      "cell_type": "markdown",
      "metadata": {},
      "source": [
        "## Kissam 2 to ESB 1 & 2"
      ]
    },
    {
      "cell_type": "code",
      "execution_count": null,
      "metadata": {},
      "outputs": [],
      "source": [
        "plot_errors_and_trend(ft_percents=ft_percents, from_building=\"Kissam\", from_tower=2, to_building=\"ESB\", season=\"summer\")"
      ]
    },
    {
      "attachments": {},
      "cell_type": "markdown",
      "metadata": {},
      "source": [
        "# --- Testing transfers on MRB ----"
      ]
    },
    {
      "attachments": {},
      "cell_type": "markdown",
      "metadata": {},
      "source": [
        "## ESB 1 to MRB 1 & 2"
      ]
    },
    {
      "cell_type": "code",
      "execution_count": null,
      "metadata": {},
      "outputs": [],
      "source": [
        "plot_errors_and_trend(ft_percents=ft_percents, from_building=\"ESB\", from_tower=1, to_building=\"MRB\", season=\"summer\")"
      ]
    },
    {
      "attachments": {},
      "cell_type": "markdown",
      "metadata": {},
      "source": [
        "## Kissam 1 to MRB 1 & 2"
      ]
    },
    {
      "cell_type": "code",
      "execution_count": null,
      "metadata": {},
      "outputs": [],
      "source": [
        "plot_errors_and_trend(ft_percents=ft_percents, from_building=\"Kissam\", from_tower=1, to_building=\"MRB\", season=\"summer\")"
      ]
    }
  ],
  "metadata": {
    "kernelspec": {
      "display_name": "py38",
      "language": "python",
      "name": "python3"
    },
    "language_info": {
      "codemirror_mode": {
        "name": "ipython",
        "version": 3
      },
      "file_extension": ".py",
      "mimetype": "text/x-python",
      "name": "python",
      "nbconvert_exporter": "python",
      "pygments_lexer": "ipython3",
      "version": "3.8.16"
    },
    "orig_nbformat": 4
  },
  "nbformat": 4,
  "nbformat_minor": 2
}
