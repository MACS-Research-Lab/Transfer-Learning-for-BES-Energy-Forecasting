{
 "cells": [
  {
   "cell_type": "code",
   "execution_count": null,
   "metadata": {},
   "outputs": [],
   "source": [
    "import pandas as pd\n",
    "\n",
    "import plotly.express as px\n",
    "from plotly.subplots import make_subplots\n",
    "\n",
    "import matplotlib.pyplot as plt\n",
    "\n",
    "import model_generalized"
   ]
  },
  {
   "cell_type": "code",
   "execution_count": null,
   "metadata": {},
   "outputs": [],
   "source": [
    "ft_percents = [0.0, 0.2, 0.4, 0.6, 0.8]"
   ]
  },
  {
   "cell_type": "code",
   "execution_count": null,
   "metadata": {},
   "outputs": [],
   "source": [
    "\n",
    "mrb2_features = ['MRB_Tower_2 enteringWaterTemp', 'MRB_Tower_2 outdoorAirDryBulb', 'MRB_Tower_2 outdoorAirWetBulb', 'MRB_Tower_2 vfdPercent', 'MRB_Tower_2 fanA_vfdPower', 'MRB_Tower_2 fanB_vfdPower', 'MRB_Tower_2 dayOfWeek', 'MRB_Tower_2 hourOfDay']\n",
    "mrb2_target = 'MRB_Tower_2 leavingWaterTemp'"
   ]
  },
  {
   "cell_type": "code",
   "execution_count": null,
   "metadata": {},
   "outputs": [],
   "source": [
    "rmse_esb1_mrb = []\n",
    "\n",
    "for tow in range(1,5):\n",
    "    mrb_features = [f'MRB_Tower_{tow} enteringWaterTemp', f'MRB_Tower_{tow} outdoorAirDryBulb', f'MRB_Tower_{tow} outdoorAirWetBulb', f'MRB_Tower_{tow} vfdPercent', f'MRB_Tower_{tow} fanA_vfdPower', f'MRB_Tower_{tow} fanB_vfdPower', f'MRB_Tower_{tow} dayOfWeek', f'MRB_Tower_{tow} hourOfDay']\n",
    "    mrb_target = f'MRB_Tower_{tow} leavingWaterTemp'\n",
    "\n",
    "    rmse_esb1_mrb.append([])\n",
    "    for ft_percent in ft_percents:\n",
    "        rmse_esb1_mrb[tow-1].append(model_generalized.intra_season_transfer(from_building_name=\"ESB\", from_tower_number=1, to_building_name=\"MRB\", to_tower_number=tow, to_features=mrb_features, to_target=mrb_target, to_season=\"summer\", finetuning_percentage=ft_percent, display_results=True, use_delta=True ))"
   ]
  },
  {
   "cell_type": "code",
   "execution_count": null,
   "metadata": {},
   "outputs": [],
   "source": [
    "fig1 = px.line(pd.DataFrame({'Finetuning data percentage': [fp*100 for fp in ft_percents], 'Root mean squared error': rmse_esb1_mrb[0]}), x='Finetuning data percentage', y='Root mean squared error', title='Root mean squared errors')\n",
    "\n",
    "fig2 = px.line(pd.DataFrame({'Finetuning data percentage': [fp*100 for fp in ft_percents], 'Root mean squared error': rmse_esb1_mrb[1]}), x='Finetuning data percentage', y='Root mean squared error', title='Root mean squared errors')\n",
    "\n",
    "fig3 = px.line(pd.DataFrame({'Finetuning data percentage': [fp*100 for fp in ft_percents], 'Root mean squared error': rmse_esb1_mrb[2]}), x='Finetuning data percentage', y='Root mean squared error', title='Root mean squared errors')\n",
    "\n",
    "fig4 = px.line(pd.DataFrame({'Finetuning data percentage': [fp*100 for fp in ft_percents], 'Root mean squared error': rmse_esb1_mrb[3]}), x='Finetuning data percentage', y='Root mean squared error', title='Root mean squared errors')\n",
    "\n",
    "# Create subplots with 1 row and 2 columns\n",
    "figfinal = make_subplots(rows=2, cols=2)\n",
    "\n",
    "# Add the figures to the subplots\n",
    "figfinal.add_trace(fig1.data[0], row=1, col=1)\n",
    "figfinal.update_xaxes(title_text=\"Finetuning data percentage\", row=1, col=1)\n",
    "figfinal.update_yaxes(title_text=\"Root mean squared error (fahrenheit)\", row=1, col=1)\n",
    "\n",
    "figfinal.add_trace(fig2.data[0], row=1, col=2)\n",
    "figfinal.update_xaxes(title_text=\"Finetuning data percentage\", row=1, col=2)\n",
    "figfinal.update_yaxes(title_text=\"Root mean squared error (fahrenheit)\", row=1, col=2)\n",
    "\n",
    "figfinal.add_trace(fig2.data[0], row=2, col=1)\n",
    "figfinal.update_xaxes(title_text=\"Finetuning data percentage\", row=1, col=2)\n",
    "figfinal.update_yaxes(title_text=\"Root mean squared error (fahrenheit)\", row=1, col=2)\n",
    "\n",
    "figfinal.add_trace(fig2.data[0], row=2, col=2)\n",
    "figfinal.update_xaxes(title_text=\"Finetuning data percentage\", row=1, col=2)\n",
    "figfinal.update_yaxes(title_text=\"Root mean squared error (fahrenheit)\", row=1, col=2)\n",
    "\n",
    "figfinal.update_layout(title_text=\"ESB Tower 1 to MRB Tower 1, 2, 3 and 4\", showlegend=False)\n",
    "\n",
    "# Show the plot\n",
    "figfinal.show()\n",
    "figfinal.write_html(f\"../plots/interbuilding_transfers/ESB1_to_MRB_gradient_summer.html\")"
   ]
  }
 ],
 "metadata": {
  "kernelspec": {
   "display_name": "py38",
   "language": "python",
   "name": "python3"
  },
  "language_info": {
   "codemirror_mode": {
    "name": "ipython",
    "version": 3
   },
   "file_extension": ".py",
   "mimetype": "text/x-python",
   "name": "python",
   "nbconvert_exporter": "python",
   "pygments_lexer": "ipython3",
   "version": "3.8.16"
  },
  "orig_nbformat": 4
 },
 "nbformat": 4,
 "nbformat_minor": 2
}
