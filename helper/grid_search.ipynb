{
 "cells": [
  {
   "cell_type": "code",
   "execution_count": 1,
   "metadata": {},
   "outputs": [
    {
     "name": "stderr",
     "output_type": "stream",
     "text": [
      "2023-08-01 20:22:12.760755: I tensorflow/core/platform/cpu_feature_guard.cc:193] This TensorFlow binary is optimized with oneAPI Deep Neural Network Library (oneDNN) to use the following CPU instructions in performance-critical operations:  SSE4.1 SSE4.2\n",
      "To enable them in other operations, rebuild TensorFlow with the appropriate compiler flags.\n"
     ]
    }
   ],
   "source": [
    "# Load Packages\n",
    "import pandas as pd\n",
    "import numpy as np\n",
    "from matplotlib import pyplot as plt\n",
    "import plotly.express as px\n",
    "\n",
    "import warnings\n",
    "\n",
    "warnings.filterwarnings(\"ignore\")\n",
    "\n",
    "from typing import List\n",
    "\n",
    "from sklearn.model_selection import train_test_split, GridSearchCV\n",
    "from sklearn.metrics import mean_squared_error, mean_absolute_error\n",
    "from sklearn.preprocessing import MinMaxScaler\n",
    "from scikeras.wrappers import KerasRegressor\n",
    "from keras.constraints import MaxNorm\n",
    "\n",
    "import keras\n",
    "\n",
    "import model_prep\n",
    "\n",
    "rootpath = \"..\"\n",
    "\n",
    "step_back = 6  # window size = 6*5 = 30 mins"
   ]
  },
  {
   "cell_type": "code",
   "execution_count": 2,
   "metadata": {},
   "outputs": [],
   "source": [
    "def run_grid_search(building_name, tower_number, season, param_grid, use_delta=True, train_percentage=0.75, shuffle_seed=42):\n",
    "    features = [f'{building_name}_Tower_{tower_number} enteringWaterTemp', \n",
    "                    f'{building_name}_Tower_{tower_number} outdoorAirDryBulb', \n",
    "                    f'{building_name}_Tower_{tower_number} outdoorAirWetBulb', \n",
    "                    f'{building_name}_Tower_{tower_number} vfdPercent', \n",
    "                    f'{building_name}_Tower_{tower_number} fanA_vfdPower', \n",
    "                    f'{building_name}_Tower_{tower_number} fanB_vfdPower', \n",
    "                    f'{building_name}_Tower_{tower_number} dayOfWeek', \n",
    "                    f'{building_name}_Tower_{tower_number} hourOfDay', \n",
    "                    f'{building_name}_Tower_{tower_number} efficiency']\n",
    "    target = f'{building_name}_Tower_{tower_number} leavingWaterTemp'\n",
    "\n",
    "    \"\"\"\n",
    "    1. Convert data into a model-compatible shape\n",
    "    \"\"\"\n",
    "\n",
    "    lstm_df, first_temp = model_prep.create_preprocessed_lstm_df(\n",
    "        building_name=building_name,\n",
    "        tower_number=tower_number,\n",
    "        features=features,\n",
    "        target=target,\n",
    "        season=season,\n",
    "        use_delta=use_delta,\n",
    "    )\n",
    "    if not season:\n",
    "        season = \"allyear\"\n",
    "\n",
    "    \"\"\"\n",
    "    2. Split data into training and testing sets\n",
    "    \"\"\"\n",
    "\n",
    "    X = lstm_df.drop(f\"{target}(t)\", axis=1)  # drop target column\n",
    "    y = lstm_df[f\"{target}(t)\"]  # only have target column\n",
    "\n",
    "    # split into input and outputs\n",
    "    X_train, X_test, y_train, y_test = train_test_split(\n",
    "        X, y, test_size=(1 - train_percentage), shuffle=True, random_state=shuffle_seed\n",
    "    )\n",
    "\n",
    "    # scale feature data\n",
    "    scaler = MinMaxScaler().fit(X_train)\n",
    "    X_train[X_train.columns] = scaler.transform(X_train)\n",
    "    X_test[X_test.columns] = scaler.transform(X_test)\n",
    "\n",
    "    \"\"\"\n",
    "    3. Get timestepped data as a 3D vector\n",
    "    \"\"\"\n",
    "    vec_X_train = model_prep.df_to_3d(\n",
    "        lstm_dtframe=X_train, num_columns=len(features) + 1, step_back=step_back\n",
    "    )\n",
    "    vec_X_test = model_prep.df_to_3d(\n",
    "        lstm_dtframe=X_test, num_columns=len(features) + 1, step_back=step_back\n",
    "    )\n",
    "\n",
    "    vec_y_train = y_train.values\n",
    "    vec_y_test = y_test.values\n",
    "\n",
    "    \"\"\"\n",
    "    4. Create and Train model\n",
    "    \"\"\"\n",
    "    # Create a function that builds the Keras model\n",
    "    def create_model():\n",
    "        dropout_rate = 0.0\n",
    "        weight_constraint = 2.0\n",
    "        lstmcells = 32\n",
    "        activation = 'tanh'\n",
    "        optimizer = \"Adamax\"\n",
    "\n",
    "        model = keras.models.Sequential()\n",
    "        model.add(\n",
    "            keras.layers.LSTM(\n",
    "                lstmcells,\n",
    "                input_shape=(vec_X_train.shape[1], vec_X_train.shape[2]),\n",
    "                kernel_constraint=MaxNorm(weight_constraint),\n",
    "                recurrent_dropout=dropout_rate,\n",
    "                activation=activation\n",
    "            )\n",
    "        )\n",
    "        model.add(keras.layers.Dense(1))\n",
    "        model.compile(loss='mse', optimizer=optimizer)\n",
    "        return model\n",
    "\n",
    "    # Create a KerasClassifier\n",
    "    model = KerasRegressor(build_fn=create_model, epochs=50, batch_size=10, verbose=0)\n",
    "\n",
    "    # Create GridSearchCV and perform the grid search\n",
    "    grid_search = GridSearchCV(model, param_grid, cv=3)\n",
    "    grid_result = grid_search.fit(vec_X_train, vec_y_train)\n",
    "\n",
    "    # summarize results\n",
    "    print(\"Best: %f using %s\" % (grid_result.best_score_, grid_result.best_params_))\n",
    "    means = grid_result.cv_results_['mean_test_score']\n",
    "    stds = grid_result.cv_results_['std_test_score']\n",
    "    params = grid_result.cv_results_['params']\n",
    "    for mean, stdev, param in zip(means, stds, params):\n",
    "        print(\"%f (%f) with: %r\" % (mean, stdev, param))"
   ]
  },
  {
   "cell_type": "code",
   "execution_count": 3,
   "metadata": {},
   "outputs": [],
   "source": [
    "# optimizer = ['SGD', 'RMSprop', 'Adagrad', 'Adadelta', 'Adam', 'Adamax']\n",
    "# dropout_rate = [0.0, 0.1, 0.2, 0.3, 0.4, 0.5, 0.6, 0.7, 0.8, 0.9]\n",
    "# weight_constraint = [1.0, 2.0, 3.0, 4.0, 5.0]\n",
    "neurons = [6, 16, 32, 64, 128]\n",
    "# lstmcells = [1, 6, 16, 32, 64]\n",
    "# activation = ['softmax', 'softplus', 'softsign', 'relu', 'tanh', 'sigmoid', 'hard_sigmoid', 'linear']\n",
    "# param_grid = dict(optimizer=optimizer)\n",
    "# param_grid = dict(model__dropout_rate=dropout_rate, model__weight_constraint=weight_constraint)\n",
    "param_grid = dict(model__activation=activation)"
   ]
  },
  {
   "cell_type": "markdown",
   "metadata": {},
   "source": [
    "```\n",
    "batch size: 10\n",
    "optimizer: Adamax\n",
    "dropout rate: 0.0\n",
    "weight constraints: 2.0\n",
    "neurons:\n",
    "lstm cells:\n",
    "activation: tanh\n",
    "```"
   ]
  },
  {
   "cell_type": "code",
   "execution_count": 4,
   "metadata": {},
   "outputs": [
    {
     "name": "stderr",
     "output_type": "stream",
     "text": [
      "2023-08-01 20:22:16.510475: I tensorflow/core/platform/cpu_feature_guard.cc:193] This TensorFlow binary is optimized with oneAPI Deep Neural Network Library (oneDNN) to use the following CPU instructions in performance-critical operations:  SSE4.1 SSE4.2\n",
      "To enable them in other operations, rebuild TensorFlow with the appropriate compiler flags.\n"
     ]
    },
    {
     "name": "stdout",
     "output_type": "stream",
     "text": [
      "Best: 0.994509 using {'model__activation': 'softsign'}\n",
      "0.916583 (0.001123) with: {'model__activation': 'softmax'}\n",
      "0.991455 (0.001383) with: {'model__activation': 'softplus'}\n",
      "0.994509 (0.001657) with: {'model__activation': 'softsign'}\n",
      "0.993416 (0.000852) with: {'model__activation': 'relu'}\n",
      "0.994260 (0.000149) with: {'model__activation': 'tanh'}\n",
      "0.990714 (0.000815) with: {'model__activation': 'sigmoid'}\n",
      "0.989893 (0.000776) with: {'model__activation': 'hard_sigmoid'}\n",
      "0.994246 (0.001111) with: {'model__activation': 'linear'}\n"
     ]
    }
   ],
   "source": [
    "run_grid_search(building_name=\"ESB\", tower_number=1, season=\"summer\", param_grid=param_grid)"
   ]
  },
  {
   "cell_type": "code",
   "execution_count": 5,
   "metadata": {},
   "outputs": [
    {
     "name": "stdout",
     "output_type": "stream",
     "text": [
      "Best: 0.995270 using {'model__activation': 'tanh'}\n",
      "0.973592 (0.000419) with: {'model__activation': 'softmax'}\n",
      "0.993263 (0.000995) with: {'model__activation': 'softplus'}\n",
      "0.994966 (0.000445) with: {'model__activation': 'softsign'}\n",
      "0.994501 (0.000514) with: {'model__activation': 'relu'}\n",
      "0.995270 (0.000473) with: {'model__activation': 'tanh'}\n",
      "0.992127 (0.000800) with: {'model__activation': 'sigmoid'}\n",
      "0.992863 (0.000752) with: {'model__activation': 'hard_sigmoid'}\n",
      "0.994847 (0.000702) with: {'model__activation': 'linear'}\n"
     ]
    }
   ],
   "source": [
    "run_grid_search(building_name=\"Kissam\", tower_number=1, season=\"summer\", param_grid=param_grid)"
   ]
  },
  {
   "cell_type": "code",
   "execution_count": null,
   "metadata": {},
   "outputs": [],
   "source": [
    "run_grid_search(building_name=\"ESB\", tower_number=2, season=\"summer\", param_grid=param_grid)"
   ]
  },
  {
   "cell_type": "code",
   "execution_count": null,
   "metadata": {},
   "outputs": [],
   "source": [
    "run_grid_search(building_name=\"Kissam\", tower_number=2, season=\"summer\", param_grid=param_grid)"
   ]
  },
  {
   "cell_type": "code",
   "execution_count": null,
   "metadata": {},
   "outputs": [],
   "source": [
    "run_grid_search(building_name=\"ESB\", tower_number=1, season=\"fall\", param_grid=param_grid)"
   ]
  },
  {
   "cell_type": "code",
   "execution_count": null,
   "metadata": {},
   "outputs": [],
   "source": [
    "run_grid_search(building_name=\"ESB\", tower_number=2, season=\"fall\", param_grid=param_grid)"
   ]
  },
  {
   "cell_type": "code",
   "execution_count": null,
   "metadata": {},
   "outputs": [],
   "source": [
    "run_grid_search(building_name=\"Kissam\", tower_number=1, season=\"fall\", param_grid=param_grid)"
   ]
  },
  {
   "cell_type": "code",
   "execution_count": null,
   "metadata": {},
   "outputs": [],
   "source": [
    "run_grid_search(building_name=\"Kissam\", tower_number=2, season=\"fall\", param_grid=param_grid)"
   ]
  }
 ],
 "metadata": {
  "kernelspec": {
   "display_name": "py38",
   "language": "python",
   "name": "python3"
  },
  "language_info": {
   "codemirror_mode": {
    "name": "ipython",
    "version": 3
   },
   "file_extension": ".py",
   "mimetype": "text/x-python",
   "name": "python",
   "nbconvert_exporter": "python",
   "pygments_lexer": "ipython3",
   "version": "3.8.16"
  },
  "orig_nbformat": 4
 },
 "nbformat": 4,
 "nbformat_minor": 2
}
