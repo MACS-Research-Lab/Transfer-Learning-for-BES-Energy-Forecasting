{
 "cells": [
  {
   "cell_type": "code",
   "execution_count": null,
   "metadata": {},
   "outputs": [],
   "source": [
    "import model_base_LD as base_model"
   ]
  },
  {
   "attachments": {},
   "cell_type": "markdown",
   "metadata": {},
   "source": [
    "<h1 style=\"color:#27469c\">ESB Tower 1 Models</h1>"
   ]
  },
  {
   "cell_type": "code",
   "execution_count": null,
   "metadata": {},
   "outputs": [],
   "source": [
    "features = ['ESB_Tower_1 enteringWaterTemp', 'ESB_Tower_1 outdoorAirDryBulb', 'ESB_Tower_1 outdoorAirWetBulb', 'ESB_Tower_1 vfdPercent', 'ESB_Tower_1 dayOfWeek', 'ESB_Tower_1 hourOfDay', 'ESB_Tower_1 pressureDiffEvap', 'ESB_Tower_1 pressureDiffCond']\n",
    "target = 'ESB_Tower_1 energykWh'"
   ]
  },
  {
   "attachments": {},
   "cell_type": "markdown",
   "metadata": {},
   "source": [
    "<h3 style=\"color:#27469c\">ESB Tower 1 All year</h3>"
   ]
  },
  {
   "cell_type": "code",
   "execution_count": null,
   "metadata": {},
   "outputs": [],
   "source": [
    "base_model.create_base_model(building_name=\"ESB\", tower_number=1, features=features, target=target)"
   ]
  },
  {
   "attachments": {},
   "cell_type": "markdown",
   "metadata": {},
   "source": [
    "<h3 style=\"color:#27469c\">ESB Tower 1 Summer</h3>"
   ]
  },
  {
   "cell_type": "code",
   "execution_count": null,
   "metadata": {},
   "outputs": [],
   "source": [
    "base_model.create_base_model(building_name=\"ESB\", tower_number=1, season=\"summer\", features=features, target=target)"
   ]
  },
  {
   "attachments": {},
   "cell_type": "markdown",
   "metadata": {},
   "source": [
    "<h3 style=\"color:#27469c\">ESB Tower 1 Fall</h3>"
   ]
  },
  {
   "cell_type": "code",
   "execution_count": null,
   "metadata": {},
   "outputs": [],
   "source": [
    "base_model.create_base_model(building_name=\"ESB\", tower_number=1, season=\"fall\", features=features, target=target)"
   ]
  },
  {
   "attachments": {},
   "cell_type": "markdown",
   "metadata": {},
   "source": [
    "<h3 style=\"color:#27469c\">ESB Tower 1 Winter</h3>"
   ]
  },
  {
   "cell_type": "code",
   "execution_count": null,
   "metadata": {},
   "outputs": [],
   "source": [
    "base_model.create_base_model(building_name=\"ESB\", tower_number=1, season=\"winter\", features=features, target=target)"
   ]
  },
  {
   "attachments": {},
   "cell_type": "markdown",
   "metadata": {},
   "source": [
    "<h3 style=\"color:#27469c\">ESB Tower 1 Spring</h3>"
   ]
  },
  {
   "cell_type": "code",
   "execution_count": null,
   "metadata": {},
   "outputs": [],
   "source": [
    "base_model.create_base_model(building_name=\"ESB\", tower_number=1, season=\"spring\", features=features, target=target)"
   ]
  },
  {
   "attachments": {},
   "cell_type": "markdown",
   "metadata": {},
   "source": [
    "<h1 style=\"color:#27469c\">ESB Tower 2 Models</h1>"
   ]
  },
  {
   "cell_type": "code",
   "execution_count": null,
   "metadata": {},
   "outputs": [],
   "source": [
    "features = ['ESB_Tower_2 enteringWaterTemp', 'ESB_Tower_2 outdoorAirDryBulb', 'ESB_Tower_2 outdoorAirWetBulb', 'ESB_Tower_2 vfdPercent', 'ESB_Tower_2 dayOfWeek', 'ESB_Tower_2 hourOfDay','ESB_Tower_2 pressureDiffEvap', 'ESB_Tower_2 pressureDiffCond']\n",
    "target = 'ESB_Tower_2 energykWh'"
   ]
  },
  {
   "attachments": {},
   "cell_type": "markdown",
   "metadata": {},
   "source": [
    "<h3 style=\"color:#27469c\">ESB Tower 2 All year</h3>"
   ]
  },
  {
   "cell_type": "code",
   "execution_count": null,
   "metadata": {},
   "outputs": [],
   "source": [
    "base_model.create_base_model(building_name=\"ESB\", tower_number=2, features=features, target=target)"
   ]
  },
  {
   "attachments": {},
   "cell_type": "markdown",
   "metadata": {},
   "source": [
    "<h3 style=\"color:#27469c\">ESB Tower 2 Summer</h3>"
   ]
  },
  {
   "cell_type": "code",
   "execution_count": null,
   "metadata": {},
   "outputs": [],
   "source": [
    "base_model.create_base_model(building_name=\"ESB\", tower_number=2, season=\"summer\", features=features, target=target)"
   ]
  },
  {
   "attachments": {},
   "cell_type": "markdown",
   "metadata": {},
   "source": [
    "<h3 style=\"color:#27469c\">ESB Tower 2 Fall</h3>"
   ]
  },
  {
   "cell_type": "code",
   "execution_count": null,
   "metadata": {},
   "outputs": [],
   "source": [
    "base_model.create_base_model(building_name=\"ESB\", tower_number=2, season=\"fall\", features=features, target=target)"
   ]
  },
  {
   "attachments": {},
   "cell_type": "markdown",
   "metadata": {},
   "source": [
    "<h3 style=\"color:#27469c\">ESB Tower 2 Winter</h3>"
   ]
  },
  {
   "cell_type": "code",
   "execution_count": null,
   "metadata": {},
   "outputs": [],
   "source": [
    "base_model.create_base_model(building_name=\"ESB\", tower_number=2, season=\"winter\", features=features, target=target)"
   ]
  },
  {
   "attachments": {},
   "cell_type": "markdown",
   "metadata": {},
   "source": [
    "<h3 style=\"color:#27469c\">ESB Tower 2 Spring</h3>"
   ]
  },
  {
   "cell_type": "code",
   "execution_count": null,
   "metadata": {},
   "outputs": [],
   "source": [
    "base_model.create_base_model(building_name=\"ESB\", tower_number=2, season=\"spring\", features=features, target=target)"
   ]
  },
  {
   "attachments": {},
   "cell_type": "markdown",
   "metadata": {},
   "source": [
    "<h1 style=\"color:#27469c\">Kissam Tower 1 Models</h1>"
   ]
  },
  {
   "cell_type": "code",
   "execution_count": null,
   "metadata": {},
   "outputs": [],
   "source": [
    "features = ['Kissam_Tower_1 enteringWaterTemp', 'Kissam_Tower_1 outdoorAirDryBulb', 'Kissam_Tower_1 outdoorAirWetBulb', 'Kissam_Tower_1 vfdPercent', 'Kissam_Tower_1 fanA_vfdPower', 'Kissam_Tower_1 fanB_vfdPower', 'Kissam_Tower_1 dayOfWeek', 'Kissam_Tower_1 hourOfDay', \"Kissam_Tower_1 efficiency\"]\n",
    "target = 'Kissam_Tower_1 leavingWaterTemp'"
   ]
  },
  {
   "attachments": {},
   "cell_type": "markdown",
   "metadata": {},
   "source": [
    "<h3 style=\"color:#27469c\">Kissam Tower 1 All year</h3>"
   ]
  },
  {
   "cell_type": "code",
   "execution_count": null,
   "metadata": {},
   "outputs": [],
   "source": [
    "base_model.create_base_model(building_name=\"Kissam\", tower_number=1, features=features, target=target)"
   ]
  },
  {
   "attachments": {},
   "cell_type": "markdown",
   "metadata": {},
   "source": [
    "<h3 style=\"color:#27469c\">Kissam Tower 1 Summer</h3>"
   ]
  },
  {
   "cell_type": "code",
   "execution_count": null,
   "metadata": {},
   "outputs": [],
   "source": [
    "base_model.create_base_model(building_name=\"Kissam\", tower_number=1, season=\"summer\", features=features, target=target)"
   ]
  },
  {
   "attachments": {},
   "cell_type": "markdown",
   "metadata": {},
   "source": [
    "<h3 style=\"color:#27469c\">Kissam Tower 1 Fall</h3>"
   ]
  },
  {
   "cell_type": "code",
   "execution_count": null,
   "metadata": {},
   "outputs": [],
   "source": [
    "base_model.create_base_model(building_name=\"Kissam\", tower_number=1, season=\"fall\", features=features, target=target)"
   ]
  },
  {
   "attachments": {},
   "cell_type": "markdown",
   "metadata": {},
   "source": [
    "<h3 style=\"color:#27469c\">Kissam Tower 1 Winter</h3>"
   ]
  },
  {
   "cell_type": "code",
   "execution_count": null,
   "metadata": {},
   "outputs": [],
   "source": [
    "base_model.create_base_model(building_name=\"Kissam\", tower_number=1, season=\"winter\", features=features, target=target)"
   ]
  },
  {
   "attachments": {},
   "cell_type": "markdown",
   "metadata": {},
   "source": [
    "<h3 style=\"color:#27469c\">Kissam Tower 1 Spring</h3>"
   ]
  },
  {
   "cell_type": "code",
   "execution_count": null,
   "metadata": {},
   "outputs": [],
   "source": [
    "base_model.create_base_model(building_name=\"Kissam\", tower_number=1, season=\"spring\", features=features, target=target)"
   ]
  },
  {
   "attachments": {},
   "cell_type": "markdown",
   "metadata": {},
   "source": [
    "<h1 style=\"color:#27469c\">Kissam Tower 2 Models</h1>"
   ]
  },
  {
   "cell_type": "code",
   "execution_count": null,
   "metadata": {},
   "outputs": [],
   "source": [
    "features = ['Kissam_Tower_2 enteringWaterTemp', 'Kissam_Tower_2 outdoorAirDryBulb', 'Kissam_Tower_2 outdoorAirWetBulb', 'Kissam_Tower_2 vfdPercent', 'Kissam_Tower_2 fanA_vfdPower', 'Kissam_Tower_2 fanB_vfdPower', 'Kissam_Tower_2 dayOfWeek', 'Kissam_Tower_2 hourOfDay', \"Kissam_Tower_2 efficiency\"]\n",
    "target = 'Kissam_Tower_2 leavingWaterTemp'"
   ]
  },
  {
   "attachments": {},
   "cell_type": "markdown",
   "metadata": {},
   "source": [
    "<h3 style=\"color:#27469c\">Kissam Tower 2 All Year</h3>"
   ]
  },
  {
   "cell_type": "code",
   "execution_count": null,
   "metadata": {},
   "outputs": [],
   "source": [
    "base_model.create_base_model(building_name=\"Kissam\", tower_number=2, features=features, target=target)"
   ]
  },
  {
   "attachments": {},
   "cell_type": "markdown",
   "metadata": {},
   "source": [
    "<h3 style=\"color:#27469c\">Kissam Tower 2 Summer</h3>"
   ]
  },
  {
   "cell_type": "code",
   "execution_count": null,
   "metadata": {},
   "outputs": [],
   "source": [
    "base_model.create_base_model(building_name=\"Kissam\", tower_number=2, season=\"summer\", features=features, target=target)"
   ]
  },
  {
   "attachments": {},
   "cell_type": "markdown",
   "metadata": {},
   "source": [
    "<h3 style=\"color:#27469c\">Kissam Tower 2 Fall</h3>"
   ]
  },
  {
   "cell_type": "code",
   "execution_count": null,
   "metadata": {},
   "outputs": [],
   "source": [
    "base_model.create_base_model(building_name=\"Kissam\", tower_number=2, season=\"fall\", features=features, target=target)"
   ]
  },
  {
   "attachments": {},
   "cell_type": "markdown",
   "metadata": {},
   "source": [
    "<h3 style=\"color:#27469c\">Kissam Tower 2 Winter</h3>"
   ]
  },
  {
   "cell_type": "code",
   "execution_count": null,
   "metadata": {},
   "outputs": [],
   "source": [
    "base_model.create_base_model(building_name=\"Kissam\", tower_number=2, season=\"winter\", features=features, target=target)"
   ]
  },
  {
   "attachments": {},
   "cell_type": "markdown",
   "metadata": {},
   "source": [
    "<h3 style=\"color:#27469c\">Kissam Tower 2 Spring</h3>"
   ]
  },
  {
   "cell_type": "code",
   "execution_count": null,
   "metadata": {},
   "outputs": [],
   "source": [
    "base_model.create_base_model(building_name=\"Kissam\", tower_number=2, season=\"spring\", features=features, target=target)"
   ]
  },
  {
   "attachments": {},
   "cell_type": "markdown",
   "metadata": {},
   "source": [
    "<h1 style=\"color:#27469c\">MRB Tower 1 Models</h1>"
   ]
  },
  {
   "cell_type": "code",
   "execution_count": null,
   "metadata": {},
   "outputs": [],
   "source": [
    "features = ['MRB_Tower_1 enteringWaterTemp', 'MRB_Tower_1 outdoorAirDryBulb', 'MRB_Tower_1 outdoorAirWetBulb', 'MRB_Tower_1 vfdPercent', 'MRB_Tower_1 fanA_vfdPower', 'MRB_Tower_1 fanB_vfdPower', 'MRB_Tower_1 dayOfWeek', 'MRB_Tower_1 hourOfDay', \"MRB_Tower_1 efficiency\"]\n",
    "target = 'MRB_Tower_1 leavingWaterTemp'"
   ]
  },
  {
   "attachments": {},
   "cell_type": "markdown",
   "metadata": {},
   "source": [
    "<h3 style=\"color:#27469c\">MRB Tower 1 Summer</h3>"
   ]
  },
  {
   "cell_type": "code",
   "execution_count": null,
   "metadata": {},
   "outputs": [],
   "source": [
    "base_model.create_base_model(building_name=\"MRB\", tower_number=1, season=\"summer\", features=features, target=target)"
   ]
  },
  {
   "attachments": {},
   "cell_type": "markdown",
   "metadata": {},
   "source": [
    "<h3 style=\"color:#27469c\">MRB Tower 1 Fall</h3>"
   ]
  },
  {
   "cell_type": "code",
   "execution_count": null,
   "metadata": {},
   "outputs": [],
   "source": [
    "base_model.create_base_model(building_name=\"MRB\", tower_number=1, season=\"fall\", features=features, target=target)"
   ]
  },
  {
   "attachments": {},
   "cell_type": "markdown",
   "metadata": {},
   "source": [
    "<h1 style=\"color:#27469c\">MRB Tower 2 Models</h1>"
   ]
  },
  {
   "cell_type": "code",
   "execution_count": null,
   "metadata": {},
   "outputs": [],
   "source": [
    "features = ['MRB_Tower_2 enteringWaterTemp', 'MRB_Tower_2 outdoorAirDryBulb', 'MRB_Tower_2 outdoorAirWetBulb', 'MRB_Tower_2 vfdPercent', 'MRB_Tower_2 fanA_vfdPower', 'MRB_Tower_2 fanB_vfdPower', 'MRB_Tower_2 dayOfWeek', 'MRB_Tower_2 hourOfDay', \"MRB_Tower_2 efficiency\"]\n",
    "target = 'MRB_Tower_2 leavingWaterTemp'"
   ]
  },
  {
   "attachments": {},
   "cell_type": "markdown",
   "metadata": {},
   "source": [
    "<h3 style=\"color:#27469c\">MRB Tower 2 Summer</h3>"
   ]
  },
  {
   "cell_type": "code",
   "execution_count": null,
   "metadata": {},
   "outputs": [],
   "source": [
    "base_model.create_base_model(building_name=\"MRB\", tower_number=2, season=\"summer\", features=features, target=target)"
   ]
  },
  {
   "attachments": {},
   "cell_type": "markdown",
   "metadata": {},
   "source": [
    "<h3 style=\"color:#27469c\">MRB Tower 2 Fall</h3>"
   ]
  },
  {
   "cell_type": "code",
   "execution_count": null,
   "metadata": {},
   "outputs": [],
   "source": [
    "base_model.create_base_model(building_name=\"MRB\", tower_number=2, season=\"fall\", features=features, target=target)"
   ]
  }
 ],
 "metadata": {
  "kernelspec": {
   "display_name": "py38",
   "language": "python",
   "name": "python3"
  },
  "language_info": {
   "codemirror_mode": {
    "name": "ipython",
    "version": 3
   },
   "file_extension": ".py",
   "mimetype": "text/x-python",
   "name": "python",
   "nbconvert_exporter": "python",
   "pygments_lexer": "ipython3",
   "version": "3.8.16"
  },
  "orig_nbformat": 4
 },
 "nbformat": 4,
 "nbformat_minor": 2
}
