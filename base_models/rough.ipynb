{
 "cells": [
  {
   "cell_type": "code",
   "execution_count": 1,
   "metadata": {},
   "outputs": [
    {
     "name": "stderr",
     "output_type": "stream",
     "text": [
      "2023-10-03 17:48:55.397837: I tensorflow/core/platform/cpu_feature_guard.cc:193] This TensorFlow binary is optimized with oneAPI Deep Neural Network Library (oneDNN) to use the following CPU instructions in performance-critical operations:  SSE4.1 SSE4.2\n",
      "To enable them in other operations, rebuild TensorFlow with the appropriate compiler flags.\n"
     ]
    }
   ],
   "source": [
    "# Load Packages\n",
    "import pandas as pd\n",
    "import numpy as np\n",
    "from matplotlib import pyplot as plt\n",
    "import plotly.express as px\n",
    "\n",
    "import warnings\n",
    "\n",
    "warnings.filterwarnings(\"ignore\")\n",
    "\n",
    "from typing import List\n",
    "\n",
    "from sklearn.model_selection import train_test_split\n",
    "from sklearn.metrics import mean_squared_error, mean_absolute_error\n",
    "from sklearn.preprocessing import MinMaxScaler\n",
    "\n",
    "import keras\n",
    "import time\n",
    "\n",
    "rootpath = \"..\"\n",
    "import model_prep\n",
    "\n",
    "\n",
    "step_back = 6  # window size = 6*5 = 30 mins\n",
    "season_map = {\n",
    "    \"spring\": [3, 4, 5],\n",
    "    \"summer\": [6, 7, 8],\n",
    "    \"fall\": [9, 10, 11],\n",
    "    \"winter\": [12, 1, 2],\n",
    "}"
   ]
  },
  {
   "cell_type": "code",
   "execution_count": 3,
   "metadata": {},
   "outputs": [],
   "source": [
    "building_name=\"ESB\"\n",
    "tower_number=1\n",
    "season=\"summer\"\n",
    "features = ['ESB_Tower_1 enteringWaterTemp', 'ESB_Tower_1 outdoorAirDryBulb', 'ESB_Tower_1 outdoorAirWetBulb', 'ESB_Tower_1 vfdPercent', 'ESB_Tower_1 fanA_vfdPower', 'ESB_Tower_1 fanB_vfdPower', 'ESB_Tower_1 dayOfWeek', 'ESB_Tower_1 hourOfDay', 'ESB_Tower_1 efficiency']\n",
    "target = 'ESB_Tower_1 leavingWaterTemp'\n",
    "train_percentage = 0.75\n",
    "use_delta = True\n",
    "shuffle_seed = 42"
   ]
  },
  {
   "cell_type": "code",
   "execution_count": 4,
   "metadata": {},
   "outputs": [],
   "source": [
    "\"\"\"\n",
    "1. Convert data into a model-compatible shape\n",
    "\"\"\"\n",
    "\n",
    "lstm_df, first_temp = model_prep.create_preprocessed_lstm_df(\n",
    "    building_name=building_name,\n",
    "    tower_number=tower_number,\n",
    "    features=features,\n",
    "    target=target,\n",
    "    season=season,\n",
    "    use_delta=use_delta,\n",
    ")\n",
    "if not season:\n",
    "    season = \"allyear\"\n",
    "\n",
    "\"\"\"\n",
    "2. Split data into training and testing sets\n",
    "\"\"\"\n",
    "\n",
    "X = lstm_df.drop(f\"{target}(t)\", axis=1)  # drop target column\n",
    "y = lstm_df[f\"{target}(t)\"]  # only have target column\n",
    "\n",
    "# split into input and outputs\n",
    "X_train, X_test, y_train, y_test = train_test_split(\n",
    "    X, y, test_size=(1 - train_percentage), shuffle=True, random_state=shuffle_seed\n",
    ")\n",
    "\n",
    "# scale feature data\n",
    "scaler = MinMaxScaler().fit(X_train)\n",
    "X_train[X_train.columns] = scaler.transform(X_train)\n",
    "X_test[X_test.columns] = scaler.transform(X_test)\n",
    "\n",
    "\"\"\"\n",
    "3. Get timestepped data as a 3D vector\n",
    "\"\"\"\n",
    "vec_X_train = model_prep.df_to_3d(\n",
    "    lstm_dtframe=X_train, num_columns=len(features) + 1, step_back=step_back\n",
    ")\n",
    "vec_X_test = model_prep.df_to_3d(\n",
    "    lstm_dtframe=X_test, num_columns=len(features) + 1, step_back=step_back\n",
    ")\n",
    "\n",
    "vec_y_train = y_train.values\n",
    "vec_y_test = y_test.values\n",
    "\n",
    "# print(vec_X_train.shape, vec_X_test.shape, vec_y_train.shape, vec_y_test.shape)"
   ]
  },
  {
   "cell_type": "code",
   "execution_count": 13,
   "metadata": {},
   "outputs": [
    {
     "name": "stdout",
     "output_type": "stream",
     "text": [
      "Model: \"sequential_3\"\n",
      "_________________________________________________________________\n",
      " Layer (type)                Output Shape              Param #   \n",
      "=================================================================\n",
      " lstm (LSTM)                 (None, 6, 32)             5504      \n",
      "                                                                 \n",
      " dense_3 (Dense)             (None, 6, 1)              33        \n",
      "                                                                 \n",
      "=================================================================\n",
      "Total params: 5,537\n",
      "Trainable params: 5,537\n",
      "Non-trainable params: 0\n",
      "_________________________________________________________________\n"
     ]
    }
   ],
   "source": [
    "\"\"\"\n",
    "4. Create and Train model\n",
    "\"\"\"\n",
    "dropout_rate = 0.0\n",
    "weight_constraint = keras.constraints.MaxNorm(2.0)\n",
    "# lstmcells = ?\n",
    "activation = \"tanh\"\n",
    "optimizer = \"Adamax\"\n",
    "\n",
    "model = keras.models.Sequential()\n",
    "model.add(\n",
    "    keras.layers.GRU(\n",
    "        32,\n",
    "        activation=activation,\n",
    "        return_sequences=True,\n",
    "        input_shape=(vec_X_train.shape[1], vec_X_train.shape[2]),\n",
    "        kernel_constraint=weight_constraint,\n",
    "        recurrent_dropout=dropout_rate,\n",
    "    )\n",
    ")\n",
    "\n",
    "model.add(keras.layers.Dense(1))\n",
    "model.compile(loss=\"mse\", optimizer=optimizer)\n",
    "model.summary()"
   ]
  },
  {
   "cell_type": "code",
   "execution_count": 14,
   "metadata": {},
   "outputs": [
    {
     "name": "stdout",
     "output_type": "stream",
     "text": [
      "40/40 [==============================] - 0s 1ms/step\n"
     ]
    }
   ],
   "source": [
    "start_time = time.time()\n",
    "history = model.fit(\n",
    "    vec_X_train,\n",
    "    vec_y_train,\n",
    "    epochs=50,\n",
    "    batch_size=72,\n",
    "    validation_data=(vec_X_test, vec_y_test),\n",
    "    verbose=0,\n",
    "    shuffle=False,\n",
    ")\n",
    "end_time = time.time()\n",
    "training_time = end_time - start_time\n",
    "\n",
    "\n",
    "# make predictions\n",
    "yhat = model.predict(vec_X_test)"
   ]
  },
  {
   "cell_type": "code",
   "execution_count": 15,
   "metadata": {},
   "outputs": [
    {
     "data": {
      "text/plain": [
       "array([[[9.143715 ],\n",
       "        [8.795067 ],\n",
       "        [8.803518 ],\n",
       "        [8.872602 ],\n",
       "        [8.857102 ],\n",
       "        [8.880585 ]],\n",
       "\n",
       "       [[7.99538  ],\n",
       "        [8.592178 ],\n",
       "        [8.462436 ],\n",
       "        [8.539933 ],\n",
       "        [8.516652 ],\n",
       "        [8.518467 ]],\n",
       "\n",
       "       [[9.553431 ],\n",
       "        [8.886969 ],\n",
       "        [8.989593 ],\n",
       "        [8.949055 ],\n",
       "        [9.0090065],\n",
       "        [8.970984 ]],\n",
       "\n",
       "       ...,\n",
       "\n",
       "       [[8.899769 ],\n",
       "        [8.658319 ],\n",
       "        [8.728067 ],\n",
       "        [8.781568 ],\n",
       "        [8.741146 ],\n",
       "        [8.750918 ]],\n",
       "\n",
       "       [[9.943085 ],\n",
       "        [9.059908 ],\n",
       "        [9.184248 ],\n",
       "        [9.235409 ],\n",
       "        [9.226103 ],\n",
       "        [9.234907 ]],\n",
       "\n",
       "       [[4.766969 ],\n",
       "        [7.1742544],\n",
       "        [7.4852643],\n",
       "        [7.7333183],\n",
       "        [7.6961474],\n",
       "        [7.9363894]]], dtype=float32)"
      ]
     },
     "execution_count": 15,
     "metadata": {},
     "output_type": "execute_result"
    }
   ],
   "source": [
    "yhat"
   ]
  },
  {
   "cell_type": "code",
   "execution_count": 23,
   "metadata": {},
   "outputs": [
    {
     "data": {
      "text/plain": [
       "(1255,)"
      ]
     },
     "execution_count": 23,
     "metadata": {},
     "output_type": "execute_result"
    }
   ],
   "source": [
    "yhat[:, 0, 0].shape"
   ]
  },
  {
   "cell_type": "code",
   "execution_count": 18,
   "metadata": {},
   "outputs": [
    {
     "data": {
      "text/plain": [
       "(1255,)"
      ]
     },
     "execution_count": 18,
     "metadata": {},
     "output_type": "execute_result"
    }
   ],
   "source": [
    "vec_y_test.reshape((vec_y_test.shape[0])).shape"
   ]
  }
 ],
 "metadata": {
  "kernelspec": {
   "display_name": "py38",
   "language": "python",
   "name": "python3"
  },
  "language_info": {
   "codemirror_mode": {
    "name": "ipython",
    "version": 3
   },
   "file_extension": ".py",
   "mimetype": "text/x-python",
   "name": "python",
   "nbconvert_exporter": "python",
   "pygments_lexer": "ipython3",
   "version": "3.8.16"
  },
  "orig_nbformat": 4
 },
 "nbformat": 4,
 "nbformat_minor": 2
}
