{
 "cells": [
  {
   "cell_type": "code",
   "execution_count": null,
   "metadata": {},
   "outputs": [],
   "source": [
    "import model_base_MLP as base_model"
   ]
  },
  {
   "cell_type": "code",
   "execution_count": null,
   "metadata": {},
   "outputs": [],
   "source": [
    "# for directly generating all source models\n",
    "features = ['FlowEvap', 'PerHumidity', 'TempAmbient', 'TempCondIn',\n",
    "       'TempCondOut', 'TempEvapIn', 'TempEvapOut', 'TempWetBulb',\n",
    "       'PerFreqConP', 'Tonnage','PerFreqFan']\n",
    "target = 'EnergyConsumption'\n",
    "\n",
    "buildings = [\"ESB\"]\n",
    "towers = [1, 2]\n",
    "seasons = [\"summer\", \"fall\"]\n",
    "for b in buildings: \n",
    "    for t in towers: \n",
    "        for s in seasons:\n",
    "            print(b,t,s)\n",
    "            if (b,t,s) == (\"ESB\",2,\"summer\"): continue\n",
    "            base_model.create_base_model(building_name=b, tower_number=t, season=s, features=features, target=target, is_source=False, use_delta=False)"
   ]
  }
 ],
 "metadata": {
  "kernelspec": {
   "display_name": "py38",
   "language": "python",
   "name": "python3"
  },
  "language_info": {
   "codemirror_mode": {
    "name": "ipython",
    "version": 3
   },
   "file_extension": ".py",
   "mimetype": "text/x-python",
   "name": "python",
   "nbconvert_exporter": "python",
   "pygments_lexer": "ipython3",
   "version": "3.8.16"
  },
  "orig_nbformat": 4
 },
 "nbformat": 4,
 "nbformat_minor": 2
}
