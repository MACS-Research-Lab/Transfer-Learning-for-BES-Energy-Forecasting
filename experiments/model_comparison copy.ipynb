{
 "cells": [
  {
   "cell_type": "code",
   "execution_count": 1,
   "metadata": {},
   "outputs": [
    {
     "name": "stderr",
     "output_type": "stream",
     "text": [
      "2023-10-29 02:45:03.838216: I tensorflow/core/platform/cpu_feature_guard.cc:193] This TensorFlow binary is optimized with oneAPI Deep Neural Network Library (oneDNN) to use the following CPU instructions in performance-critical operations:  SSE4.1 SSE4.2\n",
      "To enable them in other operations, rebuild TensorFlow with the appropriate compiler flags.\n"
     ]
    }
   ],
   "source": [
    "import pandas as pd\n",
    "\n",
    "import plotly.express as px\n",
    "import plotly.graph_objects as go\n",
    "from plotly.subplots import make_subplots\n",
    "\n",
    "from typing import List\n",
    "import json\n",
    "import time\n",
    "from statistics import mean\n",
    "import numpy as np\n",
    "\n",
    "rootpath = \"..\"\n",
    "\n",
    "import transfer_logic.transfer_LD_weightinit as transfer_LD_weightinit\n",
    "import transfer_logic.transfer_LD_ft as transfer_LD_ft\n",
    "import transfer_logic.transfer_autoLSTM as transfer_autoLSTM\n",
    "import transfer_logic.transfer_GRU_weightinit as transfer_GRU_weightinit\n",
    "import transfer_logic.transfer_autoGRU as transfer_autoGRU\n",
    "\n",
    "\n",
    "degree_sign = u'\\N{DEGREE SIGN}'"
   ]
  },
  {
   "cell_type": "code",
   "execution_count": 2,
   "metadata": {},
   "outputs": [],
   "source": [
    "result_filename = f\"{rootpath}/results/result_data/transfer_results.json\"\n",
    "\n",
    "with open(result_filename, \"r\") as f:\n",
    "    results_data = json.load(f)\n",
    "\n",
    "ft_percents = results_data[\"options\"][\"ft_percents\"]\n",
    "shuffle_seeds = results_data[\"options\"][\"seeds\"]\n",
    "transfer_methods = [\"weight_initialization_LSTMDense\", \"weight_initialization_Dense\", \"weight_initialization_AutoLSTM\"]"
   ]
  },
  {
   "cell_type": "code",
   "execution_count": 3,
   "metadata": {},
   "outputs": [],
   "source": [
    "def save_results(from_key, to_key, transfer_method, ft_percent, shuffle_seed, rmse=None, mae=None, mae_sd=None, training_time=None, datapoints=None):\n",
    "    result_filename = f\"{rootpath}/results/result_data/transfer_results.json\"\n",
    "    with open(result_filename, \"r\") as f:\n",
    "        results_data = json.load(f)\n",
    "\n",
    "    ft_percents = results_data[\"options\"][\"ft_percents\"]\n",
    "    shuffle_seeds = results_data[\"options\"][\"seeds\"]\n",
    "\n",
    "    if not to_key in results_data[transfer_method][from_key]:\n",
    "        results_data[transfer_method][from_key][to_key] = {f\"ft{int(x*100)}\" : {\n",
    "                    \"rmse\": [None]*len(shuffle_seeds),\n",
    "                    \"mae\": [None]*len(shuffle_seeds),\n",
    "                    \"mae_sd\": [None]*len(shuffle_seeds),\n",
    "                    \"training_time\": [None]*len(shuffle_seeds),\n",
    "                    \"datapoints\": 0\n",
    "                } for x in ft_percents}\n",
    "    \n",
    "    saving_index = shuffle_seeds.index(shuffle_seed)\n",
    "    results_data[transfer_method][from_key][to_key][f\"ft{int(ft_percent*100)}\"][\"rmse\"][saving_index] = rmse\n",
    "    results_data[transfer_method][from_key][to_key][f\"ft{int(ft_percent*100)}\"][\"mae\"][saving_index] = mae\n",
    "    results_data[transfer_method][from_key][to_key][f\"ft{int(ft_percent*100)}\"][\"mae_sd\"][saving_index] = mae_sd\n",
    "    results_data[transfer_method][from_key][to_key][f\"ft{int(ft_percent*100)}\"][\"training_time\"][saving_index] = training_time\n",
    "    results_data[transfer_method][from_key][to_key][f\"ft{int(ft_percent*100)}\"][\"datapoints\"] = datapoints\n",
    "    \n",
    "    with open(result_filename, \"w\") as f:\n",
    "        json.dump(results_data, f, indent=4)"
   ]
  },
  {
   "cell_type": "code",
   "execution_count": 4,
   "metadata": {},
   "outputs": [],
   "source": [
    "def plot_multiseed_error_pir(ft_percents: List[float], from_building: str, from_tower: int, from_season: str, to_building: str, to_tower: int, to_season: str = None, skip_existing_plot: bool = True):\n",
    "    \"\"\"\n",
    "    Performs the following steps\n",
    "    1. Performs transfer learning by finetuning entire model\n",
    "    2. Performs transfer learning by finetuning only the output layer\n",
    "    3. Plots mean absolute errors for test datasets picked with 5 different random seeds for both transfer learning methods\n",
    "    4. Compares errors from transfer with error in the base model of the tower being transferred to\n",
    "    5. Plots performance improvement ratio\n",
    "    \"\"\"\n",
    "    to_features = [f'{to_building}_Tower_{to_tower} enteringWaterTemp', \n",
    "                    f'{to_building}_Tower_{to_tower} outdoorAirDryBulb', \n",
    "                    f'{to_building}_Tower_{to_tower} outdoorAirWetBulb', \n",
    "                    f'{to_building}_Tower_{to_tower} vfdPercent', \n",
    "                    f'{to_building}_Tower_{to_tower} pressureDiffEvap', \n",
    "                    f'{to_building}_Tower_{to_tower} pressureDiffCond', \n",
    "                    f'{to_building}_Tower_{to_tower} dayOfWeek', \n",
    "                    f'{to_building}_Tower_{to_tower} hourOfDay']\n",
    "    to_target = f'{to_building}_Tower_{to_tower} energykWh'\n",
    "\n",
    "    for ft_percent in ft_percents:\n",
    "            for s, seed in enumerate(shuffle_seeds):\n",
    "                # perform each transfer learning method\n",
    "\n",
    "                # finetuning all layers\n",
    "                rmse1, _, mae1, tt, dp = transfer_LD_weightinit.transfer_LD_weightinit(from_building_name=from_building, from_tower_number=from_tower, from_season=from_season, to_building_name=to_building, to_tower_number=to_tower, to_features=to_features, to_target=to_target, to_season=to_season, finetuning_percentage=ft_percent, display_results=False, use_delta=True, shuffle_seed=seed)\n",
    "                save_results(from_key=f\"{from_building}{from_tower}_{from_season}\", to_key=f\"{to_building}{to_tower}_{to_season}\", transfer_method=transfer_methods[0], ft_percent=ft_percent, shuffle_seed=seed, rmse=rmse1, mae=mae1, training_time=tt, datapoints=dp)\n",
    "\n",
    "                # finetuning only output layer\n",
    "                rmse2, _, mae2, tt, dp = transfer_LD_ft.transfer_LD_dense(from_building_name=from_building, from_tower_number=from_tower, from_season=from_season, to_building_name=to_building, to_tower_number=to_tower, to_features=to_features, to_target=to_target, to_season=to_season, finetuning_percentage=ft_percent, display_results=False, use_delta=True, shuffle_seed=seed)\n",
    "                save_results(from_key=f\"{from_building}{from_tower}_{from_season}\", to_key=f\"{to_building}{to_tower}_{to_season}\", transfer_method=transfer_methods[1], ft_percent=ft_percent, shuffle_seed=seed, rmse=rmse2, mae=mae2, training_time=tt, datapoints=dp)\n",
    "\n",
    "                # using lstm autoencoder model and finetuning only lstm layer\n",
    "                rmse3, _, mae3, tt, dp = transfer_autoLSTM.transfer_autoLSTM(from_building_name=from_building, from_tower_number=from_tower, from_season=from_season, to_building_name=to_building, to_tower_number=to_tower, to_features=to_features, to_target=to_target, to_season=to_season, finetuning_percentage=ft_percent, display_results=False, use_delta=True, shuffle_seed=seed)\n",
    "                save_results(from_key=f\"{from_building}{from_tower}_{from_season}\", to_key=f\"{to_building}{to_tower}_{to_season}\", transfer_method=transfer_methods[2], ft_percent=ft_percent, shuffle_seed=seed, rmse=rmse3, mae=mae3, training_time=tt, datapoints=dp)"
   ]
  },
  {
   "attachments": {},
   "cell_type": "markdown",
   "metadata": {},
   "source": [
    "# Intra-season (Summer)"
   ]
  },
  {
   "cell_type": "code",
   "execution_count": 5,
   "metadata": {},
   "outputs": [
    {
     "name": "stdout",
     "output_type": "stream",
     "text": [
      "Tower 2 first temp: 8.929999351501465\n"
     ]
    },
    {
     "name": "stderr",
     "output_type": "stream",
     "text": [
      "2023-10-29 02:45:07.513668: I tensorflow/core/platform/cpu_feature_guard.cc:193] This TensorFlow binary is optimized with oneAPI Deep Neural Network Library (oneDNN) to use the following CPU instructions in performance-critical operations:  SSE4.1 SSE4.2\n",
      "To enable them in other operations, rebuild TensorFlow with the appropriate compiler flags.\n"
     ]
    },
    {
     "name": "stdout",
     "output_type": "stream",
     "text": [
      "352/352 [==============================] - 1s 917us/step\n",
      "Tower 2 first temp: 8.929999351501465\n",
      "352/352 [==============================] - 1s 901us/step\n",
      "Tower 2 first temp: 8.929999351501465\n",
      "352/352 [==============================] - 0s 998us/step\n",
      "Tower 2 first temp: 8.929999351501465\n",
      "352/352 [==============================] - 1s 896us/step\n",
      "Tower 2 first temp: 8.929999351501465\n",
      "352/352 [==============================] - 1s 965us/step\n",
      "Tower 2 first temp: 8.929999351501465\n",
      "352/352 [==============================] - 0s 987us/step\n",
      "Tower 2 first temp: 8.929999351501465\n",
      "352/352 [==============================] - 1s 963us/step\n",
      "Tower 2 first temp: 8.929999351501465\n",
      "352/352 [==============================] - 1s 1ms/step\n",
      "Tower 2 first temp: 8.929999351501465\n",
      "352/352 [==============================] - 1s 1ms/step\n",
      "Tower 2 first temp: 8.929999351501465\n",
      "352/352 [==============================] - 1s 902us/step\n",
      "Tower 2 first temp: 8.929999351501465\n",
      "352/352 [==============================] - 1s 999us/step\n",
      "Tower 2 first temp: 8.929999351501465\n",
      "352/352 [==============================] - 0s 1ms/step\n",
      "Tower 2 first temp: 8.929999351501465\n",
      "352/352 [==============================] - 1s 1ms/step\n",
      "Tower 2 first temp: 8.929999351501465\n",
      "352/352 [==============================] - 1s 893us/step\n",
      "Tower 2 first temp: 8.929999351501465\n",
      "352/352 [==============================] - 1s 1ms/step\n",
      "Tower 2 first temp: 8.929999351501465\n",
      "Finetuning for ft=0.2 seed=17\n"
     ]
    },
    {
     "name": "stderr",
     "output_type": "stream",
     "text": [
      "WARNING:absl:Found untraced functions such as lstm_cell_15_layer_call_fn, lstm_cell_15_layer_call_and_return_conditional_losses while saving (showing 2 of 2). These functions will not be directly callable after loading.\n"
     ]
    },
    {
     "name": "stdout",
     "output_type": "stream",
     "text": [
      "INFO:tensorflow:Assets written to: ../results/models_saved/lstmdense_ft/esb1summer_to_esb2summer_ft20_seed17/assets\n"
     ]
    },
    {
     "name": "stderr",
     "output_type": "stream",
     "text": [
      "INFO:tensorflow:Assets written to: ../results/models_saved/lstmdense_ft/esb1summer_to_esb2summer_ft20_seed17/assets\n"
     ]
    },
    {
     "name": "stdout",
     "output_type": "stream",
     "text": [
      "282/282 [==============================] - 0s 855us/step\n",
      "Tower 2 first temp: 8.929999351501465\n",
      "Finetuning for ft=0.2 seed=17\n"
     ]
    },
    {
     "name": "stderr",
     "output_type": "stream",
     "text": [
      "WARNING:absl:Found untraced functions such as lstm_cell_16_layer_call_fn, lstm_cell_16_layer_call_and_return_conditional_losses while saving (showing 2 of 2). These functions will not be directly callable after loading.\n"
     ]
    },
    {
     "name": "stdout",
     "output_type": "stream",
     "text": [
      "INFO:tensorflow:Assets written to: ../results/models_saved/dense_ft/esb1summer_to_esb2summer_ft20_seed17/assets\n"
     ]
    },
    {
     "name": "stderr",
     "output_type": "stream",
     "text": [
      "INFO:tensorflow:Assets written to: ../results/models_saved/dense_ft/esb1summer_to_esb2summer_ft20_seed17/assets\n"
     ]
    },
    {
     "name": "stdout",
     "output_type": "stream",
     "text": [
      "282/282 [==============================] - 1s 991us/step\n",
      "Tower 2 first temp: 8.929999351501465\n",
      "Finetuning for ft=0.2 seed=17\n",
      "INFO:tensorflow:Assets written to: ../results/models_saved/eld_ft/esb1summer_to_esb2summer_ft20_seed17/assets\n"
     ]
    },
    {
     "name": "stderr",
     "output_type": "stream",
     "text": [
      "INFO:tensorflow:Assets written to: ../results/models_saved/eld_ft/esb1summer_to_esb2summer_ft20_seed17/assets\n"
     ]
    },
    {
     "name": "stdout",
     "output_type": "stream",
     "text": [
      "282/282 [==============================] - 0s 1ms/step\n",
      "Tower 2 first temp: 8.929999351501465\n",
      "Finetuning for ft=0.2 seed=42\n"
     ]
    },
    {
     "name": "stderr",
     "output_type": "stream",
     "text": [
      "WARNING:absl:Found untraced functions such as lstm_cell_18_layer_call_fn, lstm_cell_18_layer_call_and_return_conditional_losses while saving (showing 2 of 2). These functions will not be directly callable after loading.\n"
     ]
    },
    {
     "name": "stdout",
     "output_type": "stream",
     "text": [
      "INFO:tensorflow:Assets written to: ../results/models_saved/lstmdense_ft/esb1summer_to_esb2summer_ft20_seed42/assets\n"
     ]
    },
    {
     "name": "stderr",
     "output_type": "stream",
     "text": [
      "INFO:tensorflow:Assets written to: ../results/models_saved/lstmdense_ft/esb1summer_to_esb2summer_ft20_seed42/assets\n"
     ]
    },
    {
     "name": "stdout",
     "output_type": "stream",
     "text": [
      "282/282 [==============================] - 1s 972us/step\n",
      "Tower 2 first temp: 8.929999351501465\n",
      "Finetuning for ft=0.2 seed=42\n"
     ]
    },
    {
     "name": "stderr",
     "output_type": "stream",
     "text": [
      "WARNING:absl:Found untraced functions such as lstm_cell_19_layer_call_fn, lstm_cell_19_layer_call_and_return_conditional_losses while saving (showing 2 of 2). These functions will not be directly callable after loading.\n"
     ]
    },
    {
     "name": "stdout",
     "output_type": "stream",
     "text": [
      "INFO:tensorflow:Assets written to: ../results/models_saved/dense_ft/esb1summer_to_esb2summer_ft20_seed42/assets\n"
     ]
    },
    {
     "name": "stderr",
     "output_type": "stream",
     "text": [
      "INFO:tensorflow:Assets written to: ../results/models_saved/dense_ft/esb1summer_to_esb2summer_ft20_seed42/assets\n"
     ]
    },
    {
     "name": "stdout",
     "output_type": "stream",
     "text": [
      "282/282 [==============================] - 1s 867us/step\n",
      "Tower 2 first temp: 8.929999351501465\n",
      "Finetuning for ft=0.2 seed=42\n",
      "INFO:tensorflow:Assets written to: ../results/models_saved/eld_ft/esb1summer_to_esb2summer_ft20_seed42/assets\n"
     ]
    },
    {
     "name": "stderr",
     "output_type": "stream",
     "text": [
      "INFO:tensorflow:Assets written to: ../results/models_saved/eld_ft/esb1summer_to_esb2summer_ft20_seed42/assets\n"
     ]
    },
    {
     "name": "stdout",
     "output_type": "stream",
     "text": [
      "282/282 [==============================] - 0s 955us/step\n",
      "Tower 2 first temp: 8.929999351501465\n",
      "Finetuning for ft=0.2 seed=64\n"
     ]
    },
    {
     "name": "stderr",
     "output_type": "stream",
     "text": [
      "WARNING:absl:Found untraced functions such as lstm_cell_21_layer_call_fn, lstm_cell_21_layer_call_and_return_conditional_losses while saving (showing 2 of 2). These functions will not be directly callable after loading.\n"
     ]
    },
    {
     "name": "stdout",
     "output_type": "stream",
     "text": [
      "INFO:tensorflow:Assets written to: ../results/models_saved/lstmdense_ft/esb1summer_to_esb2summer_ft20_seed64/assets\n"
     ]
    },
    {
     "name": "stderr",
     "output_type": "stream",
     "text": [
      "INFO:tensorflow:Assets written to: ../results/models_saved/lstmdense_ft/esb1summer_to_esb2summer_ft20_seed64/assets\n"
     ]
    },
    {
     "name": "stdout",
     "output_type": "stream",
     "text": [
      "282/282 [==============================] - 1s 1ms/step\n",
      "Tower 2 first temp: 8.929999351501465\n",
      "Finetuning for ft=0.2 seed=64\n"
     ]
    },
    {
     "name": "stderr",
     "output_type": "stream",
     "text": [
      "WARNING:absl:Found untraced functions such as lstm_cell_22_layer_call_fn, lstm_cell_22_layer_call_and_return_conditional_losses while saving (showing 2 of 2). These functions will not be directly callable after loading.\n"
     ]
    },
    {
     "name": "stdout",
     "output_type": "stream",
     "text": [
      "INFO:tensorflow:Assets written to: ../results/models_saved/dense_ft/esb1summer_to_esb2summer_ft20_seed64/assets\n"
     ]
    },
    {
     "name": "stderr",
     "output_type": "stream",
     "text": [
      "INFO:tensorflow:Assets written to: ../results/models_saved/dense_ft/esb1summer_to_esb2summer_ft20_seed64/assets\n"
     ]
    },
    {
     "name": "stdout",
     "output_type": "stream",
     "text": [
      "282/282 [==============================] - 1s 915us/step\n",
      "Tower 2 first temp: 8.929999351501465\n",
      "Finetuning for ft=0.2 seed=64\n",
      "INFO:tensorflow:Assets written to: ../results/models_saved/eld_ft/esb1summer_to_esb2summer_ft20_seed64/assets\n"
     ]
    },
    {
     "name": "stderr",
     "output_type": "stream",
     "text": [
      "INFO:tensorflow:Assets written to: ../results/models_saved/eld_ft/esb1summer_to_esb2summer_ft20_seed64/assets\n"
     ]
    },
    {
     "name": "stdout",
     "output_type": "stream",
     "text": [
      "282/282 [==============================] - 0s 1ms/step\n",
      "Tower 2 first temp: 8.929999351501465\n",
      "Finetuning for ft=0.2 seed=76\n"
     ]
    },
    {
     "name": "stderr",
     "output_type": "stream",
     "text": [
      "WARNING:absl:Found untraced functions such as lstm_cell_24_layer_call_fn, lstm_cell_24_layer_call_and_return_conditional_losses while saving (showing 2 of 2). These functions will not be directly callable after loading.\n"
     ]
    },
    {
     "name": "stdout",
     "output_type": "stream",
     "text": [
      "INFO:tensorflow:Assets written to: ../results/models_saved/lstmdense_ft/esb1summer_to_esb2summer_ft20_seed76/assets\n"
     ]
    },
    {
     "name": "stderr",
     "output_type": "stream",
     "text": [
      "INFO:tensorflow:Assets written to: ../results/models_saved/lstmdense_ft/esb1summer_to_esb2summer_ft20_seed76/assets\n"
     ]
    },
    {
     "name": "stdout",
     "output_type": "stream",
     "text": [
      "282/282 [==============================] - 0s 862us/step\n",
      "Tower 2 first temp: 8.929999351501465\n",
      "Finetuning for ft=0.2 seed=76\n"
     ]
    },
    {
     "name": "stderr",
     "output_type": "stream",
     "text": [
      "WARNING:absl:Found untraced functions such as lstm_cell_25_layer_call_fn, lstm_cell_25_layer_call_and_return_conditional_losses while saving (showing 2 of 2). These functions will not be directly callable after loading.\n"
     ]
    },
    {
     "name": "stdout",
     "output_type": "stream",
     "text": [
      "INFO:tensorflow:Assets written to: ../results/models_saved/dense_ft/esb1summer_to_esb2summer_ft20_seed76/assets\n"
     ]
    },
    {
     "name": "stderr",
     "output_type": "stream",
     "text": [
      "INFO:tensorflow:Assets written to: ../results/models_saved/dense_ft/esb1summer_to_esb2summer_ft20_seed76/assets\n"
     ]
    },
    {
     "name": "stdout",
     "output_type": "stream",
     "text": [
      "282/282 [==============================] - 1s 1ms/step\n",
      "Tower 2 first temp: 8.929999351501465\n",
      "Finetuning for ft=0.2 seed=76\n",
      "INFO:tensorflow:Assets written to: ../results/models_saved/eld_ft/esb1summer_to_esb2summer_ft20_seed76/assets\n"
     ]
    },
    {
     "name": "stderr",
     "output_type": "stream",
     "text": [
      "INFO:tensorflow:Assets written to: ../results/models_saved/eld_ft/esb1summer_to_esb2summer_ft20_seed76/assets\n"
     ]
    },
    {
     "name": "stdout",
     "output_type": "stream",
     "text": [
      "282/282 [==============================] - 0s 1ms/step\n",
      "Tower 2 first temp: 8.929999351501465\n",
      "Finetuning for ft=0.2 seed=98\n"
     ]
    },
    {
     "name": "stderr",
     "output_type": "stream",
     "text": [
      "WARNING:absl:Found untraced functions such as lstm_cell_27_layer_call_fn, lstm_cell_27_layer_call_and_return_conditional_losses while saving (showing 2 of 2). These functions will not be directly callable after loading.\n"
     ]
    },
    {
     "name": "stdout",
     "output_type": "stream",
     "text": [
      "INFO:tensorflow:Assets written to: ../results/models_saved/lstmdense_ft/esb1summer_to_esb2summer_ft20_seed98/assets\n"
     ]
    },
    {
     "name": "stderr",
     "output_type": "stream",
     "text": [
      "INFO:tensorflow:Assets written to: ../results/models_saved/lstmdense_ft/esb1summer_to_esb2summer_ft20_seed98/assets\n"
     ]
    },
    {
     "name": "stdout",
     "output_type": "stream",
     "text": [
      "282/282 [==============================] - 1s 928us/step\n",
      "Tower 2 first temp: 8.929999351501465\n",
      "Finetuning for ft=0.2 seed=98\n"
     ]
    },
    {
     "name": "stderr",
     "output_type": "stream",
     "text": [
      "WARNING:absl:Found untraced functions such as lstm_cell_28_layer_call_fn, lstm_cell_28_layer_call_and_return_conditional_losses while saving (showing 2 of 2). These functions will not be directly callable after loading.\n"
     ]
    },
    {
     "name": "stdout",
     "output_type": "stream",
     "text": [
      "INFO:tensorflow:Assets written to: ../results/models_saved/dense_ft/esb1summer_to_esb2summer_ft20_seed98/assets\n"
     ]
    },
    {
     "name": "stderr",
     "output_type": "stream",
     "text": [
      "INFO:tensorflow:Assets written to: ../results/models_saved/dense_ft/esb1summer_to_esb2summer_ft20_seed98/assets\n"
     ]
    },
    {
     "name": "stdout",
     "output_type": "stream",
     "text": [
      "282/282 [==============================] - 1s 1ms/step\n",
      "Tower 2 first temp: 8.929999351501465\n",
      "Finetuning for ft=0.2 seed=98\n",
      "INFO:tensorflow:Assets written to: ../results/models_saved/eld_ft/esb1summer_to_esb2summer_ft20_seed98/assets\n"
     ]
    },
    {
     "name": "stderr",
     "output_type": "stream",
     "text": [
      "INFO:tensorflow:Assets written to: ../results/models_saved/eld_ft/esb1summer_to_esb2summer_ft20_seed98/assets\n"
     ]
    },
    {
     "name": "stdout",
     "output_type": "stream",
     "text": [
      "282/282 [==============================] - 1s 2ms/step\n",
      "Tower 2 first temp: 8.929999351501465\n",
      "Finetuning for ft=0.4 seed=17\n"
     ]
    },
    {
     "name": "stderr",
     "output_type": "stream",
     "text": [
      "WARNING:absl:Found untraced functions such as lstm_cell_30_layer_call_fn, lstm_cell_30_layer_call_and_return_conditional_losses while saving (showing 2 of 2). These functions will not be directly callable after loading.\n"
     ]
    },
    {
     "name": "stdout",
     "output_type": "stream",
     "text": [
      "INFO:tensorflow:Assets written to: ../results/models_saved/lstmdense_ft/esb1summer_to_esb2summer_ft40_seed17/assets\n"
     ]
    },
    {
     "name": "stderr",
     "output_type": "stream",
     "text": [
      "INFO:tensorflow:Assets written to: ../results/models_saved/lstmdense_ft/esb1summer_to_esb2summer_ft40_seed17/assets\n"
     ]
    },
    {
     "name": "stdout",
     "output_type": "stream",
     "text": [
      "212/212 [==============================] - 0s 900us/step\n",
      "Tower 2 first temp: 8.929999351501465\n",
      "Finetuning for ft=0.4 seed=17\n"
     ]
    },
    {
     "name": "stderr",
     "output_type": "stream",
     "text": [
      "WARNING:absl:Found untraced functions such as lstm_cell_31_layer_call_fn, lstm_cell_31_layer_call_and_return_conditional_losses while saving (showing 2 of 2). These functions will not be directly callable after loading.\n"
     ]
    },
    {
     "name": "stdout",
     "output_type": "stream",
     "text": [
      "INFO:tensorflow:Assets written to: ../results/models_saved/dense_ft/esb1summer_to_esb2summer_ft40_seed17/assets\n"
     ]
    },
    {
     "name": "stderr",
     "output_type": "stream",
     "text": [
      "INFO:tensorflow:Assets written to: ../results/models_saved/dense_ft/esb1summer_to_esb2summer_ft40_seed17/assets\n"
     ]
    },
    {
     "name": "stdout",
     "output_type": "stream",
     "text": [
      "212/212 [==============================] - 0s 900us/step\n",
      "Tower 2 first temp: 8.929999351501465\n",
      "Finetuning for ft=0.4 seed=17\n",
      "INFO:tensorflow:Assets written to: ../results/models_saved/eld_ft/esb1summer_to_esb2summer_ft40_seed17/assets\n"
     ]
    },
    {
     "name": "stderr",
     "output_type": "stream",
     "text": [
      "INFO:tensorflow:Assets written to: ../results/models_saved/eld_ft/esb1summer_to_esb2summer_ft40_seed17/assets\n"
     ]
    },
    {
     "name": "stdout",
     "output_type": "stream",
     "text": [
      "212/212 [==============================] - 0s 1ms/step\n",
      "Tower 2 first temp: 8.929999351501465\n",
      "Finetuning for ft=0.4 seed=42\n"
     ]
    },
    {
     "name": "stderr",
     "output_type": "stream",
     "text": [
      "WARNING:absl:Found untraced functions such as lstm_cell_33_layer_call_fn, lstm_cell_33_layer_call_and_return_conditional_losses while saving (showing 2 of 2). These functions will not be directly callable after loading.\n"
     ]
    },
    {
     "name": "stdout",
     "output_type": "stream",
     "text": [
      "INFO:tensorflow:Assets written to: ../results/models_saved/lstmdense_ft/esb1summer_to_esb2summer_ft40_seed42/assets\n"
     ]
    },
    {
     "name": "stderr",
     "output_type": "stream",
     "text": [
      "INFO:tensorflow:Assets written to: ../results/models_saved/lstmdense_ft/esb1summer_to_esb2summer_ft40_seed42/assets\n"
     ]
    },
    {
     "name": "stdout",
     "output_type": "stream",
     "text": [
      "212/212 [==============================] - 0s 857us/step\n",
      "Tower 2 first temp: 8.929999351501465\n",
      "Finetuning for ft=0.4 seed=42\n"
     ]
    },
    {
     "name": "stderr",
     "output_type": "stream",
     "text": [
      "WARNING:absl:Found untraced functions such as lstm_cell_34_layer_call_fn, lstm_cell_34_layer_call_and_return_conditional_losses while saving (showing 2 of 2). These functions will not be directly callable after loading.\n"
     ]
    },
    {
     "name": "stdout",
     "output_type": "stream",
     "text": [
      "INFO:tensorflow:Assets written to: ../results/models_saved/dense_ft/esb1summer_to_esb2summer_ft40_seed42/assets\n"
     ]
    },
    {
     "name": "stderr",
     "output_type": "stream",
     "text": [
      "INFO:tensorflow:Assets written to: ../results/models_saved/dense_ft/esb1summer_to_esb2summer_ft40_seed42/assets\n"
     ]
    },
    {
     "name": "stdout",
     "output_type": "stream",
     "text": [
      "212/212 [==============================] - 0s 890us/step\n",
      "Tower 2 first temp: 8.929999351501465\n",
      "Finetuning for ft=0.4 seed=42\n",
      "INFO:tensorflow:Assets written to: ../results/models_saved/eld_ft/esb1summer_to_esb2summer_ft40_seed42/assets\n"
     ]
    },
    {
     "name": "stderr",
     "output_type": "stream",
     "text": [
      "INFO:tensorflow:Assets written to: ../results/models_saved/eld_ft/esb1summer_to_esb2summer_ft40_seed42/assets\n"
     ]
    },
    {
     "name": "stdout",
     "output_type": "stream",
     "text": [
      "212/212 [==============================] - 0s 1ms/step\n",
      "Tower 2 first temp: 8.929999351501465\n",
      "Finetuning for ft=0.4 seed=64\n"
     ]
    },
    {
     "name": "stderr",
     "output_type": "stream",
     "text": [
      "WARNING:absl:Found untraced functions such as lstm_cell_36_layer_call_fn, lstm_cell_36_layer_call_and_return_conditional_losses while saving (showing 2 of 2). These functions will not be directly callable after loading.\n"
     ]
    },
    {
     "name": "stdout",
     "output_type": "stream",
     "text": [
      "INFO:tensorflow:Assets written to: ../results/models_saved/lstmdense_ft/esb1summer_to_esb2summer_ft40_seed64/assets\n"
     ]
    },
    {
     "name": "stderr",
     "output_type": "stream",
     "text": [
      "INFO:tensorflow:Assets written to: ../results/models_saved/lstmdense_ft/esb1summer_to_esb2summer_ft40_seed64/assets\n"
     ]
    },
    {
     "name": "stdout",
     "output_type": "stream",
     "text": [
      "212/212 [==============================] - 0s 870us/step\n",
      "Tower 2 first temp: 8.929999351501465\n",
      "Finetuning for ft=0.4 seed=64\n"
     ]
    },
    {
     "name": "stderr",
     "output_type": "stream",
     "text": [
      "WARNING:absl:Found untraced functions such as lstm_cell_37_layer_call_fn, lstm_cell_37_layer_call_and_return_conditional_losses while saving (showing 2 of 2). These functions will not be directly callable after loading.\n"
     ]
    },
    {
     "name": "stdout",
     "output_type": "stream",
     "text": [
      "INFO:tensorflow:Assets written to: ../results/models_saved/dense_ft/esb1summer_to_esb2summer_ft40_seed64/assets\n"
     ]
    },
    {
     "name": "stderr",
     "output_type": "stream",
     "text": [
      "INFO:tensorflow:Assets written to: ../results/models_saved/dense_ft/esb1summer_to_esb2summer_ft40_seed64/assets\n"
     ]
    },
    {
     "name": "stdout",
     "output_type": "stream",
     "text": [
      "212/212 [==============================] - 0s 881us/step\n",
      "Tower 2 first temp: 8.929999351501465\n",
      "Finetuning for ft=0.4 seed=64\n",
      "INFO:tensorflow:Assets written to: ../results/models_saved/eld_ft/esb1summer_to_esb2summer_ft40_seed64/assets\n"
     ]
    },
    {
     "name": "stderr",
     "output_type": "stream",
     "text": [
      "INFO:tensorflow:Assets written to: ../results/models_saved/eld_ft/esb1summer_to_esb2summer_ft40_seed64/assets\n"
     ]
    },
    {
     "name": "stdout",
     "output_type": "stream",
     "text": [
      "212/212 [==============================] - 0s 956us/step\n",
      "Tower 2 first temp: 8.929999351501465\n",
      "Finetuning for ft=0.4 seed=76\n"
     ]
    },
    {
     "name": "stderr",
     "output_type": "stream",
     "text": [
      "WARNING:absl:Found untraced functions such as lstm_cell_39_layer_call_fn, lstm_cell_39_layer_call_and_return_conditional_losses while saving (showing 2 of 2). These functions will not be directly callable after loading.\n"
     ]
    },
    {
     "name": "stdout",
     "output_type": "stream",
     "text": [
      "INFO:tensorflow:Assets written to: ../results/models_saved/lstmdense_ft/esb1summer_to_esb2summer_ft40_seed76/assets\n"
     ]
    },
    {
     "name": "stderr",
     "output_type": "stream",
     "text": [
      "INFO:tensorflow:Assets written to: ../results/models_saved/lstmdense_ft/esb1summer_to_esb2summer_ft40_seed76/assets\n"
     ]
    },
    {
     "name": "stdout",
     "output_type": "stream",
     "text": [
      "212/212 [==============================] - 1s 1ms/step\n",
      "Tower 2 first temp: 8.929999351501465\n",
      "Finetuning for ft=0.4 seed=76\n"
     ]
    },
    {
     "name": "stderr",
     "output_type": "stream",
     "text": [
      "WARNING:absl:Found untraced functions such as lstm_cell_40_layer_call_fn, lstm_cell_40_layer_call_and_return_conditional_losses while saving (showing 2 of 2). These functions will not be directly callable after loading.\n"
     ]
    },
    {
     "name": "stdout",
     "output_type": "stream",
     "text": [
      "INFO:tensorflow:Assets written to: ../results/models_saved/dense_ft/esb1summer_to_esb2summer_ft40_seed76/assets\n"
     ]
    },
    {
     "name": "stderr",
     "output_type": "stream",
     "text": [
      "INFO:tensorflow:Assets written to: ../results/models_saved/dense_ft/esb1summer_to_esb2summer_ft40_seed76/assets\n"
     ]
    },
    {
     "name": "stdout",
     "output_type": "stream",
     "text": [
      "212/212 [==============================] - 0s 876us/step\n",
      "Tower 2 first temp: 8.929999351501465\n",
      "Finetuning for ft=0.4 seed=76\n",
      "INFO:tensorflow:Assets written to: ../results/models_saved/eld_ft/esb1summer_to_esb2summer_ft40_seed76/assets\n"
     ]
    },
    {
     "name": "stderr",
     "output_type": "stream",
     "text": [
      "INFO:tensorflow:Assets written to: ../results/models_saved/eld_ft/esb1summer_to_esb2summer_ft40_seed76/assets\n"
     ]
    },
    {
     "name": "stdout",
     "output_type": "stream",
     "text": [
      "212/212 [==============================] - 0s 957us/step\n",
      "Tower 2 first temp: 8.929999351501465\n",
      "Finetuning for ft=0.4 seed=98\n"
     ]
    },
    {
     "name": "stderr",
     "output_type": "stream",
     "text": [
      "WARNING:absl:Found untraced functions such as lstm_cell_42_layer_call_fn, lstm_cell_42_layer_call_and_return_conditional_losses while saving (showing 2 of 2). These functions will not be directly callable after loading.\n"
     ]
    },
    {
     "name": "stdout",
     "output_type": "stream",
     "text": [
      "INFO:tensorflow:Assets written to: ../results/models_saved/lstmdense_ft/esb1summer_to_esb2summer_ft40_seed98/assets\n"
     ]
    },
    {
     "name": "stderr",
     "output_type": "stream",
     "text": [
      "INFO:tensorflow:Assets written to: ../results/models_saved/lstmdense_ft/esb1summer_to_esb2summer_ft40_seed98/assets\n"
     ]
    },
    {
     "name": "stdout",
     "output_type": "stream",
     "text": [
      "212/212 [==============================] - 0s 909us/step\n",
      "Tower 2 first temp: 8.929999351501465\n",
      "Finetuning for ft=0.4 seed=98\n"
     ]
    },
    {
     "name": "stderr",
     "output_type": "stream",
     "text": [
      "WARNING:absl:Found untraced functions such as lstm_cell_43_layer_call_fn, lstm_cell_43_layer_call_and_return_conditional_losses while saving (showing 2 of 2). These functions will not be directly callable after loading.\n"
     ]
    },
    {
     "name": "stdout",
     "output_type": "stream",
     "text": [
      "INFO:tensorflow:Assets written to: ../results/models_saved/dense_ft/esb1summer_to_esb2summer_ft40_seed98/assets\n"
     ]
    },
    {
     "name": "stderr",
     "output_type": "stream",
     "text": [
      "INFO:tensorflow:Assets written to: ../results/models_saved/dense_ft/esb1summer_to_esb2summer_ft40_seed98/assets\n"
     ]
    },
    {
     "name": "stdout",
     "output_type": "stream",
     "text": [
      "212/212 [==============================] - 0s 877us/step\n",
      "Tower 2 first temp: 8.929999351501465\n",
      "Finetuning for ft=0.4 seed=98\n",
      "INFO:tensorflow:Assets written to: ../results/models_saved/eld_ft/esb1summer_to_esb2summer_ft40_seed98/assets\n"
     ]
    },
    {
     "name": "stderr",
     "output_type": "stream",
     "text": [
      "INFO:tensorflow:Assets written to: ../results/models_saved/eld_ft/esb1summer_to_esb2summer_ft40_seed98/assets\n"
     ]
    },
    {
     "name": "stdout",
     "output_type": "stream",
     "text": [
      "212/212 [==============================] - 0s 947us/step\n",
      "Tower 2 first temp: 8.929999351501465\n",
      "Finetuning for ft=0.6 seed=17\n"
     ]
    },
    {
     "name": "stderr",
     "output_type": "stream",
     "text": [
      "WARNING:absl:Found untraced functions such as lstm_cell_45_layer_call_fn, lstm_cell_45_layer_call_and_return_conditional_losses while saving (showing 2 of 2). These functions will not be directly callable after loading.\n"
     ]
    },
    {
     "name": "stdout",
     "output_type": "stream",
     "text": [
      "INFO:tensorflow:Assets written to: ../results/models_saved/lstmdense_ft/esb1summer_to_esb2summer_ft60_seed17/assets\n"
     ]
    },
    {
     "name": "stderr",
     "output_type": "stream",
     "text": [
      "INFO:tensorflow:Assets written to: ../results/models_saved/lstmdense_ft/esb1summer_to_esb2summer_ft60_seed17/assets\n"
     ]
    },
    {
     "name": "stdout",
     "output_type": "stream",
     "text": [
      "141/141 [==============================] - 0s 907us/step\n",
      "Tower 2 first temp: 8.929999351501465\n",
      "Finetuning for ft=0.6 seed=17\n"
     ]
    },
    {
     "name": "stderr",
     "output_type": "stream",
     "text": [
      "WARNING:absl:Found untraced functions such as lstm_cell_46_layer_call_fn, lstm_cell_46_layer_call_and_return_conditional_losses while saving (showing 2 of 2). These functions will not be directly callable after loading.\n"
     ]
    },
    {
     "name": "stdout",
     "output_type": "stream",
     "text": [
      "INFO:tensorflow:Assets written to: ../results/models_saved/dense_ft/esb1summer_to_esb2summer_ft60_seed17/assets\n"
     ]
    },
    {
     "name": "stderr",
     "output_type": "stream",
     "text": [
      "INFO:tensorflow:Assets written to: ../results/models_saved/dense_ft/esb1summer_to_esb2summer_ft60_seed17/assets\n"
     ]
    },
    {
     "name": "stdout",
     "output_type": "stream",
     "text": [
      "141/141 [==============================] - 0s 1ms/step\n",
      "Tower 2 first temp: 8.929999351501465\n",
      "Finetuning for ft=0.6 seed=17\n",
      "INFO:tensorflow:Assets written to: ../results/models_saved/eld_ft/esb1summer_to_esb2summer_ft60_seed17/assets\n"
     ]
    },
    {
     "name": "stderr",
     "output_type": "stream",
     "text": [
      "INFO:tensorflow:Assets written to: ../results/models_saved/eld_ft/esb1summer_to_esb2summer_ft60_seed17/assets\n"
     ]
    },
    {
     "name": "stdout",
     "output_type": "stream",
     "text": [
      "141/141 [==============================] - 0s 1ms/step\n",
      "Tower 2 first temp: 8.929999351501465\n",
      "Finetuning for ft=0.6 seed=42\n"
     ]
    },
    {
     "name": "stderr",
     "output_type": "stream",
     "text": [
      "WARNING:absl:Found untraced functions such as lstm_cell_48_layer_call_fn, lstm_cell_48_layer_call_and_return_conditional_losses while saving (showing 2 of 2). These functions will not be directly callable after loading.\n"
     ]
    },
    {
     "name": "stdout",
     "output_type": "stream",
     "text": [
      "INFO:tensorflow:Assets written to: ../results/models_saved/lstmdense_ft/esb1summer_to_esb2summer_ft60_seed42/assets\n"
     ]
    },
    {
     "name": "stderr",
     "output_type": "stream",
     "text": [
      "INFO:tensorflow:Assets written to: ../results/models_saved/lstmdense_ft/esb1summer_to_esb2summer_ft60_seed42/assets\n"
     ]
    },
    {
     "name": "stdout",
     "output_type": "stream",
     "text": [
      "141/141 [==============================] - 1s 909us/step\n",
      "Tower 2 first temp: 8.929999351501465\n",
      "Finetuning for ft=0.6 seed=42\n"
     ]
    },
    {
     "name": "stderr",
     "output_type": "stream",
     "text": [
      "WARNING:absl:Found untraced functions such as lstm_cell_49_layer_call_fn, lstm_cell_49_layer_call_and_return_conditional_losses while saving (showing 2 of 2). These functions will not be directly callable after loading.\n"
     ]
    },
    {
     "name": "stdout",
     "output_type": "stream",
     "text": [
      "INFO:tensorflow:Assets written to: ../results/models_saved/dense_ft/esb1summer_to_esb2summer_ft60_seed42/assets\n"
     ]
    },
    {
     "name": "stderr",
     "output_type": "stream",
     "text": [
      "INFO:tensorflow:Assets written to: ../results/models_saved/dense_ft/esb1summer_to_esb2summer_ft60_seed42/assets\n"
     ]
    },
    {
     "name": "stdout",
     "output_type": "stream",
     "text": [
      "141/141 [==============================] - 0s 885us/step\n",
      "Tower 2 first temp: 8.929999351501465\n",
      "Finetuning for ft=0.6 seed=42\n",
      "INFO:tensorflow:Assets written to: ../results/models_saved/eld_ft/esb1summer_to_esb2summer_ft60_seed42/assets\n"
     ]
    },
    {
     "name": "stderr",
     "output_type": "stream",
     "text": [
      "INFO:tensorflow:Assets written to: ../results/models_saved/eld_ft/esb1summer_to_esb2summer_ft60_seed42/assets\n"
     ]
    },
    {
     "name": "stdout",
     "output_type": "stream",
     "text": [
      "141/141 [==============================] - 0s 952us/step\n",
      "Tower 2 first temp: 8.929999351501465\n",
      "Finetuning for ft=0.6 seed=64\n"
     ]
    },
    {
     "name": "stderr",
     "output_type": "stream",
     "text": [
      "WARNING:absl:Found untraced functions such as lstm_cell_51_layer_call_fn, lstm_cell_51_layer_call_and_return_conditional_losses while saving (showing 2 of 2). These functions will not be directly callable after loading.\n"
     ]
    },
    {
     "name": "stdout",
     "output_type": "stream",
     "text": [
      "INFO:tensorflow:Assets written to: ../results/models_saved/lstmdense_ft/esb1summer_to_esb2summer_ft60_seed64/assets\n"
     ]
    },
    {
     "name": "stderr",
     "output_type": "stream",
     "text": [
      "INFO:tensorflow:Assets written to: ../results/models_saved/lstmdense_ft/esb1summer_to_esb2summer_ft60_seed64/assets\n"
     ]
    },
    {
     "name": "stdout",
     "output_type": "stream",
     "text": [
      "141/141 [==============================] - 0s 909us/step\n",
      "Tower 2 first temp: 8.929999351501465\n",
      "Finetuning for ft=0.6 seed=64\n"
     ]
    },
    {
     "name": "stderr",
     "output_type": "stream",
     "text": [
      "WARNING:absl:Found untraced functions such as lstm_cell_52_layer_call_fn, lstm_cell_52_layer_call_and_return_conditional_losses while saving (showing 2 of 2). These functions will not be directly callable after loading.\n"
     ]
    },
    {
     "name": "stdout",
     "output_type": "stream",
     "text": [
      "INFO:tensorflow:Assets written to: ../results/models_saved/dense_ft/esb1summer_to_esb2summer_ft60_seed64/assets\n"
     ]
    },
    {
     "name": "stderr",
     "output_type": "stream",
     "text": [
      "INFO:tensorflow:Assets written to: ../results/models_saved/dense_ft/esb1summer_to_esb2summer_ft60_seed64/assets\n"
     ]
    },
    {
     "name": "stdout",
     "output_type": "stream",
     "text": [
      "141/141 [==============================] - 0s 917us/step\n",
      "Tower 2 first temp: 8.929999351501465\n",
      "Finetuning for ft=0.6 seed=64\n",
      "INFO:tensorflow:Assets written to: ../results/models_saved/eld_ft/esb1summer_to_esb2summer_ft60_seed64/assets\n"
     ]
    },
    {
     "name": "stderr",
     "output_type": "stream",
     "text": [
      "INFO:tensorflow:Assets written to: ../results/models_saved/eld_ft/esb1summer_to_esb2summer_ft60_seed64/assets\n"
     ]
    },
    {
     "name": "stdout",
     "output_type": "stream",
     "text": [
      "141/141 [==============================] - 0s 992us/step\n",
      "Tower 2 first temp: 8.929999351501465\n",
      "Finetuning for ft=0.6 seed=76\n"
     ]
    },
    {
     "name": "stderr",
     "output_type": "stream",
     "text": [
      "WARNING:absl:Found untraced functions such as lstm_cell_54_layer_call_fn, lstm_cell_54_layer_call_and_return_conditional_losses while saving (showing 2 of 2). These functions will not be directly callable after loading.\n"
     ]
    },
    {
     "name": "stdout",
     "output_type": "stream",
     "text": [
      "INFO:tensorflow:Assets written to: ../results/models_saved/lstmdense_ft/esb1summer_to_esb2summer_ft60_seed76/assets\n"
     ]
    },
    {
     "name": "stderr",
     "output_type": "stream",
     "text": [
      "INFO:tensorflow:Assets written to: ../results/models_saved/lstmdense_ft/esb1summer_to_esb2summer_ft60_seed76/assets\n"
     ]
    },
    {
     "name": "stdout",
     "output_type": "stream",
     "text": [
      "141/141 [==============================] - 0s 913us/step\n",
      "Tower 2 first temp: 8.929999351501465\n",
      "Finetuning for ft=0.6 seed=76\n"
     ]
    },
    {
     "name": "stderr",
     "output_type": "stream",
     "text": [
      "WARNING:absl:Found untraced functions such as lstm_cell_55_layer_call_fn, lstm_cell_55_layer_call_and_return_conditional_losses while saving (showing 2 of 2). These functions will not be directly callable after loading.\n"
     ]
    },
    {
     "name": "stdout",
     "output_type": "stream",
     "text": [
      "INFO:tensorflow:Assets written to: ../results/models_saved/dense_ft/esb1summer_to_esb2summer_ft60_seed76/assets\n"
     ]
    },
    {
     "name": "stderr",
     "output_type": "stream",
     "text": [
      "INFO:tensorflow:Assets written to: ../results/models_saved/dense_ft/esb1summer_to_esb2summer_ft60_seed76/assets\n"
     ]
    },
    {
     "name": "stdout",
     "output_type": "stream",
     "text": [
      "141/141 [==============================] - 0s 906us/step\n",
      "Tower 2 first temp: 8.929999351501465\n",
      "Finetuning for ft=0.6 seed=76\n",
      "INFO:tensorflow:Assets written to: ../results/models_saved/eld_ft/esb1summer_to_esb2summer_ft60_seed76/assets\n"
     ]
    },
    {
     "name": "stderr",
     "output_type": "stream",
     "text": [
      "INFO:tensorflow:Assets written to: ../results/models_saved/eld_ft/esb1summer_to_esb2summer_ft60_seed76/assets\n"
     ]
    },
    {
     "name": "stdout",
     "output_type": "stream",
     "text": [
      "141/141 [==============================] - 0s 1ms/step\n",
      "Tower 2 first temp: 8.929999351501465\n",
      "Finetuning for ft=0.6 seed=98\n"
     ]
    },
    {
     "name": "stderr",
     "output_type": "stream",
     "text": [
      "WARNING:absl:Found untraced functions such as lstm_cell_57_layer_call_fn, lstm_cell_57_layer_call_and_return_conditional_losses while saving (showing 2 of 2). These functions will not be directly callable after loading.\n"
     ]
    },
    {
     "name": "stdout",
     "output_type": "stream",
     "text": [
      "INFO:tensorflow:Assets written to: ../results/models_saved/lstmdense_ft/esb1summer_to_esb2summer_ft60_seed98/assets\n"
     ]
    },
    {
     "name": "stderr",
     "output_type": "stream",
     "text": [
      "INFO:tensorflow:Assets written to: ../results/models_saved/lstmdense_ft/esb1summer_to_esb2summer_ft60_seed98/assets\n"
     ]
    },
    {
     "name": "stdout",
     "output_type": "stream",
     "text": [
      "141/141 [==============================] - 0s 893us/step\n",
      "Tower 2 first temp: 8.929999351501465\n",
      "Finetuning for ft=0.6 seed=98\n"
     ]
    },
    {
     "name": "stderr",
     "output_type": "stream",
     "text": [
      "WARNING:absl:Found untraced functions such as lstm_cell_58_layer_call_fn, lstm_cell_58_layer_call_and_return_conditional_losses while saving (showing 2 of 2). These functions will not be directly callable after loading.\n"
     ]
    },
    {
     "name": "stdout",
     "output_type": "stream",
     "text": [
      "INFO:tensorflow:Assets written to: ../results/models_saved/dense_ft/esb1summer_to_esb2summer_ft60_seed98/assets\n"
     ]
    },
    {
     "name": "stderr",
     "output_type": "stream",
     "text": [
      "INFO:tensorflow:Assets written to: ../results/models_saved/dense_ft/esb1summer_to_esb2summer_ft60_seed98/assets\n"
     ]
    },
    {
     "name": "stdout",
     "output_type": "stream",
     "text": [
      "141/141 [==============================] - 0s 895us/step\n",
      "Tower 2 first temp: 8.929999351501465\n",
      "Finetuning for ft=0.6 seed=98\n",
      "INFO:tensorflow:Assets written to: ../results/models_saved/eld_ft/esb1summer_to_esb2summer_ft60_seed98/assets\n"
     ]
    },
    {
     "name": "stderr",
     "output_type": "stream",
     "text": [
      "INFO:tensorflow:Assets written to: ../results/models_saved/eld_ft/esb1summer_to_esb2summer_ft60_seed98/assets\n"
     ]
    },
    {
     "name": "stdout",
     "output_type": "stream",
     "text": [
      "141/141 [==============================] - 0s 1ms/step\n",
      "Tower 2 first temp: 8.929999351501465\n",
      "Finetuning for ft=0.8 seed=17\n"
     ]
    },
    {
     "name": "stderr",
     "output_type": "stream",
     "text": [
      "WARNING:absl:Found untraced functions such as lstm_cell_60_layer_call_fn, lstm_cell_60_layer_call_and_return_conditional_losses while saving (showing 2 of 2). These functions will not be directly callable after loading.\n"
     ]
    },
    {
     "name": "stdout",
     "output_type": "stream",
     "text": [
      "INFO:tensorflow:Assets written to: ../results/models_saved/lstmdense_ft/esb1summer_to_esb2summer_ft80_seed17/assets\n"
     ]
    },
    {
     "name": "stderr",
     "output_type": "stream",
     "text": [
      "INFO:tensorflow:Assets written to: ../results/models_saved/lstmdense_ft/esb1summer_to_esb2summer_ft80_seed17/assets\n"
     ]
    },
    {
     "name": "stdout",
     "output_type": "stream",
     "text": [
      "71/71 [==============================] - 0s 982us/step\n",
      "Tower 2 first temp: 8.929999351501465\n",
      "Finetuning for ft=0.8 seed=17\n"
     ]
    },
    {
     "name": "stderr",
     "output_type": "stream",
     "text": [
      "WARNING:absl:Found untraced functions such as lstm_cell_61_layer_call_fn, lstm_cell_61_layer_call_and_return_conditional_losses while saving (showing 2 of 2). These functions will not be directly callable after loading.\n"
     ]
    },
    {
     "name": "stdout",
     "output_type": "stream",
     "text": [
      "INFO:tensorflow:Assets written to: ../results/models_saved/dense_ft/esb1summer_to_esb2summer_ft80_seed17/assets\n"
     ]
    },
    {
     "name": "stderr",
     "output_type": "stream",
     "text": [
      "INFO:tensorflow:Assets written to: ../results/models_saved/dense_ft/esb1summer_to_esb2summer_ft80_seed17/assets\n"
     ]
    },
    {
     "name": "stdout",
     "output_type": "stream",
     "text": [
      "71/71 [==============================] - 0s 980us/step\n",
      "Tower 2 first temp: 8.929999351501465\n",
      "Finetuning for ft=0.8 seed=17\n",
      "INFO:tensorflow:Assets written to: ../results/models_saved/eld_ft/esb1summer_to_esb2summer_ft80_seed17/assets\n"
     ]
    },
    {
     "name": "stderr",
     "output_type": "stream",
     "text": [
      "INFO:tensorflow:Assets written to: ../results/models_saved/eld_ft/esb1summer_to_esb2summer_ft80_seed17/assets\n"
     ]
    },
    {
     "name": "stdout",
     "output_type": "stream",
     "text": [
      "71/71 [==============================] - 0s 1ms/step\n",
      "Tower 2 first temp: 8.929999351501465\n",
      "Finetuning for ft=0.8 seed=42\n"
     ]
    },
    {
     "name": "stderr",
     "output_type": "stream",
     "text": [
      "WARNING:absl:Found untraced functions such as lstm_cell_63_layer_call_fn, lstm_cell_63_layer_call_and_return_conditional_losses while saving (showing 2 of 2). These functions will not be directly callable after loading.\n"
     ]
    },
    {
     "name": "stdout",
     "output_type": "stream",
     "text": [
      "INFO:tensorflow:Assets written to: ../results/models_saved/lstmdense_ft/esb1summer_to_esb2summer_ft80_seed42/assets\n"
     ]
    },
    {
     "name": "stderr",
     "output_type": "stream",
     "text": [
      "INFO:tensorflow:Assets written to: ../results/models_saved/lstmdense_ft/esb1summer_to_esb2summer_ft80_seed42/assets\n"
     ]
    },
    {
     "name": "stdout",
     "output_type": "stream",
     "text": [
      "71/71 [==============================] - 0s 1ms/step\n",
      "Tower 2 first temp: 8.929999351501465\n",
      "Finetuning for ft=0.8 seed=42\n"
     ]
    },
    {
     "name": "stderr",
     "output_type": "stream",
     "text": [
      "WARNING:absl:Found untraced functions such as lstm_cell_64_layer_call_fn, lstm_cell_64_layer_call_and_return_conditional_losses while saving (showing 2 of 2). These functions will not be directly callable after loading.\n"
     ]
    },
    {
     "name": "stdout",
     "output_type": "stream",
     "text": [
      "INFO:tensorflow:Assets written to: ../results/models_saved/dense_ft/esb1summer_to_esb2summer_ft80_seed42/assets\n"
     ]
    },
    {
     "name": "stderr",
     "output_type": "stream",
     "text": [
      "INFO:tensorflow:Assets written to: ../results/models_saved/dense_ft/esb1summer_to_esb2summer_ft80_seed42/assets\n"
     ]
    },
    {
     "name": "stdout",
     "output_type": "stream",
     "text": [
      "71/71 [==============================] - 0s 1ms/step\n",
      "Tower 2 first temp: 8.929999351501465\n",
      "Finetuning for ft=0.8 seed=42\n",
      "INFO:tensorflow:Assets written to: ../results/models_saved/eld_ft/esb1summer_to_esb2summer_ft80_seed42/assets\n"
     ]
    },
    {
     "name": "stderr",
     "output_type": "stream",
     "text": [
      "INFO:tensorflow:Assets written to: ../results/models_saved/eld_ft/esb1summer_to_esb2summer_ft80_seed42/assets\n"
     ]
    },
    {
     "name": "stdout",
     "output_type": "stream",
     "text": [
      "71/71 [==============================] - 0s 1ms/step\n",
      "Tower 2 first temp: 8.929999351501465\n",
      "Finetuning for ft=0.8 seed=64\n"
     ]
    },
    {
     "name": "stderr",
     "output_type": "stream",
     "text": [
      "WARNING:absl:Found untraced functions such as lstm_cell_66_layer_call_fn, lstm_cell_66_layer_call_and_return_conditional_losses while saving (showing 2 of 2). These functions will not be directly callable after loading.\n"
     ]
    },
    {
     "name": "stdout",
     "output_type": "stream",
     "text": [
      "INFO:tensorflow:Assets written to: ../results/models_saved/lstmdense_ft/esb1summer_to_esb2summer_ft80_seed64/assets\n"
     ]
    },
    {
     "name": "stderr",
     "output_type": "stream",
     "text": [
      "INFO:tensorflow:Assets written to: ../results/models_saved/lstmdense_ft/esb1summer_to_esb2summer_ft80_seed64/assets\n"
     ]
    },
    {
     "name": "stdout",
     "output_type": "stream",
     "text": [
      "71/71 [==============================] - 0s 960us/step\n",
      "Tower 2 first temp: 8.929999351501465\n",
      "Finetuning for ft=0.8 seed=64\n"
     ]
    },
    {
     "name": "stderr",
     "output_type": "stream",
     "text": [
      "WARNING:absl:Found untraced functions such as lstm_cell_67_layer_call_fn, lstm_cell_67_layer_call_and_return_conditional_losses while saving (showing 2 of 2). These functions will not be directly callable after loading.\n"
     ]
    },
    {
     "name": "stdout",
     "output_type": "stream",
     "text": [
      "INFO:tensorflow:Assets written to: ../results/models_saved/dense_ft/esb1summer_to_esb2summer_ft80_seed64/assets\n"
     ]
    },
    {
     "name": "stderr",
     "output_type": "stream",
     "text": [
      "INFO:tensorflow:Assets written to: ../results/models_saved/dense_ft/esb1summer_to_esb2summer_ft80_seed64/assets\n"
     ]
    },
    {
     "name": "stdout",
     "output_type": "stream",
     "text": [
      "71/71 [==============================] - 0s 965us/step\n",
      "Tower 2 first temp: 8.929999351501465\n",
      "Finetuning for ft=0.8 seed=64\n",
      "INFO:tensorflow:Assets written to: ../results/models_saved/eld_ft/esb1summer_to_esb2summer_ft80_seed64/assets\n"
     ]
    },
    {
     "name": "stderr",
     "output_type": "stream",
     "text": [
      "INFO:tensorflow:Assets written to: ../results/models_saved/eld_ft/esb1summer_to_esb2summer_ft80_seed64/assets\n"
     ]
    },
    {
     "name": "stdout",
     "output_type": "stream",
     "text": [
      "71/71 [==============================] - 1s 1ms/step\n",
      "Tower 2 first temp: 8.929999351501465\n",
      "Finetuning for ft=0.8 seed=76\n"
     ]
    },
    {
     "name": "stderr",
     "output_type": "stream",
     "text": [
      "WARNING:absl:Found untraced functions such as lstm_cell_69_layer_call_fn, lstm_cell_69_layer_call_and_return_conditional_losses while saving (showing 2 of 2). These functions will not be directly callable after loading.\n"
     ]
    },
    {
     "name": "stdout",
     "output_type": "stream",
     "text": [
      "INFO:tensorflow:Assets written to: ../results/models_saved/lstmdense_ft/esb1summer_to_esb2summer_ft80_seed76/assets\n"
     ]
    },
    {
     "name": "stderr",
     "output_type": "stream",
     "text": [
      "INFO:tensorflow:Assets written to: ../results/models_saved/lstmdense_ft/esb1summer_to_esb2summer_ft80_seed76/assets\n"
     ]
    },
    {
     "name": "stdout",
     "output_type": "stream",
     "text": [
      "71/71 [==============================] - 0s 954us/step\n",
      "Tower 2 first temp: 8.929999351501465\n",
      "Finetuning for ft=0.8 seed=76\n"
     ]
    },
    {
     "name": "stderr",
     "output_type": "stream",
     "text": [
      "WARNING:absl:Found untraced functions such as lstm_cell_70_layer_call_fn, lstm_cell_70_layer_call_and_return_conditional_losses while saving (showing 2 of 2). These functions will not be directly callable after loading.\n"
     ]
    },
    {
     "name": "stdout",
     "output_type": "stream",
     "text": [
      "INFO:tensorflow:Assets written to: ../results/models_saved/dense_ft/esb1summer_to_esb2summer_ft80_seed76/assets\n"
     ]
    },
    {
     "name": "stderr",
     "output_type": "stream",
     "text": [
      "INFO:tensorflow:Assets written to: ../results/models_saved/dense_ft/esb1summer_to_esb2summer_ft80_seed76/assets\n"
     ]
    },
    {
     "name": "stdout",
     "output_type": "stream",
     "text": [
      "71/71 [==============================] - 0s 1ms/step\n",
      "Tower 2 first temp: 8.929999351501465\n",
      "Finetuning for ft=0.8 seed=76\n",
      "INFO:tensorflow:Assets written to: ../results/models_saved/eld_ft/esb1summer_to_esb2summer_ft80_seed76/assets\n"
     ]
    },
    {
     "name": "stderr",
     "output_type": "stream",
     "text": [
      "INFO:tensorflow:Assets written to: ../results/models_saved/eld_ft/esb1summer_to_esb2summer_ft80_seed76/assets\n"
     ]
    },
    {
     "name": "stdout",
     "output_type": "stream",
     "text": [
      "71/71 [==============================] - 0s 1ms/step\n",
      "Tower 2 first temp: 8.929999351501465\n",
      "Finetuning for ft=0.8 seed=98\n"
     ]
    },
    {
     "name": "stderr",
     "output_type": "stream",
     "text": [
      "WARNING:absl:Found untraced functions such as lstm_cell_72_layer_call_fn, lstm_cell_72_layer_call_and_return_conditional_losses while saving (showing 2 of 2). These functions will not be directly callable after loading.\n"
     ]
    },
    {
     "name": "stdout",
     "output_type": "stream",
     "text": [
      "INFO:tensorflow:Assets written to: ../results/models_saved/lstmdense_ft/esb1summer_to_esb2summer_ft80_seed98/assets\n"
     ]
    },
    {
     "name": "stderr",
     "output_type": "stream",
     "text": [
      "INFO:tensorflow:Assets written to: ../results/models_saved/lstmdense_ft/esb1summer_to_esb2summer_ft80_seed98/assets\n"
     ]
    },
    {
     "name": "stdout",
     "output_type": "stream",
     "text": [
      "71/71 [==============================] - 0s 974us/step\n",
      "Tower 2 first temp: 8.929999351501465\n",
      "Finetuning for ft=0.8 seed=98\n"
     ]
    },
    {
     "name": "stderr",
     "output_type": "stream",
     "text": [
      "WARNING:absl:Found untraced functions such as lstm_cell_73_layer_call_fn, lstm_cell_73_layer_call_and_return_conditional_losses while saving (showing 2 of 2). These functions will not be directly callable after loading.\n"
     ]
    },
    {
     "name": "stdout",
     "output_type": "stream",
     "text": [
      "INFO:tensorflow:Assets written to: ../results/models_saved/dense_ft/esb1summer_to_esb2summer_ft80_seed98/assets\n"
     ]
    },
    {
     "name": "stderr",
     "output_type": "stream",
     "text": [
      "INFO:tensorflow:Assets written to: ../results/models_saved/dense_ft/esb1summer_to_esb2summer_ft80_seed98/assets\n"
     ]
    },
    {
     "name": "stdout",
     "output_type": "stream",
     "text": [
      "71/71 [==============================] - 0s 993us/step\n",
      "Tower 2 first temp: 8.929999351501465\n",
      "Finetuning for ft=0.8 seed=98\n",
      "INFO:tensorflow:Assets written to: ../results/models_saved/eld_ft/esb1summer_to_esb2summer_ft80_seed98/assets\n"
     ]
    },
    {
     "name": "stderr",
     "output_type": "stream",
     "text": [
      "INFO:tensorflow:Assets written to: ../results/models_saved/eld_ft/esb1summer_to_esb2summer_ft80_seed98/assets\n"
     ]
    },
    {
     "name": "stdout",
     "output_type": "stream",
     "text": [
      "71/71 [==============================] - 0s 1ms/step\n"
     ]
    }
   ],
   "source": [
    "plot_multiseed_error_pir(ft_percents=ft_percents, from_building=\"ESB\", from_tower=1, from_season=\"summer\", to_building=\"ESB\", to_tower=2, to_season=\"summer\")"
   ]
  },
  {
   "cell_type": "code",
   "execution_count": null,
   "metadata": {},
   "outputs": [],
   "source": [
    "# create all combinations of intraseason transfers for Kissam and ESB\n",
    "buildings = [\"ESB\", \"Kissam\"]\n",
    "towers = [1, 2]\n",
    "seasons = [\"summer\", \"fall\"]\n",
    "intraseason_combinations = [((b1,t1,s1),(b2,t2,s2)) for s1 in seasons for t1 in towers for b1 in buildings for s2 in seasons for t2 in towers for b2 in buildings if (b1,t1,s1)!=(b2,t2,s2) and s1==s2]\n",
    "intraseason_combinations = list(set(intraseason_combinations)) # making sure there are no duplicates\n",
    "\n",
    "# TEMPORARY ADDITION FIXME\n",
    "import random\n",
    "random.seed(17)\n",
    "intraseason_combinations = random.sample(intraseason_combinations, 5)\n",
    "print(intraseason_combinations)"
   ]
  },
  {
   "cell_type": "code",
   "execution_count": null,
   "metadata": {},
   "outputs": [],
   "source": [
    "for c in [intraseason_combinations[0]]:\n",
    "    b1 = c[0][0]\n",
    "    t1 = c[0][1]\n",
    "    s1 = c[0][2]\n",
    "    b2 = c[1][0]\n",
    "    t2 = c[1][1]\n",
    "    s2 = c[1][2]\n",
    "    print(c)\n",
    "    plot_multiseed_error_pir(ft_percents=ft_percents, from_building=b1, from_tower=t1, from_season=s1, to_building=b2, to_tower=t2, to_season=s2)"
   ]
  },
  {
   "attachments": {},
   "cell_type": "markdown",
   "metadata": {},
   "source": [
    "# Inter-season (Summer to Fall, Fall to Summer)"
   ]
  },
  {
   "attachments": {},
   "cell_type": "markdown",
   "metadata": {},
   "source": [
    "### Kissam and ESB"
   ]
  },
  {
   "cell_type": "code",
   "execution_count": null,
   "metadata": {},
   "outputs": [],
   "source": [
    "# create all combinations of interseason transfers between summer and fall for Kissam and ESB\n",
    "buildings = [\"ESB\", \"Kissam\"]\n",
    "towers = [1, 2]\n",
    "seasons = [\"summer\", \"fall\"]\n",
    "interseason_combinations = [((b1,t1,s1),(b2,t2,s2)) for s1 in seasons for t1 in towers for b1 in buildings for s2 in seasons for t2 in towers for b2 in buildings if (b1,t1,s1)!=(b2,t2,s2) and s1!=s2]\n",
    "interseason_combinations = list(set(interseason_combinations)) # making sure there are no duplicates\n",
    "\n",
    "# TEMPORARY ADDITION FIXME\n",
    "interseason_combinations = random.sample(interseason_combinations, 5)\n",
    "print(interseason_combinations)"
   ]
  },
  {
   "cell_type": "code",
   "execution_count": null,
   "metadata": {},
   "outputs": [],
   "source": [
    "for c in interseason_combinations:\n",
    "    b1 = c[0][0]\n",
    "    t1 = c[0][1]\n",
    "    s1 = c[0][2]\n",
    "    b2 = c[1][0]\n",
    "    t2 = c[1][1]\n",
    "    s2 = c[1][2]\n",
    "    print(c)\n",
    "    plot_multiseed_error_pir(ft_percents=ft_percents, from_building=b1, from_tower=t1, from_season=s1, to_building=b2, to_tower=t2, to_season=s2)"
   ]
  },
  {
   "cell_type": "markdown",
   "metadata": {},
   "source": [
    "## Display graphs"
   ]
  },
  {
   "cell_type": "code",
   "execution_count": null,
   "metadata": {},
   "outputs": [],
   "source": [
    "# Create a subplots figure with two subplots and set title\n",
    "x = [fp * 100 for fp in ft_percents]\n",
    "\n",
    "for tm in results_data:\n",
    "    if tm == \"options\": continue\n",
    "    for from_key in results_data[tm]:\n",
    "        for to_key in results_data[tm][from_key]:\n",
    "            if to_key == \"base\": continue\n",
    "            try:\n",
    "                average_mae = [0.0] * len(ft_percents)\n",
    "                for i, ft in enumerate([f\"ft{int(fp * 100)}\" for fp in ft_percents]):\n",
    "                    average_mae[i] = results_data[tm][from_key][to_key][ft][\"mae\"]\n",
    "                    if None in average_mae[i]: raise ValueError(\"Skip this graph\")\n",
    "                    \n",
    "                \n",
    "                average_mae = [[average_mae[j][i] for j in range(len(average_mae))] for i in range(len(average_mae[0]))] # reshape\n",
    "                \n",
    "                # add errors of transfer\n",
    "                figfinal = go.Figure()\n",
    "                for i, ft_mae_list in enumerate(average_mae):\n",
    "                    figfinal.add_trace(\n",
    "                        go.Scatter(\n",
    "                            x=x, \n",
    "                            y=ft_mae_list, \n",
    "                            name=f\"MAE for {shuffle_seeds[i]}\")\n",
    "                    )\n",
    "                # add error of base model\n",
    "                base_error_info = results_data[tm][to_key][\"base\"]\n",
    "                figfinal.add_trace(go.Scatter(\n",
    "                    x=x, \n",
    "                    y=[base_error_info[\"mae\"]]*len(ft_percents), \n",
    "                    name=f\"Base model MAE seed-42\", \n",
    "                    line=dict(color='rgb(155, 185, 155)'),\n",
    "                    mode='lines'))\n",
    "                # add sd of base model\n",
    "                y_upper = [base_error_info[\"mae\"] + base_error_info[\"mae_sd\"]]*len(ft_percents)\n",
    "                y_lower = [base_error_info[\"mae\"] - base_error_info[\"mae_sd\"]]*len(ft_percents)\n",
    "                figfinal.add_trace(go.Scatter(\n",
    "                    x=x+x[::-1], # x, then x reversed\n",
    "                    y=y_upper+y_lower[::-1], # upper, then lower reversed\n",
    "                    fill='toself',\n",
    "                    fillcolor='rgba(155, 185, 155,0.1)',\n",
    "                    line=dict(color='rgba(0,0,0,0)'),\n",
    "                    hoverinfo=\"skip\",\n",
    "                    showlegend=False\n",
    "                ))\n",
    "                \n",
    "                # formatting\n",
    "                figfinal.update_yaxes(range=[-1, 12])\n",
    "                figfinal.update_layout(\n",
    "                    title=f\"{from_key} to {to_key} ({tm})\",\n",
    "                    xaxis_title='Amount of data',\n",
    "                    yaxis_title='Mean absolute error'\n",
    "                )\n",
    "                # figfinal.show()\n",
    "                figfinal.write_html(f\"{rootpath}/results/plots/transfer_comparison/{tm}_{from_key}_to_{to_key}_mae.html\")\n",
    "            except: break # in case of null values (transfers that have not been run yet)"
   ]
  }
 ],
 "metadata": {
  "kernelspec": {
   "display_name": "py38",
   "language": "python",
   "name": "python3"
  },
  "language_info": {
   "codemirror_mode": {
    "name": "ipython",
    "version": 3
   },
   "file_extension": ".py",
   "mimetype": "text/x-python",
   "name": "python",
   "nbconvert_exporter": "python",
   "pygments_lexer": "ipython3",
   "version": "3.8.16"
  },
  "orig_nbformat": 4
 },
 "nbformat": 4,
 "nbformat_minor": 2
}
