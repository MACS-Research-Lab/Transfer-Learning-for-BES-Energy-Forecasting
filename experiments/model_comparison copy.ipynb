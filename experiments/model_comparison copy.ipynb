{
 "cells": [
  {
   "cell_type": "code",
   "execution_count": null,
   "metadata": {},
   "outputs": [],
   "source": [
    "import pandas as pd\n",
    "\n",
    "import plotly.express as px\n",
    "import plotly.graph_objects as go\n",
    "from plotly.subplots import make_subplots\n",
    "\n",
    "from typing import List\n",
    "import json\n",
    "import time\n",
    "\n",
    "rootpath = \"..\"\n",
    "\n",
    "import transfer_logic.transfer_LD_weightinit as transfer_LD_weightinit\n",
    "import transfer_logic.transfer_LD_ft as transfer_LD_ft\n",
    "import transfer_logic.transfer_autoLSTM as transfer_autoLSTM\n",
    "\n",
    "degree_sign = u'\\N{DEGREE SIGN}'"
   ]
  },
  {
   "cell_type": "code",
   "execution_count": null,
   "metadata": {},
   "outputs": [],
   "source": [
    "result_filename = f\"{rootpath}/results/result_data/transfer_results.json\"\n",
    "\n",
    "with open(result_filename, \"r\") as f:\n",
    "    results_data = json.load(f)\n",
    "\n",
    "ft_percents = results_data[\"options\"][\"ft_percents\"]\n",
    "shuffle_seeds = results_data[\"options\"][\"seeds\"]\n",
    "transfer_methods = [\"weight_initialization_LSTMDense\", \"weight_initialization_Dense\", \"weight_initialization_AutoLSTM\"]"
   ]
  },
  {
   "cell_type": "code",
   "execution_count": null,
   "metadata": {},
   "outputs": [],
   "source": [
    "def save_results(from_key, to_key, transfer_method, ft_percent, shuffle_seed, rmse=None, mae=None, mae_sd=None, training_time=None, datapoints=None):\n",
    "    result_filename = f\"{rootpath}/results/result_data/transfer_results.json\"\n",
    "    with open(result_filename, \"r\") as f:\n",
    "        results_data = json.load(f)\n",
    "\n",
    "    ft_percents = results_data[\"options\"][\"ft_percents\"]\n",
    "    shuffle_seeds = results_data[\"options\"][\"seeds\"]\n",
    "\n",
    "    if not to_key in results_data[transfer_method][from_key]:\n",
    "        results_data[transfer_method][from_key][to_key] = {f\"ft{int(x*100)}\" : {\n",
    "                    \"rmse\": [None]*len(shuffle_seeds),\n",
    "                    \"mae\": [None]*len(shuffle_seeds),\n",
    "                    \"mae_sd\": [None]*len(shuffle_seeds),\n",
    "                    \"training_time\": [None]*len(shuffle_seeds),\n",
    "                    \"datapoints\": 0\n",
    "                } for x in ft_percents}\n",
    "    \n",
    "    saving_index = shuffle_seeds.index(shuffle_seed)\n",
    "    results_data[transfer_method][from_key][to_key][f\"ft{int(ft_percent*100)}\"][\"rmse\"][saving_index] = rmse\n",
    "    results_data[transfer_method][from_key][to_key][f\"ft{int(ft_percent*100)}\"][\"mae\"][saving_index] = mae\n",
    "    results_data[transfer_method][from_key][to_key][f\"ft{int(ft_percent*100)}\"][\"mae_sd\"][saving_index] = mae_sd\n",
    "    results_data[transfer_method][from_key][to_key][f\"ft{int(ft_percent*100)}\"][\"training_time\"][saving_index] = training_time\n",
    "    results_data[transfer_method][from_key][to_key][f\"ft{int(ft_percent*100)}\"][\"datapoints\"] = datapoints\n",
    "    \n",
    "    with open(result_filename, \"w\") as f:\n",
    "        json.dump(results_data, f, indent=4)"
   ]
  },
  {
   "cell_type": "code",
   "execution_count": null,
   "metadata": {},
   "outputs": [],
   "source": [
    "# save_results(\"ESB1_summer\", \"Kissam1_summer\", \"weight_initialization_AutoLSTM\", 0.2, 17)"
   ]
  },
  {
   "cell_type": "code",
   "execution_count": null,
   "metadata": {},
   "outputs": [],
   "source": [
    "def plot_multiseed_error_pir(ft_percents: List[float], from_building: str, from_tower: int, from_season: str, to_building: str, to_tower: int, to_season: str = None, skip_existing_plot: bool = True):\n",
    "    \"\"\"\n",
    "    Performs the following steps\n",
    "    1. Performs transfer learning by finetuning entire model\n",
    "    2. Performs transfer learning by finetuning only the output layer\n",
    "    3. Plots mean absolute errors for test datasets picked with 5 different random seeds for both transfer learning methods\n",
    "    4. Compares errors from transfer with error in the base model of the tower being transferred to\n",
    "    5. Plots performance improvement ratio\n",
    "    \"\"\"\n",
    "    to_features = [f'{to_building}_Tower_{to_tower} enteringWaterTemp', \n",
    "                    f'{to_building}_Tower_{to_tower} outdoorAirDryBulb', \n",
    "                    f'{to_building}_Tower_{to_tower} outdoorAirWetBulb', \n",
    "                    f'{to_building}_Tower_{to_tower} vfdPercent', \n",
    "                    f'{to_building}_Tower_{to_tower} fanA_vfdPower', \n",
    "                    f'{to_building}_Tower_{to_tower} fanB_vfdPower', \n",
    "                    f'{to_building}_Tower_{to_tower} dayOfWeek', \n",
    "                    f'{to_building}_Tower_{to_tower} hourOfDay', \n",
    "                    f'{to_building}_Tower_{to_tower} efficiency']\n",
    "    to_target = f'{to_building}_Tower_{to_tower} leavingWaterTemp'\n",
    "    \n",
    "    for ft_percent in ft_percents:\n",
    "            for s, seed in enumerate(shuffle_seeds):\n",
    "                # perform each transfer learning method\n",
    "\n",
    "                # finetuning all layers\n",
    "                rmse1, _, mae1, tt, dp = transfer_LD_weightinit.transfer_LD_weightinit(from_building_name=from_building, from_tower_number=from_tower, from_season=from_season, to_building_name=to_building, to_tower_number=to_tower, to_features=to_features, to_target=to_target, to_season=to_season, finetuning_percentage=ft_percent, display_results=False, use_delta=True, shuffle_seed=seed)\n",
    "                save_results(from_key=f\"{from_building}{from_tower}_{from_season}\", to_key=f\"{to_building}{to_tower}_{to_season}\", transfer_method=transfer_methods[0], ft_percent=ft_percent, shuffle_seed=seed, rmse=rmse1, mae=mae1, training_time=tt, datapoints=dp)\n",
    "\n",
    "                # finetuning only output layer\n",
    "                rmse2, _, mae2, tt, dp = transfer_LD_ft.transfer_LD_dense(from_building_name=from_building, from_tower_number=from_tower, from_season=from_season, to_building_name=to_building, to_tower_number=to_tower, to_features=to_features, to_target=to_target, to_season=to_season, finetuning_percentage=ft_percent, display_results=False, use_delta=True, shuffle_seed=seed)\n",
    "                save_results(from_key=f\"{from_building}{from_tower}_{from_season}\", to_key=f\"{to_building}{to_tower}_{to_season}\", transfer_method=transfer_methods[1], ft_percent=ft_percent, shuffle_seed=seed, rmse=rmse2, mae=mae2, training_time=tt, datapoints=dp)\n",
    "\n",
    "                # using lstm autoencoder model and finetuning only lstm layer\n",
    "                rmse3, _, mae3, tt, dp = transfer_autoLSTM.transfer_autoLSTM(from_building_name=from_building, from_tower_number=from_tower, from_season=from_season, to_building_name=to_building, to_tower_number=to_tower, to_features=to_features, to_target=to_target, to_season=to_season, finetuning_percentage=ft_percent, display_results=False, use_delta=True, shuffle_seed=seed)\n",
    "                save_results(from_key=f\"{from_building}{from_tower}_{from_season}\", to_key=f\"{to_building}{to_tower}_{to_season}\", transfer_method=transfer_methods[2], ft_percent=ft_percent, shuffle_seed=seed, rmse=rmse3, mae=mae3, training_time=tt, datapoints=dp)"
   ]
  },
  {
   "cell_type": "code",
   "execution_count": null,
   "metadata": {},
   "outputs": [],
   "source": [
    "# plot_multiseed_error_pir(ft_percents=ft_percents, from_building=\"ESB\", from_tower=1, from_season=\"summer\", to_building=\"Kissam\", to_tower=1, to_season=\"summer\")"
   ]
  },
  {
   "attachments": {},
   "cell_type": "markdown",
   "metadata": {},
   "source": [
    "# Intra-season (Summer)"
   ]
  },
  {
   "cell_type": "code",
   "execution_count": null,
   "metadata": {},
   "outputs": [],
   "source": [
    "# create all combinations of intraseason transfers for Kissam and ESB\n",
    "buildings = [\"ESB\", \"Kissam\"]\n",
    "towers = [1, 2]\n",
    "seasons = [\"summer\", \"fall\"]\n",
    "intraseason_combinations = [((b1,t1,s1),(b2,t2,s2)) for s1 in seasons for t1 in towers for b1 in buildings for s2 in seasons for t2 in towers for b2 in buildings if (b1,t1,s1)!=(b2,t2,s2) and s1==s2]\n",
    "intraseason_combinations = list(set(intraseason_combinations)) # making sure there are no duplicates\n",
    "\n",
    "# TEMPORARY ADDITION FIXME\n",
    "import random\n",
    "random.seed(17)\n",
    "intraseason_combinations = random.sample(intraseason_combinations, 5)\n",
    "print(intraseason_combinations)"
   ]
  },
  {
   "cell_type": "code",
   "execution_count": null,
   "metadata": {},
   "outputs": [],
   "source": [
    "for c in [intraseason_combinations[0]]:\n",
    "    b1 = c[0][0]\n",
    "    t1 = c[0][1]\n",
    "    s1 = c[0][2]\n",
    "    b2 = c[1][0]\n",
    "    t2 = c[1][1]\n",
    "    s2 = c[1][2]\n",
    "    print(c)\n",
    "    plot_multiseed_error_pir(ft_percents=ft_percents, from_building=b1, from_tower=t1, from_season=s1, to_building=b2, to_tower=t2, to_season=s2)"
   ]
  },
  {
   "attachments": {},
   "cell_type": "markdown",
   "metadata": {},
   "source": [
    "### Testing on MRB:"
   ]
  },
  {
   "cell_type": "markdown",
   "metadata": {},
   "source": [
    "# create all combinations of interseason transfers between summer and fall for transferring from Kissam and ESB to MRB\n",
    "buildings1 = [\"ESB\", \"Kissam\"]\n",
    "buildings2 = [\"MRB\"]\n",
    "towers = [1, 2]\n",
    "seasons = [\"summer\", \"fall\"]\n",
    "intraseason_combinations_to_mrb = [((b1,t1,s1),(b2,t2,s2)) for s1 in seasons for t1 in towers for b1 in buildings1 for s2 in seasons for t2 in towers for b2 in buildings2 if (b1,t1,s1)!=(b2,t2,s2) and s1==s2]\n",
    "intraseason_combinations_to_mrb = list(set(intraseason_combinations_to_mrb)) # making sure there are no duplicates\n",
    "\n",
    "# TEMPORARY ADDITION FIXME\n",
    "intraseason_combinations_to_mrb = random.sample(intraseason_combinations_to_mrb, 3)\n",
    "print(intraseason_combinations_to_mrb)"
   ]
  },
  {
   "cell_type": "markdown",
   "metadata": {},
   "source": [
    "for c in intraseason_combinations_to_mrb:\n",
    "    b1 = c[0][0]\n",
    "    t1 = c[0][1]\n",
    "    s1 = c[0][2]\n",
    "    b2 = c[1][0]\n",
    "    t2 = c[1][1]\n",
    "    s2 = c[1][2]\n",
    "    print(c)\n",
    "    plot_multiseed_error_pir(ft_percents=ft_percents, from_building=b1, from_tower=t1, from_season=s1, to_building=b2, to_tower=t2, to_season=s2)"
   ]
  },
  {
   "attachments": {},
   "cell_type": "markdown",
   "metadata": {},
   "source": [
    "# Inter-season (Summer to Fall, Fall to Summer)"
   ]
  },
  {
   "attachments": {},
   "cell_type": "markdown",
   "metadata": {},
   "source": [
    "### Kissam and ESB"
   ]
  },
  {
   "cell_type": "code",
   "execution_count": null,
   "metadata": {},
   "outputs": [],
   "source": [
    "# create all combinations of interseason transfers between summer and fall for Kissam and ESB\n",
    "buildings = [\"ESB\", \"Kissam\"]\n",
    "towers = [1, 2]\n",
    "seasons = [\"summer\", \"fall\"]\n",
    "interseason_combinations = [((b1,t1,s1),(b2,t2,s2)) for s1 in seasons for t1 in towers for b1 in buildings for s2 in seasons for t2 in towers for b2 in buildings if (b1,t1,s1)!=(b2,t2,s2) and s1!=s2]\n",
    "interseason_combinations = list(set(interseason_combinations)) # making sure there are no duplicates\n",
    "\n",
    "# TEMPORARY ADDITION FIXME\n",
    "interseason_combinations = random.sample(interseason_combinations, 5)\n",
    "print(interseason_combinations)"
   ]
  },
  {
   "cell_type": "code",
   "execution_count": null,
   "metadata": {},
   "outputs": [],
   "source": [
    "for c in interseason_combinations:\n",
    "    b1 = c[0][0]\n",
    "    t1 = c[0][1]\n",
    "    s1 = c[0][2]\n",
    "    b2 = c[1][0]\n",
    "    t2 = c[1][1]\n",
    "    s2 = c[1][2]\n",
    "    print(c)\n",
    "    plot_multiseed_error_pir(ft_percents=ft_percents, from_building=b1, from_tower=t1, from_season=s1, to_building=b2, to_tower=t2, to_season=s2)"
   ]
  },
  {
   "attachments": {},
   "cell_type": "markdown",
   "metadata": {},
   "source": [
    "### Testing on MRB"
   ]
  },
  {
   "cell_type": "markdown",
   "metadata": {},
   "source": [
    "# create all combinations of interseason transfers between summer and fall for transferring from Kissam and ESB to MRB\n",
    "buildings1 = [\"ESB\", \"Kissam\"]\n",
    "buildings2 = [\"MRB\"]\n",
    "towers = [1, 2]\n",
    "seasons = [\"summer\", \"fall\"]\n",
    "interseason_combinations_to_mrb = [((b1,t1,s1),(b2,t2,s2)) for s1 in seasons for t1 in towers for b1 in buildings1 for s2 in seasons for t2 in towers for b2 in buildings2 if (b1,t1,s1)!=(b2,t2,s2) and s1!=s2]\n",
    "interseason_combinations_to_mrb = list(set(interseason_combinations_to_mrb)) # making sure there are no duplicates\n",
    "\n",
    "# TEMPORARY ADDITION FIXME\n",
    "interseason_combinations_to_mrb = random.sample(interseason_combinations_to_mrb, 3)\n",
    "print(interseason_combinations_to_mrb)"
   ]
  },
  {
   "cell_type": "markdown",
   "metadata": {},
   "source": [
    "for c in interseason_combinations_to_mrb:\n",
    "    b1 = c[0][0]\n",
    "    t1 = c[0][1]\n",
    "    s1 = c[0][2]\n",
    "    b2 = c[1][0]\n",
    "    t2 = c[1][1]\n",
    "    s2 = c[1][2]\n",
    "    print(c)\n",
    "    plot_multiseed_error_pir(ft_percents=ft_percents, from_building=b1, from_tower=t1, from_season=s1, to_building=b2, to_tower=t2, to_season=s2)"
   ]
  }
 ],
 "metadata": {
  "kernelspec": {
   "display_name": "py38",
   "language": "python",
   "name": "python3"
  },
  "language_info": {
   "codemirror_mode": {
    "name": "ipython",
    "version": 3
   },
   "file_extension": ".py",
   "mimetype": "text/x-python",
   "name": "python",
   "nbconvert_exporter": "python",
   "pygments_lexer": "ipython3",
   "version": "3.8.16"
  },
  "orig_nbformat": 4
 },
 "nbformat": 4,
 "nbformat_minor": 2
}
