{
 "cells": [
  {
   "attachments": {},
   "cell_type": "markdown",
   "metadata": {},
   "source": [
    "# Data-driven predictive model for cooling tower performance\n",
    "\n",
    "<u>Objective: </u> Create a data-driven predictive model based on time-series for the cooling tower efficiency. <br/>\n",
    "\n",
    "<u>Abstract of the project:</u>\n",
    "Heating Ventilation and Air Conditioning systems (HVACs) are used to control temperature and humidity inside buildings. They use cooling towers at one end to expel excess heat from the refrigerant into the atmosphere. The heat is expelled through evaporative cooling. <br/>\n",
    "Cooling towers are used to expel heat from warm water coming out of water-cooled condensers in chiller units. The water has absorbed heat from the chiller’s refrigerant as it condenses. The rate of cooling depends on the cooling tower surface area, humidity, temperature, and speed of water and air. Cooling tower efficiency can be expressed as\n",
    "$$\n",
    "μ = (\\frac{t_i  - t_o }{t_i  - t_wb })*100\n",
    "$$\n",
    "where\n",
    "μ = cooling tower efficiency (%) <br/>\n",
    "t_i  = inlet temperature of water to the tower ( o C,  o F) <br/>\n",
    "t_o  = outlet temperature of water from the tower ( o C,  o F) <br/>\n",
    "t_wb  = wet bulb temperature of air ( ^o C,  ^o F) <br/>\n",
    "\n",
    "The temperature difference between inlet and outlet water (t_i  - t_o ) is normally in the range 10 - 15  o F. The units should be consistent for the temperature.\n"
   ]
  },
  {
   "attachments": {},
   "cell_type": "markdown",
   "metadata": {},
   "source": [
    "## Outlier removal and missing data imputation"
   ]
  },
  {
   "cell_type": "code",
   "execution_count": null,
   "metadata": {},
   "outputs": [],
   "source": []
  },
  {
   "attachments": {},
   "cell_type": "markdown",
   "metadata": {},
   "source": [
    "## Exploratory data analysis and visualization"
   ]
  },
  {
   "cell_type": "code",
   "execution_count": null,
   "metadata": {},
   "outputs": [],
   "source": []
  },
  {
   "attachments": {},
   "cell_type": "markdown",
   "metadata": {},
   "source": [
    "Compute the cooling tower efficiency as a performance metric for the system and analyze the behavior (smoothness, noise, continuity, multimodality, and monotonicity)"
   ]
  },
  {
   "cell_type": "code",
   "execution_count": null,
   "metadata": {},
   "outputs": [],
   "source": []
  },
  {
   "attachments": {},
   "cell_type": "markdown",
   "metadata": {},
   "source": [
    "## Machine Learning\n",
    "Create a set of data-driven predictive models for the temperature of the water exiting the cooling tower and going to the condenser with different time horizons: 1 h, 6 h, 12 h, 24 h (this variable determines the cooling tower efficiency)."
   ]
  },
  {
   "cell_type": "code",
   "execution_count": null,
   "metadata": {},
   "outputs": [],
   "source": []
  }
 ],
 "metadata": {
  "kernelspec": {
   "display_name": "python3-8",
   "language": "python",
   "name": "python3"
  },
  "language_info": {
   "name": "python",
   "version": "3.8.15 (default, Nov 24 2022, 09:04:07) \n[Clang 14.0.6 ]"
  },
  "orig_nbformat": 4,
  "vscode": {
   "interpreter": {
    "hash": "f30700cd18b2731d951c6e331275569e7744dee2831b05549689d249e768835b"
   }
  }
 },
 "nbformat": 4,
 "nbformat_minor": 2
}
