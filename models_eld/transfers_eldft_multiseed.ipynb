{
 "cells": [
  {
   "cell_type": "code",
   "execution_count": null,
   "metadata": {},
   "outputs": [],
   "source": [
    "import pandas as pd\n",
    "\n",
    "import plotly.express as px\n",
    "from plotly.subplots import make_subplots\n",
    "\n",
    "from typing import List\n",
    "\n",
    "import model_eld_transfer\n",
    "\n",
    "degree_sign = u'\\N{DEGREE SIGN}'"
   ]
  },
  {
   "cell_type": "code",
   "execution_count": null,
   "metadata": {},
   "outputs": [],
   "source": [
    "ft_percents = [0.0, 0.2, 0.4, 0.6, 0.8]\n",
    "shuffle_seeds = [17, 42, 64, 76, 98]"
   ]
  },
  {
   "cell_type": "code",
   "execution_count": null,
   "metadata": {},
   "outputs": [],
   "source": [
    "def plot_multiseed_error_pir(ft_percents: List[float], from_building: str, from_tower: int, to_building: str, season: str = None):\n",
    "    # MAKE PREDICTIONS AND PLOT TRENDS\n",
    "    rmse_list = []\n",
    "    # [tow-1] [seed index] [error]\n",
    "\n",
    "    for tow in range(1,3):\n",
    "        to_features = [f'{to_building}_Tower_{tow} enteringWaterTemp', f'{to_building}_Tower_{tow} outdoorAirDryBulb', f'{to_building}_Tower_{tow} outdoorAirWetBulb', f'{to_building}_Tower_{tow} vfdPercent', f'{to_building}_Tower_{tow} fanA_vfdPower', f'{to_building}_Tower_{tow} fanB_vfdPower', f'{to_building}_Tower_{tow} dayOfWeek', f'{to_building}_Tower_{tow} hourOfDay', f'{to_building}_Tower_{tow} efficiency']\n",
    "        to_target = f'{to_building}_Tower_{tow} leavingWaterTemp'\n",
    "        rmse_list.append([])\n",
    "\n",
    "        for s, seed in enumerate(shuffle_seeds):\n",
    "            rmse_list[tow-1].append([])\n",
    "\n",
    "            for ft_percent in ft_percents:\n",
    "                rmse, fig, mabs = model_eld_transfer.eld_transfer(from_building_name=from_building, from_tower_number=from_tower, to_building_name=to_building, to_tower_number=tow, to_features=to_features, to_target=to_target, to_season=season, finetuning_percentage=ft_percent, display_results=False, use_delta=True, shuffle_seed=seed)\n",
    "                rmse_list[tow-1][s].append(rmse)\n",
    "\n",
    "\n",
    "    # PLOT ERROR GRADIENT\n",
    "\n",
    "    # tower 1: create a DataFrame and line graph using Plotly Express\n",
    "    print_df = pd.DataFrame({'finetuning data percentage': [fp*100 for fp in ft_percents], \n",
    "                                f'RMSE with seed {shuffle_seeds[0]}': rmse_list[0][0], \n",
    "                                f'RMSE with seed {shuffle_seeds[1]}': rmse_list[0][1],\n",
    "                                f'RMSE with seed {shuffle_seeds[2]}': rmse_list[0][2],\n",
    "                                f'RMSE with seed {shuffle_seeds[3]}': rmse_list[0][3],\n",
    "                                f'RMSE with seed {shuffle_seeds[4]}': rmse_list[0][4],})\n",
    "    fig1 = px.line(print_df, y=[f'RMSE with seed {seed}' for seed in shuffle_seeds], x=\"finetuning data percentage\", title='Errors')\n",
    "    # tower 2: create a DataFrame and line graph using Plotly Expres\n",
    "    print_df = pd.DataFrame({'finetuning data percentage': [fp*100 for fp in ft_percents], \n",
    "                                f'RMSE with seed {shuffle_seeds[0]}': rmse_list[0][0], \n",
    "                                f'RMSE with seed {shuffle_seeds[1]}': rmse_list[0][1],\n",
    "                                f'RMSE with seed {shuffle_seeds[2]}': rmse_list[0][2],\n",
    "                                f'RMSE with seed {shuffle_seeds[3]}': rmse_list[0][3],\n",
    "                                f'RMSE with seed {shuffle_seeds[4]}': rmse_list[0][4],})\n",
    "    fig2 = px.line(print_df, y=[f'RMSE with seed {seed}' for seed in shuffle_seeds], x=\"finetuning data percentage\", title='Errors')\n",
    "\n",
    "    figfinal = make_subplots(rows=1, cols=2)\n",
    "    for dt in fig1.data:\n",
    "        figfinal.add_trace(dt, row=1, col=1)\n",
    "    figfinal.update_xaxes(title_text=\"Finetuning data percentage\", row=1, col=1)\n",
    "    figfinal.update_yaxes(title_text=\"Error\", row=1, col=1)\n",
    "\n",
    "    for dt in fig2.data:\n",
    "        figfinal.add_trace(dt, row=1, col=2)\n",
    "    figfinal.add_trace(fig2.data[1], row=1, col=2)\n",
    "    figfinal.update_xaxes(title_text=\"Finetuning data percentage\", row=1, col=2)\n",
    "    figfinal.update_yaxes(title_text=\"Error\", row=1, col=2)\n",
    "\n",
    "    figfinal.update_layout(title_text=f\"{from_building} Tower {from_tower} to {to_building} Tower 1, {from_building} Tower {from_tower} to {to_building} Tower 2 ({season}) (LSTM Autoencode)\", showlegend=True)\n",
    "\n",
    "    figfinal.show()\n",
    "    figfinal.write_html(f\"../plots/feature_extraction/eld_ft/{from_building}{from_tower}_to_{to_building}{season}_gradient.html\")\n",
    "\n",
    "    # PLOT PERFORMANCE IMPROVEMENT RATIO\n",
    "\n",
    "    pir = [[[(seed_rmses[0] - rmse) / seed_rmses[0] for rmse in seed_rmses] for seed_rmses in tower_rmses] for tower_rmses in rmse_list]\n",
    "\n",
    "    # tower 1: create a DataFrame and line graph using Plotly Express\n",
    "    print_df = pd.DataFrame({'finetuning data percentage': [fp*100 for fp in ft_percents], \n",
    "                                f'PIR with seed {shuffle_seeds[0]}': pir[0][0], \n",
    "                                f'PIR with seed {shuffle_seeds[1]}': pir[0][1],\n",
    "                                f'PIR with seed {shuffle_seeds[2]}': pir[0][2],\n",
    "                                f'PIR with seed {shuffle_seeds[3]}': pir[0][3],\n",
    "                                f'PIR with seed {shuffle_seeds[4]}': pir[0][4],})\n",
    "    fig1 = px.line(print_df, y=[f'PIR with seed {seed}' for seed in shuffle_seeds], x=\"finetuning data percentage\", title='Performance improvement ratio')\n",
    "\n",
    "    # tower 2: create a DataFrame and line graph using Plotly Expres\n",
    "    print_df = pd.DataFrame({'finetuning data percentage': [fp*100 for fp in ft_percents], \n",
    "                                f'PIR with seed {shuffle_seeds[0]}': pir[1][0], \n",
    "                                f'PIR with seed {shuffle_seeds[1]}': pir[1][1],\n",
    "                                f'PIR with seed {shuffle_seeds[2]}': pir[1][2],\n",
    "                                f'PIR with seed {shuffle_seeds[3]}': pir[1][3],\n",
    "                                f'PIR with seed {shuffle_seeds[4]}': pir[1][4],})\n",
    "    fig2 = px.line(print_df, y=[f'PIR with seed {seed}' for seed in shuffle_seeds], x=\"finetuning data percentage\", title='Performance improvement ratio')\n",
    "\n",
    "    figfinal = make_subplots(rows=1, cols=2)\n",
    "    for dt in fig1.data:\n",
    "        figfinal.add_trace(dt, row=1, col=1)\n",
    "    figfinal.update_xaxes(title_text=\"Finetuning data percentage\", row=1, col=1)\n",
    "    figfinal.update_yaxes(title_text=\"Performance improvement ratio\", row=1, col=1)\n",
    "\n",
    "    for dt in fig2.data:\n",
    "        figfinal.add_trace(dt, row=1, col=2)\n",
    "    figfinal.update_xaxes(title_text=\"Finetuning data percentage\", row=1, col=2)\n",
    "    figfinal.update_yaxes(title_text=\"Performance improvement ratio\", row=1, col=2)\n",
    "\n",
    "    figfinal.update_layout(title_text=f\"{from_building} Tower {from_tower} to {to_building} Tower 1, {from_building} Tower {from_tower} to {to_building} Tower 2 ({season}) (LSTM Autoencoder)\", showlegend=True)\n",
    "\n",
    "    figfinal.show()\n",
    "    figfinal.write_html(f\"../plots/feature_extraction/eld_ft/{from_building}{from_tower}{season}_to_{to_building}{season}_pir.html\")"
   ]
  },
  {
   "cell_type": "code",
   "execution_count": null,
   "metadata": {},
   "outputs": [],
   "source": [
    "plot_multiseed_error_pir(ft_percents=ft_percents, from_building=\"ESB\", from_tower=1, to_building=\"Kissam\", season=\"summer\")"
   ]
  },
  {
   "cell_type": "code",
   "execution_count": null,
   "metadata": {},
   "outputs": [],
   "source": [
    "plot_multiseed_error_pir(ft_percents=ft_percents, from_building=\"ESB\", from_tower=2, to_building=\"Kissam\", season=\"summer\")"
   ]
  },
  {
   "cell_type": "code",
   "execution_count": null,
   "metadata": {},
   "outputs": [],
   "source": [
    "plot_multiseed_error_pir(ft_percents=ft_percents, from_building=\"Kissam\", from_tower=1, to_building=\"ESB\", season=\"summer\")"
   ]
  },
  {
   "cell_type": "code",
   "execution_count": null,
   "metadata": {},
   "outputs": [],
   "source": [
    "plot_multiseed_error_pir(ft_percents=ft_percents, from_building=\"Kissam\", from_tower=2, to_building=\"ESB\", season=\"summer\")"
   ]
  },
  {
   "attachments": {},
   "cell_type": "markdown",
   "metadata": {},
   "source": [
    "## --- Testing on MRB ---"
   ]
  },
  {
   "cell_type": "code",
   "execution_count": null,
   "metadata": {},
   "outputs": [],
   "source": [
    "plot_multiseed_error_pir(ft_percents=ft_percents, from_building=\"ESB\", from_tower=1, to_building=\"MRB\", season=\"summer\")"
   ]
  },
  {
   "cell_type": "code",
   "execution_count": null,
   "metadata": {},
   "outputs": [],
   "source": [
    "plot_multiseed_error_pir(ft_percents=ft_percents, from_building=\"Kissam\", from_tower=1, to_building=\"MRB\", season=\"summer\")"
   ]
  }
 ],
 "metadata": {
  "kernelspec": {
   "display_name": "py38",
   "language": "python",
   "name": "python3"
  },
  "language_info": {
   "codemirror_mode": {
    "name": "ipython",
    "version": 3
   },
   "file_extension": ".py",
   "mimetype": "text/x-python",
   "name": "python",
   "nbconvert_exporter": "python",
   "pygments_lexer": "ipython3",
   "version": "3.8.16"
  },
  "orig_nbformat": 4
 },
 "nbformat": 4,
 "nbformat_minor": 2
}
