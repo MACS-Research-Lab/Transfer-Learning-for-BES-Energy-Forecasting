{
 "cells": [
  {
   "cell_type": "code",
   "execution_count": null,
   "metadata": {},
   "outputs": [],
   "source": [
    "import pandas as pd\n",
    "\n",
    "import plotly.express as px\n",
    "import plotly.graph_objects as go\n",
    "from plotly.subplots import make_subplots\n",
    "\n",
    "from typing import List\n",
    "\n",
    "import os, sys\n",
    "rootpath = \"..\"\n",
    "sys.path.insert(0, f\"{os.getcwd()}/{rootpath}/models\")\n",
    "import model_base\n",
    "import model_weightinit\n",
    "import model_dense_ft\n",
    "\n",
    "degree_sign = u'\\N{DEGREE SIGN}'"
   ]
  },
  {
   "cell_type": "code",
   "execution_count": null,
   "metadata": {},
   "outputs": [],
   "source": [
    "ft_percents = [0.0, 0.2, 0.4, 0.6, 0.8]\n",
    "shuffle_seeds = [17, 42, 64, 76, 98]"
   ]
  },
  {
   "cell_type": "code",
   "execution_count": null,
   "metadata": {},
   "outputs": [],
   "source": [
    "def plot_multiseed_error_pir(ft_percents: List[float], from_building: str, from_tower: int, from_season: str, to_building: str, to_tower: int, to_season: str = None):\n",
    "    \"\"\"\n",
    "    Performs the following steps\n",
    "    1. Performs transfer learning by finetuning entire model\n",
    "    2. Performs transfer learning by finetuning only the output layer\n",
    "    3. Plots mean absolute errors for test datasets picked with 5 different random seeds for both transfer learning methods\n",
    "    4. Compares errors from transfer with error in the base model of the tower being transferred to\n",
    "    5. Plots performance improvement ratio\n",
    "    \"\"\"\n",
    "    \n",
    "    # RUN MODEL AND MAKE PREDICTIONS\n",
    "\n",
    "    rmse_list = [[], []]\n",
    "    mae_list = [[], []]\n",
    "    # [transfer type index] [seed index] [error]\n",
    "    # transfer type index 0: finetuning lstm and dense\n",
    "    # transfer type index 1: finetuning only dense\n",
    "\n",
    "    to_features = [f'{to_building}_Tower_{to_tower} enteringWaterTemp', \n",
    "                    f'{to_building}_Tower_{to_tower} outdoorAirDryBulb', \n",
    "                    f'{to_building}_Tower_{to_tower} outdoorAirWetBulb', \n",
    "                    f'{to_building}_Tower_{to_tower} vfdPercent', \n",
    "                    f'{to_building}_Tower_{to_tower} fanA_vfdPower', \n",
    "                    f'{to_building}_Tower_{to_tower} fanB_vfdPower', \n",
    "                    f'{to_building}_Tower_{to_tower} dayOfWeek', \n",
    "                    f'{to_building}_Tower_{to_tower} hourOfDay', \n",
    "                    f'{to_building}_Tower_{to_tower} efficiency']\n",
    "    to_target = f'{to_building}_Tower_{to_tower} leavingWaterTemp'\n",
    "\n",
    "\n",
    "    for s, seed in enumerate(shuffle_seeds):\n",
    "        rmse_list[0].append([])\n",
    "        rmse_list[1].append([])\n",
    "        mae_list[0].append([])\n",
    "        mae_list[1].append([])\n",
    "\n",
    "        for ft_percent in ft_percents:\n",
    "            # finetuning all layers\n",
    "            rmse_wi, fig_wi, mae_wi = model_weightinit.weight_init_lstmdense_transfer(from_building_name=from_building, from_tower_number=from_tower, from_season=from_season, to_building_name=to_building, to_tower_number=to_tower, to_features=to_features, to_target=to_target, to_season=to_season, finetuning_percentage=ft_percent, display_results=False, use_delta=True, shuffle_seed=seed)\n",
    "            rmse_list[0][s].append(rmse_wi)\n",
    "            mae_list[0][s].append(mae_wi)\n",
    "\n",
    "            # finetuning only output layer\n",
    "            rmse_fe, fig_fe, mae_fe = model_dense_ft.weight_init_dense_transfer(from_building_name=from_building, from_tower_number=from_tower, from_season=from_season, to_building_name=to_building, to_tower_number=to_tower, to_features=to_features, to_target=to_target, to_season=to_season, finetuning_percentage=ft_percent, display_results=False, use_delta=True, shuffle_seed=seed)\n",
    "            rmse_list[1][s].append(rmse_fe)\n",
    "            mae_list[1][s].append(mae_fe)\n",
    "\n",
    "\n",
    "\n",
    "\n",
    "    # PLOT MAE ERROR GRADIENT\n",
    "\n",
    "    base_errors = pd.read_csv(f\"{rootpath}/data/results/base_model_errors.csv\", index_col=\"building-tower-season\").loc[f\"{to_building}{to_tower}_{to_season}\"]\n",
    "\n",
    "    # Create a subplots figure with two subplots and set title\n",
    "    figfinal = make_subplots(rows=1, cols=2, subplot_titles=(\"Finetuning all layers (LSTM+Dense)\", \"Finetuning output layer only (Dense)\"))\n",
    "    figfinal.update_layout(\n",
    "        title=f\"{from_building} Tower {from_tower} ({from_season}) to {to_building} Tower {to_tower} ({to_season}): Comparison of transfer methods (MAE)\",\n",
    "        showlegend=True\n",
    "    )\n",
    "\n",
    "    # Add traces to the subplots\n",
    "    for tranfer_method_i, tranfer_method in enumerate([\"(left)\", \"(right)\"]):\n",
    "        row = 1\n",
    "        col = tranfer_method_i + 1\n",
    "        x = [fp * 100 for fp in ft_percents]\n",
    "        # plot lines over each other for different seeds\n",
    "        for s, seed in enumerate(shuffle_seeds):\n",
    "            # add errors of model transfers\n",
    "            figfinal.add_trace(\n",
    "                go.Scatter(\n",
    "                    x=x, \n",
    "                    y=mae_list[tranfer_method_i][s], \n",
    "                    name=f\"MAE seed-{seed} {tranfer_method}\"),\n",
    "                row=row, col=col\n",
    "            )\n",
    "            # add error of base model\n",
    "            figfinal.add_trace(go.Scatter(\n",
    "                x=x, \n",
    "                y=[base_errors[\"MAE\"]]*len(ft_percents), \n",
    "                name=f\"Base model MAE seed-42\", \n",
    "                line=dict(color='rgb(155, 185, 155)'),\n",
    "                mode='lines'),\n",
    "                row=row, col=col)\n",
    "            # add standard deviation of errors for base model\n",
    "            y_upper = [base_errors[\"MAE\"] + base_errors[\"MAE_SD\"]]*len(ft_percents)\n",
    "            y_lower = [base_errors[\"MAE\"] - base_errors[\"MAE_SD\"]]*len(ft_percents)\n",
    "            figfinal.add_trace(go.Scatter(\n",
    "                x=x+x[::-1], # x, then x reversed\n",
    "                y=y_upper+y_lower[::-1], # upper, then lower reversed\n",
    "                fill='toself',\n",
    "                fillcolor='rgba(155, 185, 155,0.1)',\n",
    "                line=dict(color='rgba(0,0,0,0)'),\n",
    "                hoverinfo=\"skip\",\n",
    "                showlegend=False\n",
    "            ), row=row, col=col)\n",
    "\n",
    "        # Update subplot axes labels\n",
    "        figfinal.update_xaxes(title_text=\"Finetuning data percentage\", row=row, col=col)\n",
    "        figfinal.update_yaxes(title_text=\"Mean Absolute Error\", row=row, col=col)\n",
    "\n",
    "    # Show the figure\n",
    "    figfinal.show()\n",
    "    figfinal.write_html(f\"../plots/transfer_comparison/intraseason/{from_building}{from_tower}{from_season}_to_{to_building}{to_tower}{to_season}_mae.html\")\n",
    "\n",
    "\n",
    "\n",
    "    # PLOT PERFORMANCE IMPROVEMENT RATIO\n",
    "\n",
    "    pir = [[[(seed_rmses[0] - rmse) / seed_rmses[0] for rmse in seed_rmses] for seed_rmses in method_rmses] for method_rmses in rmse_list]\n",
    "\n",
    "    # Create a subplots figure with two subplots and set title\n",
    "    figfinal = make_subplots(rows=1, cols=2, subplot_titles=(\"Finetuning all layers (LSTM+Dense)\", \"Finetuning output layer only (Dense)\"))\n",
    "    figfinal.update_layout(\n",
    "        title=f\"{from_building} Tower {from_tower} ({from_season}) to {to_building} Tower {to_tower} ({to_season}): Comparison of transfer methods (PIR)\",\n",
    "        showlegend=True\n",
    "    )\n",
    "\n",
    "    # Add traces to the subplots\n",
    "    for tranfer_method_i, tranfer_method in enumerate([\"(left)\", \"(right)\"]):\n",
    "        row = 1\n",
    "        col = tranfer_method_i + 1\n",
    "        for s, seed in enumerate(shuffle_seeds):\n",
    "            x = [fp * 100 for fp in ft_percents]\n",
    "            # add errors of transfers\n",
    "            figfinal.add_trace(\n",
    "                go.Scatter(\n",
    "                    x=x, \n",
    "                    y=pir[tranfer_method_i][s], \n",
    "                    name=f\"PIR seed-{seed} {tranfer_method}\"),\n",
    "                row=row, col=col\n",
    "            )\n",
    "        figfinal.update_xaxes(title_text=\"Finetuning data percentage\", row=row, col=col)\n",
    "        figfinal.update_yaxes(title_text=\"Performance improvement ratio\", row=row, col=col)\n",
    "\n",
    "    figfinal.show()\n",
    "    figfinal.write_html(f\"../plots/transfer_comparison/intraseason/{from_building}{from_tower}{from_season}_to_{to_building}{to_tower}{to_season}_pir.html\")"
   ]
  },
  {
   "attachments": {},
   "cell_type": "markdown",
   "metadata": {},
   "source": [
    "# Intra-season (Summer)"
   ]
  },
  {
   "cell_type": "code",
   "execution_count": null,
   "metadata": {},
   "outputs": [],
   "source": [
    "# create all combinations of intraseason transfers for Kissam and ESB\n",
    "buildings = [\"ESB\", \"Kissam\"]\n",
    "towers = [1, 2]\n",
    "seasons = [\"summer\", \"fall\"]\n",
    "intraseason_combinations = [((b1,t1,s1),(b2,t2,s2)) for s1 in seasons for t1 in towers for b1 in buildings for s2 in seasons for t2 in towers for b2 in buildings if (b1,t1,s1)!=(b2,t2,s2) and s1==s2]\n",
    "intraseason_combinations = list(set(intraseason_combinations)) # making sure there are no duplicates"
   ]
  },
  {
   "cell_type": "code",
   "execution_count": null,
   "metadata": {},
   "outputs": [],
   "source": [
    "for c in intraseason_combinations:\n",
    "    b1 = c[0][0]\n",
    "    t1 = c[0][1]\n",
    "    s1 = c[0][2]\n",
    "    b2 = c[1][0]\n",
    "    t2 = c[1][1]\n",
    "    s2 = c[1][2]\n",
    "    print(c)\n",
    "    plot_multiseed_error_pir(ft_percents=ft_percents, from_building=b1, from_tower=t1, from_season=s1, to_building=b2, to_tower=t2, to_season=s2)"
   ]
  },
  {
   "attachments": {},
   "cell_type": "markdown",
   "metadata": {},
   "source": [
    "### Testing on MRB:"
   ]
  },
  {
   "cell_type": "code",
   "execution_count": 1,
   "metadata": {},
   "outputs": [],
   "source": [
    "# create all combinations of interseason transfers between summer and fall for transferring from Kissam and ESB to MRB\n",
    "buildings1 = [\"ESB\", \"Kissam\"]\n",
    "buildings2 = [\"MRB\"]\n",
    "towers = [1, 2]\n",
    "seasons = [\"summer\", \"fall\"]\n",
    "intraseason_combinations_to_mrb = [((b1,t1,s1),(b2,t2,s2)) for s1 in seasons for t1 in towers for b1 in buildings1 for s2 in seasons for t2 in towers for b2 in buildings2 if (b1,t1,s1)!=(b2,t2,s2) and s1==s2]\n",
    "intraseason_combinations_to_mrb = list(set(intraseason_combinations_to_mrb)) # making sure there are no duplicates"
   ]
  },
  {
   "cell_type": "code",
   "execution_count": null,
   "metadata": {},
   "outputs": [],
   "source": [
    "for c in intraseason_combinations_to_mrb:\n",
    "    b1 = c[0][0]\n",
    "    t1 = c[0][1]\n",
    "    s1 = c[0][2]\n",
    "    b2 = c[1][0]\n",
    "    t2 = c[1][1]\n",
    "    s2 = c[1][2]\n",
    "    print(c)\n",
    "    # plot_multiseed_error_pir(ft_percents=ft_percents, from_building=b1, from_tower=t1, from_season=s1, to_building=b2, to_tower=t2, to_season=s2)"
   ]
  },
  {
   "attachments": {},
   "cell_type": "markdown",
   "metadata": {},
   "source": [
    "# Inter-season (Summer to Fall, Fall to Summer)"
   ]
  },
  {
   "attachments": {},
   "cell_type": "markdown",
   "metadata": {},
   "source": [
    "### Kissam and ESB"
   ]
  },
  {
   "cell_type": "code",
   "execution_count": null,
   "metadata": {},
   "outputs": [],
   "source": [
    "# create all combinations of interseason transfers between summer and fall for Kissam and ESB\n",
    "buildings = [\"ESB\", \"Kissam\"]\n",
    "towers = [1, 2]\n",
    "seasons = [\"summer\", \"fall\"]\n",
    "interseason_combinations = [((b1,t1,s1),(b2,t2,s2)) for s1 in seasons for t1 in towers for b1 in buildings for s2 in seasons for t2 in towers for b2 in buildings if (b1,t1,s1)!=(b2,t2,s2) and s1!=s2]\n",
    "interseason_combinations = list(set(interseason_combinations)) # making sure there are no duplicates"
   ]
  },
  {
   "cell_type": "code",
   "execution_count": null,
   "metadata": {},
   "outputs": [],
   "source": [
    "for c in interseason_combinations:\n",
    "    b1 = c[0][0]\n",
    "    t1 = c[0][1]\n",
    "    s1 = c[0][2]\n",
    "    b2 = c[1][0]\n",
    "    t2 = c[1][1]\n",
    "    s2 = c[1][2]\n",
    "    print(c)\n",
    "    plot_multiseed_error_pir(ft_percents=ft_percents, from_building=b1, from_tower=t1, from_season=s1, to_building=b2, to_tower=t2, to_season=s2)"
   ]
  },
  {
   "attachments": {},
   "cell_type": "markdown",
   "metadata": {},
   "source": [
    "### Testing on MRB"
   ]
  },
  {
   "cell_type": "code",
   "execution_count": null,
   "metadata": {},
   "outputs": [],
   "source": [
    "# create all combinations of interseason transfers between summer and fall for transferring from Kissam and ESB to MRB\n",
    "buildings1 = [\"ESB\", \"Kissam\"]\n",
    "buildings2 = [\"MRB\"]\n",
    "towers = [1, 2]\n",
    "seasons = [\"summer\", \"fall\"]\n",
    "interseason_combinations_to_mrb = [((b1,t1,s1),(b2,t2,s2)) for s1 in seasons for t1 in towers for b1 in buildings1 for s2 in seasons for t2 in towers for b2 in buildings2 if (b1,t1,s1)!=(b2,t2,s2) and s1!=s2]\n",
    "interseason_combinations_to_mrb = list(set(interseason_combinations_to_mrb)) # making sure there are no duplicates"
   ]
  },
  {
   "cell_type": "code",
   "execution_count": null,
   "metadata": {},
   "outputs": [],
   "source": [
    "for c in interseason_combinations_to_mrb:\n",
    "    b1 = c[0][0]\n",
    "    t1 = c[0][1]\n",
    "    s1 = c[0][2]\n",
    "    b2 = c[1][0]\n",
    "    t2 = c[1][1]\n",
    "    s2 = c[1][2]\n",
    "    print(c)\n",
    "    plot_multiseed_error_pir(ft_percents=ft_percents, from_building=b1, from_tower=t1, from_season=s1, to_building=b2, to_tower=t2, to_season=s2)"
   ]
  }
 ],
 "metadata": {
  "kernelspec": {
   "display_name": "py38",
   "language": "python",
   "name": "python3"
  },
  "language_info": {
   "codemirror_mode": {
    "name": "ipython",
    "version": 3
   },
   "file_extension": ".py",
   "mimetype": "text/x-python",
   "name": "python",
   "nbconvert_exporter": "python",
   "pygments_lexer": "ipython3",
   "version": "3.8.16"
  },
  "orig_nbformat": 4
 },
 "nbformat": 4,
 "nbformat_minor": 2
}
