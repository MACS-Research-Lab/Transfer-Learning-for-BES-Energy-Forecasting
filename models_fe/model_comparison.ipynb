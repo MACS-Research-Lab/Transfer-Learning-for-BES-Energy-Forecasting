{
 "cells": [
  {
   "cell_type": "code",
   "execution_count": null,
   "metadata": {},
   "outputs": [],
   "source": [
    "import pandas as pd\n",
    "\n",
    "import plotly.express as px\n",
    "import plotly.graph_objects as go\n",
    "from plotly.subplots import make_subplots\n",
    "\n",
    "from typing import List\n",
    "\n",
    "import os, sys\n",
    "rootpath = \"..\"\n",
    "sys.path.insert(0, f\"{os.getcwd()}/{rootpath}/models\")\n",
    "import model_base\n",
    "import model_weightinit\n",
    "import model_fe\n",
    "\n",
    "degree_sign = u'\\N{DEGREE SIGN}'"
   ]
  },
  {
   "cell_type": "code",
   "execution_count": null,
   "metadata": {},
   "outputs": [],
   "source": [
    "ft_percents = [0.0, 0.2, 0.4, 0.6, 0.8]\n",
    "shuffle_seeds = [17, 42, 64, 76, 98]"
   ]
  },
  {
   "cell_type": "code",
   "execution_count": null,
   "metadata": {},
   "outputs": [],
   "source": [
    "def plot_multiseed_error_pir(ft_percents: List[float], from_building: str, from_tower: int, to_building: str, to_tower: int, season: str = None):\n",
    "    \"\"\"\n",
    "    Performs the following steps\n",
    "    1. Performs transfer learning by finetuning entire model\n",
    "    2. Performs transfer learning by finetuning only the output layer\n",
    "    3. Plots mean absolute errors for test datasets picked with 5 different random seeds for both transfer learning methods\n",
    "    4. Compares errors from transfer with error in the base model of the tower being transferred to\n",
    "    5. Plots performance improvement ratio\n",
    "    \"\"\"\n",
    "    \n",
    "    # RUN MODEL AND MAKE PREDICTIONS\n",
    "\n",
    "    rmse_list = [[], []]\n",
    "    mae_list = [[], []]\n",
    "    # [transfer type index] [seed index] [error]\n",
    "    # transfer type index 0: finetuning lstm and dense\n",
    "    # transfer type index 1: finetuning only dense\n",
    "\n",
    "    to_features = [f'{to_building}_Tower_{to_tower} enteringWaterTemp', \n",
    "                    f'{to_building}_Tower_{to_tower} outdoorAirDryBulb', \n",
    "                    f'{to_building}_Tower_{to_tower} outdoorAirWetBulb', \n",
    "                    f'{to_building}_Tower_{to_tower} vfdPercent', \n",
    "                    f'{to_building}_Tower_{to_tower} fanA_vfdPower', \n",
    "                    f'{to_building}_Tower_{to_tower} fanB_vfdPower', \n",
    "                    f'{to_building}_Tower_{to_tower} dayOfWeek', \n",
    "                    f'{to_building}_Tower_{to_tower} hourOfDay', \n",
    "                    f'{to_building}_Tower_{to_tower} efficiency']\n",
    "    to_target = f'{to_building}_Tower_{to_tower} leavingWaterTemp'\n",
    "\n",
    "\n",
    "    for s, seed in enumerate(shuffle_seeds):\n",
    "        rmse_list[0].append([])\n",
    "        rmse_list[1].append([])\n",
    "        mae_list[0].append([])\n",
    "        mae_list[1].append([])\n",
    "\n",
    "        for ft_percent in ft_percents:\n",
    "            # finetuning all layers\n",
    "            rmse_wi, fig_wi, mae_wi = model_weightinit.weight_init_transfer(from_building_name=from_building, from_tower_number=from_tower, to_building_name=to_building, to_tower_number=to_tower, to_features=to_features, to_target=to_target, to_season=season, finetuning_percentage=ft_percent, display_results=False, use_delta=True, shuffle_seed=seed)\n",
    "            rmse_list[0][s].append(rmse_wi)\n",
    "            mae_list[0][s].append(mae_wi)\n",
    "\n",
    "            # finetuning only output layer\n",
    "            rmse_fe, fig_fe, mae_fe = model_fe.feature_extr_transfer(from_building_name=from_building, from_tower_number=from_tower, to_building_name=to_building, to_tower_number=to_tower, to_features=to_features, to_target=to_target, to_season=season, finetuning_percentage=ft_percent, display_results=False, use_delta=True, shuffle_seed=seed)\n",
    "            rmse_list[1][s].append(rmse_fe)\n",
    "            mae_list[1][s].append(mae_fe)\n",
    "\n",
    "\n",
    "\n",
    "\n",
    "    # PLOT MAE ERROR GRADIENT\n",
    "\n",
    "    base_errors = pd.read_csv(f\"{rootpath}/data/results/base_model_errors.csv\", index_col=\"building-tower-season\").loc[f\"{to_building}{to_tower}_{season}\"]\n",
    "\n",
    "    # Create a subplots figure with two subplots and set title\n",
    "    figfinal = make_subplots(rows=1, cols=2, subplot_titles=(\"Finetuning all layers (LSTM+Dense)\", \"Finetuning output layer only (Dense)\"))\n",
    "    figfinal.update_layout(\n",
    "        title=f\"{from_building} Tower {from_tower} to {to_building} Tower {to_tower}: Comparison of transfer methods (MAE)\",\n",
    "        showlegend=True\n",
    "    )\n",
    "\n",
    "    # Add traces to the subplots\n",
    "    for tranfer_method_i, tranfer_method in enumerate([\"(left)\", \"(right)\"]):\n",
    "        row = 1\n",
    "        col = tranfer_method_i + 1\n",
    "        x = [fp * 100 for fp in ft_percents]\n",
    "        # plot lines over each other for different seeds\n",
    "        for s, seed in enumerate(shuffle_seeds):\n",
    "            # add errors of model transfers\n",
    "            figfinal.add_trace(\n",
    "                go.Scatter(\n",
    "                    x=x, \n",
    "                    y=mae_list[tranfer_method_i][s], \n",
    "                    name=f\"MAE seed-{seed} {tranfer_method}\"),\n",
    "                row=row, col=col\n",
    "            )\n",
    "            # add error of base model\n",
    "            figfinal.add_trace(go.Scatter(\n",
    "                x=x, \n",
    "                y=[base_errors[\"MAE\"]]*len(ft_percents), \n",
    "                name=f\"Base model MAE seed-42\", \n",
    "                line=dict(color='rgb(155, 185, 155)'),\n",
    "                mode='lines'),\n",
    "                row=row, col=col)\n",
    "            # add standard deviation of errors for base model\n",
    "            y_upper = [base_errors[\"MAE\"] + base_errors[\"MAE_SD\"]]*len(ft_percents)\n",
    "            y_lower = [base_errors[\"MAE\"] - base_errors[\"MAE_SD\"]]*len(ft_percents)\n",
    "            figfinal.add_trace(go.Scatter(\n",
    "                x=x+x[::-1], # x, then x reversed\n",
    "                y=y_upper+y_lower[::-1], # upper, then lower reversed\n",
    "                fill='toself',\n",
    "                fillcolor='rgba(155, 185, 155,0.1)',\n",
    "                line=dict(color='rgba(0,0,0,0)'),\n",
    "                hoverinfo=\"skip\",\n",
    "                showlegend=False\n",
    "            ), row=row, col=col)\n",
    "\n",
    "        # Update subplot axes labels\n",
    "        figfinal.update_xaxes(title_text=\"Finetuning data percentage\", row=row, col=col)\n",
    "        figfinal.update_yaxes(title_text=\"Mean Absolute Error\", row=row, col=col)\n",
    "\n",
    "    # Show the figure\n",
    "    figfinal.show()\n",
    "    figfinal.write_html(f\"../plots/transfer_comparison/intraseason/{from_building}{from_tower}_to_{to_building}{to_tower}_mae_{season}.html\")\n",
    "\n",
    "\n",
    "\n",
    "    # PLOT PERFORMANCE IMPROVEMENT RATIO\n",
    "\n",
    "    pir = [[[(seed_rmses[0] - rmse) / seed_rmses[0] for rmse in seed_rmses] for seed_rmses in method_rmses] for method_rmses in rmse_list]\n",
    "\n",
    "    # Create a subplots figure with two subplots and set title\n",
    "    figfinal = make_subplots(rows=1, cols=2, subplot_titles=(\"Finetuning all layers (LSTM+Dense)\", \"Finetuning output layer only (Dense)\"))\n",
    "    figfinal.update_layout(\n",
    "        title=f\"{from_building} Tower {from_tower} to {to_building} Tower {to_tower}: Comparison of transfer methods (PIR)\",\n",
    "        showlegend=True\n",
    "    )\n",
    "\n",
    "    # Add traces to the subplots\n",
    "    for tranfer_method_i, tranfer_method in enumerate([\"(left)\", \"(right)\"]):\n",
    "        row = 1\n",
    "        col = tranfer_method_i + 1\n",
    "        for s, seed in enumerate(shuffle_seeds):\n",
    "            x = [fp * 100 for fp in ft_percents]\n",
    "            # add errors of transfers\n",
    "            figfinal.add_trace(\n",
    "                go.Scatter(\n",
    "                    x=x, \n",
    "                    y=pir[tranfer_method_i][s], \n",
    "                    name=f\"PIR seed-{seed} {tranfer_method}\"),\n",
    "                row=row, col=col\n",
    "            )\n",
    "        figfinal.update_xaxes(title_text=\"Finetuning data percentage\", row=row, col=col)\n",
    "        figfinal.update_yaxes(title_text=\"Performance improvement ratio\", row=row, col=col)\n",
    "\n",
    "    figfinal.show()\n",
    "    figfinal.write_html(f\"../plots/transfer_comparison/intraseason/{from_building}{from_tower}_to_{to_building}{to_tower}_pir_{season}.html\")"
   ]
  },
  {
   "attachments": {},
   "cell_type": "markdown",
   "metadata": {},
   "source": [
    "# Intra-season (Summer)"
   ]
  },
  {
   "cell_type": "code",
   "execution_count": null,
   "metadata": {},
   "outputs": [],
   "source": [
    "plot_multiseed_error_pir(ft_percents=ft_percents, from_building=\"ESB\", from_tower=1, to_building=\"Kissam\", to_tower=1, season=\"summer\")"
   ]
  },
  {
   "cell_type": "code",
   "execution_count": null,
   "metadata": {},
   "outputs": [],
   "source": [
    "plot_multiseed_error_pir(ft_percents=ft_percents, from_building=\"ESB\", from_tower=1, to_building=\"Kissam\", to_tower=2, season=\"summer\")"
   ]
  },
  {
   "cell_type": "code",
   "execution_count": null,
   "metadata": {},
   "outputs": [],
   "source": [
    "plot_multiseed_error_pir(ft_percents=ft_percents, from_building=\"ESB\", from_tower=2, to_building=\"Kissam\", to_tower=1, season=\"summer\")"
   ]
  },
  {
   "cell_type": "code",
   "execution_count": null,
   "metadata": {},
   "outputs": [],
   "source": [
    "plot_multiseed_error_pir(ft_percents=ft_percents, from_building=\"ESB\", from_tower=2, to_building=\"Kissam\", to_tower=2, season=\"summer\")"
   ]
  },
  {
   "cell_type": "code",
   "execution_count": null,
   "metadata": {},
   "outputs": [],
   "source": [
    "plot_multiseed_error_pir(ft_percents=ft_percents, from_building=\"Kissam\", from_tower=1, to_building=\"ESB\", to_tower=1, season=\"summer\")"
   ]
  },
  {
   "cell_type": "code",
   "execution_count": null,
   "metadata": {},
   "outputs": [],
   "source": [
    "plot_multiseed_error_pir(ft_percents=ft_percents, from_building=\"Kissam\", from_tower=1, to_building=\"ESB\", to_tower=2, season=\"summer\")"
   ]
  },
  {
   "cell_type": "code",
   "execution_count": null,
   "metadata": {},
   "outputs": [],
   "source": [
    "plot_multiseed_error_pir(ft_percents=ft_percents, from_building=\"Kissam\", from_tower=2, to_building=\"ESB\", to_tower=1, season=\"summer\")"
   ]
  },
  {
   "cell_type": "code",
   "execution_count": null,
   "metadata": {},
   "outputs": [],
   "source": [
    "plot_multiseed_error_pir(ft_percents=ft_percents, from_building=\"Kissam\", from_tower=2, to_building=\"ESB\", to_tower=2, season=\"summer\")"
   ]
  },
  {
   "attachments": {},
   "cell_type": "markdown",
   "metadata": {},
   "source": [
    "## --- Testing on MRB ---"
   ]
  },
  {
   "cell_type": "code",
   "execution_count": null,
   "metadata": {},
   "outputs": [],
   "source": [
    "plot_multiseed_error_pir(ft_percents=ft_percents, from_building=\"ESB\", from_tower=1, to_building=\"MRB\", to_tower=1, season=\"summer\")"
   ]
  },
  {
   "cell_type": "code",
   "execution_count": null,
   "metadata": {},
   "outputs": [],
   "source": [
    "plot_multiseed_error_pir(ft_percents=ft_percents, from_building=\"ESB\", from_tower=1, to_building=\"MRB\", to_tower=2, season=\"summer\")"
   ]
  },
  {
   "cell_type": "code",
   "execution_count": null,
   "metadata": {},
   "outputs": [],
   "source": [
    "plot_multiseed_error_pir(ft_percents=ft_percents, from_building=\"ESB\", from_tower=2, to_building=\"MRB\", to_tower=1, season=\"summer\")"
   ]
  },
  {
   "cell_type": "code",
   "execution_count": null,
   "metadata": {},
   "outputs": [],
   "source": [
    "plot_multiseed_error_pir(ft_percents=ft_percents, from_building=\"ESB\", from_tower=2, to_building=\"MRB\", to_tower=2, season=\"summer\")"
   ]
  },
  {
   "cell_type": "code",
   "execution_count": null,
   "metadata": {},
   "outputs": [],
   "source": [
    "plot_multiseed_error_pir(ft_percents=ft_percents, from_building=\"Kissam\", from_tower=1, to_building=\"MRB\", to_tower=1, season=\"summer\")"
   ]
  },
  {
   "cell_type": "code",
   "execution_count": null,
   "metadata": {},
   "outputs": [],
   "source": [
    "plot_multiseed_error_pir(ft_percents=ft_percents, from_building=\"Kissam\", from_tower=1, to_building=\"MRB\", to_tower=2, season=\"summer\")"
   ]
  },
  {
   "cell_type": "code",
   "execution_count": null,
   "metadata": {},
   "outputs": [],
   "source": [
    "plot_multiseed_error_pir(ft_percents=ft_percents, from_building=\"Kissam\", from_tower=2, to_building=\"MRB\", to_tower=1, season=\"summer\")"
   ]
  },
  {
   "cell_type": "code",
   "execution_count": null,
   "metadata": {},
   "outputs": [],
   "source": [
    "plot_multiseed_error_pir(ft_percents=ft_percents, from_building=\"Kissam\", from_tower=2, to_building=\"MRB\", to_tower=2, season=\"summer\")"
   ]
  }
 ],
 "metadata": {
  "kernelspec": {
   "display_name": "py38",
   "language": "python",
   "name": "python3"
  },
  "language_info": {
   "codemirror_mode": {
    "name": "ipython",
    "version": 3
   },
   "file_extension": ".py",
   "mimetype": "text/x-python",
   "name": "python",
   "nbconvert_exporter": "python",
   "pygments_lexer": "ipython3",
   "version": "3.8.16"
  },
  "orig_nbformat": 4
 },
 "nbformat": 4,
 "nbformat_minor": 2
}
