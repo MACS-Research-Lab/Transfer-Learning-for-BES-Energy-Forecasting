{
 "cells": [
  {
   "cell_type": "code",
   "execution_count": 1,
   "metadata": {},
   "outputs": [
    {
     "name": "stderr",
     "output_type": "stream",
     "text": [
      "2023-07-10 12:48:53.617631: I tensorflow/core/platform/cpu_feature_guard.cc:193] This TensorFlow binary is optimized with oneAPI Deep Neural Network Library (oneDNN) to use the following CPU instructions in performance-critical operations:  SSE4.1 SSE4.2\n",
      "To enable them in other operations, rebuild TensorFlow with the appropriate compiler flags.\n"
     ]
    }
   ],
   "source": [
    "import pandas as pd\n",
    "\n",
    "import plotly.express as px\n",
    "from plotly.subplots import make_subplots\n",
    "\n",
    "from typing import List\n",
    "\n",
    "import model_fe\n",
    "\n",
    "degree_sign = u'\\N{DEGREE SIGN}'"
   ]
  },
  {
   "cell_type": "code",
   "execution_count": 2,
   "metadata": {},
   "outputs": [],
   "source": [
    "ft_percents = [0.0, 0.2, 0.4, 0.6, 0.8]\n",
    "shuffle_seeds = [17, 42, 64, 76, 98]"
   ]
  },
  {
   "cell_type": "code",
   "execution_count": 3,
   "metadata": {},
   "outputs": [],
   "source": [
    "def plot_multiseed_error_pir(ft_percents: List[float], from_building: str, from_tower: int, to_building: str, season: str = None):\n",
    "    # MAKE PREDICTIONS AND PLOT TRENDS\n",
    "    rmse_list = []\n",
    "    # [tow-1] [seed index] [error]\n",
    "\n",
    "    for tow in range(1,3):\n",
    "        to_features = [f'{to_building}_Tower_{tow} enteringWaterTemp', f'{to_building}_Tower_{tow} outdoorAirDryBulb', f'{to_building}_Tower_{tow} outdoorAirWetBulb', f'{to_building}_Tower_{tow} vfdPercent', f'{to_building}_Tower_{tow} fanA_vfdPower', f'{to_building}_Tower_{tow} fanB_vfdPower', f'{to_building}_Tower_{tow} dayOfWeek', f'{to_building}_Tower_{tow} hourOfDay', f'{to_building}_Tower_{tow} efficiency']\n",
    "        to_target = f'{to_building}_Tower_{tow} leavingWaterTemp'\n",
    "        rmse_list.append([])\n",
    "\n",
    "        for s, seed in enumerate(shuffle_seeds):\n",
    "            rmse_list[tow-1].append([])\n",
    "\n",
    "            for ft_percent in ft_percents:\n",
    "                rmse, fig, mabs = model_fe.feature_extr_transfer(from_building_name=from_building, from_tower_number=from_tower, to_building_name=to_building, to_tower_number=tow, to_features=to_features, to_target=to_target, to_season=season, finetuning_percentage=ft_percent, display_results=False, use_delta=True, shuffle_seed=seed)\n",
    "                rmse_list[tow-1][s].append(rmse)\n",
    "\n",
    "\n",
    "    # PLOT ERROR GRADIENT\n",
    "\n",
    "    # tower 1: create a DataFrame and line graph using Plotly Express\n",
    "    print_df = pd.DataFrame({'finetuning data percentage': [fp*100 for fp in ft_percents], \n",
    "                                f'RMSE with seed {shuffle_seeds[0]}': rmse_list[0][0], \n",
    "                                f'RMSE with seed {shuffle_seeds[1]}': rmse_list[0][1],\n",
    "                                f'RMSE with seed {shuffle_seeds[2]}': rmse_list[0][2],\n",
    "                                f'RMSE with seed {shuffle_seeds[3]}': rmse_list[0][3],\n",
    "                                f'RMSE with seed {shuffle_seeds[4]}': rmse_list[0][4],})\n",
    "    fig1 = px.line(print_df, y=[f'RMSE with seed {seed}' for seed in shuffle_seeds], x=\"finetuning data percentage\", title='Errors')\n",
    "    # tower 2: create a DataFrame and line graph using Plotly Expres\n",
    "    print_df = pd.DataFrame({'finetuning data percentage': [fp*100 for fp in ft_percents], \n",
    "                                f'RMSE with seed {shuffle_seeds[0]}': rmse_list[0][0], \n",
    "                                f'RMSE with seed {shuffle_seeds[1]}': rmse_list[0][1],\n",
    "                                f'RMSE with seed {shuffle_seeds[2]}': rmse_list[0][2],\n",
    "                                f'RMSE with seed {shuffle_seeds[3]}': rmse_list[0][3],\n",
    "                                f'RMSE with seed {shuffle_seeds[4]}': rmse_list[0][4],})\n",
    "    fig2 = px.line(print_df, y=[f'RMSE with seed {seed}' for seed in shuffle_seeds], x=\"finetuning data percentage\", title='Errors')\n",
    "\n",
    "    figfinal = make_subplots(rows=1, cols=2)\n",
    "    for dt in fig1.data:\n",
    "        figfinal.add_trace(dt, row=1, col=1)\n",
    "    figfinal.update_xaxes(title_text=\"Finetuning data percentage\", row=1, col=1)\n",
    "    figfinal.update_yaxes(title_text=\"Error\", row=1, col=1)\n",
    "\n",
    "    for dt in fig2.data:\n",
    "        figfinal.add_trace(dt, row=1, col=2)\n",
    "    figfinal.add_trace(fig2.data[1], row=1, col=2)\n",
    "    figfinal.update_xaxes(title_text=\"Finetuning data percentage\", row=1, col=2)\n",
    "    figfinal.update_yaxes(title_text=\"Error\", row=1, col=2)\n",
    "\n",
    "    figfinal.update_layout(title_text=f\"{from_building} Tower {from_tower} to {to_building} Tower 1, {from_building} Tower {from_tower} to {to_building} Tower 2 ({season}) (feature extraction)\", showlegend=True)\n",
    "\n",
    "    figfinal.show()\n",
    "    figfinal.write_html(f\"../plots/feature_extraction/interbuilding_transfers/{from_building}{from_tower}_to_{to_building}_gradient_{season}.html\")\n",
    "\n",
    "    # PLOT PERFORMANCE IMPROVEMENT RATIO\n",
    "\n",
    "    pir = [[[(seed_rmses[0] - rmse) / seed_rmses[0] for rmse in seed_rmses] for seed_rmses in tower_rmses] for tower_rmses in rmse_list]\n",
    "\n",
    "    # tower 1: create a DataFrame and line graph using Plotly Express\n",
    "    print_df = pd.DataFrame({'finetuning data percentage': [fp*100 for fp in ft_percents], \n",
    "                                f'PIR with seed {shuffle_seeds[0]}': pir[0][0], \n",
    "                                f'PIR with seed {shuffle_seeds[1]}': pir[0][1],\n",
    "                                f'PIR with seed {shuffle_seeds[2]}': pir[0][2],\n",
    "                                f'PIR with seed {shuffle_seeds[3]}': pir[0][3],\n",
    "                                f'PIR with seed {shuffle_seeds[4]}': pir[0][4],})\n",
    "    fig1 = px.line(print_df, y=[f'PIR with seed {seed}' for seed in shuffle_seeds], x=\"finetuning data percentage\", title='Performance improvement ratio')\n",
    "\n",
    "    # tower 2: create a DataFrame and line graph using Plotly Expres\n",
    "    print_df = pd.DataFrame({'finetuning data percentage': [fp*100 for fp in ft_percents], \n",
    "                                f'PIR with seed {shuffle_seeds[0]}': pir[1][0], \n",
    "                                f'PIR with seed {shuffle_seeds[1]}': pir[1][1],\n",
    "                                f'PIR with seed {shuffle_seeds[2]}': pir[1][2],\n",
    "                                f'PIR with seed {shuffle_seeds[3]}': pir[1][3],\n",
    "                                f'PIR with seed {shuffle_seeds[4]}': pir[1][4],})\n",
    "    fig2 = px.line(print_df, y=[f'PIR with seed {seed}' for seed in shuffle_seeds], x=\"finetuning data percentage\", title='Performance improvement ratio')\n",
    "\n",
    "    figfinal = make_subplots(rows=1, cols=2)\n",
    "    for dt in fig1.data:\n",
    "        figfinal.add_trace(dt, row=1, col=1)\n",
    "    figfinal.update_xaxes(title_text=\"Finetuning data percentage\", row=1, col=1)\n",
    "    figfinal.update_yaxes(title_text=\"Performance improvement ratio\", row=1, col=1)\n",
    "\n",
    "    for dt in fig2.data:\n",
    "        figfinal.add_trace(dt, row=1, col=2)\n",
    "    figfinal.update_xaxes(title_text=\"Finetuning data percentage\", row=1, col=2)\n",
    "    figfinal.update_yaxes(title_text=\"Performance improvement ratio\", row=1, col=2)\n",
    "\n",
    "    figfinal.update_layout(title_text=f\"{from_building} Tower {from_tower} to {to_building} Tower 1, {from_building} Tower {from_tower} to {to_building} Tower 2 ({season}) (feature extraction)\", showlegend=True)\n",
    "\n",
    "    figfinal.show()\n",
    "    figfinal.write_html(f\"../plots/feature_extraction/interbuilding_transfers/{from_building}{from_tower}_to_{to_building}_pir_{season}.html\")"
   ]
  },
  {
   "cell_type": "code",
   "execution_count": 4,
   "metadata": {},
   "outputs": [
    {
     "name": "stdout",
     "output_type": "stream",
     "text": [
      "Tower 1 first temp: 79.07764434814453\n"
     ]
    },
    {
     "name": "stderr",
     "output_type": "stream",
     "text": [
      "2023-07-10 12:48:58.212178: I tensorflow/core/platform/cpu_feature_guard.cc:193] This TensorFlow binary is optimized with oneAPI Deep Neural Network Library (oneDNN) to use the following CPU instructions in performance-critical operations:  SSE4.1 SSE4.2\n",
      "To enable them in other operations, rebuild TensorFlow with the appropriate compiler flags.\n"
     ]
    },
    {
     "name": "stdout",
     "output_type": "stream",
     "text": [
      "803/803 [==============================] - 1s 991us/step\n",
      "Tower 1 first temp: 79.07764434814453\n",
      "finetuning_percentage: 0.2 vec_X_train.shape: (5138, 6, 10), vec_X_test.shape: (20555, 6, 10), vec_y_train.shape: (5138,), vec_y_test.shape: (20555,)\n",
      "643/643 [==============================] - 1s 939us/step\n",
      "Tower 1 first temp: 79.07764434814453\n",
      "finetuning_percentage: 0.4 vec_X_train.shape: (10277, 6, 10), vec_X_test.shape: (15416, 6, 10), vec_y_train.shape: (10277,), vec_y_test.shape: (15416,)\n",
      "482/482 [==============================] - 1s 1ms/step\n",
      "Tower 1 first temp: 79.07764434814453\n",
      "finetuning_percentage: 0.6 vec_X_train.shape: (15415, 6, 10), vec_X_test.shape: (10278, 6, 10), vec_y_train.shape: (15415,), vec_y_test.shape: (10278,)\n",
      "322/322 [==============================] - 1s 957us/step\n",
      "Tower 1 first temp: 79.07764434814453\n",
      "finetuning_percentage: 0.8 vec_X_train.shape: (20554, 6, 10), vec_X_test.shape: (5139, 6, 10), vec_y_train.shape: (20554,), vec_y_test.shape: (5139,)\n",
      "161/161 [==============================] - 1s 1ms/step\n",
      "Tower 1 first temp: 79.07764434814453\n",
      "803/803 [==============================] - 1s 954us/step\n",
      "Tower 1 first temp: 79.07764434814453\n",
      "finetuning_percentage: 0.2 vec_X_train.shape: (5138, 6, 10), vec_X_test.shape: (20555, 6, 10), vec_y_train.shape: (5138,), vec_y_test.shape: (20555,)\n",
      "643/643 [==============================] - 1s 991us/step\n",
      "Tower 1 first temp: 79.07764434814453\n",
      "finetuning_percentage: 0.4 vec_X_train.shape: (10277, 6, 10), vec_X_test.shape: (15416, 6, 10), vec_y_train.shape: (10277,), vec_y_test.shape: (15416,)\n",
      "482/482 [==============================] - 1s 952us/step\n",
      "Tower 1 first temp: 79.07764434814453\n",
      "finetuning_percentage: 0.6 vec_X_train.shape: (15415, 6, 10), vec_X_test.shape: (10278, 6, 10), vec_y_train.shape: (15415,), vec_y_test.shape: (10278,)\n",
      "322/322 [==============================] - 1s 1ms/step\n",
      "Tower 1 first temp: 79.07764434814453\n",
      "finetuning_percentage: 0.8 vec_X_train.shape: (20554, 6, 10), vec_X_test.shape: (5139, 6, 10), vec_y_train.shape: (20554,), vec_y_test.shape: (5139,)\n",
      "161/161 [==============================] - 0s 1ms/step\n",
      "Tower 1 first temp: 79.07764434814453\n",
      "803/803 [==============================] - 1s 1ms/step\n",
      "Tower 1 first temp: 79.07764434814453\n",
      "finetuning_percentage: 0.2 vec_X_train.shape: (5138, 6, 10), vec_X_test.shape: (20555, 6, 10), vec_y_train.shape: (5138,), vec_y_test.shape: (20555,)\n",
      "643/643 [==============================] - 1s 1ms/step\n",
      "Tower 1 first temp: 79.07764434814453\n",
      "finetuning_percentage: 0.4 vec_X_train.shape: (10277, 6, 10), vec_X_test.shape: (15416, 6, 10), vec_y_train.shape: (10277,), vec_y_test.shape: (15416,)\n",
      "482/482 [==============================] - 1s 1ms/step\n",
      "Tower 1 first temp: 79.07764434814453\n",
      "finetuning_percentage: 0.6 vec_X_train.shape: (15415, 6, 10), vec_X_test.shape: (10278, 6, 10), vec_y_train.shape: (15415,), vec_y_test.shape: (10278,)\n",
      "322/322 [==============================] - 1s 1ms/step\n",
      "Tower 1 first temp: 79.07764434814453\n",
      "finetuning_percentage: 0.8 vec_X_train.shape: (20554, 6, 10), vec_X_test.shape: (5139, 6, 10), vec_y_train.shape: (20554,), vec_y_test.shape: (5139,)\n",
      "161/161 [==============================] - 1s 1ms/step\n",
      "Tower 1 first temp: 79.07764434814453\n",
      "803/803 [==============================] - 1s 931us/step\n",
      "Tower 1 first temp: 79.07764434814453\n",
      "finetuning_percentage: 0.2 vec_X_train.shape: (5138, 6, 10), vec_X_test.shape: (20555, 6, 10), vec_y_train.shape: (5138,), vec_y_test.shape: (20555,)\n",
      "643/643 [==============================] - 1s 950us/step\n",
      "Tower 1 first temp: 79.07764434814453\n",
      "finetuning_percentage: 0.4 vec_X_train.shape: (10277, 6, 10), vec_X_test.shape: (15416, 6, 10), vec_y_train.shape: (10277,), vec_y_test.shape: (15416,)\n",
      "482/482 [==============================] - 1s 1ms/step\n",
      "Tower 1 first temp: 79.07764434814453\n",
      "finetuning_percentage: 0.6 vec_X_train.shape: (15415, 6, 10), vec_X_test.shape: (10278, 6, 10), vec_y_train.shape: (15415,), vec_y_test.shape: (10278,)\n",
      "322/322 [==============================] - 1s 973us/step\n",
      "Tower 1 first temp: 79.07764434814453\n",
      "finetuning_percentage: 0.8 vec_X_train.shape: (20554, 6, 10), vec_X_test.shape: (5139, 6, 10), vec_y_train.shape: (20554,), vec_y_test.shape: (5139,)\n",
      "161/161 [==============================] - 0s 992us/step\n",
      "Tower 1 first temp: 79.07764434814453\n",
      "803/803 [==============================] - 1s 947us/step\n",
      "Tower 1 first temp: 79.07764434814453\n",
      "finetuning_percentage: 0.2 vec_X_train.shape: (5138, 6, 10), vec_X_test.shape: (20555, 6, 10), vec_y_train.shape: (5138,), vec_y_test.shape: (20555,)\n",
      "643/643 [==============================] - 1s 1ms/step\n",
      "Tower 1 first temp: 79.07764434814453\n",
      "finetuning_percentage: 0.4 vec_X_train.shape: (10277, 6, 10), vec_X_test.shape: (15416, 6, 10), vec_y_train.shape: (10277,), vec_y_test.shape: (15416,)\n",
      "482/482 [==============================] - 2s 3ms/step\n",
      "Tower 1 first temp: 79.07764434814453\n",
      "finetuning_percentage: 0.6 vec_X_train.shape: (15415, 6, 10), vec_X_test.shape: (10278, 6, 10), vec_y_train.shape: (15415,), vec_y_test.shape: (10278,)\n",
      "322/322 [==============================] - 1s 2ms/step\n",
      "Tower 1 first temp: 79.07764434814453\n",
      "finetuning_percentage: 0.8 vec_X_train.shape: (20554, 6, 10), vec_X_test.shape: (5139, 6, 10), vec_y_train.shape: (20554,), vec_y_test.shape: (5139,)\n",
      "161/161 [==============================] - 0s 1ms/step\n",
      "Tower 2 first temp: 79.07764434814453\n",
      "804/804 [==============================] - 1s 1ms/step\n",
      "Tower 2 first temp: 79.07764434814453\n",
      "finetuning_percentage: 0.2 vec_X_train.shape: (5141, 6, 10), vec_X_test.shape: (20565, 6, 10), vec_y_train.shape: (5141,), vec_y_test.shape: (20565,)\n",
      "643/643 [==============================] - 1s 1ms/step\n",
      "Tower 2 first temp: 79.07764434814453\n",
      "finetuning_percentage: 0.4 vec_X_train.shape: (10282, 6, 10), vec_X_test.shape: (15424, 6, 10), vec_y_train.shape: (10282,), vec_y_test.shape: (15424,)\n",
      "482/482 [==============================] - 1s 1ms/step\n",
      "Tower 2 first temp: 79.07764434814453\n",
      "finetuning_percentage: 0.6 vec_X_train.shape: (15423, 6, 10), vec_X_test.shape: (10283, 6, 10), vec_y_train.shape: (15423,), vec_y_test.shape: (10283,)\n",
      "322/322 [==============================] - 1s 1ms/step\n",
      "Tower 2 first temp: 79.07764434814453\n",
      "finetuning_percentage: 0.8 vec_X_train.shape: (20564, 6, 10), vec_X_test.shape: (5142, 6, 10), vec_y_train.shape: (20564,), vec_y_test.shape: (5142,)\n",
      "161/161 [==============================] - 0s 987us/step\n",
      "Tower 2 first temp: 79.07764434814453\n",
      "804/804 [==============================] - 1s 922us/step\n",
      "Tower 2 first temp: 79.07764434814453\n",
      "finetuning_percentage: 0.2 vec_X_train.shape: (5141, 6, 10), vec_X_test.shape: (20565, 6, 10), vec_y_train.shape: (5141,), vec_y_test.shape: (20565,)\n",
      "643/643 [==============================] - 1s 976us/step\n",
      "Tower 2 first temp: 79.07764434814453\n",
      "finetuning_percentage: 0.4 vec_X_train.shape: (10282, 6, 10), vec_X_test.shape: (15424, 6, 10), vec_y_train.shape: (10282,), vec_y_test.shape: (15424,)\n",
      "482/482 [==============================] - 1s 972us/step\n",
      "Tower 2 first temp: 79.07764434814453\n",
      "finetuning_percentage: 0.6 vec_X_train.shape: (15423, 6, 10), vec_X_test.shape: (10283, 6, 10), vec_y_train.shape: (15423,), vec_y_test.shape: (10283,)\n",
      "322/322 [==============================] - 1s 953us/step\n",
      "Tower 2 first temp: 79.07764434814453\n",
      "finetuning_percentage: 0.8 vec_X_train.shape: (20564, 6, 10), vec_X_test.shape: (5142, 6, 10), vec_y_train.shape: (20564,), vec_y_test.shape: (5142,)\n",
      "161/161 [==============================] - 0s 1ms/step\n",
      "Tower 2 first temp: 79.07764434814453\n",
      "804/804 [==============================] - 1s 883us/step\n",
      "Tower 2 first temp: 79.07764434814453\n",
      "finetuning_percentage: 0.2 vec_X_train.shape: (5141, 6, 10), vec_X_test.shape: (20565, 6, 10), vec_y_train.shape: (5141,), vec_y_test.shape: (20565,)\n",
      "643/643 [==============================] - 1s 936us/step\n",
      "Tower 2 first temp: 79.07764434814453\n",
      "finetuning_percentage: 0.4 vec_X_train.shape: (10282, 6, 10), vec_X_test.shape: (15424, 6, 10), vec_y_train.shape: (10282,), vec_y_test.shape: (15424,)\n",
      "482/482 [==============================] - 1s 949us/step\n",
      "Tower 2 first temp: 79.07764434814453\n",
      "finetuning_percentage: 0.6 vec_X_train.shape: (15423, 6, 10), vec_X_test.shape: (10283, 6, 10), vec_y_train.shape: (15423,), vec_y_test.shape: (10283,)\n",
      "322/322 [==============================] - 1s 972us/step\n",
      "Tower 2 first temp: 79.07764434814453\n",
      "finetuning_percentage: 0.8 vec_X_train.shape: (20564, 6, 10), vec_X_test.shape: (5142, 6, 10), vec_y_train.shape: (20564,), vec_y_test.shape: (5142,)\n",
      "161/161 [==============================] - 0s 981us/step\n",
      "Tower 2 first temp: 79.07764434814453\n",
      "804/804 [==============================] - 1s 914us/step\n",
      "Tower 2 first temp: 79.07764434814453\n",
      "finetuning_percentage: 0.2 vec_X_train.shape: (5141, 6, 10), vec_X_test.shape: (20565, 6, 10), vec_y_train.shape: (5141,), vec_y_test.shape: (20565,)\n",
      "643/643 [==============================] - 1s 969us/step\n",
      "Tower 2 first temp: 79.07764434814453\n",
      "finetuning_percentage: 0.4 vec_X_train.shape: (10282, 6, 10), vec_X_test.shape: (15424, 6, 10), vec_y_train.shape: (10282,), vec_y_test.shape: (15424,)\n",
      "482/482 [==============================] - 1s 1ms/step\n",
      "Tower 2 first temp: 79.07764434814453\n",
      "finetuning_percentage: 0.6 vec_X_train.shape: (15423, 6, 10), vec_X_test.shape: (10283, 6, 10), vec_y_train.shape: (15423,), vec_y_test.shape: (10283,)\n",
      "322/322 [==============================] - 1s 1ms/step\n",
      "Tower 2 first temp: 79.07764434814453\n",
      "finetuning_percentage: 0.8 vec_X_train.shape: (20564, 6, 10), vec_X_test.shape: (5142, 6, 10), vec_y_train.shape: (20564,), vec_y_test.shape: (5142,)\n",
      "161/161 [==============================] - 0s 1ms/step\n",
      "Tower 2 first temp: 79.07764434814453\n",
      "804/804 [==============================] - 1s 1ms/step\n",
      "Tower 2 first temp: 79.07764434814453\n",
      "finetuning_percentage: 0.2 vec_X_train.shape: (5141, 6, 10), vec_X_test.shape: (20565, 6, 10), vec_y_train.shape: (5141,), vec_y_test.shape: (20565,)\n",
      "643/643 [==============================] - 1s 1ms/step\n",
      "Tower 2 first temp: 79.07764434814453\n",
      "finetuning_percentage: 0.4 vec_X_train.shape: (10282, 6, 10), vec_X_test.shape: (15424, 6, 10), vec_y_train.shape: (10282,), vec_y_test.shape: (15424,)\n",
      "482/482 [==============================] - 1s 986us/step\n",
      "Tower 2 first temp: 79.07764434814453\n",
      "finetuning_percentage: 0.6 vec_X_train.shape: (15423, 6, 10), vec_X_test.shape: (10283, 6, 10), vec_y_train.shape: (15423,), vec_y_test.shape: (10283,)\n",
      "322/322 [==============================] - 1s 1ms/step\n",
      "Tower 2 first temp: 79.07764434814453\n",
      "finetuning_percentage: 0.8 vec_X_train.shape: (20564, 6, 10), vec_X_test.shape: (5142, 6, 10), vec_y_train.shape: (20564,), vec_y_test.shape: (5142,)\n",
      "161/161 [==============================] - 0s 1ms/step\n"
     ]
    },
    {
     "data": {
      "application/vnd.plotly.v1+json": {
       "config": {
        "plotlyServerURL": "https://plot.ly"
       },
       "data": [
        {
         "hovertemplate": "variable=RMSE with seed 17<br>finetuning data percentage=%{x}<br>value=%{y}<extra></extra>",
         "legendgroup": "RMSE with seed 17",
         "line": {
          "color": "#636efa",
          "dash": "solid"
         },
         "marker": {
          "symbol": "circle"
         },
         "mode": "lines",
         "name": "RMSE with seed 17",
         "orientation": "v",
         "showlegend": true,
         "type": "scatter",
         "x": [
          0,
          20,
          40,
          60,
          80
         ],
         "xaxis": "x",
         "y": [
          1.6132809626091589,
          1.5856421188182628,
          1.5875894094631389,
          1.5929945378095998,
          1.6129750249512735
         ],
         "yaxis": "y"
        },
        {
         "hovertemplate": "variable=RMSE with seed 42<br>finetuning data percentage=%{x}<br>value=%{y}<extra></extra>",
         "legendgroup": "RMSE with seed 42",
         "line": {
          "color": "#EF553B",
          "dash": "solid"
         },
         "marker": {
          "symbol": "circle"
         },
         "mode": "lines",
         "name": "RMSE with seed 42",
         "orientation": "v",
         "showlegend": true,
         "type": "scatter",
         "x": [
          0,
          20,
          40,
          60,
          80
         ],
         "xaxis": "x",
         "y": [
          1.6132809626091589,
          1.5578734821080538,
          1.5693656094966315,
          1.5754033549533626,
          1.5511363729422127
         ],
         "yaxis": "y"
        },
        {
         "hovertemplate": "variable=RMSE with seed 64<br>finetuning data percentage=%{x}<br>value=%{y}<extra></extra>",
         "legendgroup": "RMSE with seed 64",
         "line": {
          "color": "#00cc96",
          "dash": "solid"
         },
         "marker": {
          "symbol": "circle"
         },
         "mode": "lines",
         "name": "RMSE with seed 64",
         "orientation": "v",
         "showlegend": true,
         "type": "scatter",
         "x": [
          0,
          20,
          40,
          60,
          80
         ],
         "xaxis": "x",
         "y": [
          1.6132809626091589,
          1.5372490348163819,
          1.5781421365118637,
          1.5874579761856618,
          1.6021397912456052
         ],
         "yaxis": "y"
        },
        {
         "hovertemplate": "variable=RMSE with seed 76<br>finetuning data percentage=%{x}<br>value=%{y}<extra></extra>",
         "legendgroup": "RMSE with seed 76",
         "line": {
          "color": "#ab63fa",
          "dash": "solid"
         },
         "marker": {
          "symbol": "circle"
         },
         "mode": "lines",
         "name": "RMSE with seed 76",
         "orientation": "v",
         "showlegend": true,
         "type": "scatter",
         "x": [
          0,
          20,
          40,
          60,
          80
         ],
         "xaxis": "x",
         "y": [
          1.6132809626091589,
          1.5668239279013256,
          1.5602693859721646,
          1.5951875392202146,
          1.6060493140895136
         ],
         "yaxis": "y"
        },
        {
         "hovertemplate": "variable=RMSE with seed 98<br>finetuning data percentage=%{x}<br>value=%{y}<extra></extra>",
         "legendgroup": "RMSE with seed 98",
         "line": {
          "color": "#FFA15A",
          "dash": "solid"
         },
         "marker": {
          "symbol": "circle"
         },
         "mode": "lines",
         "name": "RMSE with seed 98",
         "orientation": "v",
         "showlegend": true,
         "type": "scatter",
         "x": [
          0,
          20,
          40,
          60,
          80
         ],
         "xaxis": "x",
         "y": [
          1.6132809626091589,
          1.542840059300096,
          1.5500377105786274,
          1.590179718667224,
          1.6224549207099213
         ],
         "yaxis": "y"
        },
        {
         "hovertemplate": "variable=RMSE with seed 17<br>finetuning data percentage=%{x}<br>value=%{y}<extra></extra>",
         "legendgroup": "RMSE with seed 17",
         "line": {
          "color": "#636efa",
          "dash": "solid"
         },
         "marker": {
          "symbol": "circle"
         },
         "mode": "lines",
         "name": "RMSE with seed 17",
         "orientation": "v",
         "showlegend": true,
         "type": "scatter",
         "x": [
          0,
          20,
          40,
          60,
          80
         ],
         "xaxis": "x2",
         "y": [
          1.6132809626091589,
          1.5856421188182628,
          1.5875894094631389,
          1.5929945378095998,
          1.6129750249512735
         ],
         "yaxis": "y2"
        },
        {
         "hovertemplate": "variable=RMSE with seed 42<br>finetuning data percentage=%{x}<br>value=%{y}<extra></extra>",
         "legendgroup": "RMSE with seed 42",
         "line": {
          "color": "#EF553B",
          "dash": "solid"
         },
         "marker": {
          "symbol": "circle"
         },
         "mode": "lines",
         "name": "RMSE with seed 42",
         "orientation": "v",
         "showlegend": true,
         "type": "scatter",
         "x": [
          0,
          20,
          40,
          60,
          80
         ],
         "xaxis": "x2",
         "y": [
          1.6132809626091589,
          1.5578734821080538,
          1.5693656094966315,
          1.5754033549533626,
          1.5511363729422127
         ],
         "yaxis": "y2"
        },
        {
         "hovertemplate": "variable=RMSE with seed 64<br>finetuning data percentage=%{x}<br>value=%{y}<extra></extra>",
         "legendgroup": "RMSE with seed 64",
         "line": {
          "color": "#00cc96",
          "dash": "solid"
         },
         "marker": {
          "symbol": "circle"
         },
         "mode": "lines",
         "name": "RMSE with seed 64",
         "orientation": "v",
         "showlegend": true,
         "type": "scatter",
         "x": [
          0,
          20,
          40,
          60,
          80
         ],
         "xaxis": "x2",
         "y": [
          1.6132809626091589,
          1.5372490348163819,
          1.5781421365118637,
          1.5874579761856618,
          1.6021397912456052
         ],
         "yaxis": "y2"
        },
        {
         "hovertemplate": "variable=RMSE with seed 76<br>finetuning data percentage=%{x}<br>value=%{y}<extra></extra>",
         "legendgroup": "RMSE with seed 76",
         "line": {
          "color": "#ab63fa",
          "dash": "solid"
         },
         "marker": {
          "symbol": "circle"
         },
         "mode": "lines",
         "name": "RMSE with seed 76",
         "orientation": "v",
         "showlegend": true,
         "type": "scatter",
         "x": [
          0,
          20,
          40,
          60,
          80
         ],
         "xaxis": "x2",
         "y": [
          1.6132809626091589,
          1.5668239279013256,
          1.5602693859721646,
          1.5951875392202146,
          1.6060493140895136
         ],
         "yaxis": "y2"
        },
        {
         "hovertemplate": "variable=RMSE with seed 98<br>finetuning data percentage=%{x}<br>value=%{y}<extra></extra>",
         "legendgroup": "RMSE with seed 98",
         "line": {
          "color": "#FFA15A",
          "dash": "solid"
         },
         "marker": {
          "symbol": "circle"
         },
         "mode": "lines",
         "name": "RMSE with seed 98",
         "orientation": "v",
         "showlegend": true,
         "type": "scatter",
         "x": [
          0,
          20,
          40,
          60,
          80
         ],
         "xaxis": "x2",
         "y": [
          1.6132809626091589,
          1.542840059300096,
          1.5500377105786274,
          1.590179718667224,
          1.6224549207099213
         ],
         "yaxis": "y2"
        },
        {
         "hovertemplate": "variable=RMSE with seed 42<br>finetuning data percentage=%{x}<br>value=%{y}<extra></extra>",
         "legendgroup": "RMSE with seed 42",
         "line": {
          "color": "#EF553B",
          "dash": "solid"
         },
         "marker": {
          "symbol": "circle"
         },
         "mode": "lines",
         "name": "RMSE with seed 42",
         "orientation": "v",
         "showlegend": true,
         "type": "scatter",
         "x": [
          0,
          20,
          40,
          60,
          80
         ],
         "xaxis": "x2",
         "y": [
          1.6132809626091589,
          1.5578734821080538,
          1.5693656094966315,
          1.5754033549533626,
          1.5511363729422127
         ],
         "yaxis": "y2"
        }
       ],
       "layout": {
        "showlegend": true,
        "template": {
         "data": {
          "bar": [
           {
            "error_x": {
             "color": "#2a3f5f"
            },
            "error_y": {
             "color": "#2a3f5f"
            },
            "marker": {
             "line": {
              "color": "#E5ECF6",
              "width": 0.5
             },
             "pattern": {
              "fillmode": "overlay",
              "size": 10,
              "solidity": 0.2
             }
            },
            "type": "bar"
           }
          ],
          "barpolar": [
           {
            "marker": {
             "line": {
              "color": "#E5ECF6",
              "width": 0.5
             },
             "pattern": {
              "fillmode": "overlay",
              "size": 10,
              "solidity": 0.2
             }
            },
            "type": "barpolar"
           }
          ],
          "carpet": [
           {
            "aaxis": {
             "endlinecolor": "#2a3f5f",
             "gridcolor": "white",
             "linecolor": "white",
             "minorgridcolor": "white",
             "startlinecolor": "#2a3f5f"
            },
            "baxis": {
             "endlinecolor": "#2a3f5f",
             "gridcolor": "white",
             "linecolor": "white",
             "minorgridcolor": "white",
             "startlinecolor": "#2a3f5f"
            },
            "type": "carpet"
           }
          ],
          "choropleth": [
           {
            "colorbar": {
             "outlinewidth": 0,
             "ticks": ""
            },
            "type": "choropleth"
           }
          ],
          "contour": [
           {
            "colorbar": {
             "outlinewidth": 0,
             "ticks": ""
            },
            "colorscale": [
             [
              0,
              "#0d0887"
             ],
             [
              0.1111111111111111,
              "#46039f"
             ],
             [
              0.2222222222222222,
              "#7201a8"
             ],
             [
              0.3333333333333333,
              "#9c179e"
             ],
             [
              0.4444444444444444,
              "#bd3786"
             ],
             [
              0.5555555555555556,
              "#d8576b"
             ],
             [
              0.6666666666666666,
              "#ed7953"
             ],
             [
              0.7777777777777778,
              "#fb9f3a"
             ],
             [
              0.8888888888888888,
              "#fdca26"
             ],
             [
              1,
              "#f0f921"
             ]
            ],
            "type": "contour"
           }
          ],
          "contourcarpet": [
           {
            "colorbar": {
             "outlinewidth": 0,
             "ticks": ""
            },
            "type": "contourcarpet"
           }
          ],
          "heatmap": [
           {
            "colorbar": {
             "outlinewidth": 0,
             "ticks": ""
            },
            "colorscale": [
             [
              0,
              "#0d0887"
             ],
             [
              0.1111111111111111,
              "#46039f"
             ],
             [
              0.2222222222222222,
              "#7201a8"
             ],
             [
              0.3333333333333333,
              "#9c179e"
             ],
             [
              0.4444444444444444,
              "#bd3786"
             ],
             [
              0.5555555555555556,
              "#d8576b"
             ],
             [
              0.6666666666666666,
              "#ed7953"
             ],
             [
              0.7777777777777778,
              "#fb9f3a"
             ],
             [
              0.8888888888888888,
              "#fdca26"
             ],
             [
              1,
              "#f0f921"
             ]
            ],
            "type": "heatmap"
           }
          ],
          "heatmapgl": [
           {
            "colorbar": {
             "outlinewidth": 0,
             "ticks": ""
            },
            "colorscale": [
             [
              0,
              "#0d0887"
             ],
             [
              0.1111111111111111,
              "#46039f"
             ],
             [
              0.2222222222222222,
              "#7201a8"
             ],
             [
              0.3333333333333333,
              "#9c179e"
             ],
             [
              0.4444444444444444,
              "#bd3786"
             ],
             [
              0.5555555555555556,
              "#d8576b"
             ],
             [
              0.6666666666666666,
              "#ed7953"
             ],
             [
              0.7777777777777778,
              "#fb9f3a"
             ],
             [
              0.8888888888888888,
              "#fdca26"
             ],
             [
              1,
              "#f0f921"
             ]
            ],
            "type": "heatmapgl"
           }
          ],
          "histogram": [
           {
            "marker": {
             "pattern": {
              "fillmode": "overlay",
              "size": 10,
              "solidity": 0.2
             }
            },
            "type": "histogram"
           }
          ],
          "histogram2d": [
           {
            "colorbar": {
             "outlinewidth": 0,
             "ticks": ""
            },
            "colorscale": [
             [
              0,
              "#0d0887"
             ],
             [
              0.1111111111111111,
              "#46039f"
             ],
             [
              0.2222222222222222,
              "#7201a8"
             ],
             [
              0.3333333333333333,
              "#9c179e"
             ],
             [
              0.4444444444444444,
              "#bd3786"
             ],
             [
              0.5555555555555556,
              "#d8576b"
             ],
             [
              0.6666666666666666,
              "#ed7953"
             ],
             [
              0.7777777777777778,
              "#fb9f3a"
             ],
             [
              0.8888888888888888,
              "#fdca26"
             ],
             [
              1,
              "#f0f921"
             ]
            ],
            "type": "histogram2d"
           }
          ],
          "histogram2dcontour": [
           {
            "colorbar": {
             "outlinewidth": 0,
             "ticks": ""
            },
            "colorscale": [
             [
              0,
              "#0d0887"
             ],
             [
              0.1111111111111111,
              "#46039f"
             ],
             [
              0.2222222222222222,
              "#7201a8"
             ],
             [
              0.3333333333333333,
              "#9c179e"
             ],
             [
              0.4444444444444444,
              "#bd3786"
             ],
             [
              0.5555555555555556,
              "#d8576b"
             ],
             [
              0.6666666666666666,
              "#ed7953"
             ],
             [
              0.7777777777777778,
              "#fb9f3a"
             ],
             [
              0.8888888888888888,
              "#fdca26"
             ],
             [
              1,
              "#f0f921"
             ]
            ],
            "type": "histogram2dcontour"
           }
          ],
          "mesh3d": [
           {
            "colorbar": {
             "outlinewidth": 0,
             "ticks": ""
            },
            "type": "mesh3d"
           }
          ],
          "parcoords": [
           {
            "line": {
             "colorbar": {
              "outlinewidth": 0,
              "ticks": ""
             }
            },
            "type": "parcoords"
           }
          ],
          "pie": [
           {
            "automargin": true,
            "type": "pie"
           }
          ],
          "scatter": [
           {
            "fillpattern": {
             "fillmode": "overlay",
             "size": 10,
             "solidity": 0.2
            },
            "type": "scatter"
           }
          ],
          "scatter3d": [
           {
            "line": {
             "colorbar": {
              "outlinewidth": 0,
              "ticks": ""
             }
            },
            "marker": {
             "colorbar": {
              "outlinewidth": 0,
              "ticks": ""
             }
            },
            "type": "scatter3d"
           }
          ],
          "scattercarpet": [
           {
            "marker": {
             "colorbar": {
              "outlinewidth": 0,
              "ticks": ""
             }
            },
            "type": "scattercarpet"
           }
          ],
          "scattergeo": [
           {
            "marker": {
             "colorbar": {
              "outlinewidth": 0,
              "ticks": ""
             }
            },
            "type": "scattergeo"
           }
          ],
          "scattergl": [
           {
            "marker": {
             "colorbar": {
              "outlinewidth": 0,
              "ticks": ""
             }
            },
            "type": "scattergl"
           }
          ],
          "scattermapbox": [
           {
            "marker": {
             "colorbar": {
              "outlinewidth": 0,
              "ticks": ""
             }
            },
            "type": "scattermapbox"
           }
          ],
          "scatterpolar": [
           {
            "marker": {
             "colorbar": {
              "outlinewidth": 0,
              "ticks": ""
             }
            },
            "type": "scatterpolar"
           }
          ],
          "scatterpolargl": [
           {
            "marker": {
             "colorbar": {
              "outlinewidth": 0,
              "ticks": ""
             }
            },
            "type": "scatterpolargl"
           }
          ],
          "scatterternary": [
           {
            "marker": {
             "colorbar": {
              "outlinewidth": 0,
              "ticks": ""
             }
            },
            "type": "scatterternary"
           }
          ],
          "surface": [
           {
            "colorbar": {
             "outlinewidth": 0,
             "ticks": ""
            },
            "colorscale": [
             [
              0,
              "#0d0887"
             ],
             [
              0.1111111111111111,
              "#46039f"
             ],
             [
              0.2222222222222222,
              "#7201a8"
             ],
             [
              0.3333333333333333,
              "#9c179e"
             ],
             [
              0.4444444444444444,
              "#bd3786"
             ],
             [
              0.5555555555555556,
              "#d8576b"
             ],
             [
              0.6666666666666666,
              "#ed7953"
             ],
             [
              0.7777777777777778,
              "#fb9f3a"
             ],
             [
              0.8888888888888888,
              "#fdca26"
             ],
             [
              1,
              "#f0f921"
             ]
            ],
            "type": "surface"
           }
          ],
          "table": [
           {
            "cells": {
             "fill": {
              "color": "#EBF0F8"
             },
             "line": {
              "color": "white"
             }
            },
            "header": {
             "fill": {
              "color": "#C8D4E3"
             },
             "line": {
              "color": "white"
             }
            },
            "type": "table"
           }
          ]
         },
         "layout": {
          "annotationdefaults": {
           "arrowcolor": "#2a3f5f",
           "arrowhead": 0,
           "arrowwidth": 1
          },
          "autotypenumbers": "strict",
          "coloraxis": {
           "colorbar": {
            "outlinewidth": 0,
            "ticks": ""
           }
          },
          "colorscale": {
           "diverging": [
            [
             0,
             "#8e0152"
            ],
            [
             0.1,
             "#c51b7d"
            ],
            [
             0.2,
             "#de77ae"
            ],
            [
             0.3,
             "#f1b6da"
            ],
            [
             0.4,
             "#fde0ef"
            ],
            [
             0.5,
             "#f7f7f7"
            ],
            [
             0.6,
             "#e6f5d0"
            ],
            [
             0.7,
             "#b8e186"
            ],
            [
             0.8,
             "#7fbc41"
            ],
            [
             0.9,
             "#4d9221"
            ],
            [
             1,
             "#276419"
            ]
           ],
           "sequential": [
            [
             0,
             "#0d0887"
            ],
            [
             0.1111111111111111,
             "#46039f"
            ],
            [
             0.2222222222222222,
             "#7201a8"
            ],
            [
             0.3333333333333333,
             "#9c179e"
            ],
            [
             0.4444444444444444,
             "#bd3786"
            ],
            [
             0.5555555555555556,
             "#d8576b"
            ],
            [
             0.6666666666666666,
             "#ed7953"
            ],
            [
             0.7777777777777778,
             "#fb9f3a"
            ],
            [
             0.8888888888888888,
             "#fdca26"
            ],
            [
             1,
             "#f0f921"
            ]
           ],
           "sequentialminus": [
            [
             0,
             "#0d0887"
            ],
            [
             0.1111111111111111,
             "#46039f"
            ],
            [
             0.2222222222222222,
             "#7201a8"
            ],
            [
             0.3333333333333333,
             "#9c179e"
            ],
            [
             0.4444444444444444,
             "#bd3786"
            ],
            [
             0.5555555555555556,
             "#d8576b"
            ],
            [
             0.6666666666666666,
             "#ed7953"
            ],
            [
             0.7777777777777778,
             "#fb9f3a"
            ],
            [
             0.8888888888888888,
             "#fdca26"
            ],
            [
             1,
             "#f0f921"
            ]
           ]
          },
          "colorway": [
           "#636efa",
           "#EF553B",
           "#00cc96",
           "#ab63fa",
           "#FFA15A",
           "#19d3f3",
           "#FF6692",
           "#B6E880",
           "#FF97FF",
           "#FECB52"
          ],
          "font": {
           "color": "#2a3f5f"
          },
          "geo": {
           "bgcolor": "white",
           "lakecolor": "white",
           "landcolor": "#E5ECF6",
           "showlakes": true,
           "showland": true,
           "subunitcolor": "white"
          },
          "hoverlabel": {
           "align": "left"
          },
          "hovermode": "closest",
          "mapbox": {
           "style": "light"
          },
          "paper_bgcolor": "white",
          "plot_bgcolor": "#E5ECF6",
          "polar": {
           "angularaxis": {
            "gridcolor": "white",
            "linecolor": "white",
            "ticks": ""
           },
           "bgcolor": "#E5ECF6",
           "radialaxis": {
            "gridcolor": "white",
            "linecolor": "white",
            "ticks": ""
           }
          },
          "scene": {
           "xaxis": {
            "backgroundcolor": "#E5ECF6",
            "gridcolor": "white",
            "gridwidth": 2,
            "linecolor": "white",
            "showbackground": true,
            "ticks": "",
            "zerolinecolor": "white"
           },
           "yaxis": {
            "backgroundcolor": "#E5ECF6",
            "gridcolor": "white",
            "gridwidth": 2,
            "linecolor": "white",
            "showbackground": true,
            "ticks": "",
            "zerolinecolor": "white"
           },
           "zaxis": {
            "backgroundcolor": "#E5ECF6",
            "gridcolor": "white",
            "gridwidth": 2,
            "linecolor": "white",
            "showbackground": true,
            "ticks": "",
            "zerolinecolor": "white"
           }
          },
          "shapedefaults": {
           "line": {
            "color": "#2a3f5f"
           }
          },
          "ternary": {
           "aaxis": {
            "gridcolor": "white",
            "linecolor": "white",
            "ticks": ""
           },
           "baxis": {
            "gridcolor": "white",
            "linecolor": "white",
            "ticks": ""
           },
           "bgcolor": "#E5ECF6",
           "caxis": {
            "gridcolor": "white",
            "linecolor": "white",
            "ticks": ""
           }
          },
          "title": {
           "x": 0.05
          },
          "xaxis": {
           "automargin": true,
           "gridcolor": "white",
           "linecolor": "white",
           "ticks": "",
           "title": {
            "standoff": 15
           },
           "zerolinecolor": "white",
           "zerolinewidth": 2
          },
          "yaxis": {
           "automargin": true,
           "gridcolor": "white",
           "linecolor": "white",
           "ticks": "",
           "title": {
            "standoff": 15
           },
           "zerolinecolor": "white",
           "zerolinewidth": 2
          }
         }
        },
        "title": {
         "text": "ESB Tower 1 to Kissam Tower 1, ESB Tower 1 to Kissam Tower 2 (summer) (feature extraction)"
        },
        "xaxis": {
         "anchor": "y",
         "domain": [
          0,
          0.45
         ],
         "title": {
          "text": "Finetuning data percentage"
         }
        },
        "xaxis2": {
         "anchor": "y2",
         "domain": [
          0.55,
          1
         ],
         "title": {
          "text": "Finetuning data percentage"
         }
        },
        "yaxis": {
         "anchor": "x",
         "domain": [
          0,
          1
         ],
         "title": {
          "text": "Error"
         }
        },
        "yaxis2": {
         "anchor": "x2",
         "domain": [
          0,
          1
         ],
         "title": {
          "text": "Error"
         }
        }
       }
      }
     },
     "metadata": {},
     "output_type": "display_data"
    },
    {
     "data": {
      "application/vnd.plotly.v1+json": {
       "config": {
        "plotlyServerURL": "https://plot.ly"
       },
       "data": [
        {
         "hovertemplate": "variable=PIR with seed 17<br>finetuning data percentage=%{x}<br>value=%{y}<extra></extra>",
         "legendgroup": "PIR with seed 17",
         "line": {
          "color": "#636efa",
          "dash": "solid"
         },
         "marker": {
          "symbol": "circle"
         },
         "mode": "lines",
         "name": "PIR with seed 17",
         "orientation": "v",
         "showlegend": true,
         "type": "scatter",
         "x": [
          0,
          20,
          40,
          60,
          80
         ],
         "xaxis": "x",
         "y": [
          0,
          0.017132070873876675,
          0.015925033358398444,
          0.012574638435421615,
          0.00018963693552209452
         ],
         "yaxis": "y"
        },
        {
         "hovertemplate": "variable=PIR with seed 42<br>finetuning data percentage=%{x}<br>value=%{y}<extra></extra>",
         "legendgroup": "PIR with seed 42",
         "line": {
          "color": "#EF553B",
          "dash": "solid"
         },
         "marker": {
          "symbol": "circle"
         },
         "mode": "lines",
         "name": "PIR with seed 42",
         "orientation": "v",
         "showlegend": true,
         "type": "scatter",
         "x": [
          0,
          20,
          40,
          60,
          80
         ],
         "xaxis": "x",
         "y": [
          0,
          0.03434459451594508,
          0.0272211438245097,
          0.02347861812894441,
          0.03852062418590728
         ],
         "yaxis": "y"
        },
        {
         "hovertemplate": "variable=PIR with seed 64<br>finetuning data percentage=%{x}<br>value=%{y}<extra></extra>",
         "legendgroup": "PIR with seed 64",
         "line": {
          "color": "#00cc96",
          "dash": "solid"
         },
         "marker": {
          "symbol": "circle"
         },
         "mode": "lines",
         "name": "PIR with seed 64",
         "orientation": "v",
         "showlegend": true,
         "type": "scatter",
         "x": [
          0,
          20,
          40,
          60,
          80
         ],
         "xaxis": "x",
         "y": [
          0,
          0.04712875782641766,
          0.021780971146194594,
          0.016006502910524408,
          0.006905908903514874
         ],
         "yaxis": "y"
        },
        {
         "hovertemplate": "variable=PIR with seed 76<br>finetuning data percentage=%{x}<br>value=%{y}<extra></extra>",
         "legendgroup": "PIR with seed 76",
         "line": {
          "color": "#ab63fa",
          "dash": "solid"
         },
         "marker": {
          "symbol": "circle"
         },
         "mode": "lines",
         "name": "PIR with seed 76",
         "orientation": "v",
         "showlegend": true,
         "type": "scatter",
         "x": [
          0,
          20,
          40,
          60,
          80
         ],
         "xaxis": "x",
         "y": [
          0,
          0.028796617442691626,
          0.03285948192883816,
          0.011215295914532937,
          0.0044825722780175645
         ],
         "yaxis": "y"
        },
        {
         "hovertemplate": "variable=PIR with seed 98<br>finetuning data percentage=%{x}<br>value=%{y}<extra></extra>",
         "legendgroup": "PIR with seed 98",
         "line": {
          "color": "#FFA15A",
          "dash": "solid"
         },
         "marker": {
          "symbol": "circle"
         },
         "mode": "lines",
         "name": "PIR with seed 98",
         "orientation": "v",
         "showlegend": true,
         "type": "scatter",
         "x": [
          0,
          20,
          40,
          60,
          80
         ],
         "xaxis": "x",
         "y": [
          0,
          0.04366313428451972,
          0.03920163536068026,
          0.014319417681947524,
          -0.0056865222570564155
         ],
         "yaxis": "y"
        },
        {
         "hovertemplate": "variable=PIR with seed 17<br>finetuning data percentage=%{x}<br>value=%{y}<extra></extra>",
         "legendgroup": "PIR with seed 17",
         "line": {
          "color": "#636efa",
          "dash": "solid"
         },
         "marker": {
          "symbol": "circle"
         },
         "mode": "lines",
         "name": "PIR with seed 17",
         "orientation": "v",
         "showlegend": true,
         "type": "scatter",
         "x": [
          0,
          20,
          40,
          60,
          80
         ],
         "xaxis": "x2",
         "y": [
          0,
          0.047870615454077725,
          0.033153320807931166,
          0.005072866529513818,
          -0.0012879177497464825
         ],
         "yaxis": "y2"
        },
        {
         "hovertemplate": "variable=PIR with seed 42<br>finetuning data percentage=%{x}<br>value=%{y}<extra></extra>",
         "legendgroup": "PIR with seed 42",
         "line": {
          "color": "#EF553B",
          "dash": "solid"
         },
         "marker": {
          "symbol": "circle"
         },
         "mode": "lines",
         "name": "PIR with seed 42",
         "orientation": "v",
         "showlegend": true,
         "type": "scatter",
         "x": [
          0,
          20,
          40,
          60,
          80
         ],
         "xaxis": "x2",
         "y": [
          0,
          0.04564981207398908,
          0.03308273930084802,
          0.028968613574174518,
          0.04080481951692948
         ],
         "yaxis": "y2"
        },
        {
         "hovertemplate": "variable=PIR with seed 64<br>finetuning data percentage=%{x}<br>value=%{y}<extra></extra>",
         "legendgroup": "PIR with seed 64",
         "line": {
          "color": "#00cc96",
          "dash": "solid"
         },
         "marker": {
          "symbol": "circle"
         },
         "mode": "lines",
         "name": "PIR with seed 64",
         "orientation": "v",
         "showlegend": true,
         "type": "scatter",
         "x": [
          0,
          20,
          40,
          60,
          80
         ],
         "xaxis": "x2",
         "y": [
          0,
          0.02975826160247542,
          0.03450164612215342,
          0.03329837226015471,
          0.03066838979197381
         ],
         "yaxis": "y2"
        },
        {
         "hovertemplate": "variable=PIR with seed 76<br>finetuning data percentage=%{x}<br>value=%{y}<extra></extra>",
         "legendgroup": "PIR with seed 76",
         "line": {
          "color": "#ab63fa",
          "dash": "solid"
         },
         "marker": {
          "symbol": "circle"
         },
         "mode": "lines",
         "name": "PIR with seed 76",
         "orientation": "v",
         "showlegend": true,
         "type": "scatter",
         "x": [
          0,
          20,
          40,
          60,
          80
         ],
         "xaxis": "x2",
         "y": [
          0,
          0.04257910584481449,
          0.026030690836051813,
          0.015330899461981089,
          0.015257355869505664
         ],
         "yaxis": "y2"
        },
        {
         "hovertemplate": "variable=PIR with seed 98<br>finetuning data percentage=%{x}<br>value=%{y}<extra></extra>",
         "legendgroup": "PIR with seed 98",
         "line": {
          "color": "#FFA15A",
          "dash": "solid"
         },
         "marker": {
          "symbol": "circle"
         },
         "mode": "lines",
         "name": "PIR with seed 98",
         "orientation": "v",
         "showlegend": true,
         "type": "scatter",
         "x": [
          0,
          20,
          40,
          60,
          80
         ],
         "xaxis": "x2",
         "y": [
          0,
          0.03946015428048918,
          0.03702181875211192,
          0.01913198652261442,
          -0.00648444465455647
         ],
         "yaxis": "y2"
        }
       ],
       "layout": {
        "showlegend": true,
        "template": {
         "data": {
          "bar": [
           {
            "error_x": {
             "color": "#2a3f5f"
            },
            "error_y": {
             "color": "#2a3f5f"
            },
            "marker": {
             "line": {
              "color": "#E5ECF6",
              "width": 0.5
             },
             "pattern": {
              "fillmode": "overlay",
              "size": 10,
              "solidity": 0.2
             }
            },
            "type": "bar"
           }
          ],
          "barpolar": [
           {
            "marker": {
             "line": {
              "color": "#E5ECF6",
              "width": 0.5
             },
             "pattern": {
              "fillmode": "overlay",
              "size": 10,
              "solidity": 0.2
             }
            },
            "type": "barpolar"
           }
          ],
          "carpet": [
           {
            "aaxis": {
             "endlinecolor": "#2a3f5f",
             "gridcolor": "white",
             "linecolor": "white",
             "minorgridcolor": "white",
             "startlinecolor": "#2a3f5f"
            },
            "baxis": {
             "endlinecolor": "#2a3f5f",
             "gridcolor": "white",
             "linecolor": "white",
             "minorgridcolor": "white",
             "startlinecolor": "#2a3f5f"
            },
            "type": "carpet"
           }
          ],
          "choropleth": [
           {
            "colorbar": {
             "outlinewidth": 0,
             "ticks": ""
            },
            "type": "choropleth"
           }
          ],
          "contour": [
           {
            "colorbar": {
             "outlinewidth": 0,
             "ticks": ""
            },
            "colorscale": [
             [
              0,
              "#0d0887"
             ],
             [
              0.1111111111111111,
              "#46039f"
             ],
             [
              0.2222222222222222,
              "#7201a8"
             ],
             [
              0.3333333333333333,
              "#9c179e"
             ],
             [
              0.4444444444444444,
              "#bd3786"
             ],
             [
              0.5555555555555556,
              "#d8576b"
             ],
             [
              0.6666666666666666,
              "#ed7953"
             ],
             [
              0.7777777777777778,
              "#fb9f3a"
             ],
             [
              0.8888888888888888,
              "#fdca26"
             ],
             [
              1,
              "#f0f921"
             ]
            ],
            "type": "contour"
           }
          ],
          "contourcarpet": [
           {
            "colorbar": {
             "outlinewidth": 0,
             "ticks": ""
            },
            "type": "contourcarpet"
           }
          ],
          "heatmap": [
           {
            "colorbar": {
             "outlinewidth": 0,
             "ticks": ""
            },
            "colorscale": [
             [
              0,
              "#0d0887"
             ],
             [
              0.1111111111111111,
              "#46039f"
             ],
             [
              0.2222222222222222,
              "#7201a8"
             ],
             [
              0.3333333333333333,
              "#9c179e"
             ],
             [
              0.4444444444444444,
              "#bd3786"
             ],
             [
              0.5555555555555556,
              "#d8576b"
             ],
             [
              0.6666666666666666,
              "#ed7953"
             ],
             [
              0.7777777777777778,
              "#fb9f3a"
             ],
             [
              0.8888888888888888,
              "#fdca26"
             ],
             [
              1,
              "#f0f921"
             ]
            ],
            "type": "heatmap"
           }
          ],
          "heatmapgl": [
           {
            "colorbar": {
             "outlinewidth": 0,
             "ticks": ""
            },
            "colorscale": [
             [
              0,
              "#0d0887"
             ],
             [
              0.1111111111111111,
              "#46039f"
             ],
             [
              0.2222222222222222,
              "#7201a8"
             ],
             [
              0.3333333333333333,
              "#9c179e"
             ],
             [
              0.4444444444444444,
              "#bd3786"
             ],
             [
              0.5555555555555556,
              "#d8576b"
             ],
             [
              0.6666666666666666,
              "#ed7953"
             ],
             [
              0.7777777777777778,
              "#fb9f3a"
             ],
             [
              0.8888888888888888,
              "#fdca26"
             ],
             [
              1,
              "#f0f921"
             ]
            ],
            "type": "heatmapgl"
           }
          ],
          "histogram": [
           {
            "marker": {
             "pattern": {
              "fillmode": "overlay",
              "size": 10,
              "solidity": 0.2
             }
            },
            "type": "histogram"
           }
          ],
          "histogram2d": [
           {
            "colorbar": {
             "outlinewidth": 0,
             "ticks": ""
            },
            "colorscale": [
             [
              0,
              "#0d0887"
             ],
             [
              0.1111111111111111,
              "#46039f"
             ],
             [
              0.2222222222222222,
              "#7201a8"
             ],
             [
              0.3333333333333333,
              "#9c179e"
             ],
             [
              0.4444444444444444,
              "#bd3786"
             ],
             [
              0.5555555555555556,
              "#d8576b"
             ],
             [
              0.6666666666666666,
              "#ed7953"
             ],
             [
              0.7777777777777778,
              "#fb9f3a"
             ],
             [
              0.8888888888888888,
              "#fdca26"
             ],
             [
              1,
              "#f0f921"
             ]
            ],
            "type": "histogram2d"
           }
          ],
          "histogram2dcontour": [
           {
            "colorbar": {
             "outlinewidth": 0,
             "ticks": ""
            },
            "colorscale": [
             [
              0,
              "#0d0887"
             ],
             [
              0.1111111111111111,
              "#46039f"
             ],
             [
              0.2222222222222222,
              "#7201a8"
             ],
             [
              0.3333333333333333,
              "#9c179e"
             ],
             [
              0.4444444444444444,
              "#bd3786"
             ],
             [
              0.5555555555555556,
              "#d8576b"
             ],
             [
              0.6666666666666666,
              "#ed7953"
             ],
             [
              0.7777777777777778,
              "#fb9f3a"
             ],
             [
              0.8888888888888888,
              "#fdca26"
             ],
             [
              1,
              "#f0f921"
             ]
            ],
            "type": "histogram2dcontour"
           }
          ],
          "mesh3d": [
           {
            "colorbar": {
             "outlinewidth": 0,
             "ticks": ""
            },
            "type": "mesh3d"
           }
          ],
          "parcoords": [
           {
            "line": {
             "colorbar": {
              "outlinewidth": 0,
              "ticks": ""
             }
            },
            "type": "parcoords"
           }
          ],
          "pie": [
           {
            "automargin": true,
            "type": "pie"
           }
          ],
          "scatter": [
           {
            "fillpattern": {
             "fillmode": "overlay",
             "size": 10,
             "solidity": 0.2
            },
            "type": "scatter"
           }
          ],
          "scatter3d": [
           {
            "line": {
             "colorbar": {
              "outlinewidth": 0,
              "ticks": ""
             }
            },
            "marker": {
             "colorbar": {
              "outlinewidth": 0,
              "ticks": ""
             }
            },
            "type": "scatter3d"
           }
          ],
          "scattercarpet": [
           {
            "marker": {
             "colorbar": {
              "outlinewidth": 0,
              "ticks": ""
             }
            },
            "type": "scattercarpet"
           }
          ],
          "scattergeo": [
           {
            "marker": {
             "colorbar": {
              "outlinewidth": 0,
              "ticks": ""
             }
            },
            "type": "scattergeo"
           }
          ],
          "scattergl": [
           {
            "marker": {
             "colorbar": {
              "outlinewidth": 0,
              "ticks": ""
             }
            },
            "type": "scattergl"
           }
          ],
          "scattermapbox": [
           {
            "marker": {
             "colorbar": {
              "outlinewidth": 0,
              "ticks": ""
             }
            },
            "type": "scattermapbox"
           }
          ],
          "scatterpolar": [
           {
            "marker": {
             "colorbar": {
              "outlinewidth": 0,
              "ticks": ""
             }
            },
            "type": "scatterpolar"
           }
          ],
          "scatterpolargl": [
           {
            "marker": {
             "colorbar": {
              "outlinewidth": 0,
              "ticks": ""
             }
            },
            "type": "scatterpolargl"
           }
          ],
          "scatterternary": [
           {
            "marker": {
             "colorbar": {
              "outlinewidth": 0,
              "ticks": ""
             }
            },
            "type": "scatterternary"
           }
          ],
          "surface": [
           {
            "colorbar": {
             "outlinewidth": 0,
             "ticks": ""
            },
            "colorscale": [
             [
              0,
              "#0d0887"
             ],
             [
              0.1111111111111111,
              "#46039f"
             ],
             [
              0.2222222222222222,
              "#7201a8"
             ],
             [
              0.3333333333333333,
              "#9c179e"
             ],
             [
              0.4444444444444444,
              "#bd3786"
             ],
             [
              0.5555555555555556,
              "#d8576b"
             ],
             [
              0.6666666666666666,
              "#ed7953"
             ],
             [
              0.7777777777777778,
              "#fb9f3a"
             ],
             [
              0.8888888888888888,
              "#fdca26"
             ],
             [
              1,
              "#f0f921"
             ]
            ],
            "type": "surface"
           }
          ],
          "table": [
           {
            "cells": {
             "fill": {
              "color": "#EBF0F8"
             },
             "line": {
              "color": "white"
             }
            },
            "header": {
             "fill": {
              "color": "#C8D4E3"
             },
             "line": {
              "color": "white"
             }
            },
            "type": "table"
           }
          ]
         },
         "layout": {
          "annotationdefaults": {
           "arrowcolor": "#2a3f5f",
           "arrowhead": 0,
           "arrowwidth": 1
          },
          "autotypenumbers": "strict",
          "coloraxis": {
           "colorbar": {
            "outlinewidth": 0,
            "ticks": ""
           }
          },
          "colorscale": {
           "diverging": [
            [
             0,
             "#8e0152"
            ],
            [
             0.1,
             "#c51b7d"
            ],
            [
             0.2,
             "#de77ae"
            ],
            [
             0.3,
             "#f1b6da"
            ],
            [
             0.4,
             "#fde0ef"
            ],
            [
             0.5,
             "#f7f7f7"
            ],
            [
             0.6,
             "#e6f5d0"
            ],
            [
             0.7,
             "#b8e186"
            ],
            [
             0.8,
             "#7fbc41"
            ],
            [
             0.9,
             "#4d9221"
            ],
            [
             1,
             "#276419"
            ]
           ],
           "sequential": [
            [
             0,
             "#0d0887"
            ],
            [
             0.1111111111111111,
             "#46039f"
            ],
            [
             0.2222222222222222,
             "#7201a8"
            ],
            [
             0.3333333333333333,
             "#9c179e"
            ],
            [
             0.4444444444444444,
             "#bd3786"
            ],
            [
             0.5555555555555556,
             "#d8576b"
            ],
            [
             0.6666666666666666,
             "#ed7953"
            ],
            [
             0.7777777777777778,
             "#fb9f3a"
            ],
            [
             0.8888888888888888,
             "#fdca26"
            ],
            [
             1,
             "#f0f921"
            ]
           ],
           "sequentialminus": [
            [
             0,
             "#0d0887"
            ],
            [
             0.1111111111111111,
             "#46039f"
            ],
            [
             0.2222222222222222,
             "#7201a8"
            ],
            [
             0.3333333333333333,
             "#9c179e"
            ],
            [
             0.4444444444444444,
             "#bd3786"
            ],
            [
             0.5555555555555556,
             "#d8576b"
            ],
            [
             0.6666666666666666,
             "#ed7953"
            ],
            [
             0.7777777777777778,
             "#fb9f3a"
            ],
            [
             0.8888888888888888,
             "#fdca26"
            ],
            [
             1,
             "#f0f921"
            ]
           ]
          },
          "colorway": [
           "#636efa",
           "#EF553B",
           "#00cc96",
           "#ab63fa",
           "#FFA15A",
           "#19d3f3",
           "#FF6692",
           "#B6E880",
           "#FF97FF",
           "#FECB52"
          ],
          "font": {
           "color": "#2a3f5f"
          },
          "geo": {
           "bgcolor": "white",
           "lakecolor": "white",
           "landcolor": "#E5ECF6",
           "showlakes": true,
           "showland": true,
           "subunitcolor": "white"
          },
          "hoverlabel": {
           "align": "left"
          },
          "hovermode": "closest",
          "mapbox": {
           "style": "light"
          },
          "paper_bgcolor": "white",
          "plot_bgcolor": "#E5ECF6",
          "polar": {
           "angularaxis": {
            "gridcolor": "white",
            "linecolor": "white",
            "ticks": ""
           },
           "bgcolor": "#E5ECF6",
           "radialaxis": {
            "gridcolor": "white",
            "linecolor": "white",
            "ticks": ""
           }
          },
          "scene": {
           "xaxis": {
            "backgroundcolor": "#E5ECF6",
            "gridcolor": "white",
            "gridwidth": 2,
            "linecolor": "white",
            "showbackground": true,
            "ticks": "",
            "zerolinecolor": "white"
           },
           "yaxis": {
            "backgroundcolor": "#E5ECF6",
            "gridcolor": "white",
            "gridwidth": 2,
            "linecolor": "white",
            "showbackground": true,
            "ticks": "",
            "zerolinecolor": "white"
           },
           "zaxis": {
            "backgroundcolor": "#E5ECF6",
            "gridcolor": "white",
            "gridwidth": 2,
            "linecolor": "white",
            "showbackground": true,
            "ticks": "",
            "zerolinecolor": "white"
           }
          },
          "shapedefaults": {
           "line": {
            "color": "#2a3f5f"
           }
          },
          "ternary": {
           "aaxis": {
            "gridcolor": "white",
            "linecolor": "white",
            "ticks": ""
           },
           "baxis": {
            "gridcolor": "white",
            "linecolor": "white",
            "ticks": ""
           },
           "bgcolor": "#E5ECF6",
           "caxis": {
            "gridcolor": "white",
            "linecolor": "white",
            "ticks": ""
           }
          },
          "title": {
           "x": 0.05
          },
          "xaxis": {
           "automargin": true,
           "gridcolor": "white",
           "linecolor": "white",
           "ticks": "",
           "title": {
            "standoff": 15
           },
           "zerolinecolor": "white",
           "zerolinewidth": 2
          },
          "yaxis": {
           "automargin": true,
           "gridcolor": "white",
           "linecolor": "white",
           "ticks": "",
           "title": {
            "standoff": 15
           },
           "zerolinecolor": "white",
           "zerolinewidth": 2
          }
         }
        },
        "title": {
         "text": "ESB Tower 1 to Kissam Tower 1, ESB Tower 1 to Kissam Tower 2 (summer) (feature extraction)"
        },
        "xaxis": {
         "anchor": "y",
         "domain": [
          0,
          0.45
         ],
         "title": {
          "text": "Finetuning data percentage"
         }
        },
        "xaxis2": {
         "anchor": "y2",
         "domain": [
          0.55,
          1
         ],
         "title": {
          "text": "Finetuning data percentage"
         }
        },
        "yaxis": {
         "anchor": "x",
         "domain": [
          0,
          1
         ],
         "title": {
          "text": "Performance improvement ratio"
         }
        },
        "yaxis2": {
         "anchor": "x2",
         "domain": [
          0,
          1
         ],
         "title": {
          "text": "Performance improvement ratio"
         }
        }
       }
      }
     },
     "metadata": {},
     "output_type": "display_data"
    }
   ],
   "source": [
    "plot_multiseed_error_pir(ft_percents=ft_percents, from_building=\"ESB\", from_tower=1, to_building=\"Kissam\", season=\"summer\")"
   ]
  },
  {
   "cell_type": "code",
   "execution_count": 5,
   "metadata": {},
   "outputs": [
    {
     "name": "stdout",
     "output_type": "stream",
     "text": [
      "Tower 1 first temp: 79.07764434814453\n",
      "803/803 [==============================] - 1s 947us/step\n",
      "Tower 1 first temp: 79.07764434814453\n",
      "finetuning_percentage: 0.2 vec_X_train.shape: (5138, 6, 10), vec_X_test.shape: (20555, 6, 10), vec_y_train.shape: (5138,), vec_y_test.shape: (20555,)\n",
      "643/643 [==============================] - 1s 971us/step\n",
      "Tower 1 first temp: 79.07764434814453\n",
      "finetuning_percentage: 0.4 vec_X_train.shape: (10277, 6, 10), vec_X_test.shape: (15416, 6, 10), vec_y_train.shape: (10277,), vec_y_test.shape: (15416,)\n",
      "482/482 [==============================] - 1s 978us/step\n",
      "Tower 1 first temp: 79.07764434814453\n",
      "finetuning_percentage: 0.6 vec_X_train.shape: (15415, 6, 10), vec_X_test.shape: (10278, 6, 10), vec_y_train.shape: (15415,), vec_y_test.shape: (10278,)\n",
      "322/322 [==============================] - 1s 991us/step\n",
      "Tower 1 first temp: 79.07764434814453\n",
      "finetuning_percentage: 0.8 vec_X_train.shape: (20554, 6, 10), vec_X_test.shape: (5139, 6, 10), vec_y_train.shape: (20554,), vec_y_test.shape: (5139,)\n",
      "161/161 [==============================] - 0s 955us/step\n",
      "Tower 1 first temp: 79.07764434814453\n",
      "803/803 [==============================] - 1s 912us/step\n",
      "Tower 1 first temp: 79.07764434814453\n",
      "finetuning_percentage: 0.2 vec_X_train.shape: (5138, 6, 10), vec_X_test.shape: (20555, 6, 10), vec_y_train.shape: (5138,), vec_y_test.shape: (20555,)\n",
      "643/643 [==============================] - 1s 917us/step\n",
      "Tower 1 first temp: 79.07764434814453\n",
      "finetuning_percentage: 0.4 vec_X_train.shape: (10277, 6, 10), vec_X_test.shape: (15416, 6, 10), vec_y_train.shape: (10277,), vec_y_test.shape: (15416,)\n",
      "482/482 [==============================] - 1s 923us/step\n",
      "Tower 1 first temp: 79.07764434814453\n",
      "finetuning_percentage: 0.6 vec_X_train.shape: (15415, 6, 10), vec_X_test.shape: (10278, 6, 10), vec_y_train.shape: (15415,), vec_y_test.shape: (10278,)\n",
      "322/322 [==============================] - 1s 925us/step\n",
      "Tower 1 first temp: 79.07764434814453\n",
      "finetuning_percentage: 0.8 vec_X_train.shape: (20554, 6, 10), vec_X_test.shape: (5139, 6, 10), vec_y_train.shape: (20554,), vec_y_test.shape: (5139,)\n",
      "161/161 [==============================] - 0s 956us/step\n",
      "Tower 1 first temp: 79.07764434814453\n",
      "803/803 [==============================] - 1s 913us/step\n",
      "Tower 1 first temp: 79.07764434814453\n",
      "finetuning_percentage: 0.2 vec_X_train.shape: (5138, 6, 10), vec_X_test.shape: (20555, 6, 10), vec_y_train.shape: (5138,), vec_y_test.shape: (20555,)\n",
      "643/643 [==============================] - 1s 1ms/step\n",
      "Tower 1 first temp: 79.07764434814453\n",
      "finetuning_percentage: 0.4 vec_X_train.shape: (10277, 6, 10), vec_X_test.shape: (15416, 6, 10), vec_y_train.shape: (10277,), vec_y_test.shape: (15416,)\n",
      "482/482 [==============================] - 1s 1ms/step\n",
      "Tower 1 first temp: 79.07764434814453\n",
      "finetuning_percentage: 0.6 vec_X_train.shape: (15415, 6, 10), vec_X_test.shape: (10278, 6, 10), vec_y_train.shape: (15415,), vec_y_test.shape: (10278,)\n",
      "322/322 [==============================] - 1s 994us/step\n",
      "Tower 1 first temp: 79.07764434814453\n",
      "finetuning_percentage: 0.8 vec_X_train.shape: (20554, 6, 10), vec_X_test.shape: (5139, 6, 10), vec_y_train.shape: (20554,), vec_y_test.shape: (5139,)\n",
      "161/161 [==============================] - 0s 1ms/step\n",
      "Tower 1 first temp: 79.07764434814453\n",
      "803/803 [==============================] - 1s 934us/step\n",
      "Tower 1 first temp: 79.07764434814453\n",
      "finetuning_percentage: 0.2 vec_X_train.shape: (5138, 6, 10), vec_X_test.shape: (20555, 6, 10), vec_y_train.shape: (5138,), vec_y_test.shape: (20555,)\n",
      "643/643 [==============================] - 1s 936us/step\n",
      "Tower 1 first temp: 79.07764434814453\n",
      "finetuning_percentage: 0.4 vec_X_train.shape: (10277, 6, 10), vec_X_test.shape: (15416, 6, 10), vec_y_train.shape: (10277,), vec_y_test.shape: (15416,)\n",
      "482/482 [==============================] - 1s 1ms/step\n",
      "Tower 1 first temp: 79.07764434814453\n",
      "finetuning_percentage: 0.6 vec_X_train.shape: (15415, 6, 10), vec_X_test.shape: (10278, 6, 10), vec_y_train.shape: (15415,), vec_y_test.shape: (10278,)\n",
      "322/322 [==============================] - 1s 1ms/step\n",
      "Tower 1 first temp: 79.07764434814453\n",
      "finetuning_percentage: 0.8 vec_X_train.shape: (20554, 6, 10), vec_X_test.shape: (5139, 6, 10), vec_y_train.shape: (20554,), vec_y_test.shape: (5139,)\n",
      "161/161 [==============================] - 1s 1ms/step\n",
      "Tower 1 first temp: 79.07764434814453\n",
      "803/803 [==============================] - 1s 1ms/step\n",
      "Tower 1 first temp: 79.07764434814453\n",
      "finetuning_percentage: 0.2 vec_X_train.shape: (5138, 6, 10), vec_X_test.shape: (20555, 6, 10), vec_y_train.shape: (5138,), vec_y_test.shape: (20555,)\n",
      "643/643 [==============================] - 1s 996us/step\n",
      "Tower 1 first temp: 79.07764434814453\n",
      "finetuning_percentage: 0.4 vec_X_train.shape: (10277, 6, 10), vec_X_test.shape: (15416, 6, 10), vec_y_train.shape: (10277,), vec_y_test.shape: (15416,)\n",
      "482/482 [==============================] - 1s 1ms/step\n",
      "Tower 1 first temp: 79.07764434814453\n",
      "finetuning_percentage: 0.6 vec_X_train.shape: (15415, 6, 10), vec_X_test.shape: (10278, 6, 10), vec_y_train.shape: (15415,), vec_y_test.shape: (10278,)\n",
      "322/322 [==============================] - 1s 1ms/step\n",
      "Tower 1 first temp: 79.07764434814453\n",
      "finetuning_percentage: 0.8 vec_X_train.shape: (20554, 6, 10), vec_X_test.shape: (5139, 6, 10), vec_y_train.shape: (20554,), vec_y_test.shape: (5139,)\n",
      "161/161 [==============================] - 0s 1ms/step\n",
      "Tower 2 first temp: 79.07764434814453\n",
      "804/804 [==============================] - 1s 932us/step\n",
      "Tower 2 first temp: 79.07764434814453\n",
      "finetuning_percentage: 0.2 vec_X_train.shape: (5141, 6, 10), vec_X_test.shape: (20565, 6, 10), vec_y_train.shape: (5141,), vec_y_test.shape: (20565,)\n",
      "643/643 [==============================] - 1s 1ms/step\n",
      "Tower 2 first temp: 79.07764434814453\n",
      "finetuning_percentage: 0.4 vec_X_train.shape: (10282, 6, 10), vec_X_test.shape: (15424, 6, 10), vec_y_train.shape: (10282,), vec_y_test.shape: (15424,)\n",
      "482/482 [==============================] - 1s 952us/step\n",
      "Tower 2 first temp: 79.07764434814453\n",
      "finetuning_percentage: 0.6 vec_X_train.shape: (15423, 6, 10), vec_X_test.shape: (10283, 6, 10), vec_y_train.shape: (15423,), vec_y_test.shape: (10283,)\n",
      "322/322 [==============================] - 1s 967us/step\n",
      "Tower 2 first temp: 79.07764434814453\n",
      "finetuning_percentage: 0.8 vec_X_train.shape: (20564, 6, 10), vec_X_test.shape: (5142, 6, 10), vec_y_train.shape: (20564,), vec_y_test.shape: (5142,)\n",
      "161/161 [==============================] - 0s 987us/step\n",
      "Tower 2 first temp: 79.07764434814453\n",
      "804/804 [==============================] - 1s 949us/step\n",
      "Tower 2 first temp: 79.07764434814453\n",
      "finetuning_percentage: 0.2 vec_X_train.shape: (5141, 6, 10), vec_X_test.shape: (20565, 6, 10), vec_y_train.shape: (5141,), vec_y_test.shape: (20565,)\n",
      "643/643 [==============================] - 1s 998us/step\n",
      "Tower 2 first temp: 79.07764434814453\n",
      "finetuning_percentage: 0.4 vec_X_train.shape: (10282, 6, 10), vec_X_test.shape: (15424, 6, 10), vec_y_train.shape: (10282,), vec_y_test.shape: (15424,)\n",
      "482/482 [==============================] - 1s 980us/step\n",
      "Tower 2 first temp: 79.07764434814453\n",
      "finetuning_percentage: 0.6 vec_X_train.shape: (15423, 6, 10), vec_X_test.shape: (10283, 6, 10), vec_y_train.shape: (15423,), vec_y_test.shape: (10283,)\n",
      "322/322 [==============================] - 1s 2ms/step\n",
      "Tower 2 first temp: 79.07764434814453\n",
      "finetuning_percentage: 0.8 vec_X_train.shape: (20564, 6, 10), vec_X_test.shape: (5142, 6, 10), vec_y_train.shape: (20564,), vec_y_test.shape: (5142,)\n",
      "161/161 [==============================] - 0s 934us/step\n",
      "Tower 2 first temp: 79.07764434814453\n",
      "804/804 [==============================] - 1s 1ms/step\n",
      "Tower 2 first temp: 79.07764434814453\n",
      "finetuning_percentage: 0.2 vec_X_train.shape: (5141, 6, 10), vec_X_test.shape: (20565, 6, 10), vec_y_train.shape: (5141,), vec_y_test.shape: (20565,)\n",
      "643/643 [==============================] - 1s 956us/step\n",
      "Tower 2 first temp: 79.07764434814453\n",
      "finetuning_percentage: 0.4 vec_X_train.shape: (10282, 6, 10), vec_X_test.shape: (15424, 6, 10), vec_y_train.shape: (10282,), vec_y_test.shape: (15424,)\n",
      "482/482 [==============================] - 1s 962us/step\n",
      "Tower 2 first temp: 79.07764434814453\n",
      "finetuning_percentage: 0.6 vec_X_train.shape: (15423, 6, 10), vec_X_test.shape: (10283, 6, 10), vec_y_train.shape: (15423,), vec_y_test.shape: (10283,)\n",
      "322/322 [==============================] - 1s 998us/step\n",
      "Tower 2 first temp: 79.07764434814453\n",
      "finetuning_percentage: 0.8 vec_X_train.shape: (20564, 6, 10), vec_X_test.shape: (5142, 6, 10), vec_y_train.shape: (20564,), vec_y_test.shape: (5142,)\n",
      "161/161 [==============================] - 0s 1ms/step\n",
      "Tower 2 first temp: 79.07764434814453\n",
      "804/804 [==============================] - 1s 967us/step\n",
      "Tower 2 first temp: 79.07764434814453\n",
      "finetuning_percentage: 0.2 vec_X_train.shape: (5141, 6, 10), vec_X_test.shape: (20565, 6, 10), vec_y_train.shape: (5141,), vec_y_test.shape: (20565,)\n",
      "643/643 [==============================] - 1s 945us/step\n",
      "Tower 2 first temp: 79.07764434814453\n",
      "finetuning_percentage: 0.4 vec_X_train.shape: (10282, 6, 10), vec_X_test.shape: (15424, 6, 10), vec_y_train.shape: (10282,), vec_y_test.shape: (15424,)\n",
      "482/482 [==============================] - 1s 970us/step\n",
      "Tower 2 first temp: 79.07764434814453\n",
      "finetuning_percentage: 0.6 vec_X_train.shape: (15423, 6, 10), vec_X_test.shape: (10283, 6, 10), vec_y_train.shape: (15423,), vec_y_test.shape: (10283,)\n",
      "322/322 [==============================] - 1s 939us/step\n",
      "Tower 2 first temp: 79.07764434814453\n",
      "finetuning_percentage: 0.8 vec_X_train.shape: (20564, 6, 10), vec_X_test.shape: (5142, 6, 10), vec_y_train.shape: (20564,), vec_y_test.shape: (5142,)\n",
      "161/161 [==============================] - 0s 1ms/step\n",
      "Tower 2 first temp: 79.07764434814453\n",
      "804/804 [==============================] - 1s 934us/step\n",
      "Tower 2 first temp: 79.07764434814453\n",
      "finetuning_percentage: 0.2 vec_X_train.shape: (5141, 6, 10), vec_X_test.shape: (20565, 6, 10), vec_y_train.shape: (5141,), vec_y_test.shape: (20565,)\n",
      "643/643 [==============================] - 1s 942us/step\n",
      "Tower 2 first temp: 79.07764434814453\n",
      "finetuning_percentage: 0.4 vec_X_train.shape: (10282, 6, 10), vec_X_test.shape: (15424, 6, 10), vec_y_train.shape: (10282,), vec_y_test.shape: (15424,)\n",
      "482/482 [==============================] - 1s 925us/step\n",
      "Tower 2 first temp: 79.07764434814453\n",
      "finetuning_percentage: 0.6 vec_X_train.shape: (15423, 6, 10), vec_X_test.shape: (10283, 6, 10), vec_y_train.shape: (15423,), vec_y_test.shape: (10283,)\n",
      "322/322 [==============================] - 1s 1ms/step\n",
      "Tower 2 first temp: 79.07764434814453\n",
      "finetuning_percentage: 0.8 vec_X_train.shape: (20564, 6, 10), vec_X_test.shape: (5142, 6, 10), vec_y_train.shape: (20564,), vec_y_test.shape: (5142,)\n",
      "161/161 [==============================] - 1s 1ms/step\n"
     ]
    },
    {
     "data": {
      "application/vnd.plotly.v1+json": {
       "config": {
        "plotlyServerURL": "https://plot.ly"
       },
       "data": [
        {
         "hovertemplate": "variable=RMSE with seed 17<br>finetuning data percentage=%{x}<br>value=%{y}<extra></extra>",
         "legendgroup": "RMSE with seed 17",
         "line": {
          "color": "#636efa",
          "dash": "solid"
         },
         "marker": {
          "symbol": "circle"
         },
         "mode": "lines",
         "name": "RMSE with seed 17",
         "orientation": "v",
         "showlegend": true,
         "type": "scatter",
         "x": [
          0,
          20,
          40,
          60,
          80
         ],
         "xaxis": "x",
         "y": [
          2.7455637035794944,
          2.695067773241383,
          2.706183603180405,
          2.7111815481221315,
          2.7146703733350295
         ],
         "yaxis": "y"
        },
        {
         "hovertemplate": "variable=RMSE with seed 42<br>finetuning data percentage=%{x}<br>value=%{y}<extra></extra>",
         "legendgroup": "RMSE with seed 42",
         "line": {
          "color": "#EF553B",
          "dash": "solid"
         },
         "marker": {
          "symbol": "circle"
         },
         "mode": "lines",
         "name": "RMSE with seed 42",
         "orientation": "v",
         "showlegend": true,
         "type": "scatter",
         "x": [
          0,
          20,
          40,
          60,
          80
         ],
         "xaxis": "x",
         "y": [
          2.7455637035794944,
          2.712656616108389,
          2.7350129267777534,
          2.7336157194599617,
          2.7369340370473982
         ],
         "yaxis": "y"
        },
        {
         "hovertemplate": "variable=RMSE with seed 64<br>finetuning data percentage=%{x}<br>value=%{y}<extra></extra>",
         "legendgroup": "RMSE with seed 64",
         "line": {
          "color": "#00cc96",
          "dash": "solid"
         },
         "marker": {
          "symbol": "circle"
         },
         "mode": "lines",
         "name": "RMSE with seed 64",
         "orientation": "v",
         "showlegend": true,
         "type": "scatter",
         "x": [
          0,
          20,
          40,
          60,
          80
         ],
         "xaxis": "x",
         "y": [
          2.7455637035794944,
          2.6914814951359753,
          2.703711653575523,
          2.713307617977641,
          2.749950837839804
         ],
         "yaxis": "y"
        },
        {
         "hovertemplate": "variable=RMSE with seed 76<br>finetuning data percentage=%{x}<br>value=%{y}<extra></extra>",
         "legendgroup": "RMSE with seed 76",
         "line": {
          "color": "#ab63fa",
          "dash": "solid"
         },
         "marker": {
          "symbol": "circle"
         },
         "mode": "lines",
         "name": "RMSE with seed 76",
         "orientation": "v",
         "showlegend": true,
         "type": "scatter",
         "x": [
          0,
          20,
          40,
          60,
          80
         ],
         "xaxis": "x",
         "y": [
          2.7455637035794944,
          2.683463919887216,
          2.7118967321209486,
          2.6993007169746215,
          2.708573093793371
         ],
         "yaxis": "y"
        },
        {
         "hovertemplate": "variable=RMSE with seed 98<br>finetuning data percentage=%{x}<br>value=%{y}<extra></extra>",
         "legendgroup": "RMSE with seed 98",
         "line": {
          "color": "#FFA15A",
          "dash": "solid"
         },
         "marker": {
          "symbol": "circle"
         },
         "mode": "lines",
         "name": "RMSE with seed 98",
         "orientation": "v",
         "showlegend": true,
         "type": "scatter",
         "x": [
          0,
          20,
          40,
          60,
          80
         ],
         "xaxis": "x",
         "y": [
          2.7455637035794944,
          2.6774322935601442,
          2.714857543424322,
          2.7400272070250162,
          2.7695848243991996
         ],
         "yaxis": "y"
        },
        {
         "hovertemplate": "variable=RMSE with seed 17<br>finetuning data percentage=%{x}<br>value=%{y}<extra></extra>",
         "legendgroup": "RMSE with seed 17",
         "line": {
          "color": "#636efa",
          "dash": "solid"
         },
         "marker": {
          "symbol": "circle"
         },
         "mode": "lines",
         "name": "RMSE with seed 17",
         "orientation": "v",
         "showlegend": true,
         "type": "scatter",
         "x": [
          0,
          20,
          40,
          60,
          80
         ],
         "xaxis": "x2",
         "y": [
          2.7455637035794944,
          2.695067773241383,
          2.706183603180405,
          2.7111815481221315,
          2.7146703733350295
         ],
         "yaxis": "y2"
        },
        {
         "hovertemplate": "variable=RMSE with seed 42<br>finetuning data percentage=%{x}<br>value=%{y}<extra></extra>",
         "legendgroup": "RMSE with seed 42",
         "line": {
          "color": "#EF553B",
          "dash": "solid"
         },
         "marker": {
          "symbol": "circle"
         },
         "mode": "lines",
         "name": "RMSE with seed 42",
         "orientation": "v",
         "showlegend": true,
         "type": "scatter",
         "x": [
          0,
          20,
          40,
          60,
          80
         ],
         "xaxis": "x2",
         "y": [
          2.7455637035794944,
          2.712656616108389,
          2.7350129267777534,
          2.7336157194599617,
          2.7369340370473982
         ],
         "yaxis": "y2"
        },
        {
         "hovertemplate": "variable=RMSE with seed 64<br>finetuning data percentage=%{x}<br>value=%{y}<extra></extra>",
         "legendgroup": "RMSE with seed 64",
         "line": {
          "color": "#00cc96",
          "dash": "solid"
         },
         "marker": {
          "symbol": "circle"
         },
         "mode": "lines",
         "name": "RMSE with seed 64",
         "orientation": "v",
         "showlegend": true,
         "type": "scatter",
         "x": [
          0,
          20,
          40,
          60,
          80
         ],
         "xaxis": "x2",
         "y": [
          2.7455637035794944,
          2.6914814951359753,
          2.703711653575523,
          2.713307617977641,
          2.749950837839804
         ],
         "yaxis": "y2"
        },
        {
         "hovertemplate": "variable=RMSE with seed 76<br>finetuning data percentage=%{x}<br>value=%{y}<extra></extra>",
         "legendgroup": "RMSE with seed 76",
         "line": {
          "color": "#ab63fa",
          "dash": "solid"
         },
         "marker": {
          "symbol": "circle"
         },
         "mode": "lines",
         "name": "RMSE with seed 76",
         "orientation": "v",
         "showlegend": true,
         "type": "scatter",
         "x": [
          0,
          20,
          40,
          60,
          80
         ],
         "xaxis": "x2",
         "y": [
          2.7455637035794944,
          2.683463919887216,
          2.7118967321209486,
          2.6993007169746215,
          2.708573093793371
         ],
         "yaxis": "y2"
        },
        {
         "hovertemplate": "variable=RMSE with seed 98<br>finetuning data percentage=%{x}<br>value=%{y}<extra></extra>",
         "legendgroup": "RMSE with seed 98",
         "line": {
          "color": "#FFA15A",
          "dash": "solid"
         },
         "marker": {
          "symbol": "circle"
         },
         "mode": "lines",
         "name": "RMSE with seed 98",
         "orientation": "v",
         "showlegend": true,
         "type": "scatter",
         "x": [
          0,
          20,
          40,
          60,
          80
         ],
         "xaxis": "x2",
         "y": [
          2.7455637035794944,
          2.6774322935601442,
          2.714857543424322,
          2.7400272070250162,
          2.7695848243991996
         ],
         "yaxis": "y2"
        },
        {
         "hovertemplate": "variable=RMSE with seed 42<br>finetuning data percentage=%{x}<br>value=%{y}<extra></extra>",
         "legendgroup": "RMSE with seed 42",
         "line": {
          "color": "#EF553B",
          "dash": "solid"
         },
         "marker": {
          "symbol": "circle"
         },
         "mode": "lines",
         "name": "RMSE with seed 42",
         "orientation": "v",
         "showlegend": true,
         "type": "scatter",
         "x": [
          0,
          20,
          40,
          60,
          80
         ],
         "xaxis": "x2",
         "y": [
          2.7455637035794944,
          2.712656616108389,
          2.7350129267777534,
          2.7336157194599617,
          2.7369340370473982
         ],
         "yaxis": "y2"
        }
       ],
       "layout": {
        "showlegend": true,
        "template": {
         "data": {
          "bar": [
           {
            "error_x": {
             "color": "#2a3f5f"
            },
            "error_y": {
             "color": "#2a3f5f"
            },
            "marker": {
             "line": {
              "color": "#E5ECF6",
              "width": 0.5
             },
             "pattern": {
              "fillmode": "overlay",
              "size": 10,
              "solidity": 0.2
             }
            },
            "type": "bar"
           }
          ],
          "barpolar": [
           {
            "marker": {
             "line": {
              "color": "#E5ECF6",
              "width": 0.5
             },
             "pattern": {
              "fillmode": "overlay",
              "size": 10,
              "solidity": 0.2
             }
            },
            "type": "barpolar"
           }
          ],
          "carpet": [
           {
            "aaxis": {
             "endlinecolor": "#2a3f5f",
             "gridcolor": "white",
             "linecolor": "white",
             "minorgridcolor": "white",
             "startlinecolor": "#2a3f5f"
            },
            "baxis": {
             "endlinecolor": "#2a3f5f",
             "gridcolor": "white",
             "linecolor": "white",
             "minorgridcolor": "white",
             "startlinecolor": "#2a3f5f"
            },
            "type": "carpet"
           }
          ],
          "choropleth": [
           {
            "colorbar": {
             "outlinewidth": 0,
             "ticks": ""
            },
            "type": "choropleth"
           }
          ],
          "contour": [
           {
            "colorbar": {
             "outlinewidth": 0,
             "ticks": ""
            },
            "colorscale": [
             [
              0,
              "#0d0887"
             ],
             [
              0.1111111111111111,
              "#46039f"
             ],
             [
              0.2222222222222222,
              "#7201a8"
             ],
             [
              0.3333333333333333,
              "#9c179e"
             ],
             [
              0.4444444444444444,
              "#bd3786"
             ],
             [
              0.5555555555555556,
              "#d8576b"
             ],
             [
              0.6666666666666666,
              "#ed7953"
             ],
             [
              0.7777777777777778,
              "#fb9f3a"
             ],
             [
              0.8888888888888888,
              "#fdca26"
             ],
             [
              1,
              "#f0f921"
             ]
            ],
            "type": "contour"
           }
          ],
          "contourcarpet": [
           {
            "colorbar": {
             "outlinewidth": 0,
             "ticks": ""
            },
            "type": "contourcarpet"
           }
          ],
          "heatmap": [
           {
            "colorbar": {
             "outlinewidth": 0,
             "ticks": ""
            },
            "colorscale": [
             [
              0,
              "#0d0887"
             ],
             [
              0.1111111111111111,
              "#46039f"
             ],
             [
              0.2222222222222222,
              "#7201a8"
             ],
             [
              0.3333333333333333,
              "#9c179e"
             ],
             [
              0.4444444444444444,
              "#bd3786"
             ],
             [
              0.5555555555555556,
              "#d8576b"
             ],
             [
              0.6666666666666666,
              "#ed7953"
             ],
             [
              0.7777777777777778,
              "#fb9f3a"
             ],
             [
              0.8888888888888888,
              "#fdca26"
             ],
             [
              1,
              "#f0f921"
             ]
            ],
            "type": "heatmap"
           }
          ],
          "heatmapgl": [
           {
            "colorbar": {
             "outlinewidth": 0,
             "ticks": ""
            },
            "colorscale": [
             [
              0,
              "#0d0887"
             ],
             [
              0.1111111111111111,
              "#46039f"
             ],
             [
              0.2222222222222222,
              "#7201a8"
             ],
             [
              0.3333333333333333,
              "#9c179e"
             ],
             [
              0.4444444444444444,
              "#bd3786"
             ],
             [
              0.5555555555555556,
              "#d8576b"
             ],
             [
              0.6666666666666666,
              "#ed7953"
             ],
             [
              0.7777777777777778,
              "#fb9f3a"
             ],
             [
              0.8888888888888888,
              "#fdca26"
             ],
             [
              1,
              "#f0f921"
             ]
            ],
            "type": "heatmapgl"
           }
          ],
          "histogram": [
           {
            "marker": {
             "pattern": {
              "fillmode": "overlay",
              "size": 10,
              "solidity": 0.2
             }
            },
            "type": "histogram"
           }
          ],
          "histogram2d": [
           {
            "colorbar": {
             "outlinewidth": 0,
             "ticks": ""
            },
            "colorscale": [
             [
              0,
              "#0d0887"
             ],
             [
              0.1111111111111111,
              "#46039f"
             ],
             [
              0.2222222222222222,
              "#7201a8"
             ],
             [
              0.3333333333333333,
              "#9c179e"
             ],
             [
              0.4444444444444444,
              "#bd3786"
             ],
             [
              0.5555555555555556,
              "#d8576b"
             ],
             [
              0.6666666666666666,
              "#ed7953"
             ],
             [
              0.7777777777777778,
              "#fb9f3a"
             ],
             [
              0.8888888888888888,
              "#fdca26"
             ],
             [
              1,
              "#f0f921"
             ]
            ],
            "type": "histogram2d"
           }
          ],
          "histogram2dcontour": [
           {
            "colorbar": {
             "outlinewidth": 0,
             "ticks": ""
            },
            "colorscale": [
             [
              0,
              "#0d0887"
             ],
             [
              0.1111111111111111,
              "#46039f"
             ],
             [
              0.2222222222222222,
              "#7201a8"
             ],
             [
              0.3333333333333333,
              "#9c179e"
             ],
             [
              0.4444444444444444,
              "#bd3786"
             ],
             [
              0.5555555555555556,
              "#d8576b"
             ],
             [
              0.6666666666666666,
              "#ed7953"
             ],
             [
              0.7777777777777778,
              "#fb9f3a"
             ],
             [
              0.8888888888888888,
              "#fdca26"
             ],
             [
              1,
              "#f0f921"
             ]
            ],
            "type": "histogram2dcontour"
           }
          ],
          "mesh3d": [
           {
            "colorbar": {
             "outlinewidth": 0,
             "ticks": ""
            },
            "type": "mesh3d"
           }
          ],
          "parcoords": [
           {
            "line": {
             "colorbar": {
              "outlinewidth": 0,
              "ticks": ""
             }
            },
            "type": "parcoords"
           }
          ],
          "pie": [
           {
            "automargin": true,
            "type": "pie"
           }
          ],
          "scatter": [
           {
            "fillpattern": {
             "fillmode": "overlay",
             "size": 10,
             "solidity": 0.2
            },
            "type": "scatter"
           }
          ],
          "scatter3d": [
           {
            "line": {
             "colorbar": {
              "outlinewidth": 0,
              "ticks": ""
             }
            },
            "marker": {
             "colorbar": {
              "outlinewidth": 0,
              "ticks": ""
             }
            },
            "type": "scatter3d"
           }
          ],
          "scattercarpet": [
           {
            "marker": {
             "colorbar": {
              "outlinewidth": 0,
              "ticks": ""
             }
            },
            "type": "scattercarpet"
           }
          ],
          "scattergeo": [
           {
            "marker": {
             "colorbar": {
              "outlinewidth": 0,
              "ticks": ""
             }
            },
            "type": "scattergeo"
           }
          ],
          "scattergl": [
           {
            "marker": {
             "colorbar": {
              "outlinewidth": 0,
              "ticks": ""
             }
            },
            "type": "scattergl"
           }
          ],
          "scattermapbox": [
           {
            "marker": {
             "colorbar": {
              "outlinewidth": 0,
              "ticks": ""
             }
            },
            "type": "scattermapbox"
           }
          ],
          "scatterpolar": [
           {
            "marker": {
             "colorbar": {
              "outlinewidth": 0,
              "ticks": ""
             }
            },
            "type": "scatterpolar"
           }
          ],
          "scatterpolargl": [
           {
            "marker": {
             "colorbar": {
              "outlinewidth": 0,
              "ticks": ""
             }
            },
            "type": "scatterpolargl"
           }
          ],
          "scatterternary": [
           {
            "marker": {
             "colorbar": {
              "outlinewidth": 0,
              "ticks": ""
             }
            },
            "type": "scatterternary"
           }
          ],
          "surface": [
           {
            "colorbar": {
             "outlinewidth": 0,
             "ticks": ""
            },
            "colorscale": [
             [
              0,
              "#0d0887"
             ],
             [
              0.1111111111111111,
              "#46039f"
             ],
             [
              0.2222222222222222,
              "#7201a8"
             ],
             [
              0.3333333333333333,
              "#9c179e"
             ],
             [
              0.4444444444444444,
              "#bd3786"
             ],
             [
              0.5555555555555556,
              "#d8576b"
             ],
             [
              0.6666666666666666,
              "#ed7953"
             ],
             [
              0.7777777777777778,
              "#fb9f3a"
             ],
             [
              0.8888888888888888,
              "#fdca26"
             ],
             [
              1,
              "#f0f921"
             ]
            ],
            "type": "surface"
           }
          ],
          "table": [
           {
            "cells": {
             "fill": {
              "color": "#EBF0F8"
             },
             "line": {
              "color": "white"
             }
            },
            "header": {
             "fill": {
              "color": "#C8D4E3"
             },
             "line": {
              "color": "white"
             }
            },
            "type": "table"
           }
          ]
         },
         "layout": {
          "annotationdefaults": {
           "arrowcolor": "#2a3f5f",
           "arrowhead": 0,
           "arrowwidth": 1
          },
          "autotypenumbers": "strict",
          "coloraxis": {
           "colorbar": {
            "outlinewidth": 0,
            "ticks": ""
           }
          },
          "colorscale": {
           "diverging": [
            [
             0,
             "#8e0152"
            ],
            [
             0.1,
             "#c51b7d"
            ],
            [
             0.2,
             "#de77ae"
            ],
            [
             0.3,
             "#f1b6da"
            ],
            [
             0.4,
             "#fde0ef"
            ],
            [
             0.5,
             "#f7f7f7"
            ],
            [
             0.6,
             "#e6f5d0"
            ],
            [
             0.7,
             "#b8e186"
            ],
            [
             0.8,
             "#7fbc41"
            ],
            [
             0.9,
             "#4d9221"
            ],
            [
             1,
             "#276419"
            ]
           ],
           "sequential": [
            [
             0,
             "#0d0887"
            ],
            [
             0.1111111111111111,
             "#46039f"
            ],
            [
             0.2222222222222222,
             "#7201a8"
            ],
            [
             0.3333333333333333,
             "#9c179e"
            ],
            [
             0.4444444444444444,
             "#bd3786"
            ],
            [
             0.5555555555555556,
             "#d8576b"
            ],
            [
             0.6666666666666666,
             "#ed7953"
            ],
            [
             0.7777777777777778,
             "#fb9f3a"
            ],
            [
             0.8888888888888888,
             "#fdca26"
            ],
            [
             1,
             "#f0f921"
            ]
           ],
           "sequentialminus": [
            [
             0,
             "#0d0887"
            ],
            [
             0.1111111111111111,
             "#46039f"
            ],
            [
             0.2222222222222222,
             "#7201a8"
            ],
            [
             0.3333333333333333,
             "#9c179e"
            ],
            [
             0.4444444444444444,
             "#bd3786"
            ],
            [
             0.5555555555555556,
             "#d8576b"
            ],
            [
             0.6666666666666666,
             "#ed7953"
            ],
            [
             0.7777777777777778,
             "#fb9f3a"
            ],
            [
             0.8888888888888888,
             "#fdca26"
            ],
            [
             1,
             "#f0f921"
            ]
           ]
          },
          "colorway": [
           "#636efa",
           "#EF553B",
           "#00cc96",
           "#ab63fa",
           "#FFA15A",
           "#19d3f3",
           "#FF6692",
           "#B6E880",
           "#FF97FF",
           "#FECB52"
          ],
          "font": {
           "color": "#2a3f5f"
          },
          "geo": {
           "bgcolor": "white",
           "lakecolor": "white",
           "landcolor": "#E5ECF6",
           "showlakes": true,
           "showland": true,
           "subunitcolor": "white"
          },
          "hoverlabel": {
           "align": "left"
          },
          "hovermode": "closest",
          "mapbox": {
           "style": "light"
          },
          "paper_bgcolor": "white",
          "plot_bgcolor": "#E5ECF6",
          "polar": {
           "angularaxis": {
            "gridcolor": "white",
            "linecolor": "white",
            "ticks": ""
           },
           "bgcolor": "#E5ECF6",
           "radialaxis": {
            "gridcolor": "white",
            "linecolor": "white",
            "ticks": ""
           }
          },
          "scene": {
           "xaxis": {
            "backgroundcolor": "#E5ECF6",
            "gridcolor": "white",
            "gridwidth": 2,
            "linecolor": "white",
            "showbackground": true,
            "ticks": "",
            "zerolinecolor": "white"
           },
           "yaxis": {
            "backgroundcolor": "#E5ECF6",
            "gridcolor": "white",
            "gridwidth": 2,
            "linecolor": "white",
            "showbackground": true,
            "ticks": "",
            "zerolinecolor": "white"
           },
           "zaxis": {
            "backgroundcolor": "#E5ECF6",
            "gridcolor": "white",
            "gridwidth": 2,
            "linecolor": "white",
            "showbackground": true,
            "ticks": "",
            "zerolinecolor": "white"
           }
          },
          "shapedefaults": {
           "line": {
            "color": "#2a3f5f"
           }
          },
          "ternary": {
           "aaxis": {
            "gridcolor": "white",
            "linecolor": "white",
            "ticks": ""
           },
           "baxis": {
            "gridcolor": "white",
            "linecolor": "white",
            "ticks": ""
           },
           "bgcolor": "#E5ECF6",
           "caxis": {
            "gridcolor": "white",
            "linecolor": "white",
            "ticks": ""
           }
          },
          "title": {
           "x": 0.05
          },
          "xaxis": {
           "automargin": true,
           "gridcolor": "white",
           "linecolor": "white",
           "ticks": "",
           "title": {
            "standoff": 15
           },
           "zerolinecolor": "white",
           "zerolinewidth": 2
          },
          "yaxis": {
           "automargin": true,
           "gridcolor": "white",
           "linecolor": "white",
           "ticks": "",
           "title": {
            "standoff": 15
           },
           "zerolinecolor": "white",
           "zerolinewidth": 2
          }
         }
        },
        "title": {
         "text": "ESB Tower 2 to Kissam Tower 1, ESB Tower 2 to Kissam Tower 2 (summer) (feature extraction)"
        },
        "xaxis": {
         "anchor": "y",
         "domain": [
          0,
          0.45
         ],
         "title": {
          "text": "Finetuning data percentage"
         }
        },
        "xaxis2": {
         "anchor": "y2",
         "domain": [
          0.55,
          1
         ],
         "title": {
          "text": "Finetuning data percentage"
         }
        },
        "yaxis": {
         "anchor": "x",
         "domain": [
          0,
          1
         ],
         "title": {
          "text": "Error"
         }
        },
        "yaxis2": {
         "anchor": "x2",
         "domain": [
          0,
          1
         ],
         "title": {
          "text": "Error"
         }
        }
       }
      }
     },
     "metadata": {},
     "output_type": "display_data"
    },
    {
     "data": {
      "application/vnd.plotly.v1+json": {
       "config": {
        "plotlyServerURL": "https://plot.ly"
       },
       "data": [
        {
         "hovertemplate": "variable=PIR with seed 17<br>finetuning data percentage=%{x}<br>value=%{y}<extra></extra>",
         "legendgroup": "PIR with seed 17",
         "line": {
          "color": "#636efa",
          "dash": "solid"
         },
         "marker": {
          "symbol": "circle"
         },
         "mode": "lines",
         "name": "PIR with seed 17",
         "orientation": "v",
         "showlegend": true,
         "type": "scatter",
         "x": [
          0,
          20,
          40,
          60,
          80
         ],
         "xaxis": "x",
         "y": [
          0,
          0.01839182615660244,
          0.014343174899838653,
          0.012522803755213398,
          0.011252090127862687
         ],
         "yaxis": "y"
        },
        {
         "hovertemplate": "variable=PIR with seed 42<br>finetuning data percentage=%{x}<br>value=%{y}<extra></extra>",
         "legendgroup": "PIR with seed 42",
         "line": {
          "color": "#EF553B",
          "dash": "solid"
         },
         "marker": {
          "symbol": "circle"
         },
         "mode": "lines",
         "name": "PIR with seed 42",
         "orientation": "v",
         "showlegend": true,
         "type": "scatter",
         "x": [
          0,
          20,
          40,
          60,
          80
         ],
         "xaxis": "x",
         "y": [
          0,
          0.011985548697414328,
          0.0038428453828937012,
          0.00435174172209359,
          0.0031431310520478404
         ],
         "yaxis": "y"
        },
        {
         "hovertemplate": "variable=PIR with seed 64<br>finetuning data percentage=%{x}<br>value=%{y}<extra></extra>",
         "legendgroup": "PIR with seed 64",
         "line": {
          "color": "#00cc96",
          "dash": "solid"
         },
         "marker": {
          "symbol": "circle"
         },
         "mode": "lines",
         "name": "PIR with seed 64",
         "orientation": "v",
         "showlegend": true,
         "type": "scatter",
         "x": [
          0,
          20,
          40,
          60,
          80
         ],
         "xaxis": "x",
         "y": [
          0,
          0.019698034459375343,
          0.015243518097725266,
          0.011748438238675715,
          -0.0015978992782392132
         ],
         "yaxis": "y"
        },
        {
         "hovertemplate": "variable=PIR with seed 76<br>finetuning data percentage=%{x}<br>value=%{y}<extra></extra>",
         "legendgroup": "PIR with seed 76",
         "line": {
          "color": "#ab63fa",
          "dash": "solid"
         },
         "marker": {
          "symbol": "circle"
         },
         "mode": "lines",
         "name": "PIR with seed 76",
         "orientation": "v",
         "showlegend": true,
         "type": "scatter",
         "x": [
          0,
          20,
          40,
          60,
          80
         ],
         "xaxis": "x",
         "y": [
          0,
          0.022618227219174232,
          0.012262316629059784,
          0.016850086757979114,
          0.01347286523998594
         ],
         "yaxis": "y"
        },
        {
         "hovertemplate": "variable=PIR with seed 98<br>finetuning data percentage=%{x}<br>value=%{y}<extra></extra>",
         "legendgroup": "PIR with seed 98",
         "line": {
          "color": "#FFA15A",
          "dash": "solid"
         },
         "marker": {
          "symbol": "circle"
         },
         "mode": "lines",
         "name": "PIR with seed 98",
         "orientation": "v",
         "showlegend": true,
         "type": "scatter",
         "x": [
          0,
          20,
          40,
          60,
          80
         ],
         "xaxis": "x",
         "y": [
          0,
          0.024815089859515815,
          0.011183918302510995,
          0.0020165245291012732,
          -0.008749067008857948
         ],
         "yaxis": "y"
        },
        {
         "hovertemplate": "variable=PIR with seed 17<br>finetuning data percentage=%{x}<br>value=%{y}<extra></extra>",
         "legendgroup": "PIR with seed 17",
         "line": {
          "color": "#636efa",
          "dash": "solid"
         },
         "marker": {
          "symbol": "circle"
         },
         "mode": "lines",
         "name": "PIR with seed 17",
         "orientation": "v",
         "showlegend": true,
         "type": "scatter",
         "x": [
          0,
          20,
          40,
          60,
          80
         ],
         "xaxis": "x2",
         "y": [
          0,
          0.0254530259670427,
          0.010801103124327114,
          0.0009788353162861827,
          0.002894604324057942
         ],
         "yaxis": "y2"
        },
        {
         "hovertemplate": "variable=PIR with seed 42<br>finetuning data percentage=%{x}<br>value=%{y}<extra></extra>",
         "legendgroup": "PIR with seed 42",
         "line": {
          "color": "#EF553B",
          "dash": "solid"
         },
         "marker": {
          "symbol": "circle"
         },
         "mode": "lines",
         "name": "PIR with seed 42",
         "orientation": "v",
         "showlegend": true,
         "type": "scatter",
         "x": [
          0,
          20,
          40,
          60,
          80
         ],
         "xaxis": "x2",
         "y": [
          0,
          0.026100490835715598,
          0.010735858389233915,
          0.002510744299728287,
          0.011144860643782794
         ],
         "yaxis": "y2"
        },
        {
         "hovertemplate": "variable=PIR with seed 64<br>finetuning data percentage=%{x}<br>value=%{y}<extra></extra>",
         "legendgroup": "PIR with seed 64",
         "line": {
          "color": "#00cc96",
          "dash": "solid"
         },
         "marker": {
          "symbol": "circle"
         },
         "mode": "lines",
         "name": "PIR with seed 64",
         "orientation": "v",
         "showlegend": true,
         "type": "scatter",
         "x": [
          0,
          20,
          40,
          60,
          80
         ],
         "xaxis": "x2",
         "y": [
          0,
          0.008006513607784451,
          0.00834248479732719,
          0.00830150486100236,
          0.0057704802685259095
         ],
         "yaxis": "y2"
        },
        {
         "hovertemplate": "variable=PIR with seed 76<br>finetuning data percentage=%{x}<br>value=%{y}<extra></extra>",
         "legendgroup": "PIR with seed 76",
         "line": {
          "color": "#ab63fa",
          "dash": "solid"
         },
         "marker": {
          "symbol": "circle"
         },
         "mode": "lines",
         "name": "PIR with seed 76",
         "orientation": "v",
         "showlegend": true,
         "type": "scatter",
         "x": [
          0,
          20,
          40,
          60,
          80
         ],
         "xaxis": "x2",
         "y": [
          0,
          0.028615858166885156,
          0.016609623706627823,
          0.013984782764601864,
          0.011597691503551498
         ],
         "yaxis": "y2"
        },
        {
         "hovertemplate": "variable=PIR with seed 98<br>finetuning data percentage=%{x}<br>value=%{y}<extra></extra>",
         "legendgroup": "PIR with seed 98",
         "line": {
          "color": "#FFA15A",
          "dash": "solid"
         },
         "marker": {
          "symbol": "circle"
         },
         "mode": "lines",
         "name": "PIR with seed 98",
         "orientation": "v",
         "showlegend": true,
         "type": "scatter",
         "x": [
          0,
          20,
          40,
          60,
          80
         ],
         "xaxis": "x2",
         "y": [
          0,
          0.021041378589568505,
          0.008741408921328466,
          0.0012412822668612588,
          -0.011565699881120464
         ],
         "yaxis": "y2"
        }
       ],
       "layout": {
        "showlegend": true,
        "template": {
         "data": {
          "bar": [
           {
            "error_x": {
             "color": "#2a3f5f"
            },
            "error_y": {
             "color": "#2a3f5f"
            },
            "marker": {
             "line": {
              "color": "#E5ECF6",
              "width": 0.5
             },
             "pattern": {
              "fillmode": "overlay",
              "size": 10,
              "solidity": 0.2
             }
            },
            "type": "bar"
           }
          ],
          "barpolar": [
           {
            "marker": {
             "line": {
              "color": "#E5ECF6",
              "width": 0.5
             },
             "pattern": {
              "fillmode": "overlay",
              "size": 10,
              "solidity": 0.2
             }
            },
            "type": "barpolar"
           }
          ],
          "carpet": [
           {
            "aaxis": {
             "endlinecolor": "#2a3f5f",
             "gridcolor": "white",
             "linecolor": "white",
             "minorgridcolor": "white",
             "startlinecolor": "#2a3f5f"
            },
            "baxis": {
             "endlinecolor": "#2a3f5f",
             "gridcolor": "white",
             "linecolor": "white",
             "minorgridcolor": "white",
             "startlinecolor": "#2a3f5f"
            },
            "type": "carpet"
           }
          ],
          "choropleth": [
           {
            "colorbar": {
             "outlinewidth": 0,
             "ticks": ""
            },
            "type": "choropleth"
           }
          ],
          "contour": [
           {
            "colorbar": {
             "outlinewidth": 0,
             "ticks": ""
            },
            "colorscale": [
             [
              0,
              "#0d0887"
             ],
             [
              0.1111111111111111,
              "#46039f"
             ],
             [
              0.2222222222222222,
              "#7201a8"
             ],
             [
              0.3333333333333333,
              "#9c179e"
             ],
             [
              0.4444444444444444,
              "#bd3786"
             ],
             [
              0.5555555555555556,
              "#d8576b"
             ],
             [
              0.6666666666666666,
              "#ed7953"
             ],
             [
              0.7777777777777778,
              "#fb9f3a"
             ],
             [
              0.8888888888888888,
              "#fdca26"
             ],
             [
              1,
              "#f0f921"
             ]
            ],
            "type": "contour"
           }
          ],
          "contourcarpet": [
           {
            "colorbar": {
             "outlinewidth": 0,
             "ticks": ""
            },
            "type": "contourcarpet"
           }
          ],
          "heatmap": [
           {
            "colorbar": {
             "outlinewidth": 0,
             "ticks": ""
            },
            "colorscale": [
             [
              0,
              "#0d0887"
             ],
             [
              0.1111111111111111,
              "#46039f"
             ],
             [
              0.2222222222222222,
              "#7201a8"
             ],
             [
              0.3333333333333333,
              "#9c179e"
             ],
             [
              0.4444444444444444,
              "#bd3786"
             ],
             [
              0.5555555555555556,
              "#d8576b"
             ],
             [
              0.6666666666666666,
              "#ed7953"
             ],
             [
              0.7777777777777778,
              "#fb9f3a"
             ],
             [
              0.8888888888888888,
              "#fdca26"
             ],
             [
              1,
              "#f0f921"
             ]
            ],
            "type": "heatmap"
           }
          ],
          "heatmapgl": [
           {
            "colorbar": {
             "outlinewidth": 0,
             "ticks": ""
            },
            "colorscale": [
             [
              0,
              "#0d0887"
             ],
             [
              0.1111111111111111,
              "#46039f"
             ],
             [
              0.2222222222222222,
              "#7201a8"
             ],
             [
              0.3333333333333333,
              "#9c179e"
             ],
             [
              0.4444444444444444,
              "#bd3786"
             ],
             [
              0.5555555555555556,
              "#d8576b"
             ],
             [
              0.6666666666666666,
              "#ed7953"
             ],
             [
              0.7777777777777778,
              "#fb9f3a"
             ],
             [
              0.8888888888888888,
              "#fdca26"
             ],
             [
              1,
              "#f0f921"
             ]
            ],
            "type": "heatmapgl"
           }
          ],
          "histogram": [
           {
            "marker": {
             "pattern": {
              "fillmode": "overlay",
              "size": 10,
              "solidity": 0.2
             }
            },
            "type": "histogram"
           }
          ],
          "histogram2d": [
           {
            "colorbar": {
             "outlinewidth": 0,
             "ticks": ""
            },
            "colorscale": [
             [
              0,
              "#0d0887"
             ],
             [
              0.1111111111111111,
              "#46039f"
             ],
             [
              0.2222222222222222,
              "#7201a8"
             ],
             [
              0.3333333333333333,
              "#9c179e"
             ],
             [
              0.4444444444444444,
              "#bd3786"
             ],
             [
              0.5555555555555556,
              "#d8576b"
             ],
             [
              0.6666666666666666,
              "#ed7953"
             ],
             [
              0.7777777777777778,
              "#fb9f3a"
             ],
             [
              0.8888888888888888,
              "#fdca26"
             ],
             [
              1,
              "#f0f921"
             ]
            ],
            "type": "histogram2d"
           }
          ],
          "histogram2dcontour": [
           {
            "colorbar": {
             "outlinewidth": 0,
             "ticks": ""
            },
            "colorscale": [
             [
              0,
              "#0d0887"
             ],
             [
              0.1111111111111111,
              "#46039f"
             ],
             [
              0.2222222222222222,
              "#7201a8"
             ],
             [
              0.3333333333333333,
              "#9c179e"
             ],
             [
              0.4444444444444444,
              "#bd3786"
             ],
             [
              0.5555555555555556,
              "#d8576b"
             ],
             [
              0.6666666666666666,
              "#ed7953"
             ],
             [
              0.7777777777777778,
              "#fb9f3a"
             ],
             [
              0.8888888888888888,
              "#fdca26"
             ],
             [
              1,
              "#f0f921"
             ]
            ],
            "type": "histogram2dcontour"
           }
          ],
          "mesh3d": [
           {
            "colorbar": {
             "outlinewidth": 0,
             "ticks": ""
            },
            "type": "mesh3d"
           }
          ],
          "parcoords": [
           {
            "line": {
             "colorbar": {
              "outlinewidth": 0,
              "ticks": ""
             }
            },
            "type": "parcoords"
           }
          ],
          "pie": [
           {
            "automargin": true,
            "type": "pie"
           }
          ],
          "scatter": [
           {
            "fillpattern": {
             "fillmode": "overlay",
             "size": 10,
             "solidity": 0.2
            },
            "type": "scatter"
           }
          ],
          "scatter3d": [
           {
            "line": {
             "colorbar": {
              "outlinewidth": 0,
              "ticks": ""
             }
            },
            "marker": {
             "colorbar": {
              "outlinewidth": 0,
              "ticks": ""
             }
            },
            "type": "scatter3d"
           }
          ],
          "scattercarpet": [
           {
            "marker": {
             "colorbar": {
              "outlinewidth": 0,
              "ticks": ""
             }
            },
            "type": "scattercarpet"
           }
          ],
          "scattergeo": [
           {
            "marker": {
             "colorbar": {
              "outlinewidth": 0,
              "ticks": ""
             }
            },
            "type": "scattergeo"
           }
          ],
          "scattergl": [
           {
            "marker": {
             "colorbar": {
              "outlinewidth": 0,
              "ticks": ""
             }
            },
            "type": "scattergl"
           }
          ],
          "scattermapbox": [
           {
            "marker": {
             "colorbar": {
              "outlinewidth": 0,
              "ticks": ""
             }
            },
            "type": "scattermapbox"
           }
          ],
          "scatterpolar": [
           {
            "marker": {
             "colorbar": {
              "outlinewidth": 0,
              "ticks": ""
             }
            },
            "type": "scatterpolar"
           }
          ],
          "scatterpolargl": [
           {
            "marker": {
             "colorbar": {
              "outlinewidth": 0,
              "ticks": ""
             }
            },
            "type": "scatterpolargl"
           }
          ],
          "scatterternary": [
           {
            "marker": {
             "colorbar": {
              "outlinewidth": 0,
              "ticks": ""
             }
            },
            "type": "scatterternary"
           }
          ],
          "surface": [
           {
            "colorbar": {
             "outlinewidth": 0,
             "ticks": ""
            },
            "colorscale": [
             [
              0,
              "#0d0887"
             ],
             [
              0.1111111111111111,
              "#46039f"
             ],
             [
              0.2222222222222222,
              "#7201a8"
             ],
             [
              0.3333333333333333,
              "#9c179e"
             ],
             [
              0.4444444444444444,
              "#bd3786"
             ],
             [
              0.5555555555555556,
              "#d8576b"
             ],
             [
              0.6666666666666666,
              "#ed7953"
             ],
             [
              0.7777777777777778,
              "#fb9f3a"
             ],
             [
              0.8888888888888888,
              "#fdca26"
             ],
             [
              1,
              "#f0f921"
             ]
            ],
            "type": "surface"
           }
          ],
          "table": [
           {
            "cells": {
             "fill": {
              "color": "#EBF0F8"
             },
             "line": {
              "color": "white"
             }
            },
            "header": {
             "fill": {
              "color": "#C8D4E3"
             },
             "line": {
              "color": "white"
             }
            },
            "type": "table"
           }
          ]
         },
         "layout": {
          "annotationdefaults": {
           "arrowcolor": "#2a3f5f",
           "arrowhead": 0,
           "arrowwidth": 1
          },
          "autotypenumbers": "strict",
          "coloraxis": {
           "colorbar": {
            "outlinewidth": 0,
            "ticks": ""
           }
          },
          "colorscale": {
           "diverging": [
            [
             0,
             "#8e0152"
            ],
            [
             0.1,
             "#c51b7d"
            ],
            [
             0.2,
             "#de77ae"
            ],
            [
             0.3,
             "#f1b6da"
            ],
            [
             0.4,
             "#fde0ef"
            ],
            [
             0.5,
             "#f7f7f7"
            ],
            [
             0.6,
             "#e6f5d0"
            ],
            [
             0.7,
             "#b8e186"
            ],
            [
             0.8,
             "#7fbc41"
            ],
            [
             0.9,
             "#4d9221"
            ],
            [
             1,
             "#276419"
            ]
           ],
           "sequential": [
            [
             0,
             "#0d0887"
            ],
            [
             0.1111111111111111,
             "#46039f"
            ],
            [
             0.2222222222222222,
             "#7201a8"
            ],
            [
             0.3333333333333333,
             "#9c179e"
            ],
            [
             0.4444444444444444,
             "#bd3786"
            ],
            [
             0.5555555555555556,
             "#d8576b"
            ],
            [
             0.6666666666666666,
             "#ed7953"
            ],
            [
             0.7777777777777778,
             "#fb9f3a"
            ],
            [
             0.8888888888888888,
             "#fdca26"
            ],
            [
             1,
             "#f0f921"
            ]
           ],
           "sequentialminus": [
            [
             0,
             "#0d0887"
            ],
            [
             0.1111111111111111,
             "#46039f"
            ],
            [
             0.2222222222222222,
             "#7201a8"
            ],
            [
             0.3333333333333333,
             "#9c179e"
            ],
            [
             0.4444444444444444,
             "#bd3786"
            ],
            [
             0.5555555555555556,
             "#d8576b"
            ],
            [
             0.6666666666666666,
             "#ed7953"
            ],
            [
             0.7777777777777778,
             "#fb9f3a"
            ],
            [
             0.8888888888888888,
             "#fdca26"
            ],
            [
             1,
             "#f0f921"
            ]
           ]
          },
          "colorway": [
           "#636efa",
           "#EF553B",
           "#00cc96",
           "#ab63fa",
           "#FFA15A",
           "#19d3f3",
           "#FF6692",
           "#B6E880",
           "#FF97FF",
           "#FECB52"
          ],
          "font": {
           "color": "#2a3f5f"
          },
          "geo": {
           "bgcolor": "white",
           "lakecolor": "white",
           "landcolor": "#E5ECF6",
           "showlakes": true,
           "showland": true,
           "subunitcolor": "white"
          },
          "hoverlabel": {
           "align": "left"
          },
          "hovermode": "closest",
          "mapbox": {
           "style": "light"
          },
          "paper_bgcolor": "white",
          "plot_bgcolor": "#E5ECF6",
          "polar": {
           "angularaxis": {
            "gridcolor": "white",
            "linecolor": "white",
            "ticks": ""
           },
           "bgcolor": "#E5ECF6",
           "radialaxis": {
            "gridcolor": "white",
            "linecolor": "white",
            "ticks": ""
           }
          },
          "scene": {
           "xaxis": {
            "backgroundcolor": "#E5ECF6",
            "gridcolor": "white",
            "gridwidth": 2,
            "linecolor": "white",
            "showbackground": true,
            "ticks": "",
            "zerolinecolor": "white"
           },
           "yaxis": {
            "backgroundcolor": "#E5ECF6",
            "gridcolor": "white",
            "gridwidth": 2,
            "linecolor": "white",
            "showbackground": true,
            "ticks": "",
            "zerolinecolor": "white"
           },
           "zaxis": {
            "backgroundcolor": "#E5ECF6",
            "gridcolor": "white",
            "gridwidth": 2,
            "linecolor": "white",
            "showbackground": true,
            "ticks": "",
            "zerolinecolor": "white"
           }
          },
          "shapedefaults": {
           "line": {
            "color": "#2a3f5f"
           }
          },
          "ternary": {
           "aaxis": {
            "gridcolor": "white",
            "linecolor": "white",
            "ticks": ""
           },
           "baxis": {
            "gridcolor": "white",
            "linecolor": "white",
            "ticks": ""
           },
           "bgcolor": "#E5ECF6",
           "caxis": {
            "gridcolor": "white",
            "linecolor": "white",
            "ticks": ""
           }
          },
          "title": {
           "x": 0.05
          },
          "xaxis": {
           "automargin": true,
           "gridcolor": "white",
           "linecolor": "white",
           "ticks": "",
           "title": {
            "standoff": 15
           },
           "zerolinecolor": "white",
           "zerolinewidth": 2
          },
          "yaxis": {
           "automargin": true,
           "gridcolor": "white",
           "linecolor": "white",
           "ticks": "",
           "title": {
            "standoff": 15
           },
           "zerolinecolor": "white",
           "zerolinewidth": 2
          }
         }
        },
        "title": {
         "text": "ESB Tower 2 to Kissam Tower 1, ESB Tower 2 to Kissam Tower 2 (summer) (feature extraction)"
        },
        "xaxis": {
         "anchor": "y",
         "domain": [
          0,
          0.45
         ],
         "title": {
          "text": "Finetuning data percentage"
         }
        },
        "xaxis2": {
         "anchor": "y2",
         "domain": [
          0.55,
          1
         ],
         "title": {
          "text": "Finetuning data percentage"
         }
        },
        "yaxis": {
         "anchor": "x",
         "domain": [
          0,
          1
         ],
         "title": {
          "text": "Performance improvement ratio"
         }
        },
        "yaxis2": {
         "anchor": "x2",
         "domain": [
          0,
          1
         ],
         "title": {
          "text": "Performance improvement ratio"
         }
        }
       }
      }
     },
     "metadata": {},
     "output_type": "display_data"
    }
   ],
   "source": [
    "plot_multiseed_error_pir(ft_percents=ft_percents, from_building=\"ESB\", from_tower=2, to_building=\"Kissam\", season=\"summer\")"
   ]
  },
  {
   "cell_type": "code",
   "execution_count": 6,
   "metadata": {},
   "outputs": [
    {
     "name": "stdout",
     "output_type": "stream",
     "text": [
      "Tower 1 first temp: 79.19134521484375\n",
      "449/449 [==============================] - 1s 1ms/step\n",
      "Tower 1 first temp: 79.19134521484375\n",
      "finetuning_percentage: 0.2 vec_X_train.shape: (2868, 6, 10), vec_X_test.shape: (11474, 6, 10), vec_y_train.shape: (2868,), vec_y_test.shape: (11474,)\n",
      "359/359 [==============================] - 1s 1ms/step\n",
      "Tower 1 first temp: 79.19134521484375\n",
      "finetuning_percentage: 0.4 vec_X_train.shape: (5736, 6, 10), vec_X_test.shape: (8606, 6, 10), vec_y_train.shape: (5736,), vec_y_test.shape: (8606,)\n",
      "269/269 [==============================] - 1s 1ms/step\n",
      "Tower 1 first temp: 79.19134521484375\n",
      "finetuning_percentage: 0.6 vec_X_train.shape: (8605, 6, 10), vec_X_test.shape: (5737, 6, 10), vec_y_train.shape: (8605,), vec_y_test.shape: (5737,)\n",
      "180/180 [==============================] - 0s 1ms/step\n",
      "Tower 1 first temp: 79.19134521484375\n",
      "finetuning_percentage: 0.8 vec_X_train.shape: (11473, 6, 10), vec_X_test.shape: (2869, 6, 10), vec_y_train.shape: (11473,), vec_y_test.shape: (2869,)\n",
      "90/90 [==============================] - 0s 1ms/step\n",
      "Tower 1 first temp: 79.19134521484375\n",
      "449/449 [==============================] - 1s 990us/step\n",
      "Tower 1 first temp: 79.19134521484375\n",
      "finetuning_percentage: 0.2 vec_X_train.shape: (2868, 6, 10), vec_X_test.shape: (11474, 6, 10), vec_y_train.shape: (2868,), vec_y_test.shape: (11474,)\n",
      "359/359 [==============================] - 1s 1ms/step\n",
      "Tower 1 first temp: 79.19134521484375\n",
      "finetuning_percentage: 0.4 vec_X_train.shape: (5736, 6, 10), vec_X_test.shape: (8606, 6, 10), vec_y_train.shape: (5736,), vec_y_test.shape: (8606,)\n",
      "269/269 [==============================] - 1s 1ms/step\n",
      "Tower 1 first temp: 79.19134521484375\n",
      "finetuning_percentage: 0.6 vec_X_train.shape: (8605, 6, 10), vec_X_test.shape: (5737, 6, 10), vec_y_train.shape: (8605,), vec_y_test.shape: (5737,)\n",
      "180/180 [==============================] - 0s 1ms/step\n",
      "Tower 1 first temp: 79.19134521484375\n",
      "finetuning_percentage: 0.8 vec_X_train.shape: (11473, 6, 10), vec_X_test.shape: (2869, 6, 10), vec_y_train.shape: (11473,), vec_y_test.shape: (2869,)\n",
      "90/90 [==============================] - 0s 1ms/step\n",
      "Tower 1 first temp: 79.19134521484375\n",
      "449/449 [==============================] - 1s 994us/step\n",
      "Tower 1 first temp: 79.19134521484375\n",
      "finetuning_percentage: 0.2 vec_X_train.shape: (2868, 6, 10), vec_X_test.shape: (11474, 6, 10), vec_y_train.shape: (2868,), vec_y_test.shape: (11474,)\n",
      "359/359 [==============================] - 1s 1ms/step\n",
      "Tower 1 first temp: 79.19134521484375\n",
      "finetuning_percentage: 0.4 vec_X_train.shape: (5736, 6, 10), vec_X_test.shape: (8606, 6, 10), vec_y_train.shape: (5736,), vec_y_test.shape: (8606,)\n",
      "269/269 [==============================] - 1s 1ms/step\n",
      "Tower 1 first temp: 79.19134521484375\n",
      "finetuning_percentage: 0.6 vec_X_train.shape: (8605, 6, 10), vec_X_test.shape: (5737, 6, 10), vec_y_train.shape: (8605,), vec_y_test.shape: (5737,)\n",
      "180/180 [==============================] - 0s 1ms/step\n",
      "Tower 1 first temp: 79.19134521484375\n",
      "finetuning_percentage: 0.8 vec_X_train.shape: (11473, 6, 10), vec_X_test.shape: (2869, 6, 10), vec_y_train.shape: (11473,), vec_y_test.shape: (2869,)\n",
      "90/90 [==============================] - 0s 1ms/step\n",
      "Tower 1 first temp: 79.19134521484375\n",
      "449/449 [==============================] - 1s 1ms/step\n",
      "Tower 1 first temp: 79.19134521484375\n",
      "finetuning_percentage: 0.2 vec_X_train.shape: (2868, 6, 10), vec_X_test.shape: (11474, 6, 10), vec_y_train.shape: (2868,), vec_y_test.shape: (11474,)\n",
      "359/359 [==============================] - 1s 1ms/step\n",
      "Tower 1 first temp: 79.19134521484375\n",
      "finetuning_percentage: 0.4 vec_X_train.shape: (5736, 6, 10), vec_X_test.shape: (8606, 6, 10), vec_y_train.shape: (5736,), vec_y_test.shape: (8606,)\n",
      "269/269 [==============================] - 1s 1ms/step\n",
      "Tower 1 first temp: 79.19134521484375\n",
      "finetuning_percentage: 0.6 vec_X_train.shape: (8605, 6, 10), vec_X_test.shape: (5737, 6, 10), vec_y_train.shape: (8605,), vec_y_test.shape: (5737,)\n",
      "180/180 [==============================] - 0s 1ms/step\n",
      "Tower 1 first temp: 79.19134521484375\n",
      "finetuning_percentage: 0.8 vec_X_train.shape: (11473, 6, 10), vec_X_test.shape: (2869, 6, 10), vec_y_train.shape: (11473,), vec_y_test.shape: (2869,)\n",
      "90/90 [==============================] - 0s 1ms/step\n",
      "Tower 1 first temp: 79.19134521484375\n",
      "449/449 [==============================] - 1s 1ms/step\n",
      "Tower 1 first temp: 79.19134521484375\n",
      "finetuning_percentage: 0.2 vec_X_train.shape: (2868, 6, 10), vec_X_test.shape: (11474, 6, 10), vec_y_train.shape: (2868,), vec_y_test.shape: (11474,)\n",
      "359/359 [==============================] - 1s 1ms/step\n",
      "Tower 1 first temp: 79.19134521484375\n",
      "finetuning_percentage: 0.4 vec_X_train.shape: (5736, 6, 10), vec_X_test.shape: (8606, 6, 10), vec_y_train.shape: (5736,), vec_y_test.shape: (8606,)\n",
      "269/269 [==============================] - 1s 1ms/step\n",
      "Tower 1 first temp: 79.19134521484375\n",
      "finetuning_percentage: 0.6 vec_X_train.shape: (8605, 6, 10), vec_X_test.shape: (5737, 6, 10), vec_y_train.shape: (8605,), vec_y_test.shape: (5737,)\n",
      "180/180 [==============================] - 0s 1ms/step\n",
      "Tower 1 first temp: 79.19134521484375\n",
      "finetuning_percentage: 0.8 vec_X_train.shape: (11473, 6, 10), vec_X_test.shape: (2869, 6, 10), vec_y_train.shape: (11473,), vec_y_test.shape: (2869,)\n",
      "90/90 [==============================] - 0s 1ms/step\n",
      "Tower 2 first temp: 73.14450073242188\n",
      "352/352 [==============================] - 1s 1ms/step\n",
      "Tower 2 first temp: 73.14450073242188\n",
      "finetuning_percentage: 0.2 vec_X_train.shape: (2252, 6, 10), vec_X_test.shape: (9009, 6, 10), vec_y_train.shape: (2252,), vec_y_test.shape: (9009,)\n",
      "282/282 [==============================] - 1s 1ms/step\n",
      "Tower 2 first temp: 73.14450073242188\n",
      "finetuning_percentage: 0.4 vec_X_train.shape: (4504, 6, 10), vec_X_test.shape: (6757, 6, 10), vec_y_train.shape: (4504,), vec_y_test.shape: (6757,)\n",
      "212/212 [==============================] - 0s 1ms/step\n",
      "Tower 2 first temp: 73.14450073242188\n",
      "finetuning_percentage: 0.6 vec_X_train.shape: (6756, 6, 10), vec_X_test.shape: (4505, 6, 10), vec_y_train.shape: (6756,), vec_y_test.shape: (4505,)\n",
      "141/141 [==============================] - 0s 1ms/step\n",
      "Tower 2 first temp: 73.14450073242188\n",
      "finetuning_percentage: 0.8 vec_X_train.shape: (9008, 6, 10), vec_X_test.shape: (2253, 6, 10), vec_y_train.shape: (9008,), vec_y_test.shape: (2253,)\n",
      "71/71 [==============================] - 0s 1ms/step\n",
      "Tower 2 first temp: 73.14450073242188\n",
      "352/352 [==============================] - 1s 1ms/step\n",
      "Tower 2 first temp: 73.14450073242188\n",
      "finetuning_percentage: 0.2 vec_X_train.shape: (2252, 6, 10), vec_X_test.shape: (9009, 6, 10), vec_y_train.shape: (2252,), vec_y_test.shape: (9009,)\n",
      "282/282 [==============================] - 1s 1ms/step\n",
      "Tower 2 first temp: 73.14450073242188\n",
      "finetuning_percentage: 0.4 vec_X_train.shape: (4504, 6, 10), vec_X_test.shape: (6757, 6, 10), vec_y_train.shape: (4504,), vec_y_test.shape: (6757,)\n",
      "212/212 [==============================] - 0s 1ms/step\n",
      "Tower 2 first temp: 73.14450073242188\n",
      "finetuning_percentage: 0.6 vec_X_train.shape: (6756, 6, 10), vec_X_test.shape: (4505, 6, 10), vec_y_train.shape: (6756,), vec_y_test.shape: (4505,)\n",
      "141/141 [==============================] - 0s 1ms/step\n",
      "Tower 2 first temp: 73.14450073242188\n",
      "finetuning_percentage: 0.8 vec_X_train.shape: (9008, 6, 10), vec_X_test.shape: (2253, 6, 10), vec_y_train.shape: (9008,), vec_y_test.shape: (2253,)\n",
      "71/71 [==============================] - 0s 1ms/step\n",
      "Tower 2 first temp: 73.14450073242188\n",
      "352/352 [==============================] - 1s 1ms/step\n",
      "Tower 2 first temp: 73.14450073242188\n",
      "finetuning_percentage: 0.2 vec_X_train.shape: (2252, 6, 10), vec_X_test.shape: (9009, 6, 10), vec_y_train.shape: (2252,), vec_y_test.shape: (9009,)\n",
      "282/282 [==============================] - 1s 1ms/step\n",
      "Tower 2 first temp: 73.14450073242188\n",
      "finetuning_percentage: 0.4 vec_X_train.shape: (4504, 6, 10), vec_X_test.shape: (6757, 6, 10), vec_y_train.shape: (4504,), vec_y_test.shape: (6757,)\n",
      "212/212 [==============================] - 0s 999us/step\n",
      "Tower 2 first temp: 73.14450073242188\n",
      "finetuning_percentage: 0.6 vec_X_train.shape: (6756, 6, 10), vec_X_test.shape: (4505, 6, 10), vec_y_train.shape: (6756,), vec_y_test.shape: (4505,)\n",
      "141/141 [==============================] - 0s 1ms/step\n",
      "Tower 2 first temp: 73.14450073242188\n",
      "finetuning_percentage: 0.8 vec_X_train.shape: (9008, 6, 10), vec_X_test.shape: (2253, 6, 10), vec_y_train.shape: (9008,), vec_y_test.shape: (2253,)\n",
      "71/71 [==============================] - 0s 1ms/step\n",
      "Tower 2 first temp: 73.14450073242188\n",
      "352/352 [==============================] - 1s 1ms/step\n",
      "Tower 2 first temp: 73.14450073242188\n",
      "finetuning_percentage: 0.2 vec_X_train.shape: (2252, 6, 10), vec_X_test.shape: (9009, 6, 10), vec_y_train.shape: (2252,), vec_y_test.shape: (9009,)\n",
      "282/282 [==============================] - 1s 1ms/step\n",
      "Tower 2 first temp: 73.14450073242188\n",
      "finetuning_percentage: 0.4 vec_X_train.shape: (4504, 6, 10), vec_X_test.shape: (6757, 6, 10), vec_y_train.shape: (4504,), vec_y_test.shape: (6757,)\n",
      "212/212 [==============================] - 1s 1ms/step\n",
      "Tower 2 first temp: 73.14450073242188\n",
      "finetuning_percentage: 0.6 vec_X_train.shape: (6756, 6, 10), vec_X_test.shape: (4505, 6, 10), vec_y_train.shape: (6756,), vec_y_test.shape: (4505,)\n",
      "141/141 [==============================] - 0s 1ms/step\n",
      "Tower 2 first temp: 73.14450073242188\n",
      "finetuning_percentage: 0.8 vec_X_train.shape: (9008, 6, 10), vec_X_test.shape: (2253, 6, 10), vec_y_train.shape: (9008,), vec_y_test.shape: (2253,)\n",
      "71/71 [==============================] - 0s 1ms/step\n",
      "Tower 2 first temp: 73.14450073242188\n",
      "352/352 [==============================] - 1s 1ms/step\n",
      "Tower 2 first temp: 73.14450073242188\n",
      "finetuning_percentage: 0.2 vec_X_train.shape: (2252, 6, 10), vec_X_test.shape: (9009, 6, 10), vec_y_train.shape: (2252,), vec_y_test.shape: (9009,)\n",
      "282/282 [==============================] - 1s 1ms/step\n",
      "Tower 2 first temp: 73.14450073242188\n",
      "finetuning_percentage: 0.4 vec_X_train.shape: (4504, 6, 10), vec_X_test.shape: (6757, 6, 10), vec_y_train.shape: (4504,), vec_y_test.shape: (6757,)\n",
      "212/212 [==============================] - 0s 1ms/step\n",
      "Tower 2 first temp: 73.14450073242188\n",
      "finetuning_percentage: 0.6 vec_X_train.shape: (6756, 6, 10), vec_X_test.shape: (4505, 6, 10), vec_y_train.shape: (6756,), vec_y_test.shape: (4505,)\n",
      "141/141 [==============================] - 0s 1ms/step\n",
      "Tower 2 first temp: 73.14450073242188\n",
      "finetuning_percentage: 0.8 vec_X_train.shape: (9008, 6, 10), vec_X_test.shape: (2253, 6, 10), vec_y_train.shape: (9008,), vec_y_test.shape: (2253,)\n",
      "71/71 [==============================] - 0s 2ms/step\n"
     ]
    },
    {
     "data": {
      "application/vnd.plotly.v1+json": {
       "config": {
        "plotlyServerURL": "https://plot.ly"
       },
       "data": [
        {
         "hovertemplate": "variable=RMSE with seed 17<br>finetuning data percentage=%{x}<br>value=%{y}<extra></extra>",
         "legendgroup": "RMSE with seed 17",
         "line": {
          "color": "#636efa",
          "dash": "solid"
         },
         "marker": {
          "symbol": "circle"
         },
         "mode": "lines",
         "name": "RMSE with seed 17",
         "orientation": "v",
         "showlegend": true,
         "type": "scatter",
         "x": [
          0,
          20,
          40,
          60,
          80
         ],
         "xaxis": "x",
         "y": [
          3.66299206788089,
          3.6097787530125034,
          3.5912550036028037,
          3.609461634228423,
          3.660406901876475
         ],
         "yaxis": "y"
        },
        {
         "hovertemplate": "variable=RMSE with seed 42<br>finetuning data percentage=%{x}<br>value=%{y}<extra></extra>",
         "legendgroup": "RMSE with seed 42",
         "line": {
          "color": "#EF553B",
          "dash": "solid"
         },
         "marker": {
          "symbol": "circle"
         },
         "mode": "lines",
         "name": "RMSE with seed 42",
         "orientation": "v",
         "showlegend": true,
         "type": "scatter",
         "x": [
          0,
          20,
          40,
          60,
          80
         ],
         "xaxis": "x",
         "y": [
          3.66299206788089,
          3.793439458645039,
          3.718874080817805,
          3.70201531555317,
          3.7130913269067833
         ],
         "yaxis": "y"
        },
        {
         "hovertemplate": "variable=RMSE with seed 64<br>finetuning data percentage=%{x}<br>value=%{y}<extra></extra>",
         "legendgroup": "RMSE with seed 64",
         "line": {
          "color": "#00cc96",
          "dash": "solid"
         },
         "marker": {
          "symbol": "circle"
         },
         "mode": "lines",
         "name": "RMSE with seed 64",
         "orientation": "v",
         "showlegend": true,
         "type": "scatter",
         "x": [
          0,
          20,
          40,
          60,
          80
         ],
         "xaxis": "x",
         "y": [
          3.66299206788089,
          3.39074712597784,
          3.576322110013261,
          3.6276852806168236,
          3.667287741100768
         ],
         "yaxis": "y"
        },
        {
         "hovertemplate": "variable=RMSE with seed 76<br>finetuning data percentage=%{x}<br>value=%{y}<extra></extra>",
         "legendgroup": "RMSE with seed 76",
         "line": {
          "color": "#ab63fa",
          "dash": "solid"
         },
         "marker": {
          "symbol": "circle"
         },
         "mode": "lines",
         "name": "RMSE with seed 76",
         "orientation": "v",
         "showlegend": true,
         "type": "scatter",
         "x": [
          0,
          20,
          40,
          60,
          80
         ],
         "xaxis": "x",
         "y": [
          3.66299206788089,
          3.5600181815120635,
          3.6264720779774358,
          3.7086803562453965,
          3.684755223758861
         ],
         "yaxis": "y"
        },
        {
         "hovertemplate": "variable=RMSE with seed 98<br>finetuning data percentage=%{x}<br>value=%{y}<extra></extra>",
         "legendgroup": "RMSE with seed 98",
         "line": {
          "color": "#FFA15A",
          "dash": "solid"
         },
         "marker": {
          "symbol": "circle"
         },
         "mode": "lines",
         "name": "RMSE with seed 98",
         "orientation": "v",
         "showlegend": true,
         "type": "scatter",
         "x": [
          0,
          20,
          40,
          60,
          80
         ],
         "xaxis": "x",
         "y": [
          3.66299206788089,
          3.6498098005848476,
          3.592160771676382,
          3.668678886611224,
          3.663013209491598
         ],
         "yaxis": "y"
        },
        {
         "hovertemplate": "variable=RMSE with seed 17<br>finetuning data percentage=%{x}<br>value=%{y}<extra></extra>",
         "legendgroup": "RMSE with seed 17",
         "line": {
          "color": "#636efa",
          "dash": "solid"
         },
         "marker": {
          "symbol": "circle"
         },
         "mode": "lines",
         "name": "RMSE with seed 17",
         "orientation": "v",
         "showlegend": true,
         "type": "scatter",
         "x": [
          0,
          20,
          40,
          60,
          80
         ],
         "xaxis": "x2",
         "y": [
          3.66299206788089,
          3.6097787530125034,
          3.5912550036028037,
          3.609461634228423,
          3.660406901876475
         ],
         "yaxis": "y2"
        },
        {
         "hovertemplate": "variable=RMSE with seed 42<br>finetuning data percentage=%{x}<br>value=%{y}<extra></extra>",
         "legendgroup": "RMSE with seed 42",
         "line": {
          "color": "#EF553B",
          "dash": "solid"
         },
         "marker": {
          "symbol": "circle"
         },
         "mode": "lines",
         "name": "RMSE with seed 42",
         "orientation": "v",
         "showlegend": true,
         "type": "scatter",
         "x": [
          0,
          20,
          40,
          60,
          80
         ],
         "xaxis": "x2",
         "y": [
          3.66299206788089,
          3.793439458645039,
          3.718874080817805,
          3.70201531555317,
          3.7130913269067833
         ],
         "yaxis": "y2"
        },
        {
         "hovertemplate": "variable=RMSE with seed 64<br>finetuning data percentage=%{x}<br>value=%{y}<extra></extra>",
         "legendgroup": "RMSE with seed 64",
         "line": {
          "color": "#00cc96",
          "dash": "solid"
         },
         "marker": {
          "symbol": "circle"
         },
         "mode": "lines",
         "name": "RMSE with seed 64",
         "orientation": "v",
         "showlegend": true,
         "type": "scatter",
         "x": [
          0,
          20,
          40,
          60,
          80
         ],
         "xaxis": "x2",
         "y": [
          3.66299206788089,
          3.39074712597784,
          3.576322110013261,
          3.6276852806168236,
          3.667287741100768
         ],
         "yaxis": "y2"
        },
        {
         "hovertemplate": "variable=RMSE with seed 76<br>finetuning data percentage=%{x}<br>value=%{y}<extra></extra>",
         "legendgroup": "RMSE with seed 76",
         "line": {
          "color": "#ab63fa",
          "dash": "solid"
         },
         "marker": {
          "symbol": "circle"
         },
         "mode": "lines",
         "name": "RMSE with seed 76",
         "orientation": "v",
         "showlegend": true,
         "type": "scatter",
         "x": [
          0,
          20,
          40,
          60,
          80
         ],
         "xaxis": "x2",
         "y": [
          3.66299206788089,
          3.5600181815120635,
          3.6264720779774358,
          3.7086803562453965,
          3.684755223758861
         ],
         "yaxis": "y2"
        },
        {
         "hovertemplate": "variable=RMSE with seed 98<br>finetuning data percentage=%{x}<br>value=%{y}<extra></extra>",
         "legendgroup": "RMSE with seed 98",
         "line": {
          "color": "#FFA15A",
          "dash": "solid"
         },
         "marker": {
          "symbol": "circle"
         },
         "mode": "lines",
         "name": "RMSE with seed 98",
         "orientation": "v",
         "showlegend": true,
         "type": "scatter",
         "x": [
          0,
          20,
          40,
          60,
          80
         ],
         "xaxis": "x2",
         "y": [
          3.66299206788089,
          3.6498098005848476,
          3.592160771676382,
          3.668678886611224,
          3.663013209491598
         ],
         "yaxis": "y2"
        },
        {
         "hovertemplate": "variable=RMSE with seed 42<br>finetuning data percentage=%{x}<br>value=%{y}<extra></extra>",
         "legendgroup": "RMSE with seed 42",
         "line": {
          "color": "#EF553B",
          "dash": "solid"
         },
         "marker": {
          "symbol": "circle"
         },
         "mode": "lines",
         "name": "RMSE with seed 42",
         "orientation": "v",
         "showlegend": true,
         "type": "scatter",
         "x": [
          0,
          20,
          40,
          60,
          80
         ],
         "xaxis": "x2",
         "y": [
          3.66299206788089,
          3.793439458645039,
          3.718874080817805,
          3.70201531555317,
          3.7130913269067833
         ],
         "yaxis": "y2"
        }
       ],
       "layout": {
        "showlegend": true,
        "template": {
         "data": {
          "bar": [
           {
            "error_x": {
             "color": "#2a3f5f"
            },
            "error_y": {
             "color": "#2a3f5f"
            },
            "marker": {
             "line": {
              "color": "#E5ECF6",
              "width": 0.5
             },
             "pattern": {
              "fillmode": "overlay",
              "size": 10,
              "solidity": 0.2
             }
            },
            "type": "bar"
           }
          ],
          "barpolar": [
           {
            "marker": {
             "line": {
              "color": "#E5ECF6",
              "width": 0.5
             },
             "pattern": {
              "fillmode": "overlay",
              "size": 10,
              "solidity": 0.2
             }
            },
            "type": "barpolar"
           }
          ],
          "carpet": [
           {
            "aaxis": {
             "endlinecolor": "#2a3f5f",
             "gridcolor": "white",
             "linecolor": "white",
             "minorgridcolor": "white",
             "startlinecolor": "#2a3f5f"
            },
            "baxis": {
             "endlinecolor": "#2a3f5f",
             "gridcolor": "white",
             "linecolor": "white",
             "minorgridcolor": "white",
             "startlinecolor": "#2a3f5f"
            },
            "type": "carpet"
           }
          ],
          "choropleth": [
           {
            "colorbar": {
             "outlinewidth": 0,
             "ticks": ""
            },
            "type": "choropleth"
           }
          ],
          "contour": [
           {
            "colorbar": {
             "outlinewidth": 0,
             "ticks": ""
            },
            "colorscale": [
             [
              0,
              "#0d0887"
             ],
             [
              0.1111111111111111,
              "#46039f"
             ],
             [
              0.2222222222222222,
              "#7201a8"
             ],
             [
              0.3333333333333333,
              "#9c179e"
             ],
             [
              0.4444444444444444,
              "#bd3786"
             ],
             [
              0.5555555555555556,
              "#d8576b"
             ],
             [
              0.6666666666666666,
              "#ed7953"
             ],
             [
              0.7777777777777778,
              "#fb9f3a"
             ],
             [
              0.8888888888888888,
              "#fdca26"
             ],
             [
              1,
              "#f0f921"
             ]
            ],
            "type": "contour"
           }
          ],
          "contourcarpet": [
           {
            "colorbar": {
             "outlinewidth": 0,
             "ticks": ""
            },
            "type": "contourcarpet"
           }
          ],
          "heatmap": [
           {
            "colorbar": {
             "outlinewidth": 0,
             "ticks": ""
            },
            "colorscale": [
             [
              0,
              "#0d0887"
             ],
             [
              0.1111111111111111,
              "#46039f"
             ],
             [
              0.2222222222222222,
              "#7201a8"
             ],
             [
              0.3333333333333333,
              "#9c179e"
             ],
             [
              0.4444444444444444,
              "#bd3786"
             ],
             [
              0.5555555555555556,
              "#d8576b"
             ],
             [
              0.6666666666666666,
              "#ed7953"
             ],
             [
              0.7777777777777778,
              "#fb9f3a"
             ],
             [
              0.8888888888888888,
              "#fdca26"
             ],
             [
              1,
              "#f0f921"
             ]
            ],
            "type": "heatmap"
           }
          ],
          "heatmapgl": [
           {
            "colorbar": {
             "outlinewidth": 0,
             "ticks": ""
            },
            "colorscale": [
             [
              0,
              "#0d0887"
             ],
             [
              0.1111111111111111,
              "#46039f"
             ],
             [
              0.2222222222222222,
              "#7201a8"
             ],
             [
              0.3333333333333333,
              "#9c179e"
             ],
             [
              0.4444444444444444,
              "#bd3786"
             ],
             [
              0.5555555555555556,
              "#d8576b"
             ],
             [
              0.6666666666666666,
              "#ed7953"
             ],
             [
              0.7777777777777778,
              "#fb9f3a"
             ],
             [
              0.8888888888888888,
              "#fdca26"
             ],
             [
              1,
              "#f0f921"
             ]
            ],
            "type": "heatmapgl"
           }
          ],
          "histogram": [
           {
            "marker": {
             "pattern": {
              "fillmode": "overlay",
              "size": 10,
              "solidity": 0.2
             }
            },
            "type": "histogram"
           }
          ],
          "histogram2d": [
           {
            "colorbar": {
             "outlinewidth": 0,
             "ticks": ""
            },
            "colorscale": [
             [
              0,
              "#0d0887"
             ],
             [
              0.1111111111111111,
              "#46039f"
             ],
             [
              0.2222222222222222,
              "#7201a8"
             ],
             [
              0.3333333333333333,
              "#9c179e"
             ],
             [
              0.4444444444444444,
              "#bd3786"
             ],
             [
              0.5555555555555556,
              "#d8576b"
             ],
             [
              0.6666666666666666,
              "#ed7953"
             ],
             [
              0.7777777777777778,
              "#fb9f3a"
             ],
             [
              0.8888888888888888,
              "#fdca26"
             ],
             [
              1,
              "#f0f921"
             ]
            ],
            "type": "histogram2d"
           }
          ],
          "histogram2dcontour": [
           {
            "colorbar": {
             "outlinewidth": 0,
             "ticks": ""
            },
            "colorscale": [
             [
              0,
              "#0d0887"
             ],
             [
              0.1111111111111111,
              "#46039f"
             ],
             [
              0.2222222222222222,
              "#7201a8"
             ],
             [
              0.3333333333333333,
              "#9c179e"
             ],
             [
              0.4444444444444444,
              "#bd3786"
             ],
             [
              0.5555555555555556,
              "#d8576b"
             ],
             [
              0.6666666666666666,
              "#ed7953"
             ],
             [
              0.7777777777777778,
              "#fb9f3a"
             ],
             [
              0.8888888888888888,
              "#fdca26"
             ],
             [
              1,
              "#f0f921"
             ]
            ],
            "type": "histogram2dcontour"
           }
          ],
          "mesh3d": [
           {
            "colorbar": {
             "outlinewidth": 0,
             "ticks": ""
            },
            "type": "mesh3d"
           }
          ],
          "parcoords": [
           {
            "line": {
             "colorbar": {
              "outlinewidth": 0,
              "ticks": ""
             }
            },
            "type": "parcoords"
           }
          ],
          "pie": [
           {
            "automargin": true,
            "type": "pie"
           }
          ],
          "scatter": [
           {
            "fillpattern": {
             "fillmode": "overlay",
             "size": 10,
             "solidity": 0.2
            },
            "type": "scatter"
           }
          ],
          "scatter3d": [
           {
            "line": {
             "colorbar": {
              "outlinewidth": 0,
              "ticks": ""
             }
            },
            "marker": {
             "colorbar": {
              "outlinewidth": 0,
              "ticks": ""
             }
            },
            "type": "scatter3d"
           }
          ],
          "scattercarpet": [
           {
            "marker": {
             "colorbar": {
              "outlinewidth": 0,
              "ticks": ""
             }
            },
            "type": "scattercarpet"
           }
          ],
          "scattergeo": [
           {
            "marker": {
             "colorbar": {
              "outlinewidth": 0,
              "ticks": ""
             }
            },
            "type": "scattergeo"
           }
          ],
          "scattergl": [
           {
            "marker": {
             "colorbar": {
              "outlinewidth": 0,
              "ticks": ""
             }
            },
            "type": "scattergl"
           }
          ],
          "scattermapbox": [
           {
            "marker": {
             "colorbar": {
              "outlinewidth": 0,
              "ticks": ""
             }
            },
            "type": "scattermapbox"
           }
          ],
          "scatterpolar": [
           {
            "marker": {
             "colorbar": {
              "outlinewidth": 0,
              "ticks": ""
             }
            },
            "type": "scatterpolar"
           }
          ],
          "scatterpolargl": [
           {
            "marker": {
             "colorbar": {
              "outlinewidth": 0,
              "ticks": ""
             }
            },
            "type": "scatterpolargl"
           }
          ],
          "scatterternary": [
           {
            "marker": {
             "colorbar": {
              "outlinewidth": 0,
              "ticks": ""
             }
            },
            "type": "scatterternary"
           }
          ],
          "surface": [
           {
            "colorbar": {
             "outlinewidth": 0,
             "ticks": ""
            },
            "colorscale": [
             [
              0,
              "#0d0887"
             ],
             [
              0.1111111111111111,
              "#46039f"
             ],
             [
              0.2222222222222222,
              "#7201a8"
             ],
             [
              0.3333333333333333,
              "#9c179e"
             ],
             [
              0.4444444444444444,
              "#bd3786"
             ],
             [
              0.5555555555555556,
              "#d8576b"
             ],
             [
              0.6666666666666666,
              "#ed7953"
             ],
             [
              0.7777777777777778,
              "#fb9f3a"
             ],
             [
              0.8888888888888888,
              "#fdca26"
             ],
             [
              1,
              "#f0f921"
             ]
            ],
            "type": "surface"
           }
          ],
          "table": [
           {
            "cells": {
             "fill": {
              "color": "#EBF0F8"
             },
             "line": {
              "color": "white"
             }
            },
            "header": {
             "fill": {
              "color": "#C8D4E3"
             },
             "line": {
              "color": "white"
             }
            },
            "type": "table"
           }
          ]
         },
         "layout": {
          "annotationdefaults": {
           "arrowcolor": "#2a3f5f",
           "arrowhead": 0,
           "arrowwidth": 1
          },
          "autotypenumbers": "strict",
          "coloraxis": {
           "colorbar": {
            "outlinewidth": 0,
            "ticks": ""
           }
          },
          "colorscale": {
           "diverging": [
            [
             0,
             "#8e0152"
            ],
            [
             0.1,
             "#c51b7d"
            ],
            [
             0.2,
             "#de77ae"
            ],
            [
             0.3,
             "#f1b6da"
            ],
            [
             0.4,
             "#fde0ef"
            ],
            [
             0.5,
             "#f7f7f7"
            ],
            [
             0.6,
             "#e6f5d0"
            ],
            [
             0.7,
             "#b8e186"
            ],
            [
             0.8,
             "#7fbc41"
            ],
            [
             0.9,
             "#4d9221"
            ],
            [
             1,
             "#276419"
            ]
           ],
           "sequential": [
            [
             0,
             "#0d0887"
            ],
            [
             0.1111111111111111,
             "#46039f"
            ],
            [
             0.2222222222222222,
             "#7201a8"
            ],
            [
             0.3333333333333333,
             "#9c179e"
            ],
            [
             0.4444444444444444,
             "#bd3786"
            ],
            [
             0.5555555555555556,
             "#d8576b"
            ],
            [
             0.6666666666666666,
             "#ed7953"
            ],
            [
             0.7777777777777778,
             "#fb9f3a"
            ],
            [
             0.8888888888888888,
             "#fdca26"
            ],
            [
             1,
             "#f0f921"
            ]
           ],
           "sequentialminus": [
            [
             0,
             "#0d0887"
            ],
            [
             0.1111111111111111,
             "#46039f"
            ],
            [
             0.2222222222222222,
             "#7201a8"
            ],
            [
             0.3333333333333333,
             "#9c179e"
            ],
            [
             0.4444444444444444,
             "#bd3786"
            ],
            [
             0.5555555555555556,
             "#d8576b"
            ],
            [
             0.6666666666666666,
             "#ed7953"
            ],
            [
             0.7777777777777778,
             "#fb9f3a"
            ],
            [
             0.8888888888888888,
             "#fdca26"
            ],
            [
             1,
             "#f0f921"
            ]
           ]
          },
          "colorway": [
           "#636efa",
           "#EF553B",
           "#00cc96",
           "#ab63fa",
           "#FFA15A",
           "#19d3f3",
           "#FF6692",
           "#B6E880",
           "#FF97FF",
           "#FECB52"
          ],
          "font": {
           "color": "#2a3f5f"
          },
          "geo": {
           "bgcolor": "white",
           "lakecolor": "white",
           "landcolor": "#E5ECF6",
           "showlakes": true,
           "showland": true,
           "subunitcolor": "white"
          },
          "hoverlabel": {
           "align": "left"
          },
          "hovermode": "closest",
          "mapbox": {
           "style": "light"
          },
          "paper_bgcolor": "white",
          "plot_bgcolor": "#E5ECF6",
          "polar": {
           "angularaxis": {
            "gridcolor": "white",
            "linecolor": "white",
            "ticks": ""
           },
           "bgcolor": "#E5ECF6",
           "radialaxis": {
            "gridcolor": "white",
            "linecolor": "white",
            "ticks": ""
           }
          },
          "scene": {
           "xaxis": {
            "backgroundcolor": "#E5ECF6",
            "gridcolor": "white",
            "gridwidth": 2,
            "linecolor": "white",
            "showbackground": true,
            "ticks": "",
            "zerolinecolor": "white"
           },
           "yaxis": {
            "backgroundcolor": "#E5ECF6",
            "gridcolor": "white",
            "gridwidth": 2,
            "linecolor": "white",
            "showbackground": true,
            "ticks": "",
            "zerolinecolor": "white"
           },
           "zaxis": {
            "backgroundcolor": "#E5ECF6",
            "gridcolor": "white",
            "gridwidth": 2,
            "linecolor": "white",
            "showbackground": true,
            "ticks": "",
            "zerolinecolor": "white"
           }
          },
          "shapedefaults": {
           "line": {
            "color": "#2a3f5f"
           }
          },
          "ternary": {
           "aaxis": {
            "gridcolor": "white",
            "linecolor": "white",
            "ticks": ""
           },
           "baxis": {
            "gridcolor": "white",
            "linecolor": "white",
            "ticks": ""
           },
           "bgcolor": "#E5ECF6",
           "caxis": {
            "gridcolor": "white",
            "linecolor": "white",
            "ticks": ""
           }
          },
          "title": {
           "x": 0.05
          },
          "xaxis": {
           "automargin": true,
           "gridcolor": "white",
           "linecolor": "white",
           "ticks": "",
           "title": {
            "standoff": 15
           },
           "zerolinecolor": "white",
           "zerolinewidth": 2
          },
          "yaxis": {
           "automargin": true,
           "gridcolor": "white",
           "linecolor": "white",
           "ticks": "",
           "title": {
            "standoff": 15
           },
           "zerolinecolor": "white",
           "zerolinewidth": 2
          }
         }
        },
        "title": {
         "text": "Kissam Tower 1 to ESB Tower 1, Kissam Tower 1 to ESB Tower 2 (summer) (feature extraction)"
        },
        "xaxis": {
         "anchor": "y",
         "domain": [
          0,
          0.45
         ],
         "title": {
          "text": "Finetuning data percentage"
         }
        },
        "xaxis2": {
         "anchor": "y2",
         "domain": [
          0.55,
          1
         ],
         "title": {
          "text": "Finetuning data percentage"
         }
        },
        "yaxis": {
         "anchor": "x",
         "domain": [
          0,
          1
         ],
         "title": {
          "text": "Error"
         }
        },
        "yaxis2": {
         "anchor": "x2",
         "domain": [
          0,
          1
         ],
         "title": {
          "text": "Error"
         }
        }
       }
      }
     },
     "metadata": {},
     "output_type": "display_data"
    },
    {
     "data": {
      "application/vnd.plotly.v1+json": {
       "config": {
        "plotlyServerURL": "https://plot.ly"
       },
       "data": [
        {
         "hovertemplate": "variable=PIR with seed 17<br>finetuning data percentage=%{x}<br>value=%{y}<extra></extra>",
         "legendgroup": "PIR with seed 17",
         "line": {
          "color": "#636efa",
          "dash": "solid"
         },
         "marker": {
          "symbol": "circle"
         },
         "mode": "lines",
         "name": "PIR with seed 17",
         "orientation": "v",
         "showlegend": true,
         "type": "scatter",
         "x": [
          0,
          20,
          40,
          60,
          80
         ],
         "xaxis": "x",
         "y": [
          0,
          0.014527280944719964,
          0.019584280541340995,
          0.0146138546468202,
          0.0007057525532427668
         ],
         "yaxis": "y"
        },
        {
         "hovertemplate": "variable=PIR with seed 42<br>finetuning data percentage=%{x}<br>value=%{y}<extra></extra>",
         "legendgroup": "PIR with seed 42",
         "line": {
          "color": "#EF553B",
          "dash": "solid"
         },
         "marker": {
          "symbol": "circle"
         },
         "mode": "lines",
         "name": "PIR with seed 42",
         "orientation": "v",
         "showlegend": true,
         "type": "scatter",
         "x": [
          0,
          20,
          40,
          60,
          80
         ],
         "xaxis": "x",
         "y": [
          0,
          -0.03561225040807023,
          -0.01525583782365215,
          -0.010653380337472573,
          -0.013677141008628196
         ],
         "yaxis": "y"
        },
        {
         "hovertemplate": "variable=PIR with seed 64<br>finetuning data percentage=%{x}<br>value=%{y}<extra></extra>",
         "legendgroup": "PIR with seed 64",
         "line": {
          "color": "#00cc96",
          "dash": "solid"
         },
         "marker": {
          "symbol": "circle"
         },
         "mode": "lines",
         "name": "PIR with seed 64",
         "orientation": "v",
         "showlegend": true,
         "type": "scatter",
         "x": [
          0,
          20,
          40,
          60,
          80
         ],
         "xaxis": "x",
         "y": [
          0,
          0.07432310440697973,
          0.023660973395929052,
          0.009638783434355582,
          -0.001172722501242852
         ],
         "yaxis": "y"
        },
        {
         "hovertemplate": "variable=PIR with seed 76<br>finetuning data percentage=%{x}<br>value=%{y}<extra></extra>",
         "legendgroup": "PIR with seed 76",
         "line": {
          "color": "#ab63fa",
          "dash": "solid"
         },
         "marker": {
          "symbol": "circle"
         },
         "mode": "lines",
         "name": "PIR with seed 76",
         "orientation": "v",
         "showlegend": true,
         "type": "scatter",
         "x": [
          0,
          20,
          40,
          60,
          80
         ],
         "xaxis": "x",
         "y": [
          0,
          0.028111959966213813,
          0.009969988803328632,
          -0.012472942206216189,
          -0.005941360361875365
         ],
         "yaxis": "y"
        },
        {
         "hovertemplate": "variable=PIR with seed 98<br>finetuning data percentage=%{x}<br>value=%{y}<extra></extra>",
         "legendgroup": "PIR with seed 98",
         "line": {
          "color": "#FFA15A",
          "dash": "solid"
         },
         "marker": {
          "symbol": "circle"
         },
         "mode": "lines",
         "name": "PIR with seed 98",
         "orientation": "v",
         "showlegend": true,
         "type": "scatter",
         "x": [
          0,
          20,
          40,
          60,
          80
         ],
         "xaxis": "x",
         "y": [
          0,
          0.003598770363613811,
          0.019337005074511374,
          -0.0015525064277914164,
          -0.0000057716779934362155
         ],
         "yaxis": "y"
        },
        {
         "hovertemplate": "variable=PIR with seed 17<br>finetuning data percentage=%{x}<br>value=%{y}<extra></extra>",
         "legendgroup": "PIR with seed 17",
         "line": {
          "color": "#636efa",
          "dash": "solid"
         },
         "marker": {
          "symbol": "circle"
         },
         "mode": "lines",
         "name": "PIR with seed 17",
         "orientation": "v",
         "showlegend": true,
         "type": "scatter",
         "x": [
          0,
          20,
          40,
          60,
          80
         ],
         "xaxis": "x2",
         "y": [
          0,
          -0.011145101050582758,
          -0.07861394387664483,
          -0.03005844021311979,
          0.009381576432949913
         ],
         "yaxis": "y2"
        },
        {
         "hovertemplate": "variable=PIR with seed 42<br>finetuning data percentage=%{x}<br>value=%{y}<extra></extra>",
         "legendgroup": "PIR with seed 42",
         "line": {
          "color": "#EF553B",
          "dash": "solid"
         },
         "marker": {
          "symbol": "circle"
         },
         "mode": "lines",
         "name": "PIR with seed 42",
         "orientation": "v",
         "showlegend": true,
         "type": "scatter",
         "x": [
          0,
          20,
          40,
          60,
          80
         ],
         "xaxis": "x2",
         "y": [
          0,
          -0.09516500496490643,
          -0.07936699171864176,
          -0.07093442246345942,
          -0.056370534416803814
         ],
         "yaxis": "y2"
        },
        {
         "hovertemplate": "variable=PIR with seed 64<br>finetuning data percentage=%{x}<br>value=%{y}<extra></extra>",
         "legendgroup": "PIR with seed 64",
         "line": {
          "color": "#00cc96",
          "dash": "solid"
         },
         "marker": {
          "symbol": "circle"
         },
         "mode": "lines",
         "name": "PIR with seed 64",
         "orientation": "v",
         "showlegend": true,
         "type": "scatter",
         "x": [
          0,
          20,
          40,
          60,
          80
         ],
         "xaxis": "x2",
         "y": [
          0,
          0.0799585946801046,
          0.01137055140116042,
          0.015579255559260612,
          0.00935234837014882
         ],
         "yaxis": "y2"
        },
        {
         "hovertemplate": "variable=PIR with seed 76<br>finetuning data percentage=%{x}<br>value=%{y}<extra></extra>",
         "legendgroup": "PIR with seed 76",
         "line": {
          "color": "#ab63fa",
          "dash": "solid"
         },
         "marker": {
          "symbol": "circle"
         },
         "mode": "lines",
         "name": "PIR with seed 76",
         "orientation": "v",
         "showlegend": true,
         "type": "scatter",
         "x": [
          0,
          20,
          40,
          60,
          80
         ],
         "xaxis": "x2",
         "y": [
          0,
          -0.11045112182845962,
          -0.0736891902279712,
          -0.028750635497403747,
          0.026192198095545724
         ],
         "yaxis": "y2"
        },
        {
         "hovertemplate": "variable=PIR with seed 98<br>finetuning data percentage=%{x}<br>value=%{y}<extra></extra>",
         "legendgroup": "PIR with seed 98",
         "line": {
          "color": "#FFA15A",
          "dash": "solid"
         },
         "marker": {
          "symbol": "circle"
         },
         "mode": "lines",
         "name": "PIR with seed 98",
         "orientation": "v",
         "showlegend": true,
         "type": "scatter",
         "x": [
          0,
          20,
          40,
          60,
          80
         ],
         "xaxis": "x2",
         "y": [
          0,
          -0.06978377707806256,
          -0.09942006447844982,
          -0.08007327446256064,
          0.0043556493669623985
         ],
         "yaxis": "y2"
        }
       ],
       "layout": {
        "showlegend": true,
        "template": {
         "data": {
          "bar": [
           {
            "error_x": {
             "color": "#2a3f5f"
            },
            "error_y": {
             "color": "#2a3f5f"
            },
            "marker": {
             "line": {
              "color": "#E5ECF6",
              "width": 0.5
             },
             "pattern": {
              "fillmode": "overlay",
              "size": 10,
              "solidity": 0.2
             }
            },
            "type": "bar"
           }
          ],
          "barpolar": [
           {
            "marker": {
             "line": {
              "color": "#E5ECF6",
              "width": 0.5
             },
             "pattern": {
              "fillmode": "overlay",
              "size": 10,
              "solidity": 0.2
             }
            },
            "type": "barpolar"
           }
          ],
          "carpet": [
           {
            "aaxis": {
             "endlinecolor": "#2a3f5f",
             "gridcolor": "white",
             "linecolor": "white",
             "minorgridcolor": "white",
             "startlinecolor": "#2a3f5f"
            },
            "baxis": {
             "endlinecolor": "#2a3f5f",
             "gridcolor": "white",
             "linecolor": "white",
             "minorgridcolor": "white",
             "startlinecolor": "#2a3f5f"
            },
            "type": "carpet"
           }
          ],
          "choropleth": [
           {
            "colorbar": {
             "outlinewidth": 0,
             "ticks": ""
            },
            "type": "choropleth"
           }
          ],
          "contour": [
           {
            "colorbar": {
             "outlinewidth": 0,
             "ticks": ""
            },
            "colorscale": [
             [
              0,
              "#0d0887"
             ],
             [
              0.1111111111111111,
              "#46039f"
             ],
             [
              0.2222222222222222,
              "#7201a8"
             ],
             [
              0.3333333333333333,
              "#9c179e"
             ],
             [
              0.4444444444444444,
              "#bd3786"
             ],
             [
              0.5555555555555556,
              "#d8576b"
             ],
             [
              0.6666666666666666,
              "#ed7953"
             ],
             [
              0.7777777777777778,
              "#fb9f3a"
             ],
             [
              0.8888888888888888,
              "#fdca26"
             ],
             [
              1,
              "#f0f921"
             ]
            ],
            "type": "contour"
           }
          ],
          "contourcarpet": [
           {
            "colorbar": {
             "outlinewidth": 0,
             "ticks": ""
            },
            "type": "contourcarpet"
           }
          ],
          "heatmap": [
           {
            "colorbar": {
             "outlinewidth": 0,
             "ticks": ""
            },
            "colorscale": [
             [
              0,
              "#0d0887"
             ],
             [
              0.1111111111111111,
              "#46039f"
             ],
             [
              0.2222222222222222,
              "#7201a8"
             ],
             [
              0.3333333333333333,
              "#9c179e"
             ],
             [
              0.4444444444444444,
              "#bd3786"
             ],
             [
              0.5555555555555556,
              "#d8576b"
             ],
             [
              0.6666666666666666,
              "#ed7953"
             ],
             [
              0.7777777777777778,
              "#fb9f3a"
             ],
             [
              0.8888888888888888,
              "#fdca26"
             ],
             [
              1,
              "#f0f921"
             ]
            ],
            "type": "heatmap"
           }
          ],
          "heatmapgl": [
           {
            "colorbar": {
             "outlinewidth": 0,
             "ticks": ""
            },
            "colorscale": [
             [
              0,
              "#0d0887"
             ],
             [
              0.1111111111111111,
              "#46039f"
             ],
             [
              0.2222222222222222,
              "#7201a8"
             ],
             [
              0.3333333333333333,
              "#9c179e"
             ],
             [
              0.4444444444444444,
              "#bd3786"
             ],
             [
              0.5555555555555556,
              "#d8576b"
             ],
             [
              0.6666666666666666,
              "#ed7953"
             ],
             [
              0.7777777777777778,
              "#fb9f3a"
             ],
             [
              0.8888888888888888,
              "#fdca26"
             ],
             [
              1,
              "#f0f921"
             ]
            ],
            "type": "heatmapgl"
           }
          ],
          "histogram": [
           {
            "marker": {
             "pattern": {
              "fillmode": "overlay",
              "size": 10,
              "solidity": 0.2
             }
            },
            "type": "histogram"
           }
          ],
          "histogram2d": [
           {
            "colorbar": {
             "outlinewidth": 0,
             "ticks": ""
            },
            "colorscale": [
             [
              0,
              "#0d0887"
             ],
             [
              0.1111111111111111,
              "#46039f"
             ],
             [
              0.2222222222222222,
              "#7201a8"
             ],
             [
              0.3333333333333333,
              "#9c179e"
             ],
             [
              0.4444444444444444,
              "#bd3786"
             ],
             [
              0.5555555555555556,
              "#d8576b"
             ],
             [
              0.6666666666666666,
              "#ed7953"
             ],
             [
              0.7777777777777778,
              "#fb9f3a"
             ],
             [
              0.8888888888888888,
              "#fdca26"
             ],
             [
              1,
              "#f0f921"
             ]
            ],
            "type": "histogram2d"
           }
          ],
          "histogram2dcontour": [
           {
            "colorbar": {
             "outlinewidth": 0,
             "ticks": ""
            },
            "colorscale": [
             [
              0,
              "#0d0887"
             ],
             [
              0.1111111111111111,
              "#46039f"
             ],
             [
              0.2222222222222222,
              "#7201a8"
             ],
             [
              0.3333333333333333,
              "#9c179e"
             ],
             [
              0.4444444444444444,
              "#bd3786"
             ],
             [
              0.5555555555555556,
              "#d8576b"
             ],
             [
              0.6666666666666666,
              "#ed7953"
             ],
             [
              0.7777777777777778,
              "#fb9f3a"
             ],
             [
              0.8888888888888888,
              "#fdca26"
             ],
             [
              1,
              "#f0f921"
             ]
            ],
            "type": "histogram2dcontour"
           }
          ],
          "mesh3d": [
           {
            "colorbar": {
             "outlinewidth": 0,
             "ticks": ""
            },
            "type": "mesh3d"
           }
          ],
          "parcoords": [
           {
            "line": {
             "colorbar": {
              "outlinewidth": 0,
              "ticks": ""
             }
            },
            "type": "parcoords"
           }
          ],
          "pie": [
           {
            "automargin": true,
            "type": "pie"
           }
          ],
          "scatter": [
           {
            "fillpattern": {
             "fillmode": "overlay",
             "size": 10,
             "solidity": 0.2
            },
            "type": "scatter"
           }
          ],
          "scatter3d": [
           {
            "line": {
             "colorbar": {
              "outlinewidth": 0,
              "ticks": ""
             }
            },
            "marker": {
             "colorbar": {
              "outlinewidth": 0,
              "ticks": ""
             }
            },
            "type": "scatter3d"
           }
          ],
          "scattercarpet": [
           {
            "marker": {
             "colorbar": {
              "outlinewidth": 0,
              "ticks": ""
             }
            },
            "type": "scattercarpet"
           }
          ],
          "scattergeo": [
           {
            "marker": {
             "colorbar": {
              "outlinewidth": 0,
              "ticks": ""
             }
            },
            "type": "scattergeo"
           }
          ],
          "scattergl": [
           {
            "marker": {
             "colorbar": {
              "outlinewidth": 0,
              "ticks": ""
             }
            },
            "type": "scattergl"
           }
          ],
          "scattermapbox": [
           {
            "marker": {
             "colorbar": {
              "outlinewidth": 0,
              "ticks": ""
             }
            },
            "type": "scattermapbox"
           }
          ],
          "scatterpolar": [
           {
            "marker": {
             "colorbar": {
              "outlinewidth": 0,
              "ticks": ""
             }
            },
            "type": "scatterpolar"
           }
          ],
          "scatterpolargl": [
           {
            "marker": {
             "colorbar": {
              "outlinewidth": 0,
              "ticks": ""
             }
            },
            "type": "scatterpolargl"
           }
          ],
          "scatterternary": [
           {
            "marker": {
             "colorbar": {
              "outlinewidth": 0,
              "ticks": ""
             }
            },
            "type": "scatterternary"
           }
          ],
          "surface": [
           {
            "colorbar": {
             "outlinewidth": 0,
             "ticks": ""
            },
            "colorscale": [
             [
              0,
              "#0d0887"
             ],
             [
              0.1111111111111111,
              "#46039f"
             ],
             [
              0.2222222222222222,
              "#7201a8"
             ],
             [
              0.3333333333333333,
              "#9c179e"
             ],
             [
              0.4444444444444444,
              "#bd3786"
             ],
             [
              0.5555555555555556,
              "#d8576b"
             ],
             [
              0.6666666666666666,
              "#ed7953"
             ],
             [
              0.7777777777777778,
              "#fb9f3a"
             ],
             [
              0.8888888888888888,
              "#fdca26"
             ],
             [
              1,
              "#f0f921"
             ]
            ],
            "type": "surface"
           }
          ],
          "table": [
           {
            "cells": {
             "fill": {
              "color": "#EBF0F8"
             },
             "line": {
              "color": "white"
             }
            },
            "header": {
             "fill": {
              "color": "#C8D4E3"
             },
             "line": {
              "color": "white"
             }
            },
            "type": "table"
           }
          ]
         },
         "layout": {
          "annotationdefaults": {
           "arrowcolor": "#2a3f5f",
           "arrowhead": 0,
           "arrowwidth": 1
          },
          "autotypenumbers": "strict",
          "coloraxis": {
           "colorbar": {
            "outlinewidth": 0,
            "ticks": ""
           }
          },
          "colorscale": {
           "diverging": [
            [
             0,
             "#8e0152"
            ],
            [
             0.1,
             "#c51b7d"
            ],
            [
             0.2,
             "#de77ae"
            ],
            [
             0.3,
             "#f1b6da"
            ],
            [
             0.4,
             "#fde0ef"
            ],
            [
             0.5,
             "#f7f7f7"
            ],
            [
             0.6,
             "#e6f5d0"
            ],
            [
             0.7,
             "#b8e186"
            ],
            [
             0.8,
             "#7fbc41"
            ],
            [
             0.9,
             "#4d9221"
            ],
            [
             1,
             "#276419"
            ]
           ],
           "sequential": [
            [
             0,
             "#0d0887"
            ],
            [
             0.1111111111111111,
             "#46039f"
            ],
            [
             0.2222222222222222,
             "#7201a8"
            ],
            [
             0.3333333333333333,
             "#9c179e"
            ],
            [
             0.4444444444444444,
             "#bd3786"
            ],
            [
             0.5555555555555556,
             "#d8576b"
            ],
            [
             0.6666666666666666,
             "#ed7953"
            ],
            [
             0.7777777777777778,
             "#fb9f3a"
            ],
            [
             0.8888888888888888,
             "#fdca26"
            ],
            [
             1,
             "#f0f921"
            ]
           ],
           "sequentialminus": [
            [
             0,
             "#0d0887"
            ],
            [
             0.1111111111111111,
             "#46039f"
            ],
            [
             0.2222222222222222,
             "#7201a8"
            ],
            [
             0.3333333333333333,
             "#9c179e"
            ],
            [
             0.4444444444444444,
             "#bd3786"
            ],
            [
             0.5555555555555556,
             "#d8576b"
            ],
            [
             0.6666666666666666,
             "#ed7953"
            ],
            [
             0.7777777777777778,
             "#fb9f3a"
            ],
            [
             0.8888888888888888,
             "#fdca26"
            ],
            [
             1,
             "#f0f921"
            ]
           ]
          },
          "colorway": [
           "#636efa",
           "#EF553B",
           "#00cc96",
           "#ab63fa",
           "#FFA15A",
           "#19d3f3",
           "#FF6692",
           "#B6E880",
           "#FF97FF",
           "#FECB52"
          ],
          "font": {
           "color": "#2a3f5f"
          },
          "geo": {
           "bgcolor": "white",
           "lakecolor": "white",
           "landcolor": "#E5ECF6",
           "showlakes": true,
           "showland": true,
           "subunitcolor": "white"
          },
          "hoverlabel": {
           "align": "left"
          },
          "hovermode": "closest",
          "mapbox": {
           "style": "light"
          },
          "paper_bgcolor": "white",
          "plot_bgcolor": "#E5ECF6",
          "polar": {
           "angularaxis": {
            "gridcolor": "white",
            "linecolor": "white",
            "ticks": ""
           },
           "bgcolor": "#E5ECF6",
           "radialaxis": {
            "gridcolor": "white",
            "linecolor": "white",
            "ticks": ""
           }
          },
          "scene": {
           "xaxis": {
            "backgroundcolor": "#E5ECF6",
            "gridcolor": "white",
            "gridwidth": 2,
            "linecolor": "white",
            "showbackground": true,
            "ticks": "",
            "zerolinecolor": "white"
           },
           "yaxis": {
            "backgroundcolor": "#E5ECF6",
            "gridcolor": "white",
            "gridwidth": 2,
            "linecolor": "white",
            "showbackground": true,
            "ticks": "",
            "zerolinecolor": "white"
           },
           "zaxis": {
            "backgroundcolor": "#E5ECF6",
            "gridcolor": "white",
            "gridwidth": 2,
            "linecolor": "white",
            "showbackground": true,
            "ticks": "",
            "zerolinecolor": "white"
           }
          },
          "shapedefaults": {
           "line": {
            "color": "#2a3f5f"
           }
          },
          "ternary": {
           "aaxis": {
            "gridcolor": "white",
            "linecolor": "white",
            "ticks": ""
           },
           "baxis": {
            "gridcolor": "white",
            "linecolor": "white",
            "ticks": ""
           },
           "bgcolor": "#E5ECF6",
           "caxis": {
            "gridcolor": "white",
            "linecolor": "white",
            "ticks": ""
           }
          },
          "title": {
           "x": 0.05
          },
          "xaxis": {
           "automargin": true,
           "gridcolor": "white",
           "linecolor": "white",
           "ticks": "",
           "title": {
            "standoff": 15
           },
           "zerolinecolor": "white",
           "zerolinewidth": 2
          },
          "yaxis": {
           "automargin": true,
           "gridcolor": "white",
           "linecolor": "white",
           "ticks": "",
           "title": {
            "standoff": 15
           },
           "zerolinecolor": "white",
           "zerolinewidth": 2
          }
         }
        },
        "title": {
         "text": "Kissam Tower 1 to ESB Tower 1, Kissam Tower 1 to ESB Tower 2 (summer) (feature extraction)"
        },
        "xaxis": {
         "anchor": "y",
         "domain": [
          0,
          0.45
         ],
         "title": {
          "text": "Finetuning data percentage"
         }
        },
        "xaxis2": {
         "anchor": "y2",
         "domain": [
          0.55,
          1
         ],
         "title": {
          "text": "Finetuning data percentage"
         }
        },
        "yaxis": {
         "anchor": "x",
         "domain": [
          0,
          1
         ],
         "title": {
          "text": "Performance improvement ratio"
         }
        },
        "yaxis2": {
         "anchor": "x2",
         "domain": [
          0,
          1
         ],
         "title": {
          "text": "Performance improvement ratio"
         }
        }
       }
      }
     },
     "metadata": {},
     "output_type": "display_data"
    }
   ],
   "source": [
    "plot_multiseed_error_pir(ft_percents=ft_percents, from_building=\"Kissam\", from_tower=1, to_building=\"ESB\", season=\"summer\")"
   ]
  },
  {
   "cell_type": "code",
   "execution_count": 7,
   "metadata": {},
   "outputs": [
    {
     "name": "stdout",
     "output_type": "stream",
     "text": [
      "Tower 1 first temp: 79.19134521484375\n",
      "449/449 [==============================] - 1s 1ms/step\n",
      "Tower 1 first temp: 79.19134521484375\n",
      "finetuning_percentage: 0.2 vec_X_train.shape: (2868, 6, 10), vec_X_test.shape: (11474, 6, 10), vec_y_train.shape: (2868,), vec_y_test.shape: (11474,)\n",
      "359/359 [==============================] - 1s 1ms/step\n",
      "Tower 1 first temp: 79.19134521484375\n",
      "finetuning_percentage: 0.4 vec_X_train.shape: (5736, 6, 10), vec_X_test.shape: (8606, 6, 10), vec_y_train.shape: (5736,), vec_y_test.shape: (8606,)\n",
      "269/269 [==============================] - 1s 1ms/step\n",
      "Tower 1 first temp: 79.19134521484375\n",
      "finetuning_percentage: 0.6 vec_X_train.shape: (8605, 6, 10), vec_X_test.shape: (5737, 6, 10), vec_y_train.shape: (8605,), vec_y_test.shape: (5737,)\n",
      "180/180 [==============================] - 0s 1ms/step\n",
      "Tower 1 first temp: 79.19134521484375\n",
      "finetuning_percentage: 0.8 vec_X_train.shape: (11473, 6, 10), vec_X_test.shape: (2869, 6, 10), vec_y_train.shape: (11473,), vec_y_test.shape: (2869,)\n",
      "90/90 [==============================] - 0s 1ms/step\n",
      "Tower 1 first temp: 79.19134521484375\n",
      "449/449 [==============================] - 1s 996us/step\n",
      "Tower 1 first temp: 79.19134521484375\n",
      "finetuning_percentage: 0.2 vec_X_train.shape: (2868, 6, 10), vec_X_test.shape: (11474, 6, 10), vec_y_train.shape: (2868,), vec_y_test.shape: (11474,)\n",
      "359/359 [==============================] - 1s 983us/step\n",
      "Tower 1 first temp: 79.19134521484375\n",
      "finetuning_percentage: 0.4 vec_X_train.shape: (5736, 6, 10), vec_X_test.shape: (8606, 6, 10), vec_y_train.shape: (5736,), vec_y_test.shape: (8606,)\n",
      "269/269 [==============================] - 1s 996us/step\n",
      "Tower 1 first temp: 79.19134521484375\n",
      "finetuning_percentage: 0.6 vec_X_train.shape: (8605, 6, 10), vec_X_test.shape: (5737, 6, 10), vec_y_train.shape: (8605,), vec_y_test.shape: (5737,)\n",
      "180/180 [==============================] - 0s 1ms/step\n",
      "Tower 1 first temp: 79.19134521484375\n",
      "finetuning_percentage: 0.8 vec_X_train.shape: (11473, 6, 10), vec_X_test.shape: (2869, 6, 10), vec_y_train.shape: (11473,), vec_y_test.shape: (2869,)\n",
      "90/90 [==============================] - 0s 1ms/step\n",
      "Tower 1 first temp: 79.19134521484375\n",
      "449/449 [==============================] - 1s 1ms/step\n",
      "Tower 1 first temp: 79.19134521484375\n",
      "finetuning_percentage: 0.2 vec_X_train.shape: (2868, 6, 10), vec_X_test.shape: (11474, 6, 10), vec_y_train.shape: (2868,), vec_y_test.shape: (11474,)\n",
      "359/359 [==============================] - 1s 991us/step\n",
      "Tower 1 first temp: 79.19134521484375\n",
      "finetuning_percentage: 0.4 vec_X_train.shape: (5736, 6, 10), vec_X_test.shape: (8606, 6, 10), vec_y_train.shape: (5736,), vec_y_test.shape: (8606,)\n",
      "269/269 [==============================] - 1s 995us/step\n",
      "Tower 1 first temp: 79.19134521484375\n",
      "finetuning_percentage: 0.6 vec_X_train.shape: (8605, 6, 10), vec_X_test.shape: (5737, 6, 10), vec_y_train.shape: (8605,), vec_y_test.shape: (5737,)\n",
      "180/180 [==============================] - 0s 1ms/step\n",
      "Tower 1 first temp: 79.19134521484375\n",
      "finetuning_percentage: 0.8 vec_X_train.shape: (11473, 6, 10), vec_X_test.shape: (2869, 6, 10), vec_y_train.shape: (11473,), vec_y_test.shape: (2869,)\n",
      "90/90 [==============================] - 0s 1ms/step\n",
      "Tower 1 first temp: 79.19134521484375\n",
      "449/449 [==============================] - 1s 939us/step\n",
      "Tower 1 first temp: 79.19134521484375\n",
      "finetuning_percentage: 0.2 vec_X_train.shape: (2868, 6, 10), vec_X_test.shape: (11474, 6, 10), vec_y_train.shape: (2868,), vec_y_test.shape: (11474,)\n",
      "359/359 [==============================] - 1s 940us/step\n",
      "Tower 1 first temp: 79.19134521484375\n",
      "finetuning_percentage: 0.4 vec_X_train.shape: (5736, 6, 10), vec_X_test.shape: (8606, 6, 10), vec_y_train.shape: (5736,), vec_y_test.shape: (8606,)\n",
      "269/269 [==============================] - 1s 954us/step\n",
      "Tower 1 first temp: 79.19134521484375\n",
      "finetuning_percentage: 0.6 vec_X_train.shape: (8605, 6, 10), vec_X_test.shape: (5737, 6, 10), vec_y_train.shape: (8605,), vec_y_test.shape: (5737,)\n",
      "180/180 [==============================] - 0s 1ms/step\n",
      "Tower 1 first temp: 79.19134521484375\n",
      "finetuning_percentage: 0.8 vec_X_train.shape: (11473, 6, 10), vec_X_test.shape: (2869, 6, 10), vec_y_train.shape: (11473,), vec_y_test.shape: (2869,)\n",
      "90/90 [==============================] - 0s 1ms/step\n",
      "Tower 1 first temp: 79.19134521484375\n",
      "449/449 [==============================] - 1s 990us/step\n",
      "Tower 1 first temp: 79.19134521484375\n",
      "finetuning_percentage: 0.2 vec_X_train.shape: (2868, 6, 10), vec_X_test.shape: (11474, 6, 10), vec_y_train.shape: (2868,), vec_y_test.shape: (11474,)\n",
      "359/359 [==============================] - 1s 1ms/step\n",
      "Tower 1 first temp: 79.19134521484375\n",
      "finetuning_percentage: 0.4 vec_X_train.shape: (5736, 6, 10), vec_X_test.shape: (8606, 6, 10), vec_y_train.shape: (5736,), vec_y_test.shape: (8606,)\n",
      "269/269 [==============================] - 1s 1ms/step\n",
      "Tower 1 first temp: 79.19134521484375\n",
      "finetuning_percentage: 0.6 vec_X_train.shape: (8605, 6, 10), vec_X_test.shape: (5737, 6, 10), vec_y_train.shape: (8605,), vec_y_test.shape: (5737,)\n",
      "180/180 [==============================] - 0s 1ms/step\n",
      "Tower 1 first temp: 79.19134521484375\n",
      "finetuning_percentage: 0.8 vec_X_train.shape: (11473, 6, 10), vec_X_test.shape: (2869, 6, 10), vec_y_train.shape: (11473,), vec_y_test.shape: (2869,)\n",
      "90/90 [==============================] - 0s 1ms/step\n",
      "Tower 2 first temp: 73.14450073242188\n",
      "352/352 [==============================] - 1s 994us/step\n",
      "Tower 2 first temp: 73.14450073242188\n",
      "finetuning_percentage: 0.2 vec_X_train.shape: (2252, 6, 10), vec_X_test.shape: (9009, 6, 10), vec_y_train.shape: (2252,), vec_y_test.shape: (9009,)\n",
      "282/282 [==============================] - 1s 981us/step\n",
      "Tower 2 first temp: 73.14450073242188\n",
      "finetuning_percentage: 0.4 vec_X_train.shape: (4504, 6, 10), vec_X_test.shape: (6757, 6, 10), vec_y_train.shape: (4504,), vec_y_test.shape: (6757,)\n",
      "212/212 [==============================] - 0s 1ms/step\n",
      "Tower 2 first temp: 73.14450073242188\n",
      "finetuning_percentage: 0.6 vec_X_train.shape: (6756, 6, 10), vec_X_test.shape: (4505, 6, 10), vec_y_train.shape: (6756,), vec_y_test.shape: (4505,)\n",
      "141/141 [==============================] - 0s 1ms/step\n",
      "Tower 2 first temp: 73.14450073242188\n",
      "finetuning_percentage: 0.8 vec_X_train.shape: (9008, 6, 10), vec_X_test.shape: (2253, 6, 10), vec_y_train.shape: (9008,), vec_y_test.shape: (2253,)\n",
      "71/71 [==============================] - 0s 1ms/step\n",
      "Tower 2 first temp: 73.14450073242188\n",
      "352/352 [==============================] - 1s 1ms/step\n",
      "Tower 2 first temp: 73.14450073242188\n",
      "finetuning_percentage: 0.2 vec_X_train.shape: (2252, 6, 10), vec_X_test.shape: (9009, 6, 10), vec_y_train.shape: (2252,), vec_y_test.shape: (9009,)\n",
      "282/282 [==============================] - 1s 989us/step\n",
      "Tower 2 first temp: 73.14450073242188\n",
      "finetuning_percentage: 0.4 vec_X_train.shape: (4504, 6, 10), vec_X_test.shape: (6757, 6, 10), vec_y_train.shape: (4504,), vec_y_test.shape: (6757,)\n",
      "212/212 [==============================] - 1s 1ms/step\n",
      "Tower 2 first temp: 73.14450073242188\n",
      "finetuning_percentage: 0.6 vec_X_train.shape: (6756, 6, 10), vec_X_test.shape: (4505, 6, 10), vec_y_train.shape: (6756,), vec_y_test.shape: (4505,)\n",
      "141/141 [==============================] - 1s 1ms/step\n",
      "Tower 2 first temp: 73.14450073242188\n",
      "finetuning_percentage: 0.8 vec_X_train.shape: (9008, 6, 10), vec_X_test.shape: (2253, 6, 10), vec_y_train.shape: (9008,), vec_y_test.shape: (2253,)\n",
      "71/71 [==============================] - 0s 1ms/step\n",
      "Tower 2 first temp: 73.14450073242188\n",
      "352/352 [==============================] - 1s 994us/step\n",
      "Tower 2 first temp: 73.14450073242188\n",
      "finetuning_percentage: 0.2 vec_X_train.shape: (2252, 6, 10), vec_X_test.shape: (9009, 6, 10), vec_y_train.shape: (2252,), vec_y_test.shape: (9009,)\n",
      "282/282 [==============================] - 1s 999us/step\n",
      "Tower 2 first temp: 73.14450073242188\n",
      "finetuning_percentage: 0.4 vec_X_train.shape: (4504, 6, 10), vec_X_test.shape: (6757, 6, 10), vec_y_train.shape: (4504,), vec_y_test.shape: (6757,)\n",
      "212/212 [==============================] - 0s 998us/step\n",
      "Tower 2 first temp: 73.14450073242188\n",
      "finetuning_percentage: 0.6 vec_X_train.shape: (6756, 6, 10), vec_X_test.shape: (4505, 6, 10), vec_y_train.shape: (6756,), vec_y_test.shape: (4505,)\n",
      "141/141 [==============================] - 0s 1ms/step\n",
      "Tower 2 first temp: 73.14450073242188\n",
      "finetuning_percentage: 0.8 vec_X_train.shape: (9008, 6, 10), vec_X_test.shape: (2253, 6, 10), vec_y_train.shape: (9008,), vec_y_test.shape: (2253,)\n",
      "71/71 [==============================] - 0s 1ms/step\n",
      "Tower 2 first temp: 73.14450073242188\n",
      "352/352 [==============================] - 1s 987us/step\n",
      "Tower 2 first temp: 73.14450073242188\n",
      "finetuning_percentage: 0.2 vec_X_train.shape: (2252, 6, 10), vec_X_test.shape: (9009, 6, 10), vec_y_train.shape: (2252,), vec_y_test.shape: (9009,)\n",
      "282/282 [==============================] - 1s 1ms/step\n",
      "Tower 2 first temp: 73.14450073242188\n",
      "finetuning_percentage: 0.4 vec_X_train.shape: (4504, 6, 10), vec_X_test.shape: (6757, 6, 10), vec_y_train.shape: (4504,), vec_y_test.shape: (6757,)\n",
      "212/212 [==============================] - 0s 1ms/step\n",
      "Tower 2 first temp: 73.14450073242188\n",
      "finetuning_percentage: 0.6 vec_X_train.shape: (6756, 6, 10), vec_X_test.shape: (4505, 6, 10), vec_y_train.shape: (6756,), vec_y_test.shape: (4505,)\n",
      "141/141 [==============================] - 0s 1ms/step\n",
      "Tower 2 first temp: 73.14450073242188\n",
      "finetuning_percentage: 0.8 vec_X_train.shape: (9008, 6, 10), vec_X_test.shape: (2253, 6, 10), vec_y_train.shape: (9008,), vec_y_test.shape: (2253,)\n",
      "71/71 [==============================] - 0s 1ms/step\n",
      "Tower 2 first temp: 73.14450073242188\n",
      "352/352 [==============================] - 1s 996us/step\n",
      "Tower 2 first temp: 73.14450073242188\n",
      "finetuning_percentage: 0.2 vec_X_train.shape: (2252, 6, 10), vec_X_test.shape: (9009, 6, 10), vec_y_train.shape: (2252,), vec_y_test.shape: (9009,)\n",
      "282/282 [==============================] - 1s 1ms/step\n",
      "Tower 2 first temp: 73.14450073242188\n",
      "finetuning_percentage: 0.4 vec_X_train.shape: (4504, 6, 10), vec_X_test.shape: (6757, 6, 10), vec_y_train.shape: (4504,), vec_y_test.shape: (6757,)\n",
      "212/212 [==============================] - 0s 1ms/step\n",
      "Tower 2 first temp: 73.14450073242188\n",
      "finetuning_percentage: 0.6 vec_X_train.shape: (6756, 6, 10), vec_X_test.shape: (4505, 6, 10), vec_y_train.shape: (6756,), vec_y_test.shape: (4505,)\n",
      "141/141 [==============================] - 0s 996us/step\n",
      "Tower 2 first temp: 73.14450073242188\n",
      "finetuning_percentage: 0.8 vec_X_train.shape: (9008, 6, 10), vec_X_test.shape: (2253, 6, 10), vec_y_train.shape: (9008,), vec_y_test.shape: (2253,)\n",
      "71/71 [==============================] - 0s 1ms/step\n"
     ]
    },
    {
     "data": {
      "application/vnd.plotly.v1+json": {
       "config": {
        "plotlyServerURL": "https://plot.ly"
       },
       "data": [
        {
         "hovertemplate": "variable=RMSE with seed 17<br>finetuning data percentage=%{x}<br>value=%{y}<extra></extra>",
         "legendgroup": "RMSE with seed 17",
         "line": {
          "color": "#636efa",
          "dash": "solid"
         },
         "marker": {
          "symbol": "circle"
         },
         "mode": "lines",
         "name": "RMSE with seed 17",
         "orientation": "v",
         "showlegend": true,
         "type": "scatter",
         "x": [
          0,
          20,
          40,
          60,
          80
         ],
         "xaxis": "x",
         "y": [
          2.4635003108366647,
          2.4608870822400837,
          2.4199885929203564,
          2.414672692261313,
          2.441140391152458
         ],
         "yaxis": "y"
        },
        {
         "hovertemplate": "variable=RMSE with seed 42<br>finetuning data percentage=%{x}<br>value=%{y}<extra></extra>",
         "legendgroup": "RMSE with seed 42",
         "line": {
          "color": "#EF553B",
          "dash": "solid"
         },
         "marker": {
          "symbol": "circle"
         },
         "mode": "lines",
         "name": "RMSE with seed 42",
         "orientation": "v",
         "showlegend": true,
         "type": "scatter",
         "x": [
          0,
          20,
          40,
          60,
          80
         ],
         "xaxis": "x",
         "y": [
          2.4635003108366647,
          2.5404911995482977,
          2.5038047074004193,
          2.4794432320599444,
          2.5033417011899646
         ],
         "yaxis": "y"
        },
        {
         "hovertemplate": "variable=RMSE with seed 64<br>finetuning data percentage=%{x}<br>value=%{y}<extra></extra>",
         "legendgroup": "RMSE with seed 64",
         "line": {
          "color": "#00cc96",
          "dash": "solid"
         },
         "marker": {
          "symbol": "circle"
         },
         "mode": "lines",
         "name": "RMSE with seed 64",
         "orientation": "v",
         "showlegend": true,
         "type": "scatter",
         "x": [
          0,
          20,
          40,
          60,
          80
         ],
         "xaxis": "x",
         "y": [
          2.4635003108366647,
          2.2276852004980965,
          2.369957109190703,
          2.4301277541381197,
          2.4688783971433175
         ],
         "yaxis": "y"
        },
        {
         "hovertemplate": "variable=RMSE with seed 76<br>finetuning data percentage=%{x}<br>value=%{y}<extra></extra>",
         "legendgroup": "RMSE with seed 76",
         "line": {
          "color": "#ab63fa",
          "dash": "solid"
         },
         "marker": {
          "symbol": "circle"
         },
         "mode": "lines",
         "name": "RMSE with seed 76",
         "orientation": "v",
         "showlegend": true,
         "type": "scatter",
         "x": [
          0,
          20,
          40,
          60,
          80
         ],
         "xaxis": "x",
         "y": [
          2.4635003108366647,
          2.378664575772885,
          2.4184238855765208,
          2.4844496023320652,
          2.4701543769784218
         ],
         "yaxis": "y"
        },
        {
         "hovertemplate": "variable=RMSE with seed 98<br>finetuning data percentage=%{x}<br>value=%{y}<extra></extra>",
         "legendgroup": "RMSE with seed 98",
         "line": {
          "color": "#FFA15A",
          "dash": "solid"
         },
         "marker": {
          "symbol": "circle"
         },
         "mode": "lines",
         "name": "RMSE with seed 98",
         "orientation": "v",
         "showlegend": true,
         "type": "scatter",
         "x": [
          0,
          20,
          40,
          60,
          80
         ],
         "xaxis": "x",
         "y": [
          2.4635003108366647,
          2.4433791856818474,
          2.412853898342125,
          2.4692934039719896,
          2.4528365948408863
         ],
         "yaxis": "y"
        },
        {
         "hovertemplate": "variable=RMSE with seed 17<br>finetuning data percentage=%{x}<br>value=%{y}<extra></extra>",
         "legendgroup": "RMSE with seed 17",
         "line": {
          "color": "#636efa",
          "dash": "solid"
         },
         "marker": {
          "symbol": "circle"
         },
         "mode": "lines",
         "name": "RMSE with seed 17",
         "orientation": "v",
         "showlegend": true,
         "type": "scatter",
         "x": [
          0,
          20,
          40,
          60,
          80
         ],
         "xaxis": "x2",
         "y": [
          2.4635003108366647,
          2.4608870822400837,
          2.4199885929203564,
          2.414672692261313,
          2.441140391152458
         ],
         "yaxis": "y2"
        },
        {
         "hovertemplate": "variable=RMSE with seed 42<br>finetuning data percentage=%{x}<br>value=%{y}<extra></extra>",
         "legendgroup": "RMSE with seed 42",
         "line": {
          "color": "#EF553B",
          "dash": "solid"
         },
         "marker": {
          "symbol": "circle"
         },
         "mode": "lines",
         "name": "RMSE with seed 42",
         "orientation": "v",
         "showlegend": true,
         "type": "scatter",
         "x": [
          0,
          20,
          40,
          60,
          80
         ],
         "xaxis": "x2",
         "y": [
          2.4635003108366647,
          2.5404911995482977,
          2.5038047074004193,
          2.4794432320599444,
          2.5033417011899646
         ],
         "yaxis": "y2"
        },
        {
         "hovertemplate": "variable=RMSE with seed 64<br>finetuning data percentage=%{x}<br>value=%{y}<extra></extra>",
         "legendgroup": "RMSE with seed 64",
         "line": {
          "color": "#00cc96",
          "dash": "solid"
         },
         "marker": {
          "symbol": "circle"
         },
         "mode": "lines",
         "name": "RMSE with seed 64",
         "orientation": "v",
         "showlegend": true,
         "type": "scatter",
         "x": [
          0,
          20,
          40,
          60,
          80
         ],
         "xaxis": "x2",
         "y": [
          2.4635003108366647,
          2.2276852004980965,
          2.369957109190703,
          2.4301277541381197,
          2.4688783971433175
         ],
         "yaxis": "y2"
        },
        {
         "hovertemplate": "variable=RMSE with seed 76<br>finetuning data percentage=%{x}<br>value=%{y}<extra></extra>",
         "legendgroup": "RMSE with seed 76",
         "line": {
          "color": "#ab63fa",
          "dash": "solid"
         },
         "marker": {
          "symbol": "circle"
         },
         "mode": "lines",
         "name": "RMSE with seed 76",
         "orientation": "v",
         "showlegend": true,
         "type": "scatter",
         "x": [
          0,
          20,
          40,
          60,
          80
         ],
         "xaxis": "x2",
         "y": [
          2.4635003108366647,
          2.378664575772885,
          2.4184238855765208,
          2.4844496023320652,
          2.4701543769784218
         ],
         "yaxis": "y2"
        },
        {
         "hovertemplate": "variable=RMSE with seed 98<br>finetuning data percentage=%{x}<br>value=%{y}<extra></extra>",
         "legendgroup": "RMSE with seed 98",
         "line": {
          "color": "#FFA15A",
          "dash": "solid"
         },
         "marker": {
          "symbol": "circle"
         },
         "mode": "lines",
         "name": "RMSE with seed 98",
         "orientation": "v",
         "showlegend": true,
         "type": "scatter",
         "x": [
          0,
          20,
          40,
          60,
          80
         ],
         "xaxis": "x2",
         "y": [
          2.4635003108366647,
          2.4433791856818474,
          2.412853898342125,
          2.4692934039719896,
          2.4528365948408863
         ],
         "yaxis": "y2"
        },
        {
         "hovertemplate": "variable=RMSE with seed 42<br>finetuning data percentage=%{x}<br>value=%{y}<extra></extra>",
         "legendgroup": "RMSE with seed 42",
         "line": {
          "color": "#EF553B",
          "dash": "solid"
         },
         "marker": {
          "symbol": "circle"
         },
         "mode": "lines",
         "name": "RMSE with seed 42",
         "orientation": "v",
         "showlegend": true,
         "type": "scatter",
         "x": [
          0,
          20,
          40,
          60,
          80
         ],
         "xaxis": "x2",
         "y": [
          2.4635003108366647,
          2.5404911995482977,
          2.5038047074004193,
          2.4794432320599444,
          2.5033417011899646
         ],
         "yaxis": "y2"
        }
       ],
       "layout": {
        "showlegend": true,
        "template": {
         "data": {
          "bar": [
           {
            "error_x": {
             "color": "#2a3f5f"
            },
            "error_y": {
             "color": "#2a3f5f"
            },
            "marker": {
             "line": {
              "color": "#E5ECF6",
              "width": 0.5
             },
             "pattern": {
              "fillmode": "overlay",
              "size": 10,
              "solidity": 0.2
             }
            },
            "type": "bar"
           }
          ],
          "barpolar": [
           {
            "marker": {
             "line": {
              "color": "#E5ECF6",
              "width": 0.5
             },
             "pattern": {
              "fillmode": "overlay",
              "size": 10,
              "solidity": 0.2
             }
            },
            "type": "barpolar"
           }
          ],
          "carpet": [
           {
            "aaxis": {
             "endlinecolor": "#2a3f5f",
             "gridcolor": "white",
             "linecolor": "white",
             "minorgridcolor": "white",
             "startlinecolor": "#2a3f5f"
            },
            "baxis": {
             "endlinecolor": "#2a3f5f",
             "gridcolor": "white",
             "linecolor": "white",
             "minorgridcolor": "white",
             "startlinecolor": "#2a3f5f"
            },
            "type": "carpet"
           }
          ],
          "choropleth": [
           {
            "colorbar": {
             "outlinewidth": 0,
             "ticks": ""
            },
            "type": "choropleth"
           }
          ],
          "contour": [
           {
            "colorbar": {
             "outlinewidth": 0,
             "ticks": ""
            },
            "colorscale": [
             [
              0,
              "#0d0887"
             ],
             [
              0.1111111111111111,
              "#46039f"
             ],
             [
              0.2222222222222222,
              "#7201a8"
             ],
             [
              0.3333333333333333,
              "#9c179e"
             ],
             [
              0.4444444444444444,
              "#bd3786"
             ],
             [
              0.5555555555555556,
              "#d8576b"
             ],
             [
              0.6666666666666666,
              "#ed7953"
             ],
             [
              0.7777777777777778,
              "#fb9f3a"
             ],
             [
              0.8888888888888888,
              "#fdca26"
             ],
             [
              1,
              "#f0f921"
             ]
            ],
            "type": "contour"
           }
          ],
          "contourcarpet": [
           {
            "colorbar": {
             "outlinewidth": 0,
             "ticks": ""
            },
            "type": "contourcarpet"
           }
          ],
          "heatmap": [
           {
            "colorbar": {
             "outlinewidth": 0,
             "ticks": ""
            },
            "colorscale": [
             [
              0,
              "#0d0887"
             ],
             [
              0.1111111111111111,
              "#46039f"
             ],
             [
              0.2222222222222222,
              "#7201a8"
             ],
             [
              0.3333333333333333,
              "#9c179e"
             ],
             [
              0.4444444444444444,
              "#bd3786"
             ],
             [
              0.5555555555555556,
              "#d8576b"
             ],
             [
              0.6666666666666666,
              "#ed7953"
             ],
             [
              0.7777777777777778,
              "#fb9f3a"
             ],
             [
              0.8888888888888888,
              "#fdca26"
             ],
             [
              1,
              "#f0f921"
             ]
            ],
            "type": "heatmap"
           }
          ],
          "heatmapgl": [
           {
            "colorbar": {
             "outlinewidth": 0,
             "ticks": ""
            },
            "colorscale": [
             [
              0,
              "#0d0887"
             ],
             [
              0.1111111111111111,
              "#46039f"
             ],
             [
              0.2222222222222222,
              "#7201a8"
             ],
             [
              0.3333333333333333,
              "#9c179e"
             ],
             [
              0.4444444444444444,
              "#bd3786"
             ],
             [
              0.5555555555555556,
              "#d8576b"
             ],
             [
              0.6666666666666666,
              "#ed7953"
             ],
             [
              0.7777777777777778,
              "#fb9f3a"
             ],
             [
              0.8888888888888888,
              "#fdca26"
             ],
             [
              1,
              "#f0f921"
             ]
            ],
            "type": "heatmapgl"
           }
          ],
          "histogram": [
           {
            "marker": {
             "pattern": {
              "fillmode": "overlay",
              "size": 10,
              "solidity": 0.2
             }
            },
            "type": "histogram"
           }
          ],
          "histogram2d": [
           {
            "colorbar": {
             "outlinewidth": 0,
             "ticks": ""
            },
            "colorscale": [
             [
              0,
              "#0d0887"
             ],
             [
              0.1111111111111111,
              "#46039f"
             ],
             [
              0.2222222222222222,
              "#7201a8"
             ],
             [
              0.3333333333333333,
              "#9c179e"
             ],
             [
              0.4444444444444444,
              "#bd3786"
             ],
             [
              0.5555555555555556,
              "#d8576b"
             ],
             [
              0.6666666666666666,
              "#ed7953"
             ],
             [
              0.7777777777777778,
              "#fb9f3a"
             ],
             [
              0.8888888888888888,
              "#fdca26"
             ],
             [
              1,
              "#f0f921"
             ]
            ],
            "type": "histogram2d"
           }
          ],
          "histogram2dcontour": [
           {
            "colorbar": {
             "outlinewidth": 0,
             "ticks": ""
            },
            "colorscale": [
             [
              0,
              "#0d0887"
             ],
             [
              0.1111111111111111,
              "#46039f"
             ],
             [
              0.2222222222222222,
              "#7201a8"
             ],
             [
              0.3333333333333333,
              "#9c179e"
             ],
             [
              0.4444444444444444,
              "#bd3786"
             ],
             [
              0.5555555555555556,
              "#d8576b"
             ],
             [
              0.6666666666666666,
              "#ed7953"
             ],
             [
              0.7777777777777778,
              "#fb9f3a"
             ],
             [
              0.8888888888888888,
              "#fdca26"
             ],
             [
              1,
              "#f0f921"
             ]
            ],
            "type": "histogram2dcontour"
           }
          ],
          "mesh3d": [
           {
            "colorbar": {
             "outlinewidth": 0,
             "ticks": ""
            },
            "type": "mesh3d"
           }
          ],
          "parcoords": [
           {
            "line": {
             "colorbar": {
              "outlinewidth": 0,
              "ticks": ""
             }
            },
            "type": "parcoords"
           }
          ],
          "pie": [
           {
            "automargin": true,
            "type": "pie"
           }
          ],
          "scatter": [
           {
            "fillpattern": {
             "fillmode": "overlay",
             "size": 10,
             "solidity": 0.2
            },
            "type": "scatter"
           }
          ],
          "scatter3d": [
           {
            "line": {
             "colorbar": {
              "outlinewidth": 0,
              "ticks": ""
             }
            },
            "marker": {
             "colorbar": {
              "outlinewidth": 0,
              "ticks": ""
             }
            },
            "type": "scatter3d"
           }
          ],
          "scattercarpet": [
           {
            "marker": {
             "colorbar": {
              "outlinewidth": 0,
              "ticks": ""
             }
            },
            "type": "scattercarpet"
           }
          ],
          "scattergeo": [
           {
            "marker": {
             "colorbar": {
              "outlinewidth": 0,
              "ticks": ""
             }
            },
            "type": "scattergeo"
           }
          ],
          "scattergl": [
           {
            "marker": {
             "colorbar": {
              "outlinewidth": 0,
              "ticks": ""
             }
            },
            "type": "scattergl"
           }
          ],
          "scattermapbox": [
           {
            "marker": {
             "colorbar": {
              "outlinewidth": 0,
              "ticks": ""
             }
            },
            "type": "scattermapbox"
           }
          ],
          "scatterpolar": [
           {
            "marker": {
             "colorbar": {
              "outlinewidth": 0,
              "ticks": ""
             }
            },
            "type": "scatterpolar"
           }
          ],
          "scatterpolargl": [
           {
            "marker": {
             "colorbar": {
              "outlinewidth": 0,
              "ticks": ""
             }
            },
            "type": "scatterpolargl"
           }
          ],
          "scatterternary": [
           {
            "marker": {
             "colorbar": {
              "outlinewidth": 0,
              "ticks": ""
             }
            },
            "type": "scatterternary"
           }
          ],
          "surface": [
           {
            "colorbar": {
             "outlinewidth": 0,
             "ticks": ""
            },
            "colorscale": [
             [
              0,
              "#0d0887"
             ],
             [
              0.1111111111111111,
              "#46039f"
             ],
             [
              0.2222222222222222,
              "#7201a8"
             ],
             [
              0.3333333333333333,
              "#9c179e"
             ],
             [
              0.4444444444444444,
              "#bd3786"
             ],
             [
              0.5555555555555556,
              "#d8576b"
             ],
             [
              0.6666666666666666,
              "#ed7953"
             ],
             [
              0.7777777777777778,
              "#fb9f3a"
             ],
             [
              0.8888888888888888,
              "#fdca26"
             ],
             [
              1,
              "#f0f921"
             ]
            ],
            "type": "surface"
           }
          ],
          "table": [
           {
            "cells": {
             "fill": {
              "color": "#EBF0F8"
             },
             "line": {
              "color": "white"
             }
            },
            "header": {
             "fill": {
              "color": "#C8D4E3"
             },
             "line": {
              "color": "white"
             }
            },
            "type": "table"
           }
          ]
         },
         "layout": {
          "annotationdefaults": {
           "arrowcolor": "#2a3f5f",
           "arrowhead": 0,
           "arrowwidth": 1
          },
          "autotypenumbers": "strict",
          "coloraxis": {
           "colorbar": {
            "outlinewidth": 0,
            "ticks": ""
           }
          },
          "colorscale": {
           "diverging": [
            [
             0,
             "#8e0152"
            ],
            [
             0.1,
             "#c51b7d"
            ],
            [
             0.2,
             "#de77ae"
            ],
            [
             0.3,
             "#f1b6da"
            ],
            [
             0.4,
             "#fde0ef"
            ],
            [
             0.5,
             "#f7f7f7"
            ],
            [
             0.6,
             "#e6f5d0"
            ],
            [
             0.7,
             "#b8e186"
            ],
            [
             0.8,
             "#7fbc41"
            ],
            [
             0.9,
             "#4d9221"
            ],
            [
             1,
             "#276419"
            ]
           ],
           "sequential": [
            [
             0,
             "#0d0887"
            ],
            [
             0.1111111111111111,
             "#46039f"
            ],
            [
             0.2222222222222222,
             "#7201a8"
            ],
            [
             0.3333333333333333,
             "#9c179e"
            ],
            [
             0.4444444444444444,
             "#bd3786"
            ],
            [
             0.5555555555555556,
             "#d8576b"
            ],
            [
             0.6666666666666666,
             "#ed7953"
            ],
            [
             0.7777777777777778,
             "#fb9f3a"
            ],
            [
             0.8888888888888888,
             "#fdca26"
            ],
            [
             1,
             "#f0f921"
            ]
           ],
           "sequentialminus": [
            [
             0,
             "#0d0887"
            ],
            [
             0.1111111111111111,
             "#46039f"
            ],
            [
             0.2222222222222222,
             "#7201a8"
            ],
            [
             0.3333333333333333,
             "#9c179e"
            ],
            [
             0.4444444444444444,
             "#bd3786"
            ],
            [
             0.5555555555555556,
             "#d8576b"
            ],
            [
             0.6666666666666666,
             "#ed7953"
            ],
            [
             0.7777777777777778,
             "#fb9f3a"
            ],
            [
             0.8888888888888888,
             "#fdca26"
            ],
            [
             1,
             "#f0f921"
            ]
           ]
          },
          "colorway": [
           "#636efa",
           "#EF553B",
           "#00cc96",
           "#ab63fa",
           "#FFA15A",
           "#19d3f3",
           "#FF6692",
           "#B6E880",
           "#FF97FF",
           "#FECB52"
          ],
          "font": {
           "color": "#2a3f5f"
          },
          "geo": {
           "bgcolor": "white",
           "lakecolor": "white",
           "landcolor": "#E5ECF6",
           "showlakes": true,
           "showland": true,
           "subunitcolor": "white"
          },
          "hoverlabel": {
           "align": "left"
          },
          "hovermode": "closest",
          "mapbox": {
           "style": "light"
          },
          "paper_bgcolor": "white",
          "plot_bgcolor": "#E5ECF6",
          "polar": {
           "angularaxis": {
            "gridcolor": "white",
            "linecolor": "white",
            "ticks": ""
           },
           "bgcolor": "#E5ECF6",
           "radialaxis": {
            "gridcolor": "white",
            "linecolor": "white",
            "ticks": ""
           }
          },
          "scene": {
           "xaxis": {
            "backgroundcolor": "#E5ECF6",
            "gridcolor": "white",
            "gridwidth": 2,
            "linecolor": "white",
            "showbackground": true,
            "ticks": "",
            "zerolinecolor": "white"
           },
           "yaxis": {
            "backgroundcolor": "#E5ECF6",
            "gridcolor": "white",
            "gridwidth": 2,
            "linecolor": "white",
            "showbackground": true,
            "ticks": "",
            "zerolinecolor": "white"
           },
           "zaxis": {
            "backgroundcolor": "#E5ECF6",
            "gridcolor": "white",
            "gridwidth": 2,
            "linecolor": "white",
            "showbackground": true,
            "ticks": "",
            "zerolinecolor": "white"
           }
          },
          "shapedefaults": {
           "line": {
            "color": "#2a3f5f"
           }
          },
          "ternary": {
           "aaxis": {
            "gridcolor": "white",
            "linecolor": "white",
            "ticks": ""
           },
           "baxis": {
            "gridcolor": "white",
            "linecolor": "white",
            "ticks": ""
           },
           "bgcolor": "#E5ECF6",
           "caxis": {
            "gridcolor": "white",
            "linecolor": "white",
            "ticks": ""
           }
          },
          "title": {
           "x": 0.05
          },
          "xaxis": {
           "automargin": true,
           "gridcolor": "white",
           "linecolor": "white",
           "ticks": "",
           "title": {
            "standoff": 15
           },
           "zerolinecolor": "white",
           "zerolinewidth": 2
          },
          "yaxis": {
           "automargin": true,
           "gridcolor": "white",
           "linecolor": "white",
           "ticks": "",
           "title": {
            "standoff": 15
           },
           "zerolinecolor": "white",
           "zerolinewidth": 2
          }
         }
        },
        "title": {
         "text": "Kissam Tower 2 to ESB Tower 1, Kissam Tower 2 to ESB Tower 2 (summer) (feature extraction)"
        },
        "xaxis": {
         "anchor": "y",
         "domain": [
          0,
          0.45
         ],
         "title": {
          "text": "Finetuning data percentage"
         }
        },
        "xaxis2": {
         "anchor": "y2",
         "domain": [
          0.55,
          1
         ],
         "title": {
          "text": "Finetuning data percentage"
         }
        },
        "yaxis": {
         "anchor": "x",
         "domain": [
          0,
          1
         ],
         "title": {
          "text": "Error"
         }
        },
        "yaxis2": {
         "anchor": "x2",
         "domain": [
          0,
          1
         ],
         "title": {
          "text": "Error"
         }
        }
       }
      }
     },
     "metadata": {},
     "output_type": "display_data"
    },
    {
     "data": {
      "application/vnd.plotly.v1+json": {
       "config": {
        "plotlyServerURL": "https://plot.ly"
       },
       "data": [
        {
         "hovertemplate": "variable=PIR with seed 17<br>finetuning data percentage=%{x}<br>value=%{y}<extra></extra>",
         "legendgroup": "PIR with seed 17",
         "line": {
          "color": "#636efa",
          "dash": "solid"
         },
         "marker": {
          "symbol": "circle"
         },
         "mode": "lines",
         "name": "PIR with seed 17",
         "orientation": "v",
         "showlegend": true,
         "type": "scatter",
         "x": [
          0,
          20,
          40,
          60,
          80
         ],
         "xaxis": "x",
         "y": [
          0,
          0.0010607786754016923,
          0.017662558321955568,
          0.019820423143672557,
          0.009076483402842695
         ],
         "yaxis": "y"
        },
        {
         "hovertemplate": "variable=PIR with seed 42<br>finetuning data percentage=%{x}<br>value=%{y}<extra></extra>",
         "legendgroup": "PIR with seed 42",
         "line": {
          "color": "#EF553B",
          "dash": "solid"
         },
         "marker": {
          "symbol": "circle"
         },
         "mode": "lines",
         "name": "PIR with seed 42",
         "orientation": "v",
         "showlegend": true,
         "type": "scatter",
         "x": [
          0,
          20,
          40,
          60,
          80
         ],
         "xaxis": "x",
         "y": [
          0,
          -0.03125264014498341,
          -0.016360621667657213,
          -0.006471653830587575,
          -0.016172675188244168
         ],
         "yaxis": "y"
        },
        {
         "hovertemplate": "variable=PIR with seed 64<br>finetuning data percentage=%{x}<br>value=%{y}<extra></extra>",
         "legendgroup": "PIR with seed 64",
         "line": {
          "color": "#00cc96",
          "dash": "solid"
         },
         "marker": {
          "symbol": "circle"
         },
         "mode": "lines",
         "name": "PIR with seed 64",
         "orientation": "v",
         "showlegend": true,
         "type": "scatter",
         "x": [
          0,
          20,
          40,
          60,
          80
         ],
         "xaxis": "x",
         "y": [
          0,
          0.09572359674615978,
          0.03797166220538941,
          0.013546804338421562,
          -0.002183107622513873
         ],
         "yaxis": "y"
        },
        {
         "hovertemplate": "variable=PIR with seed 76<br>finetuning data percentage=%{x}<br>value=%{y}<extra></extra>",
         "legendgroup": "PIR with seed 76",
         "line": {
          "color": "#ab63fa",
          "dash": "solid"
         },
         "marker": {
          "symbol": "circle"
         },
         "mode": "lines",
         "name": "PIR with seed 76",
         "orientation": "v",
         "showlegend": true,
         "type": "scatter",
         "x": [
          0,
          20,
          40,
          60,
          80
         ],
         "xaxis": "x",
         "y": [
          0,
          0.034437070980099585,
          0.018297714460135315,
          -0.008503872073101425,
          -0.0027010616205269474
         ],
         "yaxis": "y"
        },
        {
         "hovertemplate": "variable=PIR with seed 98<br>finetuning data percentage=%{x}<br>value=%{y}<extra></extra>",
         "legendgroup": "PIR with seed 98",
         "line": {
          "color": "#FFA15A",
          "dash": "solid"
         },
         "marker": {
          "symbol": "circle"
         },
         "mode": "lines",
         "name": "PIR with seed 98",
         "orientation": "v",
         "showlegend": true,
         "type": "scatter",
         "x": [
          0,
          20,
          40,
          60,
          80
         ],
         "xaxis": "x",
         "y": [
          0,
          0.008167697428860322,
          0.020558719750004444,
          -0.0023515698820259006,
          0.004328684656084599
         ],
         "yaxis": "y"
        },
        {
         "hovertemplate": "variable=PIR with seed 17<br>finetuning data percentage=%{x}<br>value=%{y}<extra></extra>",
         "legendgroup": "PIR with seed 17",
         "line": {
          "color": "#636efa",
          "dash": "solid"
         },
         "marker": {
          "symbol": "circle"
         },
         "mode": "lines",
         "name": "PIR with seed 17",
         "orientation": "v",
         "showlegend": true,
         "type": "scatter",
         "x": [
          0,
          20,
          40,
          60,
          80
         ],
         "xaxis": "x2",
         "y": [
          0,
          -0.1189193102607869,
          -0.11432880179214713,
          -0.02240351496053259,
          0.03548622561674803
         ],
         "yaxis": "y2"
        },
        {
         "hovertemplate": "variable=PIR with seed 42<br>finetuning data percentage=%{x}<br>value=%{y}<extra></extra>",
         "legendgroup": "PIR with seed 42",
         "line": {
          "color": "#EF553B",
          "dash": "solid"
         },
         "marker": {
          "symbol": "circle"
         },
         "mode": "lines",
         "name": "PIR with seed 42",
         "orientation": "v",
         "showlegend": true,
         "type": "scatter",
         "x": [
          0,
          20,
          40,
          60,
          80
         ],
         "xaxis": "x2",
         "y": [
          0,
          -0.18115126155806469,
          -0.1735033980685696,
          -0.0807146082599546,
          -0.07810366745118807
         ],
         "yaxis": "y2"
        },
        {
         "hovertemplate": "variable=PIR with seed 64<br>finetuning data percentage=%{x}<br>value=%{y}<extra></extra>",
         "legendgroup": "PIR with seed 64",
         "line": {
          "color": "#00cc96",
          "dash": "solid"
         },
         "marker": {
          "symbol": "circle"
         },
         "mode": "lines",
         "name": "PIR with seed 64",
         "orientation": "v",
         "showlegend": true,
         "type": "scatter",
         "x": [
          0,
          20,
          40,
          60,
          80
         ],
         "xaxis": "x2",
         "y": [
          0,
          -0.011251181268059055,
          0.004449534516228352,
          0.023083644571444167,
          0.018167200588005347
         ],
         "yaxis": "y2"
        },
        {
         "hovertemplate": "variable=PIR with seed 76<br>finetuning data percentage=%{x}<br>value=%{y}<extra></extra>",
         "legendgroup": "PIR with seed 76",
         "line": {
          "color": "#ab63fa",
          "dash": "solid"
         },
         "marker": {
          "symbol": "circle"
         },
         "mode": "lines",
         "name": "PIR with seed 76",
         "orientation": "v",
         "showlegend": true,
         "type": "scatter",
         "x": [
          0,
          20,
          40,
          60,
          80
         ],
         "xaxis": "x2",
         "y": [
          0,
          -0.1331227889613024,
          -0.09507251907449701,
          -0.030992768245300065,
          0.03255126313625224
         ],
         "yaxis": "y2"
        },
        {
         "hovertemplate": "variable=PIR with seed 98<br>finetuning data percentage=%{x}<br>value=%{y}<extra></extra>",
         "legendgroup": "PIR with seed 98",
         "line": {
          "color": "#FFA15A",
          "dash": "solid"
         },
         "marker": {
          "symbol": "circle"
         },
         "mode": "lines",
         "name": "PIR with seed 98",
         "orientation": "v",
         "showlegend": true,
         "type": "scatter",
         "x": [
          0,
          20,
          40,
          60,
          80
         ],
         "xaxis": "x2",
         "y": [
          0,
          -0.12254439737277337,
          -0.15982170603360527,
          -0.14417473857320948,
          -0.06025114456780002
         ],
         "yaxis": "y2"
        }
       ],
       "layout": {
        "showlegend": true,
        "template": {
         "data": {
          "bar": [
           {
            "error_x": {
             "color": "#2a3f5f"
            },
            "error_y": {
             "color": "#2a3f5f"
            },
            "marker": {
             "line": {
              "color": "#E5ECF6",
              "width": 0.5
             },
             "pattern": {
              "fillmode": "overlay",
              "size": 10,
              "solidity": 0.2
             }
            },
            "type": "bar"
           }
          ],
          "barpolar": [
           {
            "marker": {
             "line": {
              "color": "#E5ECF6",
              "width": 0.5
             },
             "pattern": {
              "fillmode": "overlay",
              "size": 10,
              "solidity": 0.2
             }
            },
            "type": "barpolar"
           }
          ],
          "carpet": [
           {
            "aaxis": {
             "endlinecolor": "#2a3f5f",
             "gridcolor": "white",
             "linecolor": "white",
             "minorgridcolor": "white",
             "startlinecolor": "#2a3f5f"
            },
            "baxis": {
             "endlinecolor": "#2a3f5f",
             "gridcolor": "white",
             "linecolor": "white",
             "minorgridcolor": "white",
             "startlinecolor": "#2a3f5f"
            },
            "type": "carpet"
           }
          ],
          "choropleth": [
           {
            "colorbar": {
             "outlinewidth": 0,
             "ticks": ""
            },
            "type": "choropleth"
           }
          ],
          "contour": [
           {
            "colorbar": {
             "outlinewidth": 0,
             "ticks": ""
            },
            "colorscale": [
             [
              0,
              "#0d0887"
             ],
             [
              0.1111111111111111,
              "#46039f"
             ],
             [
              0.2222222222222222,
              "#7201a8"
             ],
             [
              0.3333333333333333,
              "#9c179e"
             ],
             [
              0.4444444444444444,
              "#bd3786"
             ],
             [
              0.5555555555555556,
              "#d8576b"
             ],
             [
              0.6666666666666666,
              "#ed7953"
             ],
             [
              0.7777777777777778,
              "#fb9f3a"
             ],
             [
              0.8888888888888888,
              "#fdca26"
             ],
             [
              1,
              "#f0f921"
             ]
            ],
            "type": "contour"
           }
          ],
          "contourcarpet": [
           {
            "colorbar": {
             "outlinewidth": 0,
             "ticks": ""
            },
            "type": "contourcarpet"
           }
          ],
          "heatmap": [
           {
            "colorbar": {
             "outlinewidth": 0,
             "ticks": ""
            },
            "colorscale": [
             [
              0,
              "#0d0887"
             ],
             [
              0.1111111111111111,
              "#46039f"
             ],
             [
              0.2222222222222222,
              "#7201a8"
             ],
             [
              0.3333333333333333,
              "#9c179e"
             ],
             [
              0.4444444444444444,
              "#bd3786"
             ],
             [
              0.5555555555555556,
              "#d8576b"
             ],
             [
              0.6666666666666666,
              "#ed7953"
             ],
             [
              0.7777777777777778,
              "#fb9f3a"
             ],
             [
              0.8888888888888888,
              "#fdca26"
             ],
             [
              1,
              "#f0f921"
             ]
            ],
            "type": "heatmap"
           }
          ],
          "heatmapgl": [
           {
            "colorbar": {
             "outlinewidth": 0,
             "ticks": ""
            },
            "colorscale": [
             [
              0,
              "#0d0887"
             ],
             [
              0.1111111111111111,
              "#46039f"
             ],
             [
              0.2222222222222222,
              "#7201a8"
             ],
             [
              0.3333333333333333,
              "#9c179e"
             ],
             [
              0.4444444444444444,
              "#bd3786"
             ],
             [
              0.5555555555555556,
              "#d8576b"
             ],
             [
              0.6666666666666666,
              "#ed7953"
             ],
             [
              0.7777777777777778,
              "#fb9f3a"
             ],
             [
              0.8888888888888888,
              "#fdca26"
             ],
             [
              1,
              "#f0f921"
             ]
            ],
            "type": "heatmapgl"
           }
          ],
          "histogram": [
           {
            "marker": {
             "pattern": {
              "fillmode": "overlay",
              "size": 10,
              "solidity": 0.2
             }
            },
            "type": "histogram"
           }
          ],
          "histogram2d": [
           {
            "colorbar": {
             "outlinewidth": 0,
             "ticks": ""
            },
            "colorscale": [
             [
              0,
              "#0d0887"
             ],
             [
              0.1111111111111111,
              "#46039f"
             ],
             [
              0.2222222222222222,
              "#7201a8"
             ],
             [
              0.3333333333333333,
              "#9c179e"
             ],
             [
              0.4444444444444444,
              "#bd3786"
             ],
             [
              0.5555555555555556,
              "#d8576b"
             ],
             [
              0.6666666666666666,
              "#ed7953"
             ],
             [
              0.7777777777777778,
              "#fb9f3a"
             ],
             [
              0.8888888888888888,
              "#fdca26"
             ],
             [
              1,
              "#f0f921"
             ]
            ],
            "type": "histogram2d"
           }
          ],
          "histogram2dcontour": [
           {
            "colorbar": {
             "outlinewidth": 0,
             "ticks": ""
            },
            "colorscale": [
             [
              0,
              "#0d0887"
             ],
             [
              0.1111111111111111,
              "#46039f"
             ],
             [
              0.2222222222222222,
              "#7201a8"
             ],
             [
              0.3333333333333333,
              "#9c179e"
             ],
             [
              0.4444444444444444,
              "#bd3786"
             ],
             [
              0.5555555555555556,
              "#d8576b"
             ],
             [
              0.6666666666666666,
              "#ed7953"
             ],
             [
              0.7777777777777778,
              "#fb9f3a"
             ],
             [
              0.8888888888888888,
              "#fdca26"
             ],
             [
              1,
              "#f0f921"
             ]
            ],
            "type": "histogram2dcontour"
           }
          ],
          "mesh3d": [
           {
            "colorbar": {
             "outlinewidth": 0,
             "ticks": ""
            },
            "type": "mesh3d"
           }
          ],
          "parcoords": [
           {
            "line": {
             "colorbar": {
              "outlinewidth": 0,
              "ticks": ""
             }
            },
            "type": "parcoords"
           }
          ],
          "pie": [
           {
            "automargin": true,
            "type": "pie"
           }
          ],
          "scatter": [
           {
            "fillpattern": {
             "fillmode": "overlay",
             "size": 10,
             "solidity": 0.2
            },
            "type": "scatter"
           }
          ],
          "scatter3d": [
           {
            "line": {
             "colorbar": {
              "outlinewidth": 0,
              "ticks": ""
             }
            },
            "marker": {
             "colorbar": {
              "outlinewidth": 0,
              "ticks": ""
             }
            },
            "type": "scatter3d"
           }
          ],
          "scattercarpet": [
           {
            "marker": {
             "colorbar": {
              "outlinewidth": 0,
              "ticks": ""
             }
            },
            "type": "scattercarpet"
           }
          ],
          "scattergeo": [
           {
            "marker": {
             "colorbar": {
              "outlinewidth": 0,
              "ticks": ""
             }
            },
            "type": "scattergeo"
           }
          ],
          "scattergl": [
           {
            "marker": {
             "colorbar": {
              "outlinewidth": 0,
              "ticks": ""
             }
            },
            "type": "scattergl"
           }
          ],
          "scattermapbox": [
           {
            "marker": {
             "colorbar": {
              "outlinewidth": 0,
              "ticks": ""
             }
            },
            "type": "scattermapbox"
           }
          ],
          "scatterpolar": [
           {
            "marker": {
             "colorbar": {
              "outlinewidth": 0,
              "ticks": ""
             }
            },
            "type": "scatterpolar"
           }
          ],
          "scatterpolargl": [
           {
            "marker": {
             "colorbar": {
              "outlinewidth": 0,
              "ticks": ""
             }
            },
            "type": "scatterpolargl"
           }
          ],
          "scatterternary": [
           {
            "marker": {
             "colorbar": {
              "outlinewidth": 0,
              "ticks": ""
             }
            },
            "type": "scatterternary"
           }
          ],
          "surface": [
           {
            "colorbar": {
             "outlinewidth": 0,
             "ticks": ""
            },
            "colorscale": [
             [
              0,
              "#0d0887"
             ],
             [
              0.1111111111111111,
              "#46039f"
             ],
             [
              0.2222222222222222,
              "#7201a8"
             ],
             [
              0.3333333333333333,
              "#9c179e"
             ],
             [
              0.4444444444444444,
              "#bd3786"
             ],
             [
              0.5555555555555556,
              "#d8576b"
             ],
             [
              0.6666666666666666,
              "#ed7953"
             ],
             [
              0.7777777777777778,
              "#fb9f3a"
             ],
             [
              0.8888888888888888,
              "#fdca26"
             ],
             [
              1,
              "#f0f921"
             ]
            ],
            "type": "surface"
           }
          ],
          "table": [
           {
            "cells": {
             "fill": {
              "color": "#EBF0F8"
             },
             "line": {
              "color": "white"
             }
            },
            "header": {
             "fill": {
              "color": "#C8D4E3"
             },
             "line": {
              "color": "white"
             }
            },
            "type": "table"
           }
          ]
         },
         "layout": {
          "annotationdefaults": {
           "arrowcolor": "#2a3f5f",
           "arrowhead": 0,
           "arrowwidth": 1
          },
          "autotypenumbers": "strict",
          "coloraxis": {
           "colorbar": {
            "outlinewidth": 0,
            "ticks": ""
           }
          },
          "colorscale": {
           "diverging": [
            [
             0,
             "#8e0152"
            ],
            [
             0.1,
             "#c51b7d"
            ],
            [
             0.2,
             "#de77ae"
            ],
            [
             0.3,
             "#f1b6da"
            ],
            [
             0.4,
             "#fde0ef"
            ],
            [
             0.5,
             "#f7f7f7"
            ],
            [
             0.6,
             "#e6f5d0"
            ],
            [
             0.7,
             "#b8e186"
            ],
            [
             0.8,
             "#7fbc41"
            ],
            [
             0.9,
             "#4d9221"
            ],
            [
             1,
             "#276419"
            ]
           ],
           "sequential": [
            [
             0,
             "#0d0887"
            ],
            [
             0.1111111111111111,
             "#46039f"
            ],
            [
             0.2222222222222222,
             "#7201a8"
            ],
            [
             0.3333333333333333,
             "#9c179e"
            ],
            [
             0.4444444444444444,
             "#bd3786"
            ],
            [
             0.5555555555555556,
             "#d8576b"
            ],
            [
             0.6666666666666666,
             "#ed7953"
            ],
            [
             0.7777777777777778,
             "#fb9f3a"
            ],
            [
             0.8888888888888888,
             "#fdca26"
            ],
            [
             1,
             "#f0f921"
            ]
           ],
           "sequentialminus": [
            [
             0,
             "#0d0887"
            ],
            [
             0.1111111111111111,
             "#46039f"
            ],
            [
             0.2222222222222222,
             "#7201a8"
            ],
            [
             0.3333333333333333,
             "#9c179e"
            ],
            [
             0.4444444444444444,
             "#bd3786"
            ],
            [
             0.5555555555555556,
             "#d8576b"
            ],
            [
             0.6666666666666666,
             "#ed7953"
            ],
            [
             0.7777777777777778,
             "#fb9f3a"
            ],
            [
             0.8888888888888888,
             "#fdca26"
            ],
            [
             1,
             "#f0f921"
            ]
           ]
          },
          "colorway": [
           "#636efa",
           "#EF553B",
           "#00cc96",
           "#ab63fa",
           "#FFA15A",
           "#19d3f3",
           "#FF6692",
           "#B6E880",
           "#FF97FF",
           "#FECB52"
          ],
          "font": {
           "color": "#2a3f5f"
          },
          "geo": {
           "bgcolor": "white",
           "lakecolor": "white",
           "landcolor": "#E5ECF6",
           "showlakes": true,
           "showland": true,
           "subunitcolor": "white"
          },
          "hoverlabel": {
           "align": "left"
          },
          "hovermode": "closest",
          "mapbox": {
           "style": "light"
          },
          "paper_bgcolor": "white",
          "plot_bgcolor": "#E5ECF6",
          "polar": {
           "angularaxis": {
            "gridcolor": "white",
            "linecolor": "white",
            "ticks": ""
           },
           "bgcolor": "#E5ECF6",
           "radialaxis": {
            "gridcolor": "white",
            "linecolor": "white",
            "ticks": ""
           }
          },
          "scene": {
           "xaxis": {
            "backgroundcolor": "#E5ECF6",
            "gridcolor": "white",
            "gridwidth": 2,
            "linecolor": "white",
            "showbackground": true,
            "ticks": "",
            "zerolinecolor": "white"
           },
           "yaxis": {
            "backgroundcolor": "#E5ECF6",
            "gridcolor": "white",
            "gridwidth": 2,
            "linecolor": "white",
            "showbackground": true,
            "ticks": "",
            "zerolinecolor": "white"
           },
           "zaxis": {
            "backgroundcolor": "#E5ECF6",
            "gridcolor": "white",
            "gridwidth": 2,
            "linecolor": "white",
            "showbackground": true,
            "ticks": "",
            "zerolinecolor": "white"
           }
          },
          "shapedefaults": {
           "line": {
            "color": "#2a3f5f"
           }
          },
          "ternary": {
           "aaxis": {
            "gridcolor": "white",
            "linecolor": "white",
            "ticks": ""
           },
           "baxis": {
            "gridcolor": "white",
            "linecolor": "white",
            "ticks": ""
           },
           "bgcolor": "#E5ECF6",
           "caxis": {
            "gridcolor": "white",
            "linecolor": "white",
            "ticks": ""
           }
          },
          "title": {
           "x": 0.05
          },
          "xaxis": {
           "automargin": true,
           "gridcolor": "white",
           "linecolor": "white",
           "ticks": "",
           "title": {
            "standoff": 15
           },
           "zerolinecolor": "white",
           "zerolinewidth": 2
          },
          "yaxis": {
           "automargin": true,
           "gridcolor": "white",
           "linecolor": "white",
           "ticks": "",
           "title": {
            "standoff": 15
           },
           "zerolinecolor": "white",
           "zerolinewidth": 2
          }
         }
        },
        "title": {
         "text": "Kissam Tower 2 to ESB Tower 1, Kissam Tower 2 to ESB Tower 2 (summer) (feature extraction)"
        },
        "xaxis": {
         "anchor": "y",
         "domain": [
          0,
          0.45
         ],
         "title": {
          "text": "Finetuning data percentage"
         }
        },
        "xaxis2": {
         "anchor": "y2",
         "domain": [
          0.55,
          1
         ],
         "title": {
          "text": "Finetuning data percentage"
         }
        },
        "yaxis": {
         "anchor": "x",
         "domain": [
          0,
          1
         ],
         "title": {
          "text": "Performance improvement ratio"
         }
        },
        "yaxis2": {
         "anchor": "x2",
         "domain": [
          0,
          1
         ],
         "title": {
          "text": "Performance improvement ratio"
         }
        }
       }
      }
     },
     "metadata": {},
     "output_type": "display_data"
    }
   ],
   "source": [
    "plot_multiseed_error_pir(ft_percents=ft_percents, from_building=\"Kissam\", from_tower=2, to_building=\"ESB\", season=\"summer\")"
   ]
  },
  {
   "attachments": {},
   "cell_type": "markdown",
   "metadata": {},
   "source": [
    "## --- Testing on MRB ---"
   ]
  },
  {
   "cell_type": "code",
   "execution_count": 8,
   "metadata": {},
   "outputs": [
    {
     "name": "stdout",
     "output_type": "stream",
     "text": [
      "Tower 1 first temp: 81.48371124267578\n",
      "501/501 [==============================] - 1s 932us/step\n",
      "Tower 1 first temp: 81.48371124267578\n",
      "finetuning_percentage: 0.2 vec_X_train.shape: (3206, 6, 10), vec_X_test.shape: (12824, 6, 10), vec_y_train.shape: (3206,), vec_y_test.shape: (12824,)\n",
      "401/401 [==============================] - 1s 977us/step\n",
      "Tower 1 first temp: 81.48371124267578\n",
      "finetuning_percentage: 0.4 vec_X_train.shape: (6412, 6, 10), vec_X_test.shape: (9618, 6, 10), vec_y_train.shape: (6412,), vec_y_test.shape: (9618,)\n",
      "301/301 [==============================] - 1s 973us/step\n",
      "Tower 1 first temp: 81.48371124267578\n",
      "finetuning_percentage: 0.6 vec_X_train.shape: (9618, 6, 10), vec_X_test.shape: (6412, 6, 10), vec_y_train.shape: (9618,), vec_y_test.shape: (6412,)\n",
      "201/201 [==============================] - 0s 1ms/step\n",
      "Tower 1 first temp: 81.48371124267578\n",
      "finetuning_percentage: 0.8 vec_X_train.shape: (12824, 6, 10), vec_X_test.shape: (3206, 6, 10), vec_y_train.shape: (12824,), vec_y_test.shape: (3206,)\n",
      "101/101 [==============================] - 0s 1ms/step\n",
      "Tower 1 first temp: 81.48371124267578\n",
      "501/501 [==============================] - 1s 1ms/step\n",
      "Tower 1 first temp: 81.48371124267578\n",
      "finetuning_percentage: 0.2 vec_X_train.shape: (3206, 6, 10), vec_X_test.shape: (12824, 6, 10), vec_y_train.shape: (3206,), vec_y_test.shape: (12824,)\n",
      "401/401 [==============================] - 1s 987us/step\n",
      "Tower 1 first temp: 81.48371124267578\n",
      "finetuning_percentage: 0.4 vec_X_train.shape: (6412, 6, 10), vec_X_test.shape: (9618, 6, 10), vec_y_train.shape: (6412,), vec_y_test.shape: (9618,)\n",
      "301/301 [==============================] - 1s 1ms/step\n",
      "Tower 1 first temp: 81.48371124267578\n",
      "finetuning_percentage: 0.6 vec_X_train.shape: (9618, 6, 10), vec_X_test.shape: (6412, 6, 10), vec_y_train.shape: (9618,), vec_y_test.shape: (6412,)\n",
      "201/201 [==============================] - 0s 1ms/step\n",
      "Tower 1 first temp: 81.48371124267578\n",
      "finetuning_percentage: 0.8 vec_X_train.shape: (12824, 6, 10), vec_X_test.shape: (3206, 6, 10), vec_y_train.shape: (12824,), vec_y_test.shape: (3206,)\n",
      "101/101 [==============================] - 0s 1ms/step\n",
      "Tower 1 first temp: 81.48371124267578\n",
      "501/501 [==============================] - 1s 990us/step\n",
      "Tower 1 first temp: 81.48371124267578\n",
      "finetuning_percentage: 0.2 vec_X_train.shape: (3206, 6, 10), vec_X_test.shape: (12824, 6, 10), vec_y_train.shape: (3206,), vec_y_test.shape: (12824,)\n",
      "401/401 [==============================] - 1s 986us/step\n",
      "Tower 1 first temp: 81.48371124267578\n",
      "finetuning_percentage: 0.4 vec_X_train.shape: (6412, 6, 10), vec_X_test.shape: (9618, 6, 10), vec_y_train.shape: (6412,), vec_y_test.shape: (9618,)\n",
      "301/301 [==============================] - 1s 1ms/step\n",
      "Tower 1 first temp: 81.48371124267578\n",
      "finetuning_percentage: 0.6 vec_X_train.shape: (9618, 6, 10), vec_X_test.shape: (6412, 6, 10), vec_y_train.shape: (9618,), vec_y_test.shape: (6412,)\n",
      "201/201 [==============================] - 0s 1ms/step\n",
      "Tower 1 first temp: 81.48371124267578\n",
      "finetuning_percentage: 0.8 vec_X_train.shape: (12824, 6, 10), vec_X_test.shape: (3206, 6, 10), vec_y_train.shape: (12824,), vec_y_test.shape: (3206,)\n",
      "101/101 [==============================] - 0s 1ms/step\n",
      "Tower 1 first temp: 81.48371124267578\n",
      "501/501 [==============================] - 1s 945us/step\n",
      "Tower 1 first temp: 81.48371124267578\n",
      "finetuning_percentage: 0.2 vec_X_train.shape: (3206, 6, 10), vec_X_test.shape: (12824, 6, 10), vec_y_train.shape: (3206,), vec_y_test.shape: (12824,)\n",
      "401/401 [==============================] - 1s 1ms/step\n",
      "Tower 1 first temp: 81.48371124267578\n",
      "finetuning_percentage: 0.4 vec_X_train.shape: (6412, 6, 10), vec_X_test.shape: (9618, 6, 10), vec_y_train.shape: (6412,), vec_y_test.shape: (9618,)\n",
      "301/301 [==============================] - 1s 1ms/step\n",
      "Tower 1 first temp: 81.48371124267578\n",
      "finetuning_percentage: 0.6 vec_X_train.shape: (9618, 6, 10), vec_X_test.shape: (6412, 6, 10), vec_y_train.shape: (9618,), vec_y_test.shape: (6412,)\n",
      "201/201 [==============================] - 0s 1ms/step\n",
      "Tower 1 first temp: 81.48371124267578\n",
      "finetuning_percentage: 0.8 vec_X_train.shape: (12824, 6, 10), vec_X_test.shape: (3206, 6, 10), vec_y_train.shape: (12824,), vec_y_test.shape: (3206,)\n",
      "101/101 [==============================] - 0s 1ms/step\n",
      "Tower 1 first temp: 81.48371124267578\n",
      "501/501 [==============================] - 1s 988us/step\n",
      "Tower 1 first temp: 81.48371124267578\n",
      "finetuning_percentage: 0.2 vec_X_train.shape: (3206, 6, 10), vec_X_test.shape: (12824, 6, 10), vec_y_train.shape: (3206,), vec_y_test.shape: (12824,)\n",
      "401/401 [==============================] - 1s 1ms/step\n",
      "Tower 1 first temp: 81.48371124267578\n",
      "finetuning_percentage: 0.4 vec_X_train.shape: (6412, 6, 10), vec_X_test.shape: (9618, 6, 10), vec_y_train.shape: (6412,), vec_y_test.shape: (9618,)\n",
      "301/301 [==============================] - 1s 1ms/step\n",
      "Tower 1 first temp: 81.48371124267578\n",
      "finetuning_percentage: 0.6 vec_X_train.shape: (9618, 6, 10), vec_X_test.shape: (6412, 6, 10), vec_y_train.shape: (9618,), vec_y_test.shape: (6412,)\n",
      "201/201 [==============================] - 0s 1ms/step\n",
      "Tower 1 first temp: 81.48371124267578\n",
      "finetuning_percentage: 0.8 vec_X_train.shape: (12824, 6, 10), vec_X_test.shape: (3206, 6, 10), vec_y_train.shape: (12824,), vec_y_test.shape: (3206,)\n",
      "101/101 [==============================] - 0s 1ms/step\n",
      "Tower 2 first temp: 70.34066009521484\n",
      "509/509 [==============================] - 1s 1ms/step\n",
      "Tower 2 first temp: 70.34066009521484\n",
      "finetuning_percentage: 0.2 vec_X_train.shape: (3255, 6, 10), vec_X_test.shape: (13022, 6, 10), vec_y_train.shape: (3255,), vec_y_test.shape: (13022,)\n",
      "407/407 [==============================] - 1s 1ms/step\n",
      "Tower 2 first temp: 70.34066009521484\n",
      "finetuning_percentage: 0.4 vec_X_train.shape: (6510, 6, 10), vec_X_test.shape: (9767, 6, 10), vec_y_train.shape: (6510,), vec_y_test.shape: (9767,)\n",
      "306/306 [==============================] - 1s 1ms/step\n",
      "Tower 2 first temp: 70.34066009521484\n",
      "finetuning_percentage: 0.6 vec_X_train.shape: (9766, 6, 10), vec_X_test.shape: (6511, 6, 10), vec_y_train.shape: (9766,), vec_y_test.shape: (6511,)\n",
      "204/204 [==============================] - 0s 1ms/step\n",
      "Tower 2 first temp: 70.34066009521484\n",
      "finetuning_percentage: 0.8 vec_X_train.shape: (13021, 6, 10), vec_X_test.shape: (3256, 6, 10), vec_y_train.shape: (13021,), vec_y_test.shape: (3256,)\n",
      "102/102 [==============================] - 0s 1ms/step\n",
      "Tower 2 first temp: 70.34066009521484\n",
      "509/509 [==============================] - 1s 985us/step\n",
      "Tower 2 first temp: 70.34066009521484\n",
      "finetuning_percentage: 0.2 vec_X_train.shape: (3255, 6, 10), vec_X_test.shape: (13022, 6, 10), vec_y_train.shape: (3255,), vec_y_test.shape: (13022,)\n",
      "407/407 [==============================] - 1s 1ms/step\n",
      "Tower 2 first temp: 70.34066009521484\n",
      "finetuning_percentage: 0.4 vec_X_train.shape: (6510, 6, 10), vec_X_test.shape: (9767, 6, 10), vec_y_train.shape: (6510,), vec_y_test.shape: (9767,)\n",
      "306/306 [==============================] - 1s 988us/step\n",
      "Tower 2 first temp: 70.34066009521484\n",
      "finetuning_percentage: 0.6 vec_X_train.shape: (9766, 6, 10), vec_X_test.shape: (6511, 6, 10), vec_y_train.shape: (9766,), vec_y_test.shape: (6511,)\n",
      "204/204 [==============================] - 0s 1ms/step\n",
      "Tower 2 first temp: 70.34066009521484\n",
      "finetuning_percentage: 0.8 vec_X_train.shape: (13021, 6, 10), vec_X_test.shape: (3256, 6, 10), vec_y_train.shape: (13021,), vec_y_test.shape: (3256,)\n",
      "102/102 [==============================] - 0s 1ms/step\n",
      "Tower 2 first temp: 70.34066009521484\n",
      "509/509 [==============================] - 1s 946us/step\n",
      "Tower 2 first temp: 70.34066009521484\n",
      "finetuning_percentage: 0.2 vec_X_train.shape: (3255, 6, 10), vec_X_test.shape: (13022, 6, 10), vec_y_train.shape: (3255,), vec_y_test.shape: (13022,)\n",
      "407/407 [==============================] - 1s 941us/step\n",
      "Tower 2 first temp: 70.34066009521484\n",
      "finetuning_percentage: 0.4 vec_X_train.shape: (6510, 6, 10), vec_X_test.shape: (9767, 6, 10), vec_y_train.shape: (6510,), vec_y_test.shape: (9767,)\n",
      "306/306 [==============================] - 1s 1ms/step\n",
      "Tower 2 first temp: 70.34066009521484\n",
      "finetuning_percentage: 0.6 vec_X_train.shape: (9766, 6, 10), vec_X_test.shape: (6511, 6, 10), vec_y_train.shape: (9766,), vec_y_test.shape: (6511,)\n",
      "204/204 [==============================] - 0s 1ms/step\n",
      "Tower 2 first temp: 70.34066009521484\n",
      "finetuning_percentage: 0.8 vec_X_train.shape: (13021, 6, 10), vec_X_test.shape: (3256, 6, 10), vec_y_train.shape: (13021,), vec_y_test.shape: (3256,)\n",
      "102/102 [==============================] - 0s 1ms/step\n",
      "Tower 2 first temp: 70.34066009521484\n",
      "509/509 [==============================] - 1s 963us/step\n",
      "Tower 2 first temp: 70.34066009521484\n",
      "finetuning_percentage: 0.2 vec_X_train.shape: (3255, 6, 10), vec_X_test.shape: (13022, 6, 10), vec_y_train.shape: (3255,), vec_y_test.shape: (13022,)\n",
      "407/407 [==============================] - 1s 1ms/step\n",
      "Tower 2 first temp: 70.34066009521484\n",
      "finetuning_percentage: 0.4 vec_X_train.shape: (6510, 6, 10), vec_X_test.shape: (9767, 6, 10), vec_y_train.shape: (6510,), vec_y_test.shape: (9767,)\n",
      "306/306 [==============================] - 1s 923us/step\n",
      "Tower 2 first temp: 70.34066009521484\n",
      "finetuning_percentage: 0.6 vec_X_train.shape: (9766, 6, 10), vec_X_test.shape: (6511, 6, 10), vec_y_train.shape: (9766,), vec_y_test.shape: (6511,)\n",
      "204/204 [==============================] - 0s 952us/step\n",
      "Tower 2 first temp: 70.34066009521484\n",
      "finetuning_percentage: 0.8 vec_X_train.shape: (13021, 6, 10), vec_X_test.shape: (3256, 6, 10), vec_y_train.shape: (13021,), vec_y_test.shape: (3256,)\n",
      "102/102 [==============================] - 0s 1ms/step\n",
      "Tower 2 first temp: 70.34066009521484\n",
      "509/509 [==============================] - 1s 940us/step\n",
      "Tower 2 first temp: 70.34066009521484\n",
      "finetuning_percentage: 0.2 vec_X_train.shape: (3255, 6, 10), vec_X_test.shape: (13022, 6, 10), vec_y_train.shape: (3255,), vec_y_test.shape: (13022,)\n",
      "407/407 [==============================] - 1s 922us/step\n",
      "Tower 2 first temp: 70.34066009521484\n",
      "finetuning_percentage: 0.4 vec_X_train.shape: (6510, 6, 10), vec_X_test.shape: (9767, 6, 10), vec_y_train.shape: (6510,), vec_y_test.shape: (9767,)\n",
      "306/306 [==============================] - 1s 983us/step\n",
      "Tower 2 first temp: 70.34066009521484\n",
      "finetuning_percentage: 0.6 vec_X_train.shape: (9766, 6, 10), vec_X_test.shape: (6511, 6, 10), vec_y_train.shape: (9766,), vec_y_test.shape: (6511,)\n",
      "204/204 [==============================] - 0s 976us/step\n",
      "Tower 2 first temp: 70.34066009521484\n",
      "finetuning_percentage: 0.8 vec_X_train.shape: (13021, 6, 10), vec_X_test.shape: (3256, 6, 10), vec_y_train.shape: (13021,), vec_y_test.shape: (3256,)\n",
      "102/102 [==============================] - 0s 1ms/step\n"
     ]
    },
    {
     "data": {
      "application/vnd.plotly.v1+json": {
       "config": {
        "plotlyServerURL": "https://plot.ly"
       },
       "data": [
        {
         "hovertemplate": "variable=RMSE with seed 17<br>finetuning data percentage=%{x}<br>value=%{y}<extra></extra>",
         "legendgroup": "RMSE with seed 17",
         "line": {
          "color": "#636efa",
          "dash": "solid"
         },
         "marker": {
          "symbol": "circle"
         },
         "mode": "lines",
         "name": "RMSE with seed 17",
         "orientation": "v",
         "showlegend": true,
         "type": "scatter",
         "x": [
          0,
          20,
          40,
          60,
          80
         ],
         "xaxis": "x",
         "y": [
          5.057772232864485,
          4.941510336714136,
          4.965687143167163,
          5.024540185642488,
          4.9820452455230395
         ],
         "yaxis": "y"
        },
        {
         "hovertemplate": "variable=RMSE with seed 42<br>finetuning data percentage=%{x}<br>value=%{y}<extra></extra>",
         "legendgroup": "RMSE with seed 42",
         "line": {
          "color": "#EF553B",
          "dash": "solid"
         },
         "marker": {
          "symbol": "circle"
         },
         "mode": "lines",
         "name": "RMSE with seed 42",
         "orientation": "v",
         "showlegend": true,
         "type": "scatter",
         "x": [
          0,
          20,
          40,
          60,
          80
         ],
         "xaxis": "x",
         "y": [
          5.057772232864485,
          4.840906565055156,
          4.9463881266267835,
          4.938216136539077,
          4.979027679410344
         ],
         "yaxis": "y"
        },
        {
         "hovertemplate": "variable=RMSE with seed 64<br>finetuning data percentage=%{x}<br>value=%{y}<extra></extra>",
         "legendgroup": "RMSE with seed 64",
         "line": {
          "color": "#00cc96",
          "dash": "solid"
         },
         "marker": {
          "symbol": "circle"
         },
         "mode": "lines",
         "name": "RMSE with seed 64",
         "orientation": "v",
         "showlegend": true,
         "type": "scatter",
         "x": [
          0,
          20,
          40,
          60,
          80
         ],
         "xaxis": "x",
         "y": [
          5.057772232864485,
          5.127438700475167,
          4.996780649507212,
          4.958821739578699,
          5.029311079114947
         ],
         "yaxis": "y"
        },
        {
         "hovertemplate": "variable=RMSE with seed 76<br>finetuning data percentage=%{x}<br>value=%{y}<extra></extra>",
         "legendgroup": "RMSE with seed 76",
         "line": {
          "color": "#ab63fa",
          "dash": "solid"
         },
         "marker": {
          "symbol": "circle"
         },
         "mode": "lines",
         "name": "RMSE with seed 76",
         "orientation": "v",
         "showlegend": true,
         "type": "scatter",
         "x": [
          0,
          20,
          40,
          60,
          80
         ],
         "xaxis": "x",
         "y": [
          5.057772232864485,
          4.848697433841094,
          4.871294851758784,
          4.939548079856054,
          4.965671901448585
         ],
         "yaxis": "y"
        },
        {
         "hovertemplate": "variable=RMSE with seed 98<br>finetuning data percentage=%{x}<br>value=%{y}<extra></extra>",
         "legendgroup": "RMSE with seed 98",
         "line": {
          "color": "#FFA15A",
          "dash": "solid"
         },
         "marker": {
          "symbol": "circle"
         },
         "mode": "lines",
         "name": "RMSE with seed 98",
         "orientation": "v",
         "showlegend": true,
         "type": "scatter",
         "x": [
          0,
          20,
          40,
          60,
          80
         ],
         "xaxis": "x",
         "y": [
          5.057772232864485,
          4.844367914367988,
          4.928635763198837,
          5.0213843356420735,
          5.052440325987706
         ],
         "yaxis": "y"
        },
        {
         "hovertemplate": "variable=RMSE with seed 17<br>finetuning data percentage=%{x}<br>value=%{y}<extra></extra>",
         "legendgroup": "RMSE with seed 17",
         "line": {
          "color": "#636efa",
          "dash": "solid"
         },
         "marker": {
          "symbol": "circle"
         },
         "mode": "lines",
         "name": "RMSE with seed 17",
         "orientation": "v",
         "showlegend": true,
         "type": "scatter",
         "x": [
          0,
          20,
          40,
          60,
          80
         ],
         "xaxis": "x2",
         "y": [
          5.057772232864485,
          4.941510336714136,
          4.965687143167163,
          5.024540185642488,
          4.9820452455230395
         ],
         "yaxis": "y2"
        },
        {
         "hovertemplate": "variable=RMSE with seed 42<br>finetuning data percentage=%{x}<br>value=%{y}<extra></extra>",
         "legendgroup": "RMSE with seed 42",
         "line": {
          "color": "#EF553B",
          "dash": "solid"
         },
         "marker": {
          "symbol": "circle"
         },
         "mode": "lines",
         "name": "RMSE with seed 42",
         "orientation": "v",
         "showlegend": true,
         "type": "scatter",
         "x": [
          0,
          20,
          40,
          60,
          80
         ],
         "xaxis": "x2",
         "y": [
          5.057772232864485,
          4.840906565055156,
          4.9463881266267835,
          4.938216136539077,
          4.979027679410344
         ],
         "yaxis": "y2"
        },
        {
         "hovertemplate": "variable=RMSE with seed 64<br>finetuning data percentage=%{x}<br>value=%{y}<extra></extra>",
         "legendgroup": "RMSE with seed 64",
         "line": {
          "color": "#00cc96",
          "dash": "solid"
         },
         "marker": {
          "symbol": "circle"
         },
         "mode": "lines",
         "name": "RMSE with seed 64",
         "orientation": "v",
         "showlegend": true,
         "type": "scatter",
         "x": [
          0,
          20,
          40,
          60,
          80
         ],
         "xaxis": "x2",
         "y": [
          5.057772232864485,
          5.127438700475167,
          4.996780649507212,
          4.958821739578699,
          5.029311079114947
         ],
         "yaxis": "y2"
        },
        {
         "hovertemplate": "variable=RMSE with seed 76<br>finetuning data percentage=%{x}<br>value=%{y}<extra></extra>",
         "legendgroup": "RMSE with seed 76",
         "line": {
          "color": "#ab63fa",
          "dash": "solid"
         },
         "marker": {
          "symbol": "circle"
         },
         "mode": "lines",
         "name": "RMSE with seed 76",
         "orientation": "v",
         "showlegend": true,
         "type": "scatter",
         "x": [
          0,
          20,
          40,
          60,
          80
         ],
         "xaxis": "x2",
         "y": [
          5.057772232864485,
          4.848697433841094,
          4.871294851758784,
          4.939548079856054,
          4.965671901448585
         ],
         "yaxis": "y2"
        },
        {
         "hovertemplate": "variable=RMSE with seed 98<br>finetuning data percentage=%{x}<br>value=%{y}<extra></extra>",
         "legendgroup": "RMSE with seed 98",
         "line": {
          "color": "#FFA15A",
          "dash": "solid"
         },
         "marker": {
          "symbol": "circle"
         },
         "mode": "lines",
         "name": "RMSE with seed 98",
         "orientation": "v",
         "showlegend": true,
         "type": "scatter",
         "x": [
          0,
          20,
          40,
          60,
          80
         ],
         "xaxis": "x2",
         "y": [
          5.057772232864485,
          4.844367914367988,
          4.928635763198837,
          5.0213843356420735,
          5.052440325987706
         ],
         "yaxis": "y2"
        },
        {
         "hovertemplate": "variable=RMSE with seed 42<br>finetuning data percentage=%{x}<br>value=%{y}<extra></extra>",
         "legendgroup": "RMSE with seed 42",
         "line": {
          "color": "#EF553B",
          "dash": "solid"
         },
         "marker": {
          "symbol": "circle"
         },
         "mode": "lines",
         "name": "RMSE with seed 42",
         "orientation": "v",
         "showlegend": true,
         "type": "scatter",
         "x": [
          0,
          20,
          40,
          60,
          80
         ],
         "xaxis": "x2",
         "y": [
          5.057772232864485,
          4.840906565055156,
          4.9463881266267835,
          4.938216136539077,
          4.979027679410344
         ],
         "yaxis": "y2"
        }
       ],
       "layout": {
        "showlegend": true,
        "template": {
         "data": {
          "bar": [
           {
            "error_x": {
             "color": "#2a3f5f"
            },
            "error_y": {
             "color": "#2a3f5f"
            },
            "marker": {
             "line": {
              "color": "#E5ECF6",
              "width": 0.5
             },
             "pattern": {
              "fillmode": "overlay",
              "size": 10,
              "solidity": 0.2
             }
            },
            "type": "bar"
           }
          ],
          "barpolar": [
           {
            "marker": {
             "line": {
              "color": "#E5ECF6",
              "width": 0.5
             },
             "pattern": {
              "fillmode": "overlay",
              "size": 10,
              "solidity": 0.2
             }
            },
            "type": "barpolar"
           }
          ],
          "carpet": [
           {
            "aaxis": {
             "endlinecolor": "#2a3f5f",
             "gridcolor": "white",
             "linecolor": "white",
             "minorgridcolor": "white",
             "startlinecolor": "#2a3f5f"
            },
            "baxis": {
             "endlinecolor": "#2a3f5f",
             "gridcolor": "white",
             "linecolor": "white",
             "minorgridcolor": "white",
             "startlinecolor": "#2a3f5f"
            },
            "type": "carpet"
           }
          ],
          "choropleth": [
           {
            "colorbar": {
             "outlinewidth": 0,
             "ticks": ""
            },
            "type": "choropleth"
           }
          ],
          "contour": [
           {
            "colorbar": {
             "outlinewidth": 0,
             "ticks": ""
            },
            "colorscale": [
             [
              0,
              "#0d0887"
             ],
             [
              0.1111111111111111,
              "#46039f"
             ],
             [
              0.2222222222222222,
              "#7201a8"
             ],
             [
              0.3333333333333333,
              "#9c179e"
             ],
             [
              0.4444444444444444,
              "#bd3786"
             ],
             [
              0.5555555555555556,
              "#d8576b"
             ],
             [
              0.6666666666666666,
              "#ed7953"
             ],
             [
              0.7777777777777778,
              "#fb9f3a"
             ],
             [
              0.8888888888888888,
              "#fdca26"
             ],
             [
              1,
              "#f0f921"
             ]
            ],
            "type": "contour"
           }
          ],
          "contourcarpet": [
           {
            "colorbar": {
             "outlinewidth": 0,
             "ticks": ""
            },
            "type": "contourcarpet"
           }
          ],
          "heatmap": [
           {
            "colorbar": {
             "outlinewidth": 0,
             "ticks": ""
            },
            "colorscale": [
             [
              0,
              "#0d0887"
             ],
             [
              0.1111111111111111,
              "#46039f"
             ],
             [
              0.2222222222222222,
              "#7201a8"
             ],
             [
              0.3333333333333333,
              "#9c179e"
             ],
             [
              0.4444444444444444,
              "#bd3786"
             ],
             [
              0.5555555555555556,
              "#d8576b"
             ],
             [
              0.6666666666666666,
              "#ed7953"
             ],
             [
              0.7777777777777778,
              "#fb9f3a"
             ],
             [
              0.8888888888888888,
              "#fdca26"
             ],
             [
              1,
              "#f0f921"
             ]
            ],
            "type": "heatmap"
           }
          ],
          "heatmapgl": [
           {
            "colorbar": {
             "outlinewidth": 0,
             "ticks": ""
            },
            "colorscale": [
             [
              0,
              "#0d0887"
             ],
             [
              0.1111111111111111,
              "#46039f"
             ],
             [
              0.2222222222222222,
              "#7201a8"
             ],
             [
              0.3333333333333333,
              "#9c179e"
             ],
             [
              0.4444444444444444,
              "#bd3786"
             ],
             [
              0.5555555555555556,
              "#d8576b"
             ],
             [
              0.6666666666666666,
              "#ed7953"
             ],
             [
              0.7777777777777778,
              "#fb9f3a"
             ],
             [
              0.8888888888888888,
              "#fdca26"
             ],
             [
              1,
              "#f0f921"
             ]
            ],
            "type": "heatmapgl"
           }
          ],
          "histogram": [
           {
            "marker": {
             "pattern": {
              "fillmode": "overlay",
              "size": 10,
              "solidity": 0.2
             }
            },
            "type": "histogram"
           }
          ],
          "histogram2d": [
           {
            "colorbar": {
             "outlinewidth": 0,
             "ticks": ""
            },
            "colorscale": [
             [
              0,
              "#0d0887"
             ],
             [
              0.1111111111111111,
              "#46039f"
             ],
             [
              0.2222222222222222,
              "#7201a8"
             ],
             [
              0.3333333333333333,
              "#9c179e"
             ],
             [
              0.4444444444444444,
              "#bd3786"
             ],
             [
              0.5555555555555556,
              "#d8576b"
             ],
             [
              0.6666666666666666,
              "#ed7953"
             ],
             [
              0.7777777777777778,
              "#fb9f3a"
             ],
             [
              0.8888888888888888,
              "#fdca26"
             ],
             [
              1,
              "#f0f921"
             ]
            ],
            "type": "histogram2d"
           }
          ],
          "histogram2dcontour": [
           {
            "colorbar": {
             "outlinewidth": 0,
             "ticks": ""
            },
            "colorscale": [
             [
              0,
              "#0d0887"
             ],
             [
              0.1111111111111111,
              "#46039f"
             ],
             [
              0.2222222222222222,
              "#7201a8"
             ],
             [
              0.3333333333333333,
              "#9c179e"
             ],
             [
              0.4444444444444444,
              "#bd3786"
             ],
             [
              0.5555555555555556,
              "#d8576b"
             ],
             [
              0.6666666666666666,
              "#ed7953"
             ],
             [
              0.7777777777777778,
              "#fb9f3a"
             ],
             [
              0.8888888888888888,
              "#fdca26"
             ],
             [
              1,
              "#f0f921"
             ]
            ],
            "type": "histogram2dcontour"
           }
          ],
          "mesh3d": [
           {
            "colorbar": {
             "outlinewidth": 0,
             "ticks": ""
            },
            "type": "mesh3d"
           }
          ],
          "parcoords": [
           {
            "line": {
             "colorbar": {
              "outlinewidth": 0,
              "ticks": ""
             }
            },
            "type": "parcoords"
           }
          ],
          "pie": [
           {
            "automargin": true,
            "type": "pie"
           }
          ],
          "scatter": [
           {
            "fillpattern": {
             "fillmode": "overlay",
             "size": 10,
             "solidity": 0.2
            },
            "type": "scatter"
           }
          ],
          "scatter3d": [
           {
            "line": {
             "colorbar": {
              "outlinewidth": 0,
              "ticks": ""
             }
            },
            "marker": {
             "colorbar": {
              "outlinewidth": 0,
              "ticks": ""
             }
            },
            "type": "scatter3d"
           }
          ],
          "scattercarpet": [
           {
            "marker": {
             "colorbar": {
              "outlinewidth": 0,
              "ticks": ""
             }
            },
            "type": "scattercarpet"
           }
          ],
          "scattergeo": [
           {
            "marker": {
             "colorbar": {
              "outlinewidth": 0,
              "ticks": ""
             }
            },
            "type": "scattergeo"
           }
          ],
          "scattergl": [
           {
            "marker": {
             "colorbar": {
              "outlinewidth": 0,
              "ticks": ""
             }
            },
            "type": "scattergl"
           }
          ],
          "scattermapbox": [
           {
            "marker": {
             "colorbar": {
              "outlinewidth": 0,
              "ticks": ""
             }
            },
            "type": "scattermapbox"
           }
          ],
          "scatterpolar": [
           {
            "marker": {
             "colorbar": {
              "outlinewidth": 0,
              "ticks": ""
             }
            },
            "type": "scatterpolar"
           }
          ],
          "scatterpolargl": [
           {
            "marker": {
             "colorbar": {
              "outlinewidth": 0,
              "ticks": ""
             }
            },
            "type": "scatterpolargl"
           }
          ],
          "scatterternary": [
           {
            "marker": {
             "colorbar": {
              "outlinewidth": 0,
              "ticks": ""
             }
            },
            "type": "scatterternary"
           }
          ],
          "surface": [
           {
            "colorbar": {
             "outlinewidth": 0,
             "ticks": ""
            },
            "colorscale": [
             [
              0,
              "#0d0887"
             ],
             [
              0.1111111111111111,
              "#46039f"
             ],
             [
              0.2222222222222222,
              "#7201a8"
             ],
             [
              0.3333333333333333,
              "#9c179e"
             ],
             [
              0.4444444444444444,
              "#bd3786"
             ],
             [
              0.5555555555555556,
              "#d8576b"
             ],
             [
              0.6666666666666666,
              "#ed7953"
             ],
             [
              0.7777777777777778,
              "#fb9f3a"
             ],
             [
              0.8888888888888888,
              "#fdca26"
             ],
             [
              1,
              "#f0f921"
             ]
            ],
            "type": "surface"
           }
          ],
          "table": [
           {
            "cells": {
             "fill": {
              "color": "#EBF0F8"
             },
             "line": {
              "color": "white"
             }
            },
            "header": {
             "fill": {
              "color": "#C8D4E3"
             },
             "line": {
              "color": "white"
             }
            },
            "type": "table"
           }
          ]
         },
         "layout": {
          "annotationdefaults": {
           "arrowcolor": "#2a3f5f",
           "arrowhead": 0,
           "arrowwidth": 1
          },
          "autotypenumbers": "strict",
          "coloraxis": {
           "colorbar": {
            "outlinewidth": 0,
            "ticks": ""
           }
          },
          "colorscale": {
           "diverging": [
            [
             0,
             "#8e0152"
            ],
            [
             0.1,
             "#c51b7d"
            ],
            [
             0.2,
             "#de77ae"
            ],
            [
             0.3,
             "#f1b6da"
            ],
            [
             0.4,
             "#fde0ef"
            ],
            [
             0.5,
             "#f7f7f7"
            ],
            [
             0.6,
             "#e6f5d0"
            ],
            [
             0.7,
             "#b8e186"
            ],
            [
             0.8,
             "#7fbc41"
            ],
            [
             0.9,
             "#4d9221"
            ],
            [
             1,
             "#276419"
            ]
           ],
           "sequential": [
            [
             0,
             "#0d0887"
            ],
            [
             0.1111111111111111,
             "#46039f"
            ],
            [
             0.2222222222222222,
             "#7201a8"
            ],
            [
             0.3333333333333333,
             "#9c179e"
            ],
            [
             0.4444444444444444,
             "#bd3786"
            ],
            [
             0.5555555555555556,
             "#d8576b"
            ],
            [
             0.6666666666666666,
             "#ed7953"
            ],
            [
             0.7777777777777778,
             "#fb9f3a"
            ],
            [
             0.8888888888888888,
             "#fdca26"
            ],
            [
             1,
             "#f0f921"
            ]
           ],
           "sequentialminus": [
            [
             0,
             "#0d0887"
            ],
            [
             0.1111111111111111,
             "#46039f"
            ],
            [
             0.2222222222222222,
             "#7201a8"
            ],
            [
             0.3333333333333333,
             "#9c179e"
            ],
            [
             0.4444444444444444,
             "#bd3786"
            ],
            [
             0.5555555555555556,
             "#d8576b"
            ],
            [
             0.6666666666666666,
             "#ed7953"
            ],
            [
             0.7777777777777778,
             "#fb9f3a"
            ],
            [
             0.8888888888888888,
             "#fdca26"
            ],
            [
             1,
             "#f0f921"
            ]
           ]
          },
          "colorway": [
           "#636efa",
           "#EF553B",
           "#00cc96",
           "#ab63fa",
           "#FFA15A",
           "#19d3f3",
           "#FF6692",
           "#B6E880",
           "#FF97FF",
           "#FECB52"
          ],
          "font": {
           "color": "#2a3f5f"
          },
          "geo": {
           "bgcolor": "white",
           "lakecolor": "white",
           "landcolor": "#E5ECF6",
           "showlakes": true,
           "showland": true,
           "subunitcolor": "white"
          },
          "hoverlabel": {
           "align": "left"
          },
          "hovermode": "closest",
          "mapbox": {
           "style": "light"
          },
          "paper_bgcolor": "white",
          "plot_bgcolor": "#E5ECF6",
          "polar": {
           "angularaxis": {
            "gridcolor": "white",
            "linecolor": "white",
            "ticks": ""
           },
           "bgcolor": "#E5ECF6",
           "radialaxis": {
            "gridcolor": "white",
            "linecolor": "white",
            "ticks": ""
           }
          },
          "scene": {
           "xaxis": {
            "backgroundcolor": "#E5ECF6",
            "gridcolor": "white",
            "gridwidth": 2,
            "linecolor": "white",
            "showbackground": true,
            "ticks": "",
            "zerolinecolor": "white"
           },
           "yaxis": {
            "backgroundcolor": "#E5ECF6",
            "gridcolor": "white",
            "gridwidth": 2,
            "linecolor": "white",
            "showbackground": true,
            "ticks": "",
            "zerolinecolor": "white"
           },
           "zaxis": {
            "backgroundcolor": "#E5ECF6",
            "gridcolor": "white",
            "gridwidth": 2,
            "linecolor": "white",
            "showbackground": true,
            "ticks": "",
            "zerolinecolor": "white"
           }
          },
          "shapedefaults": {
           "line": {
            "color": "#2a3f5f"
           }
          },
          "ternary": {
           "aaxis": {
            "gridcolor": "white",
            "linecolor": "white",
            "ticks": ""
           },
           "baxis": {
            "gridcolor": "white",
            "linecolor": "white",
            "ticks": ""
           },
           "bgcolor": "#E5ECF6",
           "caxis": {
            "gridcolor": "white",
            "linecolor": "white",
            "ticks": ""
           }
          },
          "title": {
           "x": 0.05
          },
          "xaxis": {
           "automargin": true,
           "gridcolor": "white",
           "linecolor": "white",
           "ticks": "",
           "title": {
            "standoff": 15
           },
           "zerolinecolor": "white",
           "zerolinewidth": 2
          },
          "yaxis": {
           "automargin": true,
           "gridcolor": "white",
           "linecolor": "white",
           "ticks": "",
           "title": {
            "standoff": 15
           },
           "zerolinecolor": "white",
           "zerolinewidth": 2
          }
         }
        },
        "title": {
         "text": "ESB Tower 1 to MRB Tower 1, ESB Tower 1 to MRB Tower 2 (summer) (feature extraction)"
        },
        "xaxis": {
         "anchor": "y",
         "domain": [
          0,
          0.45
         ],
         "title": {
          "text": "Finetuning data percentage"
         }
        },
        "xaxis2": {
         "anchor": "y2",
         "domain": [
          0.55,
          1
         ],
         "title": {
          "text": "Finetuning data percentage"
         }
        },
        "yaxis": {
         "anchor": "x",
         "domain": [
          0,
          1
         ],
         "title": {
          "text": "Error"
         }
        },
        "yaxis2": {
         "anchor": "x2",
         "domain": [
          0,
          1
         ],
         "title": {
          "text": "Error"
         }
        }
       }
      }
     },
     "metadata": {},
     "output_type": "display_data"
    },
    {
     "data": {
      "application/vnd.plotly.v1+json": {
       "config": {
        "plotlyServerURL": "https://plot.ly"
       },
       "data": [
        {
         "hovertemplate": "variable=PIR with seed 17<br>finetuning data percentage=%{x}<br>value=%{y}<extra></extra>",
         "legendgroup": "PIR with seed 17",
         "line": {
          "color": "#636efa",
          "dash": "solid"
         },
         "marker": {
          "symbol": "circle"
         },
         "mode": "lines",
         "name": "PIR with seed 17",
         "orientation": "v",
         "showlegend": true,
         "type": "scatter",
         "x": [
          0,
          20,
          40,
          60,
          80
         ],
         "xaxis": "x",
         "y": [
          0,
          0.022986779712004534,
          0.018206650172771593,
          0.00657049105652902,
          0.014972399676162807
         ],
         "yaxis": "y"
        },
        {
         "hovertemplate": "variable=PIR with seed 42<br>finetuning data percentage=%{x}<br>value=%{y}<extra></extra>",
         "legendgroup": "PIR with seed 42",
         "line": {
          "color": "#EF553B",
          "dash": "solid"
         },
         "marker": {
          "symbol": "circle"
         },
         "mode": "lines",
         "name": "PIR with seed 42",
         "orientation": "v",
         "showlegend": true,
         "type": "scatter",
         "x": [
          0,
          20,
          40,
          60,
          80
         ],
         "xaxis": "x",
         "y": [
          0,
          0.042877705405588516,
          0.022022365007650556,
          0.023638094168921747,
          0.015569019289258
         ],
         "yaxis": "y"
        },
        {
         "hovertemplate": "variable=PIR with seed 64<br>finetuning data percentage=%{x}<br>value=%{y}<extra></extra>",
         "legendgroup": "PIR with seed 64",
         "line": {
          "color": "#00cc96",
          "dash": "solid"
         },
         "marker": {
          "symbol": "circle"
         },
         "mode": "lines",
         "name": "PIR with seed 64",
         "orientation": "v",
         "showlegend": true,
         "type": "scatter",
         "x": [
          0,
          20,
          40,
          60,
          80
         ],
         "xaxis": "x",
         "y": [
          0,
          -0.013774140946482792,
          0.012058981810402799,
          0.01956404692224445,
          0.0056272114360156845
         ],
         "yaxis": "y"
        },
        {
         "hovertemplate": "variable=PIR with seed 76<br>finetuning data percentage=%{x}<br>value=%{y}<extra></extra>",
         "legendgroup": "PIR with seed 76",
         "line": {
          "color": "#ab63fa",
          "dash": "solid"
         },
         "marker": {
          "symbol": "circle"
         },
         "mode": "lines",
         "name": "PIR with seed 76",
         "orientation": "v",
         "showlegend": true,
         "type": "scatter",
         "x": [
          0,
          20,
          40,
          60,
          80
         ],
         "xaxis": "x",
         "y": [
          0,
          0.04133732983562619,
          0.03686946990099804,
          0.02337474832105572,
          0.018209663696884003
         ],
         "yaxis": "y"
        },
        {
         "hovertemplate": "variable=PIR with seed 98<br>finetuning data percentage=%{x}<br>value=%{y}<extra></extra>",
         "legendgroup": "PIR with seed 98",
         "line": {
          "color": "#FFA15A",
          "dash": "solid"
         },
         "marker": {
          "symbol": "circle"
         },
         "mode": "lines",
         "name": "PIR with seed 98",
         "orientation": "v",
         "showlegend": true,
         "type": "scatter",
         "x": [
          0,
          20,
          40,
          60,
          80
         ],
         "xaxis": "x",
         "y": [
          0,
          0.04219334297219531,
          0.025532282538652553,
          0.007194451538558712,
          0.0010542006700367443
         ],
         "yaxis": "y"
        },
        {
         "hovertemplate": "variable=PIR with seed 17<br>finetuning data percentage=%{x}<br>value=%{y}<extra></extra>",
         "legendgroup": "PIR with seed 17",
         "line": {
          "color": "#636efa",
          "dash": "solid"
         },
         "marker": {
          "symbol": "circle"
         },
         "mode": "lines",
         "name": "PIR with seed 17",
         "orientation": "v",
         "showlegend": true,
         "type": "scatter",
         "x": [
          0,
          20,
          40,
          60,
          80
         ],
         "xaxis": "x2",
         "y": [
          0,
          -0.01886288682176548,
          -0.004558436315020532,
          -0.0067010312309130175,
          -0.012380919260974824
         ],
         "yaxis": "y2"
        },
        {
         "hovertemplate": "variable=PIR with seed 42<br>finetuning data percentage=%{x}<br>value=%{y}<extra></extra>",
         "legendgroup": "PIR with seed 42",
         "line": {
          "color": "#EF553B",
          "dash": "solid"
         },
         "marker": {
          "symbol": "circle"
         },
         "mode": "lines",
         "name": "PIR with seed 42",
         "orientation": "v",
         "showlegend": true,
         "type": "scatter",
         "x": [
          0,
          20,
          40,
          60,
          80
         ],
         "xaxis": "x2",
         "y": [
          0,
          0.047414102540943484,
          -0.0021705467291248674,
          -0.01082259807635399,
          -0.009644711498252887
         ],
         "yaxis": "y2"
        },
        {
         "hovertemplate": "variable=PIR with seed 64<br>finetuning data percentage=%{x}<br>value=%{y}<extra></extra>",
         "legendgroup": "PIR with seed 64",
         "line": {
          "color": "#00cc96",
          "dash": "solid"
         },
         "marker": {
          "symbol": "circle"
         },
         "mode": "lines",
         "name": "PIR with seed 64",
         "orientation": "v",
         "showlegend": true,
         "type": "scatter",
         "x": [
          0,
          20,
          40,
          60,
          80
         ],
         "xaxis": "x2",
         "y": [
          0,
          -0.04049362179612312,
          0.02765455514958225,
          -0.0074011580592713575,
          0.0005780472948975908
         ],
         "yaxis": "y2"
        },
        {
         "hovertemplate": "variable=PIR with seed 76<br>finetuning data percentage=%{x}<br>value=%{y}<extra></extra>",
         "legendgroup": "PIR with seed 76",
         "line": {
          "color": "#ab63fa",
          "dash": "solid"
         },
         "marker": {
          "symbol": "circle"
         },
         "mode": "lines",
         "name": "PIR with seed 76",
         "orientation": "v",
         "showlegend": true,
         "type": "scatter",
         "x": [
          0,
          20,
          40,
          60,
          80
         ],
         "xaxis": "x2",
         "y": [
          0,
          0.04208384738239775,
          -0.0062579510499149275,
          -0.008945133044754588,
          0.0028204218986461554
         ],
         "yaxis": "y2"
        },
        {
         "hovertemplate": "variable=PIR with seed 98<br>finetuning data percentage=%{x}<br>value=%{y}<extra></extra>",
         "legendgroup": "PIR with seed 98",
         "line": {
          "color": "#FFA15A",
          "dash": "solid"
         },
         "marker": {
          "symbol": "circle"
         },
         "mode": "lines",
         "name": "PIR with seed 98",
         "orientation": "v",
         "showlegend": true,
         "type": "scatter",
         "x": [
          0,
          20,
          40,
          60,
          80
         ],
         "xaxis": "x2",
         "y": [
          0,
          0.0011621816980965885,
          0.006978681344613801,
          -0.0025760992380690862,
          0.004589349168783955
         ],
         "yaxis": "y2"
        }
       ],
       "layout": {
        "showlegend": true,
        "template": {
         "data": {
          "bar": [
           {
            "error_x": {
             "color": "#2a3f5f"
            },
            "error_y": {
             "color": "#2a3f5f"
            },
            "marker": {
             "line": {
              "color": "#E5ECF6",
              "width": 0.5
             },
             "pattern": {
              "fillmode": "overlay",
              "size": 10,
              "solidity": 0.2
             }
            },
            "type": "bar"
           }
          ],
          "barpolar": [
           {
            "marker": {
             "line": {
              "color": "#E5ECF6",
              "width": 0.5
             },
             "pattern": {
              "fillmode": "overlay",
              "size": 10,
              "solidity": 0.2
             }
            },
            "type": "barpolar"
           }
          ],
          "carpet": [
           {
            "aaxis": {
             "endlinecolor": "#2a3f5f",
             "gridcolor": "white",
             "linecolor": "white",
             "minorgridcolor": "white",
             "startlinecolor": "#2a3f5f"
            },
            "baxis": {
             "endlinecolor": "#2a3f5f",
             "gridcolor": "white",
             "linecolor": "white",
             "minorgridcolor": "white",
             "startlinecolor": "#2a3f5f"
            },
            "type": "carpet"
           }
          ],
          "choropleth": [
           {
            "colorbar": {
             "outlinewidth": 0,
             "ticks": ""
            },
            "type": "choropleth"
           }
          ],
          "contour": [
           {
            "colorbar": {
             "outlinewidth": 0,
             "ticks": ""
            },
            "colorscale": [
             [
              0,
              "#0d0887"
             ],
             [
              0.1111111111111111,
              "#46039f"
             ],
             [
              0.2222222222222222,
              "#7201a8"
             ],
             [
              0.3333333333333333,
              "#9c179e"
             ],
             [
              0.4444444444444444,
              "#bd3786"
             ],
             [
              0.5555555555555556,
              "#d8576b"
             ],
             [
              0.6666666666666666,
              "#ed7953"
             ],
             [
              0.7777777777777778,
              "#fb9f3a"
             ],
             [
              0.8888888888888888,
              "#fdca26"
             ],
             [
              1,
              "#f0f921"
             ]
            ],
            "type": "contour"
           }
          ],
          "contourcarpet": [
           {
            "colorbar": {
             "outlinewidth": 0,
             "ticks": ""
            },
            "type": "contourcarpet"
           }
          ],
          "heatmap": [
           {
            "colorbar": {
             "outlinewidth": 0,
             "ticks": ""
            },
            "colorscale": [
             [
              0,
              "#0d0887"
             ],
             [
              0.1111111111111111,
              "#46039f"
             ],
             [
              0.2222222222222222,
              "#7201a8"
             ],
             [
              0.3333333333333333,
              "#9c179e"
             ],
             [
              0.4444444444444444,
              "#bd3786"
             ],
             [
              0.5555555555555556,
              "#d8576b"
             ],
             [
              0.6666666666666666,
              "#ed7953"
             ],
             [
              0.7777777777777778,
              "#fb9f3a"
             ],
             [
              0.8888888888888888,
              "#fdca26"
             ],
             [
              1,
              "#f0f921"
             ]
            ],
            "type": "heatmap"
           }
          ],
          "heatmapgl": [
           {
            "colorbar": {
             "outlinewidth": 0,
             "ticks": ""
            },
            "colorscale": [
             [
              0,
              "#0d0887"
             ],
             [
              0.1111111111111111,
              "#46039f"
             ],
             [
              0.2222222222222222,
              "#7201a8"
             ],
             [
              0.3333333333333333,
              "#9c179e"
             ],
             [
              0.4444444444444444,
              "#bd3786"
             ],
             [
              0.5555555555555556,
              "#d8576b"
             ],
             [
              0.6666666666666666,
              "#ed7953"
             ],
             [
              0.7777777777777778,
              "#fb9f3a"
             ],
             [
              0.8888888888888888,
              "#fdca26"
             ],
             [
              1,
              "#f0f921"
             ]
            ],
            "type": "heatmapgl"
           }
          ],
          "histogram": [
           {
            "marker": {
             "pattern": {
              "fillmode": "overlay",
              "size": 10,
              "solidity": 0.2
             }
            },
            "type": "histogram"
           }
          ],
          "histogram2d": [
           {
            "colorbar": {
             "outlinewidth": 0,
             "ticks": ""
            },
            "colorscale": [
             [
              0,
              "#0d0887"
             ],
             [
              0.1111111111111111,
              "#46039f"
             ],
             [
              0.2222222222222222,
              "#7201a8"
             ],
             [
              0.3333333333333333,
              "#9c179e"
             ],
             [
              0.4444444444444444,
              "#bd3786"
             ],
             [
              0.5555555555555556,
              "#d8576b"
             ],
             [
              0.6666666666666666,
              "#ed7953"
             ],
             [
              0.7777777777777778,
              "#fb9f3a"
             ],
             [
              0.8888888888888888,
              "#fdca26"
             ],
             [
              1,
              "#f0f921"
             ]
            ],
            "type": "histogram2d"
           }
          ],
          "histogram2dcontour": [
           {
            "colorbar": {
             "outlinewidth": 0,
             "ticks": ""
            },
            "colorscale": [
             [
              0,
              "#0d0887"
             ],
             [
              0.1111111111111111,
              "#46039f"
             ],
             [
              0.2222222222222222,
              "#7201a8"
             ],
             [
              0.3333333333333333,
              "#9c179e"
             ],
             [
              0.4444444444444444,
              "#bd3786"
             ],
             [
              0.5555555555555556,
              "#d8576b"
             ],
             [
              0.6666666666666666,
              "#ed7953"
             ],
             [
              0.7777777777777778,
              "#fb9f3a"
             ],
             [
              0.8888888888888888,
              "#fdca26"
             ],
             [
              1,
              "#f0f921"
             ]
            ],
            "type": "histogram2dcontour"
           }
          ],
          "mesh3d": [
           {
            "colorbar": {
             "outlinewidth": 0,
             "ticks": ""
            },
            "type": "mesh3d"
           }
          ],
          "parcoords": [
           {
            "line": {
             "colorbar": {
              "outlinewidth": 0,
              "ticks": ""
             }
            },
            "type": "parcoords"
           }
          ],
          "pie": [
           {
            "automargin": true,
            "type": "pie"
           }
          ],
          "scatter": [
           {
            "fillpattern": {
             "fillmode": "overlay",
             "size": 10,
             "solidity": 0.2
            },
            "type": "scatter"
           }
          ],
          "scatter3d": [
           {
            "line": {
             "colorbar": {
              "outlinewidth": 0,
              "ticks": ""
             }
            },
            "marker": {
             "colorbar": {
              "outlinewidth": 0,
              "ticks": ""
             }
            },
            "type": "scatter3d"
           }
          ],
          "scattercarpet": [
           {
            "marker": {
             "colorbar": {
              "outlinewidth": 0,
              "ticks": ""
             }
            },
            "type": "scattercarpet"
           }
          ],
          "scattergeo": [
           {
            "marker": {
             "colorbar": {
              "outlinewidth": 0,
              "ticks": ""
             }
            },
            "type": "scattergeo"
           }
          ],
          "scattergl": [
           {
            "marker": {
             "colorbar": {
              "outlinewidth": 0,
              "ticks": ""
             }
            },
            "type": "scattergl"
           }
          ],
          "scattermapbox": [
           {
            "marker": {
             "colorbar": {
              "outlinewidth": 0,
              "ticks": ""
             }
            },
            "type": "scattermapbox"
           }
          ],
          "scatterpolar": [
           {
            "marker": {
             "colorbar": {
              "outlinewidth": 0,
              "ticks": ""
             }
            },
            "type": "scatterpolar"
           }
          ],
          "scatterpolargl": [
           {
            "marker": {
             "colorbar": {
              "outlinewidth": 0,
              "ticks": ""
             }
            },
            "type": "scatterpolargl"
           }
          ],
          "scatterternary": [
           {
            "marker": {
             "colorbar": {
              "outlinewidth": 0,
              "ticks": ""
             }
            },
            "type": "scatterternary"
           }
          ],
          "surface": [
           {
            "colorbar": {
             "outlinewidth": 0,
             "ticks": ""
            },
            "colorscale": [
             [
              0,
              "#0d0887"
             ],
             [
              0.1111111111111111,
              "#46039f"
             ],
             [
              0.2222222222222222,
              "#7201a8"
             ],
             [
              0.3333333333333333,
              "#9c179e"
             ],
             [
              0.4444444444444444,
              "#bd3786"
             ],
             [
              0.5555555555555556,
              "#d8576b"
             ],
             [
              0.6666666666666666,
              "#ed7953"
             ],
             [
              0.7777777777777778,
              "#fb9f3a"
             ],
             [
              0.8888888888888888,
              "#fdca26"
             ],
             [
              1,
              "#f0f921"
             ]
            ],
            "type": "surface"
           }
          ],
          "table": [
           {
            "cells": {
             "fill": {
              "color": "#EBF0F8"
             },
             "line": {
              "color": "white"
             }
            },
            "header": {
             "fill": {
              "color": "#C8D4E3"
             },
             "line": {
              "color": "white"
             }
            },
            "type": "table"
           }
          ]
         },
         "layout": {
          "annotationdefaults": {
           "arrowcolor": "#2a3f5f",
           "arrowhead": 0,
           "arrowwidth": 1
          },
          "autotypenumbers": "strict",
          "coloraxis": {
           "colorbar": {
            "outlinewidth": 0,
            "ticks": ""
           }
          },
          "colorscale": {
           "diverging": [
            [
             0,
             "#8e0152"
            ],
            [
             0.1,
             "#c51b7d"
            ],
            [
             0.2,
             "#de77ae"
            ],
            [
             0.3,
             "#f1b6da"
            ],
            [
             0.4,
             "#fde0ef"
            ],
            [
             0.5,
             "#f7f7f7"
            ],
            [
             0.6,
             "#e6f5d0"
            ],
            [
             0.7,
             "#b8e186"
            ],
            [
             0.8,
             "#7fbc41"
            ],
            [
             0.9,
             "#4d9221"
            ],
            [
             1,
             "#276419"
            ]
           ],
           "sequential": [
            [
             0,
             "#0d0887"
            ],
            [
             0.1111111111111111,
             "#46039f"
            ],
            [
             0.2222222222222222,
             "#7201a8"
            ],
            [
             0.3333333333333333,
             "#9c179e"
            ],
            [
             0.4444444444444444,
             "#bd3786"
            ],
            [
             0.5555555555555556,
             "#d8576b"
            ],
            [
             0.6666666666666666,
             "#ed7953"
            ],
            [
             0.7777777777777778,
             "#fb9f3a"
            ],
            [
             0.8888888888888888,
             "#fdca26"
            ],
            [
             1,
             "#f0f921"
            ]
           ],
           "sequentialminus": [
            [
             0,
             "#0d0887"
            ],
            [
             0.1111111111111111,
             "#46039f"
            ],
            [
             0.2222222222222222,
             "#7201a8"
            ],
            [
             0.3333333333333333,
             "#9c179e"
            ],
            [
             0.4444444444444444,
             "#bd3786"
            ],
            [
             0.5555555555555556,
             "#d8576b"
            ],
            [
             0.6666666666666666,
             "#ed7953"
            ],
            [
             0.7777777777777778,
             "#fb9f3a"
            ],
            [
             0.8888888888888888,
             "#fdca26"
            ],
            [
             1,
             "#f0f921"
            ]
           ]
          },
          "colorway": [
           "#636efa",
           "#EF553B",
           "#00cc96",
           "#ab63fa",
           "#FFA15A",
           "#19d3f3",
           "#FF6692",
           "#B6E880",
           "#FF97FF",
           "#FECB52"
          ],
          "font": {
           "color": "#2a3f5f"
          },
          "geo": {
           "bgcolor": "white",
           "lakecolor": "white",
           "landcolor": "#E5ECF6",
           "showlakes": true,
           "showland": true,
           "subunitcolor": "white"
          },
          "hoverlabel": {
           "align": "left"
          },
          "hovermode": "closest",
          "mapbox": {
           "style": "light"
          },
          "paper_bgcolor": "white",
          "plot_bgcolor": "#E5ECF6",
          "polar": {
           "angularaxis": {
            "gridcolor": "white",
            "linecolor": "white",
            "ticks": ""
           },
           "bgcolor": "#E5ECF6",
           "radialaxis": {
            "gridcolor": "white",
            "linecolor": "white",
            "ticks": ""
           }
          },
          "scene": {
           "xaxis": {
            "backgroundcolor": "#E5ECF6",
            "gridcolor": "white",
            "gridwidth": 2,
            "linecolor": "white",
            "showbackground": true,
            "ticks": "",
            "zerolinecolor": "white"
           },
           "yaxis": {
            "backgroundcolor": "#E5ECF6",
            "gridcolor": "white",
            "gridwidth": 2,
            "linecolor": "white",
            "showbackground": true,
            "ticks": "",
            "zerolinecolor": "white"
           },
           "zaxis": {
            "backgroundcolor": "#E5ECF6",
            "gridcolor": "white",
            "gridwidth": 2,
            "linecolor": "white",
            "showbackground": true,
            "ticks": "",
            "zerolinecolor": "white"
           }
          },
          "shapedefaults": {
           "line": {
            "color": "#2a3f5f"
           }
          },
          "ternary": {
           "aaxis": {
            "gridcolor": "white",
            "linecolor": "white",
            "ticks": ""
           },
           "baxis": {
            "gridcolor": "white",
            "linecolor": "white",
            "ticks": ""
           },
           "bgcolor": "#E5ECF6",
           "caxis": {
            "gridcolor": "white",
            "linecolor": "white",
            "ticks": ""
           }
          },
          "title": {
           "x": 0.05
          },
          "xaxis": {
           "automargin": true,
           "gridcolor": "white",
           "linecolor": "white",
           "ticks": "",
           "title": {
            "standoff": 15
           },
           "zerolinecolor": "white",
           "zerolinewidth": 2
          },
          "yaxis": {
           "automargin": true,
           "gridcolor": "white",
           "linecolor": "white",
           "ticks": "",
           "title": {
            "standoff": 15
           },
           "zerolinecolor": "white",
           "zerolinewidth": 2
          }
         }
        },
        "title": {
         "text": "ESB Tower 1 to MRB Tower 1, ESB Tower 1 to MRB Tower 2 (summer) (feature extraction)"
        },
        "xaxis": {
         "anchor": "y",
         "domain": [
          0,
          0.45
         ],
         "title": {
          "text": "Finetuning data percentage"
         }
        },
        "xaxis2": {
         "anchor": "y2",
         "domain": [
          0.55,
          1
         ],
         "title": {
          "text": "Finetuning data percentage"
         }
        },
        "yaxis": {
         "anchor": "x",
         "domain": [
          0,
          1
         ],
         "title": {
          "text": "Performance improvement ratio"
         }
        },
        "yaxis2": {
         "anchor": "x2",
         "domain": [
          0,
          1
         ],
         "title": {
          "text": "Performance improvement ratio"
         }
        }
       }
      }
     },
     "metadata": {},
     "output_type": "display_data"
    }
   ],
   "source": [
    "plot_multiseed_error_pir(ft_percents=ft_percents, from_building=\"ESB\", from_tower=1, to_building=\"MRB\", season=\"summer\")"
   ]
  },
  {
   "cell_type": "code",
   "execution_count": 9,
   "metadata": {},
   "outputs": [
    {
     "name": "stdout",
     "output_type": "stream",
     "text": [
      "Tower 1 first temp: 81.48371124267578\n",
      "501/501 [==============================] - 1s 960us/step\n",
      "Tower 1 first temp: 81.48371124267578\n",
      "finetuning_percentage: 0.2 vec_X_train.shape: (3206, 6, 10), vec_X_test.shape: (12824, 6, 10), vec_y_train.shape: (3206,), vec_y_test.shape: (12824,)\n",
      "401/401 [==============================] - 1s 963us/step\n",
      "Tower 1 first temp: 81.48371124267578\n",
      "finetuning_percentage: 0.4 vec_X_train.shape: (6412, 6, 10), vec_X_test.shape: (9618, 6, 10), vec_y_train.shape: (6412,), vec_y_test.shape: (9618,)\n",
      "301/301 [==============================] - 1s 977us/step\n",
      "Tower 1 first temp: 81.48371124267578\n",
      "finetuning_percentage: 0.6 vec_X_train.shape: (9618, 6, 10), vec_X_test.shape: (6412, 6, 10), vec_y_train.shape: (9618,), vec_y_test.shape: (6412,)\n",
      "201/201 [==============================] - 0s 995us/step\n",
      "Tower 1 first temp: 81.48371124267578\n",
      "finetuning_percentage: 0.8 vec_X_train.shape: (12824, 6, 10), vec_X_test.shape: (3206, 6, 10), vec_y_train.shape: (12824,), vec_y_test.shape: (3206,)\n",
      "101/101 [==============================] - 0s 1ms/step\n",
      "Tower 1 first temp: 81.48371124267578\n",
      "501/501 [==============================] - 1s 971us/step\n",
      "Tower 1 first temp: 81.48371124267578\n",
      "finetuning_percentage: 0.2 vec_X_train.shape: (3206, 6, 10), vec_X_test.shape: (12824, 6, 10), vec_y_train.shape: (3206,), vec_y_test.shape: (12824,)\n",
      "401/401 [==============================] - 1s 950us/step\n",
      "Tower 1 first temp: 81.48371124267578\n",
      "finetuning_percentage: 0.4 vec_X_train.shape: (6412, 6, 10), vec_X_test.shape: (9618, 6, 10), vec_y_train.shape: (6412,), vec_y_test.shape: (9618,)\n",
      "301/301 [==============================] - 1s 972us/step\n",
      "Tower 1 first temp: 81.48371124267578\n",
      "finetuning_percentage: 0.6 vec_X_train.shape: (9618, 6, 10), vec_X_test.shape: (6412, 6, 10), vec_y_train.shape: (9618,), vec_y_test.shape: (6412,)\n",
      "201/201 [==============================] - 0s 980us/step\n",
      "Tower 1 first temp: 81.48371124267578\n",
      "finetuning_percentage: 0.8 vec_X_train.shape: (12824, 6, 10), vec_X_test.shape: (3206, 6, 10), vec_y_train.shape: (12824,), vec_y_test.shape: (3206,)\n",
      "101/101 [==============================] - 0s 1ms/step\n",
      "Tower 1 first temp: 81.48371124267578\n",
      "501/501 [==============================] - 1s 910us/step\n",
      "Tower 1 first temp: 81.48371124267578\n",
      "finetuning_percentage: 0.2 vec_X_train.shape: (3206, 6, 10), vec_X_test.shape: (12824, 6, 10), vec_y_train.shape: (3206,), vec_y_test.shape: (12824,)\n",
      "401/401 [==============================] - 1s 910us/step\n",
      "Tower 1 first temp: 81.48371124267578\n",
      "finetuning_percentage: 0.4 vec_X_train.shape: (6412, 6, 10), vec_X_test.shape: (9618, 6, 10), vec_y_train.shape: (6412,), vec_y_test.shape: (9618,)\n",
      "301/301 [==============================] - 1s 986us/step\n",
      "Tower 1 first temp: 81.48371124267578\n",
      "finetuning_percentage: 0.6 vec_X_train.shape: (9618, 6, 10), vec_X_test.shape: (6412, 6, 10), vec_y_train.shape: (9618,), vec_y_test.shape: (6412,)\n",
      "201/201 [==============================] - 1s 1ms/step\n",
      "Tower 1 first temp: 81.48371124267578\n",
      "finetuning_percentage: 0.8 vec_X_train.shape: (12824, 6, 10), vec_X_test.shape: (3206, 6, 10), vec_y_train.shape: (12824,), vec_y_test.shape: (3206,)\n",
      "101/101 [==============================] - 0s 1ms/step\n",
      "Tower 1 first temp: 81.48371124267578\n",
      "501/501 [==============================] - 1s 905us/step\n",
      "Tower 1 first temp: 81.48371124267578\n",
      "finetuning_percentage: 0.2 vec_X_train.shape: (3206, 6, 10), vec_X_test.shape: (12824, 6, 10), vec_y_train.shape: (3206,), vec_y_test.shape: (12824,)\n",
      "401/401 [==============================] - 1s 971us/step\n",
      "Tower 1 first temp: 81.48371124267578\n",
      "finetuning_percentage: 0.4 vec_X_train.shape: (6412, 6, 10), vec_X_test.shape: (9618, 6, 10), vec_y_train.shape: (6412,), vec_y_test.shape: (9618,)\n",
      "301/301 [==============================] - 1s 978us/step\n",
      "Tower 1 first temp: 81.48371124267578\n",
      "finetuning_percentage: 0.6 vec_X_train.shape: (9618, 6, 10), vec_X_test.shape: (6412, 6, 10), vec_y_train.shape: (9618,), vec_y_test.shape: (6412,)\n",
      "201/201 [==============================] - 0s 940us/step\n",
      "Tower 1 first temp: 81.48371124267578\n",
      "finetuning_percentage: 0.8 vec_X_train.shape: (12824, 6, 10), vec_X_test.shape: (3206, 6, 10), vec_y_train.shape: (12824,), vec_y_test.shape: (3206,)\n",
      "101/101 [==============================] - 0s 998us/step\n",
      "Tower 1 first temp: 81.48371124267578\n",
      "501/501 [==============================] - 1s 972us/step\n",
      "Tower 1 first temp: 81.48371124267578\n",
      "finetuning_percentage: 0.2 vec_X_train.shape: (3206, 6, 10), vec_X_test.shape: (12824, 6, 10), vec_y_train.shape: (3206,), vec_y_test.shape: (12824,)\n",
      "401/401 [==============================] - 1s 972us/step\n",
      "Tower 1 first temp: 81.48371124267578\n",
      "finetuning_percentage: 0.4 vec_X_train.shape: (6412, 6, 10), vec_X_test.shape: (9618, 6, 10), vec_y_train.shape: (6412,), vec_y_test.shape: (9618,)\n",
      "301/301 [==============================] - 1s 966us/step\n",
      "Tower 1 first temp: 81.48371124267578\n",
      "finetuning_percentage: 0.6 vec_X_train.shape: (9618, 6, 10), vec_X_test.shape: (6412, 6, 10), vec_y_train.shape: (9618,), vec_y_test.shape: (6412,)\n",
      "201/201 [==============================] - 0s 1ms/step\n",
      "Tower 1 first temp: 81.48371124267578\n",
      "finetuning_percentage: 0.8 vec_X_train.shape: (12824, 6, 10), vec_X_test.shape: (3206, 6, 10), vec_y_train.shape: (12824,), vec_y_test.shape: (3206,)\n",
      "101/101 [==============================] - 0s 1ms/step\n",
      "Tower 2 first temp: 70.34066009521484\n",
      "509/509 [==============================] - 1s 950us/step\n",
      "Tower 2 first temp: 70.34066009521484\n",
      "finetuning_percentage: 0.2 vec_X_train.shape: (3255, 6, 10), vec_X_test.shape: (13022, 6, 10), vec_y_train.shape: (3255,), vec_y_test.shape: (13022,)\n",
      "407/407 [==============================] - 1s 939us/step\n",
      "Tower 2 first temp: 70.34066009521484\n",
      "finetuning_percentage: 0.4 vec_X_train.shape: (6510, 6, 10), vec_X_test.shape: (9767, 6, 10), vec_y_train.shape: (6510,), vec_y_test.shape: (9767,)\n",
      "306/306 [==============================] - 1s 1ms/step\n",
      "Tower 2 first temp: 70.34066009521484\n",
      "finetuning_percentage: 0.6 vec_X_train.shape: (9766, 6, 10), vec_X_test.shape: (6511, 6, 10), vec_y_train.shape: (9766,), vec_y_test.shape: (6511,)\n",
      "204/204 [==============================] - 0s 1ms/step\n",
      "Tower 2 first temp: 70.34066009521484\n",
      "finetuning_percentage: 0.8 vec_X_train.shape: (13021, 6, 10), vec_X_test.shape: (3256, 6, 10), vec_y_train.shape: (13021,), vec_y_test.shape: (3256,)\n",
      "102/102 [==============================] - 0s 1ms/step\n",
      "Tower 2 first temp: 70.34066009521484\n",
      "509/509 [==============================] - 1s 981us/step\n",
      "Tower 2 first temp: 70.34066009521484\n",
      "finetuning_percentage: 0.2 vec_X_train.shape: (3255, 6, 10), vec_X_test.shape: (13022, 6, 10), vec_y_train.shape: (3255,), vec_y_test.shape: (13022,)\n",
      "407/407 [==============================] - 1s 1ms/step\n",
      "Tower 2 first temp: 70.34066009521484\n",
      "finetuning_percentage: 0.4 vec_X_train.shape: (6510, 6, 10), vec_X_test.shape: (9767, 6, 10), vec_y_train.shape: (6510,), vec_y_test.shape: (9767,)\n",
      "306/306 [==============================] - 1s 995us/step\n",
      "Tower 2 first temp: 70.34066009521484\n",
      "finetuning_percentage: 0.6 vec_X_train.shape: (9766, 6, 10), vec_X_test.shape: (6511, 6, 10), vec_y_train.shape: (9766,), vec_y_test.shape: (6511,)\n",
      "204/204 [==============================] - 0s 1ms/step\n",
      "Tower 2 first temp: 70.34066009521484\n",
      "finetuning_percentage: 0.8 vec_X_train.shape: (13021, 6, 10), vec_X_test.shape: (3256, 6, 10), vec_y_train.shape: (13021,), vec_y_test.shape: (3256,)\n",
      "102/102 [==============================] - 0s 1ms/step\n",
      "Tower 2 first temp: 70.34066009521484\n",
      "509/509 [==============================] - 1s 948us/step\n",
      "Tower 2 first temp: 70.34066009521484\n",
      "finetuning_percentage: 0.2 vec_X_train.shape: (3255, 6, 10), vec_X_test.shape: (13022, 6, 10), vec_y_train.shape: (3255,), vec_y_test.shape: (13022,)\n",
      "407/407 [==============================] - 1s 938us/step\n",
      "Tower 2 first temp: 70.34066009521484\n",
      "finetuning_percentage: 0.4 vec_X_train.shape: (6510, 6, 10), vec_X_test.shape: (9767, 6, 10), vec_y_train.shape: (6510,), vec_y_test.shape: (9767,)\n",
      "306/306 [==============================] - 1s 958us/step\n",
      "Tower 2 first temp: 70.34066009521484\n",
      "finetuning_percentage: 0.6 vec_X_train.shape: (9766, 6, 10), vec_X_test.shape: (6511, 6, 10), vec_y_train.shape: (9766,), vec_y_test.shape: (6511,)\n",
      "204/204 [==============================] - 0s 1ms/step\n",
      "Tower 2 first temp: 70.34066009521484\n",
      "finetuning_percentage: 0.8 vec_X_train.shape: (13021, 6, 10), vec_X_test.shape: (3256, 6, 10), vec_y_train.shape: (13021,), vec_y_test.shape: (3256,)\n",
      "102/102 [==============================] - 0s 1ms/step\n",
      "Tower 2 first temp: 70.34066009521484\n",
      "509/509 [==============================] - 1s 955us/step\n",
      "Tower 2 first temp: 70.34066009521484\n",
      "finetuning_percentage: 0.2 vec_X_train.shape: (3255, 6, 10), vec_X_test.shape: (13022, 6, 10), vec_y_train.shape: (3255,), vec_y_test.shape: (13022,)\n",
      "407/407 [==============================] - 1s 942us/step\n",
      "Tower 2 first temp: 70.34066009521484\n",
      "finetuning_percentage: 0.4 vec_X_train.shape: (6510, 6, 10), vec_X_test.shape: (9767, 6, 10), vec_y_train.shape: (6510,), vec_y_test.shape: (9767,)\n",
      "306/306 [==============================] - 1s 961us/step\n",
      "Tower 2 first temp: 70.34066009521484\n",
      "finetuning_percentage: 0.6 vec_X_train.shape: (9766, 6, 10), vec_X_test.shape: (6511, 6, 10), vec_y_train.shape: (9766,), vec_y_test.shape: (6511,)\n",
      "204/204 [==============================] - 0s 952us/step\n",
      "Tower 2 first temp: 70.34066009521484\n",
      "finetuning_percentage: 0.8 vec_X_train.shape: (13021, 6, 10), vec_X_test.shape: (3256, 6, 10), vec_y_train.shape: (13021,), vec_y_test.shape: (3256,)\n",
      "102/102 [==============================] - 0s 1ms/step\n",
      "Tower 2 first temp: 70.34066009521484\n",
      "509/509 [==============================] - 1s 1ms/step\n",
      "Tower 2 first temp: 70.34066009521484\n",
      "finetuning_percentage: 0.2 vec_X_train.shape: (3255, 6, 10), vec_X_test.shape: (13022, 6, 10), vec_y_train.shape: (3255,), vec_y_test.shape: (13022,)\n",
      "407/407 [==============================] - 1s 990us/step\n",
      "Tower 2 first temp: 70.34066009521484\n",
      "finetuning_percentage: 0.4 vec_X_train.shape: (6510, 6, 10), vec_X_test.shape: (9767, 6, 10), vec_y_train.shape: (6510,), vec_y_test.shape: (9767,)\n",
      "306/306 [==============================] - 1s 1ms/step\n",
      "Tower 2 first temp: 70.34066009521484\n",
      "finetuning_percentage: 0.6 vec_X_train.shape: (9766, 6, 10), vec_X_test.shape: (6511, 6, 10), vec_y_train.shape: (9766,), vec_y_test.shape: (6511,)\n",
      "204/204 [==============================] - 0s 1ms/step\n",
      "Tower 2 first temp: 70.34066009521484\n",
      "finetuning_percentage: 0.8 vec_X_train.shape: (13021, 6, 10), vec_X_test.shape: (3256, 6, 10), vec_y_train.shape: (13021,), vec_y_test.shape: (3256,)\n",
      "102/102 [==============================] - 0s 1ms/step\n"
     ]
    },
    {
     "data": {
      "application/vnd.plotly.v1+json": {
       "config": {
        "plotlyServerURL": "https://plot.ly"
       },
       "data": [
        {
         "hovertemplate": "variable=RMSE with seed 17<br>finetuning data percentage=%{x}<br>value=%{y}<extra></extra>",
         "legendgroup": "RMSE with seed 17",
         "line": {
          "color": "#636efa",
          "dash": "solid"
         },
         "marker": {
          "symbol": "circle"
         },
         "mode": "lines",
         "name": "RMSE with seed 17",
         "orientation": "v",
         "showlegend": true,
         "type": "scatter",
         "x": [
          0,
          20,
          40,
          60,
          80
         ],
         "xaxis": "x",
         "y": [
          1.574377990093728,
          1.5951722541280302,
          1.5772680849352165,
          1.609667048376608,
          1.533547389420143
         ],
         "yaxis": "y"
        },
        {
         "hovertemplate": "variable=RMSE with seed 42<br>finetuning data percentage=%{x}<br>value=%{y}<extra></extra>",
         "legendgroup": "RMSE with seed 42",
         "line": {
          "color": "#EF553B",
          "dash": "solid"
         },
         "marker": {
          "symbol": "circle"
         },
         "mode": "lines",
         "name": "RMSE with seed 42",
         "orientation": "v",
         "showlegend": true,
         "type": "scatter",
         "x": [
          0,
          20,
          40,
          60,
          80
         ],
         "xaxis": "x",
         "y": [
          1.574377990093728,
          1.6176268980917021,
          1.5949058230694917,
          1.6047389546041575,
          1.6489541481665908
         ],
         "yaxis": "y"
        },
        {
         "hovertemplate": "variable=RMSE with seed 64<br>finetuning data percentage=%{x}<br>value=%{y}<extra></extra>",
         "legendgroup": "RMSE with seed 64",
         "line": {
          "color": "#00cc96",
          "dash": "solid"
         },
         "marker": {
          "symbol": "circle"
         },
         "mode": "lines",
         "name": "RMSE with seed 64",
         "orientation": "v",
         "showlegend": true,
         "type": "scatter",
         "x": [
          0,
          20,
          40,
          60,
          80
         ],
         "xaxis": "x",
         "y": [
          1.574377990093728,
          1.5859237583796517,
          1.5737612255425009,
          1.5413539937629617,
          1.5176405644668864
         ],
         "yaxis": "y"
        },
        {
         "hovertemplate": "variable=RMSE with seed 76<br>finetuning data percentage=%{x}<br>value=%{y}<extra></extra>",
         "legendgroup": "RMSE with seed 76",
         "line": {
          "color": "#ab63fa",
          "dash": "solid"
         },
         "marker": {
          "symbol": "circle"
         },
         "mode": "lines",
         "name": "RMSE with seed 76",
         "orientation": "v",
         "showlegend": true,
         "type": "scatter",
         "x": [
          0,
          20,
          40,
          60,
          80
         ],
         "xaxis": "x",
         "y": [
          1.574377990093728,
          1.6612710898209995,
          1.6425711391836069,
          1.6262846403679245,
          1.5796497075448823
         ],
         "yaxis": "y"
        },
        {
         "hovertemplate": "variable=RMSE with seed 98<br>finetuning data percentage=%{x}<br>value=%{y}<extra></extra>",
         "legendgroup": "RMSE with seed 98",
         "line": {
          "color": "#FFA15A",
          "dash": "solid"
         },
         "marker": {
          "symbol": "circle"
         },
         "mode": "lines",
         "name": "RMSE with seed 98",
         "orientation": "v",
         "showlegend": true,
         "type": "scatter",
         "x": [
          0,
          20,
          40,
          60,
          80
         ],
         "xaxis": "x",
         "y": [
          1.574377990093728,
          1.7447547760826012,
          1.6068197791218422,
          1.5383677357470265,
          1.524202120158392
         ],
         "yaxis": "y"
        },
        {
         "hovertemplate": "variable=RMSE with seed 17<br>finetuning data percentage=%{x}<br>value=%{y}<extra></extra>",
         "legendgroup": "RMSE with seed 17",
         "line": {
          "color": "#636efa",
          "dash": "solid"
         },
         "marker": {
          "symbol": "circle"
         },
         "mode": "lines",
         "name": "RMSE with seed 17",
         "orientation": "v",
         "showlegend": true,
         "type": "scatter",
         "x": [
          0,
          20,
          40,
          60,
          80
         ],
         "xaxis": "x2",
         "y": [
          1.574377990093728,
          1.5951722541280302,
          1.5772680849352165,
          1.609667048376608,
          1.533547389420143
         ],
         "yaxis": "y2"
        },
        {
         "hovertemplate": "variable=RMSE with seed 42<br>finetuning data percentage=%{x}<br>value=%{y}<extra></extra>",
         "legendgroup": "RMSE with seed 42",
         "line": {
          "color": "#EF553B",
          "dash": "solid"
         },
         "marker": {
          "symbol": "circle"
         },
         "mode": "lines",
         "name": "RMSE with seed 42",
         "orientation": "v",
         "showlegend": true,
         "type": "scatter",
         "x": [
          0,
          20,
          40,
          60,
          80
         ],
         "xaxis": "x2",
         "y": [
          1.574377990093728,
          1.6176268980917021,
          1.5949058230694917,
          1.6047389546041575,
          1.6489541481665908
         ],
         "yaxis": "y2"
        },
        {
         "hovertemplate": "variable=RMSE with seed 64<br>finetuning data percentage=%{x}<br>value=%{y}<extra></extra>",
         "legendgroup": "RMSE with seed 64",
         "line": {
          "color": "#00cc96",
          "dash": "solid"
         },
         "marker": {
          "symbol": "circle"
         },
         "mode": "lines",
         "name": "RMSE with seed 64",
         "orientation": "v",
         "showlegend": true,
         "type": "scatter",
         "x": [
          0,
          20,
          40,
          60,
          80
         ],
         "xaxis": "x2",
         "y": [
          1.574377990093728,
          1.5859237583796517,
          1.5737612255425009,
          1.5413539937629617,
          1.5176405644668864
         ],
         "yaxis": "y2"
        },
        {
         "hovertemplate": "variable=RMSE with seed 76<br>finetuning data percentage=%{x}<br>value=%{y}<extra></extra>",
         "legendgroup": "RMSE with seed 76",
         "line": {
          "color": "#ab63fa",
          "dash": "solid"
         },
         "marker": {
          "symbol": "circle"
         },
         "mode": "lines",
         "name": "RMSE with seed 76",
         "orientation": "v",
         "showlegend": true,
         "type": "scatter",
         "x": [
          0,
          20,
          40,
          60,
          80
         ],
         "xaxis": "x2",
         "y": [
          1.574377990093728,
          1.6612710898209995,
          1.6425711391836069,
          1.6262846403679245,
          1.5796497075448823
         ],
         "yaxis": "y2"
        },
        {
         "hovertemplate": "variable=RMSE with seed 98<br>finetuning data percentage=%{x}<br>value=%{y}<extra></extra>",
         "legendgroup": "RMSE with seed 98",
         "line": {
          "color": "#FFA15A",
          "dash": "solid"
         },
         "marker": {
          "symbol": "circle"
         },
         "mode": "lines",
         "name": "RMSE with seed 98",
         "orientation": "v",
         "showlegend": true,
         "type": "scatter",
         "x": [
          0,
          20,
          40,
          60,
          80
         ],
         "xaxis": "x2",
         "y": [
          1.574377990093728,
          1.7447547760826012,
          1.6068197791218422,
          1.5383677357470265,
          1.524202120158392
         ],
         "yaxis": "y2"
        },
        {
         "hovertemplate": "variable=RMSE with seed 42<br>finetuning data percentage=%{x}<br>value=%{y}<extra></extra>",
         "legendgroup": "RMSE with seed 42",
         "line": {
          "color": "#EF553B",
          "dash": "solid"
         },
         "marker": {
          "symbol": "circle"
         },
         "mode": "lines",
         "name": "RMSE with seed 42",
         "orientation": "v",
         "showlegend": true,
         "type": "scatter",
         "x": [
          0,
          20,
          40,
          60,
          80
         ],
         "xaxis": "x2",
         "y": [
          1.574377990093728,
          1.6176268980917021,
          1.5949058230694917,
          1.6047389546041575,
          1.6489541481665908
         ],
         "yaxis": "y2"
        }
       ],
       "layout": {
        "showlegend": true,
        "template": {
         "data": {
          "bar": [
           {
            "error_x": {
             "color": "#2a3f5f"
            },
            "error_y": {
             "color": "#2a3f5f"
            },
            "marker": {
             "line": {
              "color": "#E5ECF6",
              "width": 0.5
             },
             "pattern": {
              "fillmode": "overlay",
              "size": 10,
              "solidity": 0.2
             }
            },
            "type": "bar"
           }
          ],
          "barpolar": [
           {
            "marker": {
             "line": {
              "color": "#E5ECF6",
              "width": 0.5
             },
             "pattern": {
              "fillmode": "overlay",
              "size": 10,
              "solidity": 0.2
             }
            },
            "type": "barpolar"
           }
          ],
          "carpet": [
           {
            "aaxis": {
             "endlinecolor": "#2a3f5f",
             "gridcolor": "white",
             "linecolor": "white",
             "minorgridcolor": "white",
             "startlinecolor": "#2a3f5f"
            },
            "baxis": {
             "endlinecolor": "#2a3f5f",
             "gridcolor": "white",
             "linecolor": "white",
             "minorgridcolor": "white",
             "startlinecolor": "#2a3f5f"
            },
            "type": "carpet"
           }
          ],
          "choropleth": [
           {
            "colorbar": {
             "outlinewidth": 0,
             "ticks": ""
            },
            "type": "choropleth"
           }
          ],
          "contour": [
           {
            "colorbar": {
             "outlinewidth": 0,
             "ticks": ""
            },
            "colorscale": [
             [
              0,
              "#0d0887"
             ],
             [
              0.1111111111111111,
              "#46039f"
             ],
             [
              0.2222222222222222,
              "#7201a8"
             ],
             [
              0.3333333333333333,
              "#9c179e"
             ],
             [
              0.4444444444444444,
              "#bd3786"
             ],
             [
              0.5555555555555556,
              "#d8576b"
             ],
             [
              0.6666666666666666,
              "#ed7953"
             ],
             [
              0.7777777777777778,
              "#fb9f3a"
             ],
             [
              0.8888888888888888,
              "#fdca26"
             ],
             [
              1,
              "#f0f921"
             ]
            ],
            "type": "contour"
           }
          ],
          "contourcarpet": [
           {
            "colorbar": {
             "outlinewidth": 0,
             "ticks": ""
            },
            "type": "contourcarpet"
           }
          ],
          "heatmap": [
           {
            "colorbar": {
             "outlinewidth": 0,
             "ticks": ""
            },
            "colorscale": [
             [
              0,
              "#0d0887"
             ],
             [
              0.1111111111111111,
              "#46039f"
             ],
             [
              0.2222222222222222,
              "#7201a8"
             ],
             [
              0.3333333333333333,
              "#9c179e"
             ],
             [
              0.4444444444444444,
              "#bd3786"
             ],
             [
              0.5555555555555556,
              "#d8576b"
             ],
             [
              0.6666666666666666,
              "#ed7953"
             ],
             [
              0.7777777777777778,
              "#fb9f3a"
             ],
             [
              0.8888888888888888,
              "#fdca26"
             ],
             [
              1,
              "#f0f921"
             ]
            ],
            "type": "heatmap"
           }
          ],
          "heatmapgl": [
           {
            "colorbar": {
             "outlinewidth": 0,
             "ticks": ""
            },
            "colorscale": [
             [
              0,
              "#0d0887"
             ],
             [
              0.1111111111111111,
              "#46039f"
             ],
             [
              0.2222222222222222,
              "#7201a8"
             ],
             [
              0.3333333333333333,
              "#9c179e"
             ],
             [
              0.4444444444444444,
              "#bd3786"
             ],
             [
              0.5555555555555556,
              "#d8576b"
             ],
             [
              0.6666666666666666,
              "#ed7953"
             ],
             [
              0.7777777777777778,
              "#fb9f3a"
             ],
             [
              0.8888888888888888,
              "#fdca26"
             ],
             [
              1,
              "#f0f921"
             ]
            ],
            "type": "heatmapgl"
           }
          ],
          "histogram": [
           {
            "marker": {
             "pattern": {
              "fillmode": "overlay",
              "size": 10,
              "solidity": 0.2
             }
            },
            "type": "histogram"
           }
          ],
          "histogram2d": [
           {
            "colorbar": {
             "outlinewidth": 0,
             "ticks": ""
            },
            "colorscale": [
             [
              0,
              "#0d0887"
             ],
             [
              0.1111111111111111,
              "#46039f"
             ],
             [
              0.2222222222222222,
              "#7201a8"
             ],
             [
              0.3333333333333333,
              "#9c179e"
             ],
             [
              0.4444444444444444,
              "#bd3786"
             ],
             [
              0.5555555555555556,
              "#d8576b"
             ],
             [
              0.6666666666666666,
              "#ed7953"
             ],
             [
              0.7777777777777778,
              "#fb9f3a"
             ],
             [
              0.8888888888888888,
              "#fdca26"
             ],
             [
              1,
              "#f0f921"
             ]
            ],
            "type": "histogram2d"
           }
          ],
          "histogram2dcontour": [
           {
            "colorbar": {
             "outlinewidth": 0,
             "ticks": ""
            },
            "colorscale": [
             [
              0,
              "#0d0887"
             ],
             [
              0.1111111111111111,
              "#46039f"
             ],
             [
              0.2222222222222222,
              "#7201a8"
             ],
             [
              0.3333333333333333,
              "#9c179e"
             ],
             [
              0.4444444444444444,
              "#bd3786"
             ],
             [
              0.5555555555555556,
              "#d8576b"
             ],
             [
              0.6666666666666666,
              "#ed7953"
             ],
             [
              0.7777777777777778,
              "#fb9f3a"
             ],
             [
              0.8888888888888888,
              "#fdca26"
             ],
             [
              1,
              "#f0f921"
             ]
            ],
            "type": "histogram2dcontour"
           }
          ],
          "mesh3d": [
           {
            "colorbar": {
             "outlinewidth": 0,
             "ticks": ""
            },
            "type": "mesh3d"
           }
          ],
          "parcoords": [
           {
            "line": {
             "colorbar": {
              "outlinewidth": 0,
              "ticks": ""
             }
            },
            "type": "parcoords"
           }
          ],
          "pie": [
           {
            "automargin": true,
            "type": "pie"
           }
          ],
          "scatter": [
           {
            "fillpattern": {
             "fillmode": "overlay",
             "size": 10,
             "solidity": 0.2
            },
            "type": "scatter"
           }
          ],
          "scatter3d": [
           {
            "line": {
             "colorbar": {
              "outlinewidth": 0,
              "ticks": ""
             }
            },
            "marker": {
             "colorbar": {
              "outlinewidth": 0,
              "ticks": ""
             }
            },
            "type": "scatter3d"
           }
          ],
          "scattercarpet": [
           {
            "marker": {
             "colorbar": {
              "outlinewidth": 0,
              "ticks": ""
             }
            },
            "type": "scattercarpet"
           }
          ],
          "scattergeo": [
           {
            "marker": {
             "colorbar": {
              "outlinewidth": 0,
              "ticks": ""
             }
            },
            "type": "scattergeo"
           }
          ],
          "scattergl": [
           {
            "marker": {
             "colorbar": {
              "outlinewidth": 0,
              "ticks": ""
             }
            },
            "type": "scattergl"
           }
          ],
          "scattermapbox": [
           {
            "marker": {
             "colorbar": {
              "outlinewidth": 0,
              "ticks": ""
             }
            },
            "type": "scattermapbox"
           }
          ],
          "scatterpolar": [
           {
            "marker": {
             "colorbar": {
              "outlinewidth": 0,
              "ticks": ""
             }
            },
            "type": "scatterpolar"
           }
          ],
          "scatterpolargl": [
           {
            "marker": {
             "colorbar": {
              "outlinewidth": 0,
              "ticks": ""
             }
            },
            "type": "scatterpolargl"
           }
          ],
          "scatterternary": [
           {
            "marker": {
             "colorbar": {
              "outlinewidth": 0,
              "ticks": ""
             }
            },
            "type": "scatterternary"
           }
          ],
          "surface": [
           {
            "colorbar": {
             "outlinewidth": 0,
             "ticks": ""
            },
            "colorscale": [
             [
              0,
              "#0d0887"
             ],
             [
              0.1111111111111111,
              "#46039f"
             ],
             [
              0.2222222222222222,
              "#7201a8"
             ],
             [
              0.3333333333333333,
              "#9c179e"
             ],
             [
              0.4444444444444444,
              "#bd3786"
             ],
             [
              0.5555555555555556,
              "#d8576b"
             ],
             [
              0.6666666666666666,
              "#ed7953"
             ],
             [
              0.7777777777777778,
              "#fb9f3a"
             ],
             [
              0.8888888888888888,
              "#fdca26"
             ],
             [
              1,
              "#f0f921"
             ]
            ],
            "type": "surface"
           }
          ],
          "table": [
           {
            "cells": {
             "fill": {
              "color": "#EBF0F8"
             },
             "line": {
              "color": "white"
             }
            },
            "header": {
             "fill": {
              "color": "#C8D4E3"
             },
             "line": {
              "color": "white"
             }
            },
            "type": "table"
           }
          ]
         },
         "layout": {
          "annotationdefaults": {
           "arrowcolor": "#2a3f5f",
           "arrowhead": 0,
           "arrowwidth": 1
          },
          "autotypenumbers": "strict",
          "coloraxis": {
           "colorbar": {
            "outlinewidth": 0,
            "ticks": ""
           }
          },
          "colorscale": {
           "diverging": [
            [
             0,
             "#8e0152"
            ],
            [
             0.1,
             "#c51b7d"
            ],
            [
             0.2,
             "#de77ae"
            ],
            [
             0.3,
             "#f1b6da"
            ],
            [
             0.4,
             "#fde0ef"
            ],
            [
             0.5,
             "#f7f7f7"
            ],
            [
             0.6,
             "#e6f5d0"
            ],
            [
             0.7,
             "#b8e186"
            ],
            [
             0.8,
             "#7fbc41"
            ],
            [
             0.9,
             "#4d9221"
            ],
            [
             1,
             "#276419"
            ]
           ],
           "sequential": [
            [
             0,
             "#0d0887"
            ],
            [
             0.1111111111111111,
             "#46039f"
            ],
            [
             0.2222222222222222,
             "#7201a8"
            ],
            [
             0.3333333333333333,
             "#9c179e"
            ],
            [
             0.4444444444444444,
             "#bd3786"
            ],
            [
             0.5555555555555556,
             "#d8576b"
            ],
            [
             0.6666666666666666,
             "#ed7953"
            ],
            [
             0.7777777777777778,
             "#fb9f3a"
            ],
            [
             0.8888888888888888,
             "#fdca26"
            ],
            [
             1,
             "#f0f921"
            ]
           ],
           "sequentialminus": [
            [
             0,
             "#0d0887"
            ],
            [
             0.1111111111111111,
             "#46039f"
            ],
            [
             0.2222222222222222,
             "#7201a8"
            ],
            [
             0.3333333333333333,
             "#9c179e"
            ],
            [
             0.4444444444444444,
             "#bd3786"
            ],
            [
             0.5555555555555556,
             "#d8576b"
            ],
            [
             0.6666666666666666,
             "#ed7953"
            ],
            [
             0.7777777777777778,
             "#fb9f3a"
            ],
            [
             0.8888888888888888,
             "#fdca26"
            ],
            [
             1,
             "#f0f921"
            ]
           ]
          },
          "colorway": [
           "#636efa",
           "#EF553B",
           "#00cc96",
           "#ab63fa",
           "#FFA15A",
           "#19d3f3",
           "#FF6692",
           "#B6E880",
           "#FF97FF",
           "#FECB52"
          ],
          "font": {
           "color": "#2a3f5f"
          },
          "geo": {
           "bgcolor": "white",
           "lakecolor": "white",
           "landcolor": "#E5ECF6",
           "showlakes": true,
           "showland": true,
           "subunitcolor": "white"
          },
          "hoverlabel": {
           "align": "left"
          },
          "hovermode": "closest",
          "mapbox": {
           "style": "light"
          },
          "paper_bgcolor": "white",
          "plot_bgcolor": "#E5ECF6",
          "polar": {
           "angularaxis": {
            "gridcolor": "white",
            "linecolor": "white",
            "ticks": ""
           },
           "bgcolor": "#E5ECF6",
           "radialaxis": {
            "gridcolor": "white",
            "linecolor": "white",
            "ticks": ""
           }
          },
          "scene": {
           "xaxis": {
            "backgroundcolor": "#E5ECF6",
            "gridcolor": "white",
            "gridwidth": 2,
            "linecolor": "white",
            "showbackground": true,
            "ticks": "",
            "zerolinecolor": "white"
           },
           "yaxis": {
            "backgroundcolor": "#E5ECF6",
            "gridcolor": "white",
            "gridwidth": 2,
            "linecolor": "white",
            "showbackground": true,
            "ticks": "",
            "zerolinecolor": "white"
           },
           "zaxis": {
            "backgroundcolor": "#E5ECF6",
            "gridcolor": "white",
            "gridwidth": 2,
            "linecolor": "white",
            "showbackground": true,
            "ticks": "",
            "zerolinecolor": "white"
           }
          },
          "shapedefaults": {
           "line": {
            "color": "#2a3f5f"
           }
          },
          "ternary": {
           "aaxis": {
            "gridcolor": "white",
            "linecolor": "white",
            "ticks": ""
           },
           "baxis": {
            "gridcolor": "white",
            "linecolor": "white",
            "ticks": ""
           },
           "bgcolor": "#E5ECF6",
           "caxis": {
            "gridcolor": "white",
            "linecolor": "white",
            "ticks": ""
           }
          },
          "title": {
           "x": 0.05
          },
          "xaxis": {
           "automargin": true,
           "gridcolor": "white",
           "linecolor": "white",
           "ticks": "",
           "title": {
            "standoff": 15
           },
           "zerolinecolor": "white",
           "zerolinewidth": 2
          },
          "yaxis": {
           "automargin": true,
           "gridcolor": "white",
           "linecolor": "white",
           "ticks": "",
           "title": {
            "standoff": 15
           },
           "zerolinecolor": "white",
           "zerolinewidth": 2
          }
         }
        },
        "title": {
         "text": "Kissam Tower 1 to MRB Tower 1, Kissam Tower 1 to MRB Tower 2 (summer) (feature extraction)"
        },
        "xaxis": {
         "anchor": "y",
         "domain": [
          0,
          0.45
         ],
         "title": {
          "text": "Finetuning data percentage"
         }
        },
        "xaxis2": {
         "anchor": "y2",
         "domain": [
          0.55,
          1
         ],
         "title": {
          "text": "Finetuning data percentage"
         }
        },
        "yaxis": {
         "anchor": "x",
         "domain": [
          0,
          1
         ],
         "title": {
          "text": "Error"
         }
        },
        "yaxis2": {
         "anchor": "x2",
         "domain": [
          0,
          1
         ],
         "title": {
          "text": "Error"
         }
        }
       }
      }
     },
     "metadata": {},
     "output_type": "display_data"
    },
    {
     "data": {
      "application/vnd.plotly.v1+json": {
       "config": {
        "plotlyServerURL": "https://plot.ly"
       },
       "data": [
        {
         "hovertemplate": "variable=PIR with seed 17<br>finetuning data percentage=%{x}<br>value=%{y}<extra></extra>",
         "legendgroup": "PIR with seed 17",
         "line": {
          "color": "#636efa",
          "dash": "solid"
         },
         "marker": {
          "symbol": "circle"
         },
         "mode": "lines",
         "name": "PIR with seed 17",
         "orientation": "v",
         "showlegend": true,
         "type": "scatter",
         "x": [
          0,
          20,
          40,
          60,
          80
         ],
         "xaxis": "x",
         "y": [
          0,
          -0.013207923487970145,
          -0.0018357058213932746,
          -0.022414603421113063,
          0.025934433109773232
         ],
         "yaxis": "y"
        },
        {
         "hovertemplate": "variable=PIR with seed 42<br>finetuning data percentage=%{x}<br>value=%{y}<extra></extra>",
         "legendgroup": "PIR with seed 42",
         "line": {
          "color": "#EF553B",
          "dash": "solid"
         },
         "marker": {
          "symbol": "circle"
         },
         "mode": "lines",
         "name": "PIR with seed 42",
         "orientation": "v",
         "showlegend": true,
         "type": "scatter",
         "x": [
          0,
          20,
          40,
          60,
          80
         ],
         "xaxis": "x",
         "y": [
          0,
          -0.027470472955099773,
          -0.013038694077869806,
          -0.019284418799974442,
          -0.04736864878835292
         ],
         "yaxis": "y"
        },
        {
         "hovertemplate": "variable=PIR with seed 64<br>finetuning data percentage=%{x}<br>value=%{y}<extra></extra>",
         "legendgroup": "PIR with seed 64",
         "line": {
          "color": "#00cc96",
          "dash": "solid"
         },
         "marker": {
          "symbol": "circle"
         },
         "mode": "lines",
         "name": "PIR with seed 64",
         "orientation": "v",
         "showlegend": true,
         "type": "scatter",
         "x": [
          0,
          20,
          40,
          60,
          80
         ],
         "xaxis": "x",
         "y": [
          0,
          -0.007333542744227723,
          0.0003917512535794843,
          0.020975900665887948,
          0.03603799467716378
         ],
         "yaxis": "y"
        },
        {
         "hovertemplate": "variable=PIR with seed 76<br>finetuning data percentage=%{x}<br>value=%{y}<extra></extra>",
         "legendgroup": "PIR with seed 76",
         "line": {
          "color": "#ab63fa",
          "dash": "solid"
         },
         "marker": {
          "symbol": "circle"
         },
         "mode": "lines",
         "name": "PIR with seed 76",
         "orientation": "v",
         "showlegend": true,
         "type": "scatter",
         "x": [
          0,
          20,
          40,
          60,
          80
         ],
         "xaxis": "x",
         "y": [
          0,
          -0.05519201886333434,
          -0.043314343517860704,
          -0.03296962394088494,
          -0.0033484445821301443
         ],
         "yaxis": "y"
        },
        {
         "hovertemplate": "variable=PIR with seed 98<br>finetuning data percentage=%{x}<br>value=%{y}<extra></extra>",
         "legendgroup": "PIR with seed 98",
         "line": {
          "color": "#FFA15A",
          "dash": "solid"
         },
         "marker": {
          "symbol": "circle"
         },
         "mode": "lines",
         "name": "PIR with seed 98",
         "orientation": "v",
         "showlegend": true,
         "type": "scatter",
         "x": [
          0,
          20,
          40,
          60,
          80
         ],
         "xaxis": "x",
         "y": [
          0,
          -0.10821847552551854,
          -0.020606099191073392,
          0.022872686593235315,
          0.03187028162934934
         ],
         "yaxis": "y"
        },
        {
         "hovertemplate": "variable=PIR with seed 17<br>finetuning data percentage=%{x}<br>value=%{y}<extra></extra>",
         "legendgroup": "PIR with seed 17",
         "line": {
          "color": "#636efa",
          "dash": "solid"
         },
         "marker": {
          "symbol": "circle"
         },
         "mode": "lines",
         "name": "PIR with seed 17",
         "orientation": "v",
         "showlegend": true,
         "type": "scatter",
         "x": [
          0,
          20,
          40,
          60,
          80
         ],
         "xaxis": "x2",
         "y": [
          0,
          -0.04647557612053943,
          -0.024120610471069382,
          -0.020109697003897767,
          -0.03382499596527612
         ],
         "yaxis": "y2"
        },
        {
         "hovertemplate": "variable=PIR with seed 42<br>finetuning data percentage=%{x}<br>value=%{y}<extra></extra>",
         "legendgroup": "PIR with seed 42",
         "line": {
          "color": "#EF553B",
          "dash": "solid"
         },
         "marker": {
          "symbol": "circle"
         },
         "mode": "lines",
         "name": "PIR with seed 42",
         "orientation": "v",
         "showlegend": true,
         "type": "scatter",
         "x": [
          0,
          20,
          40,
          60,
          80
         ],
         "xaxis": "x2",
         "y": [
          0,
          0.13934223828718756,
          -0.009269280154223097,
          -0.039005718721536686,
          -0.03960669493534404
         ],
         "yaxis": "y2"
        },
        {
         "hovertemplate": "variable=PIR with seed 64<br>finetuning data percentage=%{x}<br>value=%{y}<extra></extra>",
         "legendgroup": "PIR with seed 64",
         "line": {
          "color": "#00cc96",
          "dash": "solid"
         },
         "marker": {
          "symbol": "circle"
         },
         "mode": "lines",
         "name": "PIR with seed 64",
         "orientation": "v",
         "showlegend": true,
         "type": "scatter",
         "x": [
          0,
          20,
          40,
          60,
          80
         ],
         "xaxis": "x2",
         "y": [
          0,
          0.015521354418400565,
          0.05483456080509796,
          -0.03497868377557279,
          -0.0012780430236856866
         ],
         "yaxis": "y2"
        },
        {
         "hovertemplate": "variable=PIR with seed 76<br>finetuning data percentage=%{x}<br>value=%{y}<extra></extra>",
         "legendgroup": "PIR with seed 76",
         "line": {
          "color": "#ab63fa",
          "dash": "solid"
         },
         "marker": {
          "symbol": "circle"
         },
         "mode": "lines",
         "name": "PIR with seed 76",
         "orientation": "v",
         "showlegend": true,
         "type": "scatter",
         "x": [
          0,
          20,
          40,
          60,
          80
         ],
         "xaxis": "x2",
         "y": [
          0,
          0.12210552941783105,
          -0.022901821192250853,
          -0.02707936715087032,
          0.00181667802652919
         ],
         "yaxis": "y2"
        },
        {
         "hovertemplate": "variable=PIR with seed 98<br>finetuning data percentage=%{x}<br>value=%{y}<extra></extra>",
         "legendgroup": "PIR with seed 98",
         "line": {
          "color": "#FFA15A",
          "dash": "solid"
         },
         "marker": {
          "symbol": "circle"
         },
         "mode": "lines",
         "name": "PIR with seed 98",
         "orientation": "v",
         "showlegend": true,
         "type": "scatter",
         "x": [
          0,
          20,
          40,
          60,
          80
         ],
         "xaxis": "x2",
         "y": [
          0,
          -0.027798761774554093,
          -0.008499936997381186,
          -0.023541573024574002,
          0.004493909940226144
         ],
         "yaxis": "y2"
        }
       ],
       "layout": {
        "showlegend": true,
        "template": {
         "data": {
          "bar": [
           {
            "error_x": {
             "color": "#2a3f5f"
            },
            "error_y": {
             "color": "#2a3f5f"
            },
            "marker": {
             "line": {
              "color": "#E5ECF6",
              "width": 0.5
             },
             "pattern": {
              "fillmode": "overlay",
              "size": 10,
              "solidity": 0.2
             }
            },
            "type": "bar"
           }
          ],
          "barpolar": [
           {
            "marker": {
             "line": {
              "color": "#E5ECF6",
              "width": 0.5
             },
             "pattern": {
              "fillmode": "overlay",
              "size": 10,
              "solidity": 0.2
             }
            },
            "type": "barpolar"
           }
          ],
          "carpet": [
           {
            "aaxis": {
             "endlinecolor": "#2a3f5f",
             "gridcolor": "white",
             "linecolor": "white",
             "minorgridcolor": "white",
             "startlinecolor": "#2a3f5f"
            },
            "baxis": {
             "endlinecolor": "#2a3f5f",
             "gridcolor": "white",
             "linecolor": "white",
             "minorgridcolor": "white",
             "startlinecolor": "#2a3f5f"
            },
            "type": "carpet"
           }
          ],
          "choropleth": [
           {
            "colorbar": {
             "outlinewidth": 0,
             "ticks": ""
            },
            "type": "choropleth"
           }
          ],
          "contour": [
           {
            "colorbar": {
             "outlinewidth": 0,
             "ticks": ""
            },
            "colorscale": [
             [
              0,
              "#0d0887"
             ],
             [
              0.1111111111111111,
              "#46039f"
             ],
             [
              0.2222222222222222,
              "#7201a8"
             ],
             [
              0.3333333333333333,
              "#9c179e"
             ],
             [
              0.4444444444444444,
              "#bd3786"
             ],
             [
              0.5555555555555556,
              "#d8576b"
             ],
             [
              0.6666666666666666,
              "#ed7953"
             ],
             [
              0.7777777777777778,
              "#fb9f3a"
             ],
             [
              0.8888888888888888,
              "#fdca26"
             ],
             [
              1,
              "#f0f921"
             ]
            ],
            "type": "contour"
           }
          ],
          "contourcarpet": [
           {
            "colorbar": {
             "outlinewidth": 0,
             "ticks": ""
            },
            "type": "contourcarpet"
           }
          ],
          "heatmap": [
           {
            "colorbar": {
             "outlinewidth": 0,
             "ticks": ""
            },
            "colorscale": [
             [
              0,
              "#0d0887"
             ],
             [
              0.1111111111111111,
              "#46039f"
             ],
             [
              0.2222222222222222,
              "#7201a8"
             ],
             [
              0.3333333333333333,
              "#9c179e"
             ],
             [
              0.4444444444444444,
              "#bd3786"
             ],
             [
              0.5555555555555556,
              "#d8576b"
             ],
             [
              0.6666666666666666,
              "#ed7953"
             ],
             [
              0.7777777777777778,
              "#fb9f3a"
             ],
             [
              0.8888888888888888,
              "#fdca26"
             ],
             [
              1,
              "#f0f921"
             ]
            ],
            "type": "heatmap"
           }
          ],
          "heatmapgl": [
           {
            "colorbar": {
             "outlinewidth": 0,
             "ticks": ""
            },
            "colorscale": [
             [
              0,
              "#0d0887"
             ],
             [
              0.1111111111111111,
              "#46039f"
             ],
             [
              0.2222222222222222,
              "#7201a8"
             ],
             [
              0.3333333333333333,
              "#9c179e"
             ],
             [
              0.4444444444444444,
              "#bd3786"
             ],
             [
              0.5555555555555556,
              "#d8576b"
             ],
             [
              0.6666666666666666,
              "#ed7953"
             ],
             [
              0.7777777777777778,
              "#fb9f3a"
             ],
             [
              0.8888888888888888,
              "#fdca26"
             ],
             [
              1,
              "#f0f921"
             ]
            ],
            "type": "heatmapgl"
           }
          ],
          "histogram": [
           {
            "marker": {
             "pattern": {
              "fillmode": "overlay",
              "size": 10,
              "solidity": 0.2
             }
            },
            "type": "histogram"
           }
          ],
          "histogram2d": [
           {
            "colorbar": {
             "outlinewidth": 0,
             "ticks": ""
            },
            "colorscale": [
             [
              0,
              "#0d0887"
             ],
             [
              0.1111111111111111,
              "#46039f"
             ],
             [
              0.2222222222222222,
              "#7201a8"
             ],
             [
              0.3333333333333333,
              "#9c179e"
             ],
             [
              0.4444444444444444,
              "#bd3786"
             ],
             [
              0.5555555555555556,
              "#d8576b"
             ],
             [
              0.6666666666666666,
              "#ed7953"
             ],
             [
              0.7777777777777778,
              "#fb9f3a"
             ],
             [
              0.8888888888888888,
              "#fdca26"
             ],
             [
              1,
              "#f0f921"
             ]
            ],
            "type": "histogram2d"
           }
          ],
          "histogram2dcontour": [
           {
            "colorbar": {
             "outlinewidth": 0,
             "ticks": ""
            },
            "colorscale": [
             [
              0,
              "#0d0887"
             ],
             [
              0.1111111111111111,
              "#46039f"
             ],
             [
              0.2222222222222222,
              "#7201a8"
             ],
             [
              0.3333333333333333,
              "#9c179e"
             ],
             [
              0.4444444444444444,
              "#bd3786"
             ],
             [
              0.5555555555555556,
              "#d8576b"
             ],
             [
              0.6666666666666666,
              "#ed7953"
             ],
             [
              0.7777777777777778,
              "#fb9f3a"
             ],
             [
              0.8888888888888888,
              "#fdca26"
             ],
             [
              1,
              "#f0f921"
             ]
            ],
            "type": "histogram2dcontour"
           }
          ],
          "mesh3d": [
           {
            "colorbar": {
             "outlinewidth": 0,
             "ticks": ""
            },
            "type": "mesh3d"
           }
          ],
          "parcoords": [
           {
            "line": {
             "colorbar": {
              "outlinewidth": 0,
              "ticks": ""
             }
            },
            "type": "parcoords"
           }
          ],
          "pie": [
           {
            "automargin": true,
            "type": "pie"
           }
          ],
          "scatter": [
           {
            "fillpattern": {
             "fillmode": "overlay",
             "size": 10,
             "solidity": 0.2
            },
            "type": "scatter"
           }
          ],
          "scatter3d": [
           {
            "line": {
             "colorbar": {
              "outlinewidth": 0,
              "ticks": ""
             }
            },
            "marker": {
             "colorbar": {
              "outlinewidth": 0,
              "ticks": ""
             }
            },
            "type": "scatter3d"
           }
          ],
          "scattercarpet": [
           {
            "marker": {
             "colorbar": {
              "outlinewidth": 0,
              "ticks": ""
             }
            },
            "type": "scattercarpet"
           }
          ],
          "scattergeo": [
           {
            "marker": {
             "colorbar": {
              "outlinewidth": 0,
              "ticks": ""
             }
            },
            "type": "scattergeo"
           }
          ],
          "scattergl": [
           {
            "marker": {
             "colorbar": {
              "outlinewidth": 0,
              "ticks": ""
             }
            },
            "type": "scattergl"
           }
          ],
          "scattermapbox": [
           {
            "marker": {
             "colorbar": {
              "outlinewidth": 0,
              "ticks": ""
             }
            },
            "type": "scattermapbox"
           }
          ],
          "scatterpolar": [
           {
            "marker": {
             "colorbar": {
              "outlinewidth": 0,
              "ticks": ""
             }
            },
            "type": "scatterpolar"
           }
          ],
          "scatterpolargl": [
           {
            "marker": {
             "colorbar": {
              "outlinewidth": 0,
              "ticks": ""
             }
            },
            "type": "scatterpolargl"
           }
          ],
          "scatterternary": [
           {
            "marker": {
             "colorbar": {
              "outlinewidth": 0,
              "ticks": ""
             }
            },
            "type": "scatterternary"
           }
          ],
          "surface": [
           {
            "colorbar": {
             "outlinewidth": 0,
             "ticks": ""
            },
            "colorscale": [
             [
              0,
              "#0d0887"
             ],
             [
              0.1111111111111111,
              "#46039f"
             ],
             [
              0.2222222222222222,
              "#7201a8"
             ],
             [
              0.3333333333333333,
              "#9c179e"
             ],
             [
              0.4444444444444444,
              "#bd3786"
             ],
             [
              0.5555555555555556,
              "#d8576b"
             ],
             [
              0.6666666666666666,
              "#ed7953"
             ],
             [
              0.7777777777777778,
              "#fb9f3a"
             ],
             [
              0.8888888888888888,
              "#fdca26"
             ],
             [
              1,
              "#f0f921"
             ]
            ],
            "type": "surface"
           }
          ],
          "table": [
           {
            "cells": {
             "fill": {
              "color": "#EBF0F8"
             },
             "line": {
              "color": "white"
             }
            },
            "header": {
             "fill": {
              "color": "#C8D4E3"
             },
             "line": {
              "color": "white"
             }
            },
            "type": "table"
           }
          ]
         },
         "layout": {
          "annotationdefaults": {
           "arrowcolor": "#2a3f5f",
           "arrowhead": 0,
           "arrowwidth": 1
          },
          "autotypenumbers": "strict",
          "coloraxis": {
           "colorbar": {
            "outlinewidth": 0,
            "ticks": ""
           }
          },
          "colorscale": {
           "diverging": [
            [
             0,
             "#8e0152"
            ],
            [
             0.1,
             "#c51b7d"
            ],
            [
             0.2,
             "#de77ae"
            ],
            [
             0.3,
             "#f1b6da"
            ],
            [
             0.4,
             "#fde0ef"
            ],
            [
             0.5,
             "#f7f7f7"
            ],
            [
             0.6,
             "#e6f5d0"
            ],
            [
             0.7,
             "#b8e186"
            ],
            [
             0.8,
             "#7fbc41"
            ],
            [
             0.9,
             "#4d9221"
            ],
            [
             1,
             "#276419"
            ]
           ],
           "sequential": [
            [
             0,
             "#0d0887"
            ],
            [
             0.1111111111111111,
             "#46039f"
            ],
            [
             0.2222222222222222,
             "#7201a8"
            ],
            [
             0.3333333333333333,
             "#9c179e"
            ],
            [
             0.4444444444444444,
             "#bd3786"
            ],
            [
             0.5555555555555556,
             "#d8576b"
            ],
            [
             0.6666666666666666,
             "#ed7953"
            ],
            [
             0.7777777777777778,
             "#fb9f3a"
            ],
            [
             0.8888888888888888,
             "#fdca26"
            ],
            [
             1,
             "#f0f921"
            ]
           ],
           "sequentialminus": [
            [
             0,
             "#0d0887"
            ],
            [
             0.1111111111111111,
             "#46039f"
            ],
            [
             0.2222222222222222,
             "#7201a8"
            ],
            [
             0.3333333333333333,
             "#9c179e"
            ],
            [
             0.4444444444444444,
             "#bd3786"
            ],
            [
             0.5555555555555556,
             "#d8576b"
            ],
            [
             0.6666666666666666,
             "#ed7953"
            ],
            [
             0.7777777777777778,
             "#fb9f3a"
            ],
            [
             0.8888888888888888,
             "#fdca26"
            ],
            [
             1,
             "#f0f921"
            ]
           ]
          },
          "colorway": [
           "#636efa",
           "#EF553B",
           "#00cc96",
           "#ab63fa",
           "#FFA15A",
           "#19d3f3",
           "#FF6692",
           "#B6E880",
           "#FF97FF",
           "#FECB52"
          ],
          "font": {
           "color": "#2a3f5f"
          },
          "geo": {
           "bgcolor": "white",
           "lakecolor": "white",
           "landcolor": "#E5ECF6",
           "showlakes": true,
           "showland": true,
           "subunitcolor": "white"
          },
          "hoverlabel": {
           "align": "left"
          },
          "hovermode": "closest",
          "mapbox": {
           "style": "light"
          },
          "paper_bgcolor": "white",
          "plot_bgcolor": "#E5ECF6",
          "polar": {
           "angularaxis": {
            "gridcolor": "white",
            "linecolor": "white",
            "ticks": ""
           },
           "bgcolor": "#E5ECF6",
           "radialaxis": {
            "gridcolor": "white",
            "linecolor": "white",
            "ticks": ""
           }
          },
          "scene": {
           "xaxis": {
            "backgroundcolor": "#E5ECF6",
            "gridcolor": "white",
            "gridwidth": 2,
            "linecolor": "white",
            "showbackground": true,
            "ticks": "",
            "zerolinecolor": "white"
           },
           "yaxis": {
            "backgroundcolor": "#E5ECF6",
            "gridcolor": "white",
            "gridwidth": 2,
            "linecolor": "white",
            "showbackground": true,
            "ticks": "",
            "zerolinecolor": "white"
           },
           "zaxis": {
            "backgroundcolor": "#E5ECF6",
            "gridcolor": "white",
            "gridwidth": 2,
            "linecolor": "white",
            "showbackground": true,
            "ticks": "",
            "zerolinecolor": "white"
           }
          },
          "shapedefaults": {
           "line": {
            "color": "#2a3f5f"
           }
          },
          "ternary": {
           "aaxis": {
            "gridcolor": "white",
            "linecolor": "white",
            "ticks": ""
           },
           "baxis": {
            "gridcolor": "white",
            "linecolor": "white",
            "ticks": ""
           },
           "bgcolor": "#E5ECF6",
           "caxis": {
            "gridcolor": "white",
            "linecolor": "white",
            "ticks": ""
           }
          },
          "title": {
           "x": 0.05
          },
          "xaxis": {
           "automargin": true,
           "gridcolor": "white",
           "linecolor": "white",
           "ticks": "",
           "title": {
            "standoff": 15
           },
           "zerolinecolor": "white",
           "zerolinewidth": 2
          },
          "yaxis": {
           "automargin": true,
           "gridcolor": "white",
           "linecolor": "white",
           "ticks": "",
           "title": {
            "standoff": 15
           },
           "zerolinecolor": "white",
           "zerolinewidth": 2
          }
         }
        },
        "title": {
         "text": "Kissam Tower 1 to MRB Tower 1, Kissam Tower 1 to MRB Tower 2 (summer) (feature extraction)"
        },
        "xaxis": {
         "anchor": "y",
         "domain": [
          0,
          0.45
         ],
         "title": {
          "text": "Finetuning data percentage"
         }
        },
        "xaxis2": {
         "anchor": "y2",
         "domain": [
          0.55,
          1
         ],
         "title": {
          "text": "Finetuning data percentage"
         }
        },
        "yaxis": {
         "anchor": "x",
         "domain": [
          0,
          1
         ],
         "title": {
          "text": "Performance improvement ratio"
         }
        },
        "yaxis2": {
         "anchor": "x2",
         "domain": [
          0,
          1
         ],
         "title": {
          "text": "Performance improvement ratio"
         }
        }
       }
      }
     },
     "metadata": {},
     "output_type": "display_data"
    }
   ],
   "source": [
    "plot_multiseed_error_pir(ft_percents=ft_percents, from_building=\"Kissam\", from_tower=1, to_building=\"MRB\", season=\"summer\")"
   ]
  }
 ],
 "metadata": {
  "kernelspec": {
   "display_name": "py38",
   "language": "python",
   "name": "python3"
  },
  "language_info": {
   "codemirror_mode": {
    "name": "ipython",
    "version": 3
   },
   "file_extension": ".py",
   "mimetype": "text/x-python",
   "name": "python",
   "nbconvert_exporter": "python",
   "pygments_lexer": "ipython3",
   "version": "3.8.16"
  },
  "orig_nbformat": 4
 },
 "nbformat": 4,
 "nbformat_minor": 2
}
