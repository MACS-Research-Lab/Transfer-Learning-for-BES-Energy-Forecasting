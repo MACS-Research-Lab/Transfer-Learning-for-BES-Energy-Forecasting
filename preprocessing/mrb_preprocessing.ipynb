{
 "cells": [
  {
   "attachments": {},
   "cell_type": "markdown",
   "metadata": {},
   "source": [
    "<h1 style=\"color:#27469c\"> Preprocessing of MRB data </h1>"
   ]
  },
  {
   "cell_type": "code",
   "execution_count": null,
   "metadata": {},
   "outputs": [],
   "source": [
    "import pandas as pd\n",
    "import matplotlib.pyplot as pyplot\n",
    "import preprocessor\n",
    "\n",
    "import warnings\n",
    "warnings.filterwarnings('ignore')\n",
    "\n",
    "rootpath = \"..\""
   ]
  },
  {
   "cell_type": "code",
   "execution_count": null,
   "metadata": {},
   "outputs": [],
   "source": [
    "renaming = {}\n",
    "for i in range(1,5):\n",
    "\n",
    "    filename = f'{rootpath}/data/mrb/mrb_cooling_tower_{i}.csv'\n",
    "    mrb_tower_df = pd.read_csv(filename, index_col='time')\n",
    "\n",
    "    renaming[f'Cooling_Tower_{i}_Cell_1Fan VFD %'] = f'MRB_Tower_{i} vfdPercent'\n",
    "    renaming[f'Cooling_Tower_{i}_Cell_1Fan power'] = f'MRB_Tower_{i} fanA_vfdPower'\n",
    "    renaming[f'Cooling_Tower_{i}_Cell_1Fan status'] = f'MRB_Tower_{i} fanA_fanStatus'\n",
    "    renaming[f'Entering Water Temp'] = f'MRB_Tower_{i} enteringWaterTemp'\n",
    "    renaming[f'Leaving Water Temp'] = f'MRB_Tower_{i} leavingWaterTemp'\n",
    "    renaming[f'Outdoor Air Wetbulb'] = f'MRB_Tower_{i} outdoorAirWetBulb'\n",
    "\n",
    "    mrb_tower_df.rename(renaming, inplace=True, axis=1)\n",
    "    mrb_tower_df.to_csv(filename)\n",
    "\n",
    "    renaming.clear()"
   ]
  },
  {
   "attachments": {},
   "cell_type": "markdown",
   "metadata": {},
   "source": [
    "Cooling towers 2-4 have identical variables but cooling tower 1 has data on an additional variable (CW_Pump_1 pumpStatus). This variable isn't needed so we'll remove it and have 4 datasets with identical variables.\n",
    "\n",
    "Moreover, MRB cooling towers do not have outdoorAirDryBulb data so I have taken this data from MRB's Air Handling Unit 1."
   ]
  },
  {
   "attachments": {},
   "cell_type": "markdown",
   "metadata": {},
   "source": [
    "<h2 style=\"color:#27469c\">Add outdoor air dry bulb and humidity information from ESB trend in MRB</h2>"
   ]
  },
  {
   "cell_type": "code",
   "execution_count": null,
   "metadata": {},
   "outputs": [],
   "source": [
    "ext_data = pd.read_csv(f'{rootpath}/data/esb/esb_cooling_tower_1.csv', index_col=\"time\")[[\"ESB_Tower_1 outdoorAirHumidity\", \"ESB_Tower_1 outdoorAirDryBulb\"]]\n",
    "ext_data.index = pd.to_datetime(ext_data.index, utc='True')\n",
    "\n",
    "ext_data.rename({\"ESB_Tower_1 outdoorAirHumidity\":\"outdoorAirHumidity\", \"ESB_Tower_1 outdoorAirDryBulb\": \"outdoorAirDryBulb\"}, inplace=True, axis=1)"
   ]
  },
  {
   "attachments": {},
   "cell_type": "markdown",
   "metadata": {},
   "source": [
    "<h2 style=\"color:#27469c\"> Preprocessing of MRB III Cooling Tower 1 data </h2>"
   ]
  },
  {
   "cell_type": "code",
   "execution_count": null,
   "metadata": {},
   "outputs": [],
   "source": [
    "# load cooling tower data\n",
    "df = pd.read_csv(f'{rootpath}/data/mrb/mrb_cooling_tower_1.csv', index_col=\"time\")\n",
    "df.index = pd.to_datetime(df.index, utc='True')\n",
    "initial_data_size = df.shape[0]"
   ]
  },
  {
   "cell_type": "code",
   "execution_count": null,
   "metadata": {},
   "outputs": [],
   "source": [
    "# add dry bulb and humidity data\n",
    "df = df.merge(ext_data, on=\"time\")\n",
    "df.rename({\"outdoorAirHumidity\":\"MRB_Tower_1 outdoorAirHumidity\", \"outdoorAirDryBulb\": \"MRB_Tower_1 outdoorAirDryBulb\"}, inplace=True, axis=1)\n",
    "\n",
    "# remove missing data\n",
    "df = preprocessor.remove_missing_data(datadf=df, initial_data_size=initial_data_size)\n",
    "print(f'After missing data removal, we are left with us with {df.shape[0]} rows out of {initial_data_size}.')\n",
    "\n",
    "# remove unnecessary columns to prevent interference with missing data and outlier removal\n",
    "df.drop('Efficiency', inplace=True, axis=1)\n",
    "df.drop('CW_Pump_1 pumpStatus', inplace=True, axis=1)\n",
    "\n",
    "# add efficiency, season, dayOfWeek and hourOfDay columns\n",
    "preprocessor.create_efficiency_col(datadf=df, enteringWaterTemp=\"MRB_Tower_1 enteringWaterTemp\", leavingWaterTemp='MRB_Tower_1 leavingWaterTemp', outdoorAirWetBulb='MRB_Tower_1 outdoorAirWetBulb', efficiency_col_name='MRB_Tower_1 efficiency')\n",
    "preprocessor.create_season_col(datadf=df, season_col_name=\"MRB_Tower_1 season\")\n",
    "df[\"MRB_Tower_1 dayOfWeek\"] = df.index.weekday\n",
    "df['MRB_Tower_1 hourOfDay'] = df.index.hour\n",
    "\n",
    "# outliers\n",
    "df_on_condition = (df[\"MRB_Tower_1 fanStatus\"] == True)\n",
    "df = preprocessor.remove_outliers_std(df, has_off_data=True, on_condition=df_on_condition, threshold=5, verbose=True)\n",
    "\n",
    "# to streamline the vfdPower columns, since ESB has 2 and MRB has 1 - I will duplicate the column for kissam\n",
    "df['MRB_Tower_1 fanB_vfdPower'] = df['MRB_Tower_1 fanA_vfdPower']\n",
    "\n",
    "# save preprocessed tower 2 data\n",
    "df.sort_index(axis=1).to_csv(f'{rootpath}/data/mrb/mrb_tower_1_preprocessed.csv')"
   ]
  },
  {
   "attachments": {},
   "cell_type": "markdown",
   "metadata": {},
   "source": [
    "<h2 style=\"color:#27469c\"> Preprocessing of MRB III Cooling Towers 2-4 data </h2>"
   ]
  },
  {
   "cell_type": "code",
   "execution_count": null,
   "metadata": {},
   "outputs": [],
   "source": [
    "for i in range(2,5):\n",
    "    # load cooling tower data\n",
    "    df = pd.read_csv(f'{rootpath}/data/mrb/mrb_cooling_tower_{i}.csv', index_col=\"time\")\n",
    "    df.index = pd.to_datetime(df.index, utc='True')\n",
    "    initial_data_size = df.shape[0]\n",
    "\n",
    "    print(f'\\nPreprocessing logs for cooling tower {i}:\\n')\n",
    "\n",
    "    # add dry bulb and humidity data\n",
    "    df = df.merge(ext_data, on=\"time\")\n",
    "    df.rename({\"outdoorAirHumidity\":f\"MRB_Tower_{i} outdoorAirHumidity\", f\"outdoorAirDryBulb\": f\"MRB_Tower_{i} outdoorAirDryBulb\"}, inplace=True, axis=1)\n",
    "\n",
    "    # remove missing data\n",
    "    df = preprocessor.remove_missing_data(datadf=df, initial_data_size=initial_data_size)\n",
    "    print(f'After missing data removal, we are left with us with {df.shape[0]} rows out of {initial_data_size}.')\n",
    "\n",
    "    # remove unnecessary columns to prevent interference with missing data and outlier removal\n",
    "    df.drop('Efficiency', inplace=True, axis=1)\n",
    "\n",
    "    # add efficiency, season, dayOfWeek and hourOfDay columns\n",
    "    preprocessor.create_efficiency_col(datadf=df, enteringWaterTemp=f\"MRB_Tower_{i} enteringWaterTemp\", leavingWaterTemp=f'MRB_Tower_{i} leavingWaterTemp', outdoorAirWetBulb=f'MRB_Tower_{i} outdoorAirWetBulb', efficiency_col_name=f'MRB_Tower_{i} efficiency')\n",
    "    preprocessor.create_season_col(datadf=df, season_col_name=f\"MRB_Tower_{i} season\")\n",
    "    df[f\"MRB_Tower_{i} dayOfWeek\"] = df.index.weekday\n",
    "    df[f'MRB_Tower_{i} hourOfDay'] = df.index.hour\n",
    "\n",
    "    # outliers\n",
    "    df_on_condition = (df[f\"MRB_Tower_{i} fanStatus\"] == True)\n",
    "    df = preprocessor.remove_outliers_std(df, has_off_data=True, on_condition=df_on_condition, threshold=5, verbose=True)\n",
    "\n",
    "    # to streamline the vfdPower columns, since ESB has 2 and MRB has 1 - I will duplicate the column for kissam\n",
    "    df[f'MRB_Tower_{i} fanB_vfdPower'] = df[f'MRB_Tower_{i} fanA_vfdPower']\n",
    "\n",
    "    # save preprocessed tower 2 data\n",
    "    df.sort_index(axis=1).to_csv(f'{rootpath}/data/mrb/mrb_tower_{i}_preprocessed.csv')"
   ]
  }
 ],
 "metadata": {
  "kernelspec": {
   "display_name": "python3-8",
   "language": "python",
   "name": "python3"
  },
  "language_info": {
   "codemirror_mode": {
    "name": "ipython",
    "version": 3
   },
   "file_extension": ".py",
   "mimetype": "text/x-python",
   "name": "python",
   "nbconvert_exporter": "python",
   "pygments_lexer": "ipython3",
   "version": "3.8.16"
  },
  "orig_nbformat": 4
 },
 "nbformat": 4,
 "nbformat_minor": 2
}
