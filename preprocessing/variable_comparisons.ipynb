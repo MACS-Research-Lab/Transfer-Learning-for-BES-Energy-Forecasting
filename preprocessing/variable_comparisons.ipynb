{
 "cells": [
  {
   "cell_type": "code",
   "execution_count": null,
   "metadata": {},
   "outputs": [],
   "source": [
    "import pandas as pd\n",
    "\n",
    "from preprocessor import get_correlation_info\n",
    "import warnings\n",
    "warnings.filterwarnings('ignore')\n",
    "\n",
    "rootpath = \"..\""
   ]
  },
  {
   "attachments": {},
   "cell_type": "markdown",
   "metadata": {},
   "source": [
    "<h2 style=\"color:#27469c\">Comparing Kissam and ESB Data</h2>"
   ]
  },
  {
   "cell_type": "code",
   "execution_count": null,
   "metadata": {},
   "outputs": [],
   "source": [
    "kissam_df = pd.read_csv(f'{rootpath}/data/kissam/kissam_tower_1_preprocessed.csv', index_col='time')\n",
    "esb_df = pd.read_csv(f'{rootpath}/data/esb/esb_tower_1_preprocessed.csv', index_col='time')\n",
    "\n",
    "common_indices = esb_df.index.intersection(kissam_df.index)\n",
    "kissam_df = kissam_df.loc[common_indices]\n",
    "esb_df = esb_df.loc[common_indices]"
   ]
  },
  {
   "cell_type": "code",
   "execution_count": null,
   "metadata": {},
   "outputs": [],
   "source": [
    "# save correlations between kissam and esb columns in a csv so it's easier to view in excel\n",
    "correlations = get_correlation_info(kissam_df, esb_df)\n",
    "\n",
    "# find the highest correlation values between columns\n",
    "max_correlations = pd.DataFrame({'Max Correlation Value': correlations.max(), 'Corresponding Row': correlations.idxmax()})\n",
    "\n",
    "# Create a new csv to store the results\n",
    "# correlations.to_csv(f'{rootpath}/data/correlations/kissam_esb_correlations.csv')\n",
    "max_correlations"
   ]
  },
  {
   "cell_type": "code",
   "execution_count": null,
   "metadata": {},
   "outputs": [],
   "source": [
    "# save correlations between kissam and esb columns in a csv so it's easier to view in excel\n",
    "correlations = get_correlation_info(esb_df, kissam_df)\n",
    "\n",
    "# find the highest correlation values between columns\n",
    "max_correlations = pd.DataFrame({'Max Correlation Value': correlations.max(), 'Corresponding Row': correlations.idxmax()})\n",
    "\n",
    "# Create a new csv to store the results\n",
    "# correlations.to_csv(f'{rootpath}/data/correlations/esb_kissam_correlations.csv')\n",
    "max_correlations"
   ]
  }
 ],
 "metadata": {
  "kernelspec": {
   "display_name": "python3-8",
   "language": "python",
   "name": "python3"
  },
  "language_info": {
   "codemirror_mode": {
    "name": "ipython",
    "version": 3
   },
   "file_extension": ".py",
   "mimetype": "text/x-python",
   "name": "python",
   "nbconvert_exporter": "python",
   "pygments_lexer": "ipython3",
   "version": "3.8.16"
  },
  "orig_nbformat": 4
 },
 "nbformat": 4,
 "nbformat_minor": 2
}
