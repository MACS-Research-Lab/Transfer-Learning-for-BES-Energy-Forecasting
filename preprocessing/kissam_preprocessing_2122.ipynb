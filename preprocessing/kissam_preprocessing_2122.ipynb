{
 "cells": [
  {
   "attachments": {},
   "cell_type": "markdown",
   "metadata": {},
   "source": [
    "<h1 style=\"color:#27469c\">Preprocessing of Kissam Cooling Towers 1 and 2 data</h1>"
   ]
  },
  {
   "cell_type": "code",
   "execution_count": null,
   "metadata": {},
   "outputs": [],
   "source": [
    "import pandas as pd\n",
    "import matplotlib.pyplot as pyplot\n",
    "import preprocessor\n",
    "\n",
    "import warnings\n",
    "warnings.filterwarnings('ignore')\n",
    "\n",
    "rootpath = \"..\""
   ]
  },
  {
   "cell_type": "code",
   "execution_count": null,
   "metadata": {},
   "outputs": [],
   "source": [
    "# load cooling towers data\n",
    "df = pd.read_csv(f'{rootpath}/data/kissam/kissam_cooling_towers.csv', index_col=\"time\")\n",
    "df.index = pd.to_datetime(df.index, utc='True')\n",
    "initial_data_size = df.shape[0]"
   ]
  },
  {
   "attachments": {},
   "cell_type": "markdown",
   "metadata": {},
   "source": [
    "<h2 style=\"color:#27469c\">Rename columns and separate the 2 cooling towers' data</h2>"
   ]
  },
  {
   "cell_type": "code",
   "execution_count": null,
   "metadata": {},
   "outputs": [],
   "source": [
    "renaming = {}\n",
    "for i in [1,2]:\n",
    "    renaming[f\"CT_{i}.TempCondIn\"] = f\"Kissam_Tower_{i} enteringWaterTemp\"\n",
    "    renaming[f\"CT_{i}.TempCondOut\"] = f\"Kissam_Tower_{i} leavingWaterTemp\"\n",
    "    renaming[f\"CT_{i}.PerFreqFan\"] = f\"Kissam_Tower_{i} vfdPercent\"\n",
    "    renaming[f\"CT_{i}.PowFan\"] = f\"Kissam_Tower_{i} vfdPower\"\n",
    "    renaming[f\"CT_{i}.StatusFan\"] = f\"Kissam_Tower_{i} fanStatus\"\n",
    "    renaming[f\"CT_{i}.FlowCond\"] = f\"Kissam_Tower_{i} flowCond\"\n",
    "    renaming[f\"CT_{i}.PerFreqConP\"] = f\"Kissam_Tower_{i} perFreqConP\"\n",
    "    renaming[f\"CT_{i}.PowConP\"] = f\"Kissam_Tower_{i} powConP\"\n",
    "    renaming[f\"CT_{i}.PressDiffCond\"] = f\"Kissam_Tower_{i} pressDiffCond\"\n",
    "    renaming[f\"CH_{i}.PowChi\"] = f\"Kissam_Tower_{i} CH_PowChi\"\n",
    "    renaming[f\"CH_{i}.Tonnage\"] = f\"Kissam_Tower_{i} CH_Tonnage\"\n",
    "renaming[\"TempWetBulb\"] = \"outdoorAirWetBulb\"\n",
    "renaming[\"TempAmbient\"] = \"outdoorAirDryBulb\"\n",
    "renaming[\"Setpoint_Python\"] = \"setpointPython\"\n",
    "renaming[\"Setpoint_Existing\"] = \"setpointExisting\"\n",
    "\n",
    "df.rename(renaming, inplace=True, axis=1)\n",
    "\n",
    "# remove generated columns\n",
    "df = df[[col for col in df.columns if \"generated\" not in col]]\n",
    "\n",
    "# split dataframes\n",
    "df1 = df[[col for col in df.columns if \"2\" not in col]] # cooling tower 1 data\n",
    "df2 = df[[col for col in df.columns if \"1\" not in col]] # cooling tower 2 data\n",
    "\n",
    "# renaming columns to be identically prefixed for uniformity\n",
    "df1.columns = ['Kissam_Tower_1 ' + col if not col.startswith('Kissam_Tower_1') else col for col in df1.columns]\n",
    "df2.columns = ['Kissam_Tower_2 ' + col if not col.startswith('Kissam_Tower_2') else col for col in df2.columns]"
   ]
  },
  {
   "attachments": {},
   "cell_type": "markdown",
   "metadata": {},
   "source": [
    "<h2 style=\"color:#27469c\">Cooling Tower 1</h2>"
   ]
  },
  {
   "cell_type": "code",
   "execution_count": null,
   "metadata": {},
   "outputs": [],
   "source": [
    "# missing data\n",
    "df1 = preprocessor.remove_missing_data(datadf=df1, initial_data_size=initial_data_size)\n",
    "\n",
    "# outliers\n",
    "df1_on_condition = (df1[\"Kissam_Tower_1 fanStatus\"] == True)\n",
    "df1 = preprocessor.remove_outliers_std(df1, has_off_data=True, on_condition=df1_on_condition, threshold=5)\n",
    "\n",
    "# add efficiency, season, dayOfWeek and hourOfDay columns\n",
    "preprocessor.create_efficiency_col(datadf=df1, enteringWaterTemp=\"Kissam_Tower_1 enteringWaterTemp\", leavingWaterTemp='Kissam_Tower_1 leavingWaterTemp', outdoorAirWetBulb='Kissam_Tower_1 outdoorAirWetBulb', efficiency_col_name='Kissam_Tower_1 efficiency')\n",
    "preprocessor.create_season_col(datadf=df1, season_col_name=\"Kissam_Tower_1 season\")\n",
    "df1[\"Kissam_Tower_1 dayOfWeek\"] = df1.index.weekday\n",
    "df1['Kissam_Tower_1 hourOfDay'] = df1.index.hour\n",
    "\n",
    "# to streamline the vfdPower columns, since ESB has 2 and kissam has 1 - I will duplicate the column for kissam\n",
    "df1['Kissam_Tower_1 fanA_vfdPower'] = df1['Kissam_Tower_1 fanB_vfdPower'] = df1['Kissam_Tower_1 vfdPower']\n",
    "df1 = df1.drop('Kissam_Tower_1 vfdPower', axis=1)\n",
    "\n",
    "# save tower 1 preprocessed data\n",
    "df1.sort_index(axis=1).to_csv(f'{rootpath}/data/kissam/kissam_tower_1_preprocessed.csv')"
   ]
  },
  {
   "cell_type": "code",
   "execution_count": null,
   "metadata": {},
   "outputs": [],
   "source": [
    "# missing data\n",
    "df1 = preprocessor.remove_missing_data(datadf=df1, initial_data_size=initial_data_size)\n",
    "\n",
    "# outliers\n",
    "df1_on_condition = (df1[\"Kissam_Tower_1 fanStatus\"] == True)\n",
    "df1 = preprocessor.remove_outliers_std(df1, has_off_data=True, on_condition=df1_on_condition, threshold=5)\n",
    "\n",
    "# add efficiency, season, dayOfWeek and hourOfDay columns\n",
    "preprocessor.create_efficiency_col(datadf=df1, enteringWaterTemp=\"Kissam_Tower_1 enteringWaterTemp\", leavingWaterTemp='Kissam_Tower_1 leavingWaterTemp', outdoorAirWetBulb='Kissam_Tower_1 outdoorAirWetBulb', efficiency_col_name='Kissam_Tower_1 efficiency')\n",
    "preprocessor.create_season_col(datadf=df1, season_col_name=\"Kissam_Tower_1 season\")\n",
    "df1[\"Kissam_Tower_1 dayOfWeek\"] = df1.index.weekday\n",
    "df1['Kissam_Tower_1 hourOfDay'] = df1.index.hour\n",
    "\n",
    "# to streamline the vfdPower columns, since ESB has 2 and kissam has 1 - I will duplicate the column for kissam\n",
    "df1['Kissam_Tower_1 fanA_vfdPower'] = df1['Kissam_Tower_1 fanB_vfdPower'] = df1['Kissam_Tower_1 vfdPower']\n",
    "df1 = df1.drop('Kissam_Tower_1 vfdPower', axis=1)\n",
    "\n",
    "# save tower 1 preprocessed data\n",
    "df1.sort_index(axis=1).to_csv(f'{rootpath}/data/kissam/kissam_tower_1_preprocessed.csv')"
   ]
  },
  {
   "attachments": {},
   "cell_type": "markdown",
   "metadata": {},
   "source": [
    "<h2 style=\"color:#27469c\">Replicate for Cooling Tower 2</h2>"
   ]
  },
  {
   "cell_type": "code",
   "execution_count": null,
   "metadata": {},
   "outputs": [],
   "source": [
    "# missing data\n",
    "df2 = preprocessor.remove_missing_data(datadf=df2, initial_data_size=initial_data_size)\n",
    "\n",
    "# outliers\n",
    "df2_on_condition = (df2[\"Kissam_Tower_2 fanStatus\"] == True)\n",
    "df2 = preprocessor.remove_outliers_std(df2, has_off_data=True, on_condition=df2_on_condition, threshold=5)\n",
    "\n",
    "# add efficiency, season, dayOfWeek and hourOfDay columns\n",
    "preprocessor.create_efficiency_col(datadf=df2, enteringWaterTemp=\"Kissam_Tower_2 enteringWaterTemp\", leavingWaterTemp='Kissam_Tower_2 leavingWaterTemp', outdoorAirWetBulb='Kissam_Tower_2 outdoorAirWetBulb', efficiency_col_name='Kissam_Tower_2 efficiency')\n",
    "preprocessor.create_season_col(datadf=df2, season_col_name=\"Kissam_Tower_2 season\")\n",
    "df2[\"Kissam_Tower_2 dayOfWeek\"] = df2.index.weekday\n",
    "df2['Kissam_Tower_2 hourOfDay'] = df2.index.hour\n",
    "\n",
    "# to streamline the vfdPower columns, since ESB has 2 and kissam has 1 - I will duplicate the column for kissam\n",
    "df2['Kissam_Tower_2 fanA_vfdPower'] = df2['Kissam_Tower_2 fanB_vfdPower'] = df2['Kissam_Tower_2 vfdPower']\n",
    "df2 = df2.drop('Kissam_Tower_2 vfdPower', axis=1)\n",
    "\n",
    "# save tower 2 preprocessed data\n",
    "df2.sort_index(axis=1).to_csv(f'{rootpath}/data/kissam/kissam_tower_2_preprocessed.csv')"
   ]
  }
 ],
 "metadata": {
  "kernelspec": {
   "display_name": "python3-8",
   "language": "python",
   "name": "python3"
  },
  "language_info": {
   "codemirror_mode": {
    "name": "ipython",
    "version": 3
   },
   "file_extension": ".py",
   "mimetype": "text/x-python",
   "name": "python",
   "nbconvert_exporter": "python",
   "pygments_lexer": "ipython3",
   "version": "3.8.16"
  },
  "orig_nbformat": 4
 },
 "nbformat": 4,
 "nbformat_minor": 2
}
