{
 "cells": [
  {
   "attachments": {},
   "cell_type": "markdown",
   "metadata": {},
   "source": [
    "<h1 style=\"color:#27469c\">Preprocessing of Kissam Cooling Towers 1 and 2 data</h1>"
   ]
  },
  {
   "cell_type": "code",
   "execution_count": 1,
   "metadata": {},
   "outputs": [],
   "source": [
    "import pandas as pd\n",
    "import matplotlib.pyplot as pyplot\n",
    "import preprocessor\n",
    "\n",
    "import warnings\n",
    "warnings.filterwarnings('ignore')\n",
    "\n",
    "datapath = \"../data\""
   ]
  },
  {
   "cell_type": "code",
   "execution_count": 2,
   "metadata": {},
   "outputs": [],
   "source": [
    "# load cooling towers data\n",
    "df = pd.read_csv(f'{datapath}/kissam/kissam_cooling_towers.csv', index_col=\"time\")\n",
    "df.index = pd.to_datetime(df.index, utc='True')\n",
    "initial_data_size = df.shape[0]"
   ]
  },
  {
   "attachments": {},
   "cell_type": "markdown",
   "metadata": {},
   "source": [
    "<h2 style=\"color:#27469c\">Rename columns and separate the 2 cooling towers' data</h2>"
   ]
  },
  {
   "cell_type": "code",
   "execution_count": 3,
   "metadata": {},
   "outputs": [],
   "source": [
    "renaming = {}\n",
    "for i in [1,2]:\n",
    "    renaming[f\"CT_{i}.TempCondIn\"] = f\"Kissam_Tower_{i} enteringWaterTemp\"\n",
    "    renaming[f\"CT_{i}.TempCondOut\"] = f\"Kissam_Tower_{i} leavingWaterTemp\"\n",
    "    renaming[f\"CT_{i}.PerFreqFan\"] = f\"Kissam_Tower_{i} vfdPercent\"\n",
    "    renaming[f\"CT_{i}.PowFan\"] = f\"Kissam_Tower_{i} vfdPower\"\n",
    "    renaming[f\"CT_{i}.StatusFan\"] = f\"Kissam_Tower_{i} fanStatus\"\n",
    "    renaming[f\"CT_{i}.FlowCond\"] = f\"Kissam_Tower_{i} flowCond\"\n",
    "    renaming[f\"CT_{i}.PerFreqConP\"] = f\"Kissam_Tower_{i} perFreqConP\"\n",
    "    renaming[f\"CT_{i}.PowConP\"] = f\"Kissam_Tower_{i} powConP\"\n",
    "    renaming[f\"CT_{i}.PressDiffCond\"] = f\"Kissam_Tower_{i} pressDiffCond\"\n",
    "    renaming[f\"CH_{i}.PowChi\"] = f\"Kissam_Tower_{i} CH_PowChi\"\n",
    "    renaming[f\"CH_{i}.Tonnage\"] = f\"Kissam_Tower_{i} CH_Tonnage\"\n",
    "renaming[\"TempWetBulb\"] = \"outdoorAirWetBulb\"\n",
    "renaming[\"TempAmbient\"] = \"outdoorAirDryBulb\"\n",
    "\n",
    "df.rename(renaming, inplace=True, axis=1)\n",
    "\n",
    "# remove generated columns\n",
    "df = df[[col for col in df.columns if \"generated\" not in col]]\n",
    "\n",
    "# split dataframes\n",
    "df1 = df[[col for col in df.columns if \"2\" not in col]] # cooling tower 1 data\n",
    "df2 = df[[col for col in df.columns if \"1\" not in col]] # cooling tower 2 data"
   ]
  },
  {
   "attachments": {},
   "cell_type": "markdown",
   "metadata": {},
   "source": [
    "<h2 style=\"color:#27469c\">Cooling Tower 1</h2>"
   ]
  },
  {
   "cell_type": "code",
   "execution_count": 4,
   "metadata": {},
   "outputs": [
    {
     "name": "stdout",
     "output_type": "stream",
     "text": [
      "Tower 1:\n",
      "After missing data removal, we are left with us with 102524 rows out of 104976.\n",
      "Kissam_Tower_1 enteringWaterTemp has 0 outliers\n",
      "Kissam_Tower_1 leavingWaterTemp has 0 outliers\n",
      "outdoorAirDryBulb has 66 outliers\n",
      "outdoorAirWetBulb has 17 outliers\n",
      "Setpoint_Existing has 0 outliers\n",
      "Kissam_Tower_1 vfdPercent has 0 outliers\n",
      "Kissam_Tower_1 vfdPower has 1 outliers\n",
      "Kissam_Tower_1 CH_PowChi has 1 outliers\n",
      "Kissam_Tower_1 perFreqConP has 0 outliers\n",
      "Kissam_Tower_1 powConP has 0 outliers\n",
      "Setpoint_Python has 0 outliers\n",
      "Kissam_Tower_1 CH_Tonnage has 0 outliers\n",
      "Outier removal removed 85 rows (0.0829074167999688% of data) with outliers. Now left with 102439 rows.\n"
     ]
    }
   ],
   "source": [
    "# missing data\n",
    "print(\"Tower 1:\")\n",
    "df1 = preprocessor.remove_missing_data(datadf=df1, initial_data_size=initial_data_size)\n",
    "\n",
    "# outliers\n",
    "df1_on_condition = (df1[\"Kissam_Tower_1 fanStatus\"] == True)\n",
    "df1 = preprocessor.remove_outliers_std(df1, has_off_data=True, on_condition=df1_on_condition, threshold=5)\n",
    "\n",
    "# add efficiency and season columns\n",
    "preprocessor.create_efficiency_col(datadf=df1, enteringWaterTemp=\"Kissam_Tower_1 enteringWaterTemp\", leavingWaterTemp='Kissam_Tower_1 leavingWaterTemp', outdoorAirWetBulb='outdoorAirWetBulb', efficiency_col_name='Kissam_Tower_1 efficiency')\n",
    "preprocessor.create_season_col(datadf=df1, season_col_name=\"Kissam_Tower_1 season\")\n",
    "\n",
    "# to streamline the vfdPower columns, since ESB has 2 and kissam has 1 - I will duplicate the column for kissam\n",
    "df1['Kissam_Tower_1a vfdPower'] = df1['Kissam_Tower_1b vfdPower'] = df1['Kissam_Tower_1 vfdPower']\n",
    "df1 = df1.drop('Kissam_Tower_1 vfdPower', axis=1)\n",
    "\n",
    "# save tower 1 preprocessed data\n",
    "df1.to_csv(f'{datapath}/kissam/kissam_tower_1_preprocessed.csv')"
   ]
  },
  {
   "attachments": {},
   "cell_type": "markdown",
   "metadata": {},
   "source": [
    "<h2 style=\"color:#27469c\">Replicate for Cooling Tower 2</h2>"
   ]
  },
  {
   "cell_type": "code",
   "execution_count": 5,
   "metadata": {},
   "outputs": [
    {
     "name": "stdout",
     "output_type": "stream",
     "text": [
      "Tower 2:\n",
      "After missing data removal, we are left with us with 102525 rows out of 104976.\n",
      "outdoorAirDryBulb has 66 outliers\n",
      "outdoorAirWetBulb has 17 outliers\n",
      "Setpoint_Existing has 0 outliers\n",
      "Kissam_Tower_2 enteringWaterTemp has 0 outliers\n",
      "Kissam_Tower_2 leavingWaterTemp has 0 outliers\n",
      "Kissam_Tower_2 vfdPercent has 0 outliers\n",
      "Kissam_Tower_2 vfdPower has 1 outliers\n",
      "Kissam_Tower_2 CH_PowChi has 0 outliers\n",
      "Kissam_Tower_2 perFreqConP has 0 outliers\n",
      "Kissam_Tower_2 powConP has 9 outliers\n",
      "Setpoint_Python has 0 outliers\n",
      "Kissam_Tower_2 CH_Tonnage has 0 outliers\n",
      "Outier removal removed 93 rows (0.09070958302852962% of data) with outliers. Now left with 102432 rows.\n"
     ]
    }
   ],
   "source": [
    "# missing data\n",
    "print(\"Tower 2:\")\n",
    "df2 = preprocessor.remove_missing_data(datadf=df2, initial_data_size=initial_data_size)\n",
    "\n",
    "# outliers\n",
    "df2_on_condition = (df2[\"Kissam_Tower_2 fanStatus\"] == True)\n",
    "df2 = preprocessor.remove_outliers_std(df2, has_off_data=True, on_condition=df2_on_condition, threshold=5)\n",
    "\n",
    "# add efficiency and season columns\n",
    "preprocessor.create_efficiency_col(datadf=df2, enteringWaterTemp=\"Kissam_Tower_2 enteringWaterTemp\", leavingWaterTemp='Kissam_Tower_2 leavingWaterTemp', outdoorAirWetBulb='outdoorAirWetBulb', efficiency_col_name='Kissam_Tower_2 efficiency')\n",
    "preprocessor.create_season_col(datadf=df2, season_col_name=\"Kissam_Tower_2 season\")\n",
    "\n",
    "# to streamline the vfdPower columns, since ESB has 2 and kissam has 1 - I will duplicate the column for kissam\n",
    "df2['Kissam_Tower_2a vfdPower'] = df2['Kissam_Tower_2b vfdPower'] = df2['Kissam_Tower_2 vfdPower']\n",
    "df2 = df2.drop('Kissam_Tower_2 vfdPower', axis=1)\n",
    "\n",
    "# save tower 2 preprocessed data\n",
    "df2.to_csv(f'{datapath}/kissam/kissam_tower_2_preprocessed.csv')"
   ]
  }
 ],
 "metadata": {
  "kernelspec": {
   "display_name": "python3-8",
   "language": "python",
   "name": "python3"
  },
  "language_info": {
   "codemirror_mode": {
    "name": "ipython",
    "version": 3
   },
   "file_extension": ".py",
   "mimetype": "text/x-python",
   "name": "python",
   "nbconvert_exporter": "python",
   "pygments_lexer": "ipython3",
   "version": "3.8.16"
  },
  "orig_nbformat": 4
 },
 "nbformat": 4,
 "nbformat_minor": 2
}
