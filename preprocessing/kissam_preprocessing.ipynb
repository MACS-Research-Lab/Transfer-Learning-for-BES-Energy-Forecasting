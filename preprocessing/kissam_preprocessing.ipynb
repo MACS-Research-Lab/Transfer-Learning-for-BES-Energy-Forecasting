{
 "cells": [
  {
   "attachments": {},
   "cell_type": "markdown",
   "metadata": {},
   "source": [
    "# Preprocessing of Kissam Cooling Towers 1 and 2 data"
   ]
  },
  {
   "cell_type": "code",
   "execution_count": 1,
   "metadata": {},
   "outputs": [],
   "source": [
    "import pandas as pd\n",
    "import matplotlib.pyplot as pyplot\n",
    "from preprocessor import remove_outliers_std\n",
    "\n",
    "import warnings\n",
    "warnings.filterwarnings('ignore')\n",
    "\n",
    "datapath = \"../data\""
   ]
  },
  {
   "cell_type": "code",
   "execution_count": 2,
   "metadata": {},
   "outputs": [],
   "source": [
    "# load cooling towers data\n",
    "df = pd.read_csv(f'{datapath}/kissam/kissam_cooling_towers.csv', index_col=\"time\")\n",
    "df.index = pd.to_datetime(df.index, utc='True')"
   ]
  },
  {
   "cell_type": "code",
   "execution_count": 3,
   "metadata": {},
   "outputs": [
    {
     "data": {
      "text/plain": [
       "Index(['CT_1.TempCondIn', 'generated', 'CT_1.TempCondOut', 'generated.1',\n",
       "       'TempAmbient', 'generated.2', 'TempWetBulb', 'generated.3',\n",
       "       'Setpoint_Existing', 'generated.4', 'CT_1.PerFreqFan', 'generated.5',\n",
       "       'CT_1.PowFan', 'generated.6', 'CT_1.StatusFan', 'generated.7',\n",
       "       'CT_2.TempCondIn', 'generated.8', 'CT_2.TempCondOut', 'generated.9',\n",
       "       'CT_2.PerFreqFan', 'generated.10', 'CT_2.PowFan', 'generated.11',\n",
       "       'CT_2.StatusFan', 'generated.12', 'CH_1.PowChi', 'generated.13',\n",
       "       'generated.14', 'CT_1.FlowCond', 'CT_1.PerFreqConP', 'generated.15',\n",
       "       'CT_1.PowConP', 'generated.16', 'generated.17', 'CT_1.PressDiffCond',\n",
       "       'CH_2.PowChi', 'generated.18', 'generated.19', 'CT_2.FlowCond',\n",
       "       'CT_2.PerFreqConP', 'generated.20', 'CT_2.PowConP', 'generated.21',\n",
       "       'generated.22', 'CT_2.PressDiffCond', 'Setpoint_Python', 'generated.23',\n",
       "       'CH_2.Tonnage', 'generated.24', 'CH_1.Tonnage', 'generated.25'],\n",
       "      dtype='object')"
      ]
     },
     "execution_count": 3,
     "metadata": {},
     "output_type": "execute_result"
    }
   ],
   "source": [
    "df.columns"
   ]
  },
  {
   "attachments": {},
   "cell_type": "markdown",
   "metadata": {},
   "source": [
    "### Remove rows of data in which both cooling towers were off"
   ]
  },
  {
   "cell_type": "code",
   "execution_count": 4,
   "metadata": {},
   "outputs": [],
   "source": [
    "# Number of rows in which neither cooling towers was on - 2078\n",
    "# Remove these rows\n",
    "df = df[df['CT_1.StatusFan'] | df['CT_2.StatusFan']]"
   ]
  },
  {
   "attachments": {},
   "cell_type": "markdown",
   "metadata": {},
   "source": [
    "This leaves us with 6723 rows out of 8807."
   ]
  },
  {
   "attachments": {},
   "cell_type": "markdown",
   "metadata": {},
   "source": [
    "### Missing data"
   ]
  },
  {
   "cell_type": "code",
   "execution_count": 5,
   "metadata": {},
   "outputs": [
    {
     "data": {
      "text/plain": [
       "CT_1.TempCondIn        948\n",
       "generated            72402\n",
       "CT_1.TempCondOut       948\n",
       "generated.1          72402\n",
       "TempAmbient            948\n",
       "generated.2          72402\n",
       "TempWetBulb            948\n",
       "generated.3          72402\n",
       "Setpoint_Existing      948\n",
       "generated.4          72402\n",
       "CT_1.PerFreqFan        948\n",
       "generated.5          72402\n",
       "CT_1.PowFan           1120\n",
       "generated.6          72402\n",
       "CT_1.StatusFan           0\n",
       "generated.7          72402\n",
       "CT_2.TempCondIn        948\n",
       "generated.8          72402\n",
       "CT_2.TempCondOut       948\n",
       "generated.9          72402\n",
       "CT_2.PerFreqFan        948\n",
       "generated.10         72402\n",
       "CT_2.PowFan           1120\n",
       "generated.11         72402\n",
       "CT_2.StatusFan           0\n",
       "generated.12         72402\n",
       "CH_1.PowChi            948\n",
       "generated.13         73044\n",
       "generated.14         72402\n",
       "CT_1.PerFreqConP       948\n",
       "generated.15         72402\n",
       "CT_1.PowConP          1120\n",
       "generated.16         72402\n",
       "generated.17         72402\n",
       "CH_2.PowChi            948\n",
       "generated.18         73044\n",
       "generated.19         72402\n",
       "CT_2.PerFreqConP       948\n",
       "generated.20         72402\n",
       "CT_2.PowConP          1120\n",
       "generated.21         72402\n",
       "generated.22         72402\n",
       "Setpoint_Python        948\n",
       "generated.23         72402\n",
       "CH_2.Tonnage           993\n",
       "generated.24         72357\n",
       "CH_1.Tonnage           994\n",
       "generated.25         72356\n",
       "dtype: int64"
      ]
     },
     "execution_count": 5,
     "metadata": {},
     "output_type": "execute_result"
    }
   ],
   "source": [
    "# remove all columns that are completely empty\n",
    "df.dropna(axis=1, how=\"all\", inplace=True)\n",
    "\n",
    "# check how many rows in each column are empty\n",
    "df.isna().sum()"
   ]
  },
  {
   "cell_type": "code",
   "execution_count": 6,
   "metadata": {},
   "outputs": [
    {
     "data": {
      "text/plain": [
       "CT_1.TempCondIn        948\n",
       "generated            72402\n",
       "CT_1.TempCondOut       948\n",
       "generated.1          72402\n",
       "TempAmbient            948\n",
       "generated.2          72402\n",
       "TempWetBulb            948\n",
       "generated.3          72402\n",
       "Setpoint_Existing      948\n",
       "generated.4          72402\n",
       "CT_1.PerFreqFan        948\n",
       "generated.5          72402\n",
       "CT_1.PowFan           1120\n",
       "generated.6          72402\n",
       "CT_1.StatusFan           0\n",
       "generated.7          72402\n",
       "CT_2.TempCondIn        948\n",
       "generated.8          72402\n",
       "CT_2.TempCondOut       948\n",
       "generated.9          72402\n",
       "CT_2.PerFreqFan        948\n",
       "generated.10         72402\n",
       "CT_2.PowFan           1120\n",
       "generated.11         72402\n",
       "CT_2.StatusFan           0\n",
       "generated.12         72402\n",
       "CH_1.PowChi            948\n",
       "generated.13         73044\n",
       "generated.14         72402\n",
       "CT_1.PerFreqConP       948\n",
       "generated.15         72402\n",
       "CT_1.PowConP          1120\n",
       "generated.16         72402\n",
       "generated.17         72402\n",
       "CH_2.PowChi            948\n",
       "generated.18         73044\n",
       "generated.19         72402\n",
       "CT_2.PerFreqConP       948\n",
       "generated.20         72402\n",
       "CT_2.PowConP          1120\n",
       "generated.21         72402\n",
       "generated.22         72402\n",
       "Setpoint_Python        948\n",
       "generated.23         72402\n",
       "generated.24         72357\n",
       "generated.25         72356\n",
       "dtype: int64"
      ]
     },
     "execution_count": 6,
     "metadata": {},
     "output_type": "execute_result"
    }
   ],
   "source": [
    "df.drop(['CH_1.Tonnage', 'CH_2.Tonnage'], axis=1, inplace=True)\n",
    "df.isna().sum()"
   ]
  },
  {
   "cell_type": "code",
   "execution_count": 7,
   "metadata": {},
   "outputs": [],
   "source": [
    "# only 2 rows are empty so drop them\n",
    "df = df.dropna()"
   ]
  },
  {
   "attachments": {},
   "cell_type": "markdown",
   "metadata": {},
   "source": [
    "This leaves us with 6107 rows out of 8807."
   ]
  },
  {
   "attachments": {},
   "cell_type": "markdown",
   "metadata": {},
   "source": [
    "### Outliers"
   ]
  },
  {
   "cell_type": "code",
   "execution_count": 8,
   "metadata": {},
   "outputs": [
    {
     "ename": "TypeError",
     "evalue": "remove_outliers_std() missing 1 required positional argument: 'has_off_data'",
     "output_type": "error",
     "traceback": [
      "\u001b[0;31m---------------------------------------------------------------------------\u001b[0m",
      "\u001b[0;31mTypeError\u001b[0m                                 Traceback (most recent call last)",
      "Cell \u001b[0;32mIn[8], line 1\u001b[0m\n\u001b[0;32m----> 1\u001b[0m df \u001b[39m=\u001b[39m remove_outliers_std(df)\n",
      "\u001b[0;31mTypeError\u001b[0m: remove_outliers_std() missing 1 required positional argument: 'has_off_data'"
     ]
    }
   ],
   "source": [
    "df = remove_outliers_std(df)"
   ]
  },
  {
   "attachments": {},
   "cell_type": "markdown",
   "metadata": {},
   "source": [
    "This leaves us with 5826 rows out of 8807."
   ]
  },
  {
   "cell_type": "code",
   "execution_count": null,
   "metadata": {},
   "outputs": [],
   "source": [
    "# save as combined towers data\n",
    "df.to_csv(f'{datapath}/kissam/kissam_preprocessed.csv')"
   ]
  }
 ],
 "metadata": {
  "kernelspec": {
   "display_name": "python3-8",
   "language": "python",
   "name": "python3"
  },
  "language_info": {
   "codemirror_mode": {
    "name": "ipython",
    "version": 3
   },
   "file_extension": ".py",
   "mimetype": "text/x-python",
   "name": "python",
   "nbconvert_exporter": "python",
   "pygments_lexer": "ipython3",
   "version": "3.8.15"
  },
  "orig_nbformat": 4
 },
 "nbformat": 4,
 "nbformat_minor": 2
}
