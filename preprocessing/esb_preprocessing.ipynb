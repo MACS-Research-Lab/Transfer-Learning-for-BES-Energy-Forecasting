{
 "cells": [
  {
   "attachments": {},
   "cell_type": "markdown",
   "metadata": {},
   "source": [
    "<h1 style=\"color:#27469c\"> Preprocessing of ESB Cooling Towers 1 and 2 data </h1>\n",
    "\n",
    "\n",
    "<h1 style=\"color:#27469c\">ESB Cooling Tower 1</h1>"
   ]
  },
  {
   "cell_type": "code",
   "execution_count": null,
   "metadata": {},
   "outputs": [],
   "source": [
    "import pandas as pd\n",
    "import matplotlib.pyplot as plt\n",
    "from sklearn import neighbors\n",
    "from mlxtend import plotting\n",
    "import preprocessor\n",
    "\n",
    "import warnings\n",
    "warnings.filterwarnings('ignore')\n",
    "\n",
    "rootpath = \"..\""
   ]
  },
  {
   "cell_type": "code",
   "execution_count": null,
   "metadata": {},
   "outputs": [],
   "source": [
    "# load cooling tower data\n",
    "df = pd.read_csv(f'{rootpath}/data/esb/esb_cooling_tower_1.csv', index_col='time')\n",
    "df.index = pd.to_datetime(df.index, utc='True')\n",
    "\n",
    "initial_data_size = df.shape[0]"
   ]
  },
  {
   "attachments": {},
   "cell_type": "markdown",
   "metadata": {},
   "source": [
    "<h3 style=\"color:#27469c\">Missing data removal</h3>"
   ]
  },
  {
   "cell_type": "code",
   "execution_count": null,
   "metadata": {},
   "outputs": [],
   "source": [
    "df = preprocessor.remove_missing_data(datadf=df, initial_data_size=initial_data_size, threshold=0.1)"
   ]
  },
  {
   "cell_type": "code",
   "execution_count": null,
   "metadata": {},
   "outputs": [],
   "source": [
    "# also consider 0 temperatures of water as missing data\n",
    "df = df[~(df['ESB_Tower_1 enteringWaterTemp']==0)]\n",
    "df = df[~(df['ESB_Tower_1 leavingWaterTemp']==0)]\n",
    "print(f\"After missing data removal, we are left with us with {df.shape[0]} rows out of {initial_data_size}.\")"
   ]
  },
  {
   "attachments": {},
   "cell_type": "markdown",
   "metadata": {},
   "source": [
    "<h3 style=\"color:#27469c\">Condensing and renaming columns</h3>"
   ]
  },
  {
   "cell_type": "code",
   "execution_count": null,
   "metadata": {},
   "outputs": [],
   "source": [
    "print(f\"Cell_1aFan vfdPercent != Cell_1bFan vfdPercent in {df[~(df['Cell_1aFan vfdPercent'] == df['Cell_1bFan vfdPercent'])].shape[0]} cases.\")\n",
    "\n",
    "# since the vfdPercent columns have identical values, replace them with a single column\n",
    "df[\"ESB_Tower_1 vfdPercent\"] = df[\"Cell_1aFan vfdPercent\"]\n",
    "\n",
    "# using fan status as an indicator of the cooling tower being on or off\n",
    "df[\"ESB_Tower_1 fanStatus\"] = df[\"Cell_1bFan fanStatus\"] | df[\"Cell_1aFan fanStatus\"]\n",
    "\n",
    "df = df.drop([\"Cell_1aFan vfdPercent\", \"Cell_1bFan vfdPercent\", \"Cell_1aFan fanStatus\", \"Cell_1bFan fanStatus\", \"Cell_1aFan fanOnOff\", \"Cell_1bFan fanOnOff\"], axis=1)\n",
    "df.rename(columns={\"Cell_1aFan vfdPower\" : \"ESB_Tower_1 fanA_vfdPower\", \"Cell_1bFan vfdPower\" : \"ESB_Tower_1 fanB_vfdPower\"}, inplace=True)"
   ]
  },
  {
   "attachments": {},
   "cell_type": "markdown",
   "metadata": {},
   "source": [
    "<h3 style=\"color:#27469c\">Convert to SI Units</h3>\n",
    "This may not be required for the transfer learning problem unless I'm doing data imputation (which I haven't needed to do yet.)\n",
    "\n",
    "If needed, follow this code:\n",
    "\n",
    "```\n",
    "from bdx import apply_heuristics\n",
    "\n",
    "df, left = apply_heuristics(df)\n",
    "print('The following fields did not match and were not converted to SI units:', left)\n",
    "```\n"
   ]
  },
  {
   "attachments": {},
   "cell_type": "markdown",
   "metadata": {},
   "source": [
    "<h3 style=\"color:#27469c\">Add efficiency and season columns + additional features</h3>"
   ]
  },
  {
   "cell_type": "code",
   "execution_count": null,
   "metadata": {},
   "outputs": [],
   "source": [
    "preprocessor.create_efficiency_col(datadf=df, enteringWaterTemp=\"ESB_Tower_1 enteringWaterTemp\", leavingWaterTemp='ESB_Tower_1 leavingWaterTemp', outdoorAirWetBulb='ESB_Tower_1 outdoorAirWetBulb', efficiency_col_name='ESB_Tower_1 efficiency')\n",
    "\n",
    "preprocessor.create_season_col(datadf=df, season_col_name=\"ESB_Tower_1 season\")\n",
    "\n",
    "df[\"ESB_Tower_1 dayOfWeek\"] = df.index.weekday\n",
    "\n",
    "df['ESB_Tower_1 hourOfDay'] = df.index.hour"
   ]
  },
  {
   "attachments": {},
   "cell_type": "markdown",
   "metadata": {},
   "source": [
    "<h3 style=\"color:#27469c\">Outliers</h3>"
   ]
  },
  {
   "cell_type": "code",
   "execution_count": null,
   "metadata": {},
   "outputs": [],
   "source": [
    "df = preprocessor.remove_outliers_std(df, threshold=5, has_off_data=True, on_condition=df['ESB_Tower_1 fanStatus'], verbose=True)"
   ]
  },
  {
   "cell_type": "code",
   "execution_count": null,
   "metadata": {},
   "outputs": [],
   "source": [
    "# save preprocessed tower 1 data\n",
    "df.sort_index(axis=1).to_csv(f'{rootpath}/data/esb/esb_tower_1_preprocessed.csv')"
   ]
  },
  {
   "attachments": {},
   "cell_type": "markdown",
   "metadata": {},
   "source": [
    "<h1 style=\"color:#27469c\">ESB Cooling Tower 2</h1>\n",
    "\n",
    "Replicate the same steps as for cooling tower 1"
   ]
  },
  {
   "cell_type": "code",
   "execution_count": null,
   "metadata": {},
   "outputs": [],
   "source": [
    "# load cooling tower 2 data\n",
    "df = pd.read_csv(f'{rootpath}/data/esb/esb_cooling_tower_2.csv', index_col='time')\n",
    "df.index = pd.to_datetime(df.index, utc='True')\n",
    "\n",
    "initial_data_size = df.shape[0]\n",
    "\n",
    "# missing data removal\n",
    "df = preprocessor.remove_missing_data(datadf=df, initial_data_size=initial_data_size, threshold=0.1)\n",
    "\n",
    "# column renaming\n",
    "print(f\"Cell_2aFan vfdPercent != Cell_2bFan vfdPercent in {df[~(df['Cell_2aFan vfdPercent'] == df['Cell_2bFan vfdPercent'])].shape[0]} cases.\")\n",
    "# ESB Tower 2 has 3 cases in which Cell_2aFan and Cell_2bFan have different values but this can be ignored\n",
    "df[\"ESB_Tower_2 vfdPercent\"] = df[\"Cell_2aFan vfdPercent\"]\n",
    "df[\"ESB_Tower_2 fanStatus\"] = df[\"Cell_2bFan fanStatus\"] | df[\"Cell_2aFan fanStatus\"]\n",
    "df = df.drop([\"Cell_2aFan vfdPercent\", \"Cell_2bFan vfdPercent\", \"Cell_2aFan fanStatus\", \"Cell_2bFan fanStatus\", \"Cell_2aFan fanOnOff\", \"Cell_2bFan fanOnOff\"], axis=1)\n",
    "df.rename(columns={\"Cell_2aFan vfdPower\" : \"ESB_Tower_2 fanA_vfdPower\", \"Cell_2bFan vfdPower\" : \"ESB_Tower_2 fanB_vfdPower\"}, inplace=True)\n",
    "\n",
    "# consider 0 temperatures of water as missing data\n",
    "df = df[~(df['ESB_Tower_2 enteringWaterTemp']==0)]\n",
    "df = df[~(df['ESB_Tower_2 leavingWaterTemp']==0)]\n",
    "print(f\"After missing data removal, we are left with us with {df.shape[0]} rows out of {initial_data_size}.\")\n",
    "\n",
    "# add efficiency, season, dayOfWeek and hourOfDay columns\n",
    "preprocessor.create_efficiency_col(datadf=df, enteringWaterTemp=\"ESB_Tower_2 enteringWaterTemp\", leavingWaterTemp='ESB_Tower_2 leavingWaterTemp', outdoorAirWetBulb='ESB_Tower_2 outdoorAirWetBulb', efficiency_col_name='ESB_Tower_2 efficiency')\n",
    "preprocessor.create_season_col(datadf=df, season_col_name=\"ESB_Tower_2 season\")\n",
    "df[\"ESB_Tower_2 dayOfWeek\"] = df.index.weekday\n",
    "df['ESB_Tower_2 hourOfDay'] = df.index.hour\n",
    "\n",
    "# outlier removal\n",
    "df = preprocessor.remove_outliers_std(df, threshold=5, has_off_data=True, on_condition=df['ESB_Tower_2 fanStatus'], verbose=True)\n",
    "\n",
    "# save preprocessed tower 2 data\n",
    "df.sort_index(axis=1).to_csv(f'{rootpath}/data/esb/esb_tower_2_preprocessed.csv')"
   ]
  }
 ],
 "metadata": {
  "kernelspec": {
   "display_name": "python3-8",
   "language": "python",
   "name": "python3"
  },
  "language_info": {
   "codemirror_mode": {
    "name": "ipython",
    "version": 3
   },
   "file_extension": ".py",
   "mimetype": "text/x-python",
   "name": "python",
   "nbconvert_exporter": "python",
   "pygments_lexer": "ipython3",
   "version": "3.8.16"
  },
  "orig_nbformat": 4
 },
 "nbformat": 4,
 "nbformat_minor": 2
}
