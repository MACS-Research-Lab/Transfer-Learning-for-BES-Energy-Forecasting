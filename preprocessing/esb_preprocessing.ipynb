{
 "cells": [
  {
   "attachments": {},
   "cell_type": "markdown",
   "metadata": {},
   "source": [
    "<h1 style=\"color:#27469c\"> Preprocessing of ESB Cooling Towers 1 and 2 data </h1>\n",
    "\n",
    "\n",
    "<h1 style=\"color:#27469c\">ESB Cooling Tower 1</h1>"
   ]
  },
  {
   "cell_type": "code",
   "execution_count": 1,
   "metadata": {},
   "outputs": [],
   "source": [
    "import pandas as pd\n",
    "import matplotlib.pyplot as plt\n",
    "from sklearn import neighbors\n",
    "from mlxtend import plotting\n",
    "import preprocessor\n",
    "\n",
    "import warnings\n",
    "warnings.filterwarnings('ignore')\n",
    "\n",
    "datapath = \"../data\""
   ]
  },
  {
   "cell_type": "code",
   "execution_count": 2,
   "metadata": {},
   "outputs": [],
   "source": [
    "# load cooling tower data\n",
    "df = pd.read_csv(f'{datapath}/esb/esb_cooling_tower_1.csv', index_col='time')\n",
    "df.index = pd.to_datetime(df.index, utc='True')\n",
    "\n",
    "initial_data_size = df.shape[0]"
   ]
  },
  {
   "attachments": {},
   "cell_type": "markdown",
   "metadata": {},
   "source": [
    "<h3 style=\"color:#27469c\">Missing data removal</h3>"
   ]
  },
  {
   "cell_type": "code",
   "execution_count": 3,
   "metadata": {},
   "outputs": [
    {
     "name": "stdout",
     "output_type": "stream",
     "text": [
      "After missing data removal, we are left with us with 104028 rows out of 104976.\n"
     ]
    }
   ],
   "source": [
    "df = preprocessor.remove_missing_data(datadf=df, initial_data_size=initial_data_size, threshold=0.1)"
   ]
  },
  {
   "cell_type": "code",
   "execution_count": 4,
   "metadata": {},
   "outputs": [
    {
     "data": {
      "text/plain": [
       "Index(['Cell_1bFan fanOnOff', 'Cell_1bFan fanStatus', 'Cell_1bFan vfdPercent',\n",
       "       'Cell_1bFan vfdPower', 'Cell_1aFan fanOnOff', 'Cell_1aFan fanStatus',\n",
       "       'Cell_1aFan vfdPercent', 'Cell_1aFan vfdPower',\n",
       "       'ESB_Tower_1 bypassValveOpenClose', 'ESB_Tower_1 coolingTowerEnable',\n",
       "       'ESB_Tower_1 enteringWaterTemp', 'ESB_Tower_1 leavingWaterTemp',\n",
       "       'ESB_Tower_1 outdoorAirDryBulb', 'ESB_Tower_1 outdoorAirHumidity',\n",
       "       'ESB_Tower_1 outdoorAirWetBulb'],\n",
       "      dtype='object')"
      ]
     },
     "execution_count": 4,
     "metadata": {},
     "output_type": "execute_result"
    }
   ],
   "source": [
    "df.columns"
   ]
  },
  {
   "attachments": {},
   "cell_type": "markdown",
   "metadata": {},
   "source": [
    "<h3 style=\"color:#27469c\">Convert to SI Units</h3>\n",
    "This may not be required for the transfer learning problem unless I'm doing data imputation (which I haven't needed to do yet.)\n",
    "\n",
    "If needed, follow this code:\n",
    "\n",
    "```\n",
    "from bdx import apply_heuristics\n",
    "\n",
    "df, left = apply_heuristics(df)\n",
    "print('The following fields did not match and were not converted to SI units:', left)\n",
    "```\n"
   ]
  },
  {
   "attachments": {},
   "cell_type": "markdown",
   "metadata": {},
   "source": [
    "<h3 style=\"color:#27469c\">Outliers</h3>"
   ]
  },
  {
   "cell_type": "code",
   "execution_count": 5,
   "metadata": {},
   "outputs": [
    {
     "name": "stdout",
     "output_type": "stream",
     "text": [
      "Cell_1bFan vfdPercent has 0 outliers\n",
      "Cell_1bFan vfdPower has 0 outliers\n",
      "Cell_1aFan vfdPercent has 0 outliers\n",
      "Cell_1aFan vfdPower has 0 outliers\n",
      "ESB_Tower_1 enteringWaterTemp has 0 outliers\n",
      "ESB_Tower_1 leavingWaterTemp has 0 outliers\n",
      "ESB_Tower_1 outdoorAirDryBulb has 10 outliers\n",
      "ESB_Tower_1 outdoorAirHumidity has 0 outliers\n",
      "ESB_Tower_1 outdoorAirWetBulb has 36 outliers\n",
      "Outier removal removed 46 rows (0.04421886415195909% of data) with outliers. Now left with 103982 rows.\n"
     ]
    }
   ],
   "source": [
    "df = preprocessor.remove_outliers_std(df, threshold=5, has_off_data=True, on_condition=df['Cell_1aFan fanOnOff'] | df['Cell_1bFan fanOnOff'])"
   ]
  },
  {
   "attachments": {},
   "cell_type": "markdown",
   "metadata": {},
   "source": [
    "<h3 style=\"color:#27469c\">Add efficiency and season columns</h3>"
   ]
  },
  {
   "cell_type": "code",
   "execution_count": 6,
   "metadata": {},
   "outputs": [],
   "source": [
    "preprocessor.create_efficiency_col(datadf=df, enteringWaterTemp=\"ESB_Tower_1 enteringWaterTemp\", leavingWaterTemp='ESB_Tower_1 leavingWaterTemp', outdoorAirWetBulb='ESB_Tower_1 outdoorAirWetBulb', efficiency_col_name='ESB_Tower_1 efficiency')\n",
    "\n",
    "preprocessor.create_season_col(datadf=df, season_col_name=\"ESB_Tower_1 season\")"
   ]
  },
  {
   "cell_type": "code",
   "execution_count": 7,
   "metadata": {},
   "outputs": [],
   "source": [
    "# save preprocessed tower 1 data\n",
    "df.to_csv(f'{datapath}/esb/esb_tower_1_preprocessed.csv')"
   ]
  },
  {
   "attachments": {},
   "cell_type": "markdown",
   "metadata": {},
   "source": [
    "<h1 style=\"color:#27469c\">ESB Cooling Tower 2</h1>\n",
    "\n",
    "Replicate the same steps as for cooling tower 1"
   ]
  },
  {
   "cell_type": "code",
   "execution_count": 8,
   "metadata": {},
   "outputs": [
    {
     "name": "stdout",
     "output_type": "stream",
     "text": [
      "After missing data removal, we are left with us with 104028 rows out of 104976.\n",
      "Cell_2bFan vfdPercent has 0 outliers\n",
      "Cell_2bFan vfdPower has 0 outliers\n",
      "Cell_2aFan vfdPercent has 0 outliers\n",
      "Cell_2aFan vfdPower has 0 outliers\n",
      "ESB_Tower_2 enteringWaterTemp has 0 outliers\n",
      "ESB_Tower_2 leavingWaterTemp has 0 outliers\n",
      "ESB_Tower_2 outdoorAirDryBulb has 10 outliers\n",
      "ESB_Tower_2 outdoorAirHumidity has 0 outliers\n",
      "ESB_Tower_2 outdoorAirWetBulb has 36 outliers\n",
      "Outier removal removed 46 rows (0.04421886415195909% of data) with outliers. Now left with 103982 rows.\n"
     ]
    }
   ],
   "source": [
    "# load cooling tower 2 data\n",
    "df = pd.read_csv(f'{datapath}/esb/esb_cooling_tower_2.csv', index_col='time')\n",
    "df.index = pd.to_datetime(df.index, utc='True')\n",
    "\n",
    "initial_data_size = df.shape[0]\n",
    "\n",
    "# missing data removal\n",
    "df = preprocessor.remove_missing_data(datadf=df, initial_data_size=initial_data_size, threshold=0.1)\n",
    "\n",
    "# outlier removal\n",
    "df = preprocessor.remove_outliers_std(df, threshold=5, has_off_data=True, on_condition=df['Cell_2aFan fanOnOff'] | df['Cell_2bFan fanOnOff'])\n",
    "\n",
    "# add efficiency and season column\n",
    "preprocessor.create_efficiency_col(datadf=df, enteringWaterTemp=\"ESB_Tower_2 enteringWaterTemp\", leavingWaterTemp='ESB_Tower_2 leavingWaterTemp', outdoorAirWetBulb='ESB_Tower_2 outdoorAirWetBulb', efficiency_col_name='ESB_Tower_2 efficiency')\n",
    "preprocessor.create_season_col(datadf=df, season_col_name=\"ESB_Tower_2 season\")\n",
    "\n",
    "# save preprocessed tower 2 data\n",
    "df.to_csv(f'{datapath}/esb/esb_tower_2_preprocessed.csv')"
   ]
  },
  {
   "attachments": {},
   "cell_type": "markdown",
   "metadata": {},
   "source": [
    "<h2 style=\"color:#27469c\">Merging data from cooling tower 2 into cooling tower 1 for cases where 2 was on and 1 was off - DON'T DO THIS</h2>\n",
    "\n",
    "<h3 style=\"color:#27469c\">Context</h3>\n",
    "\n",
    "For the Engineering Science Building, typically either cooling tower is turned on at a time and not both. So in case denser data is needed, we could potentially consolidate data from both cooling towers into a singular dataset, such that data for times when cooling tower 1 was off can be filled in by data in cooling tower 2. The analysis done in the KNN plots below was done to visualize if the two cooling towers operate similarly.<br/>\n",
    "\n",
    "Previously, this approach of combining the datasets was followed after reaching the conclusion that the behavior of the cooling towers is mostly similar.<br/>\n",
    "However, based on the plots it seems that it would be better to treat the two cooling towers separately for model development purposes. The combined data will still be used to identify common variables across multiple buildings."
   ]
  },
  {
   "attachments": {},
   "cell_type": "markdown",
   "metadata": {},
   "source": [
    "```\n",
    "df = pd.read_csv(f'{datapath}/esb/esb_tower_1_preprocessed.csv', index_col=\"time\").merge(pd.read_csv(f'{datapath}/esb/esb_tower_2_preprocessed.csv', index_col=\"time\"), on=\"time\")\n",
    "df.index = pd.to_datetime(df.index, utc='True')\n",
    "```"
   ]
  },
  {
   "attachments": {},
   "cell_type": "markdown",
   "metadata": {},
   "source": [
    "<h3 style=\"color:#27469c\">Remove rows of data in which both cooling towers were off</h3>"
   ]
  },
  {
   "attachments": {},
   "cell_type": "markdown",
   "metadata": {},
   "source": [
    "```\n",
    "# Number of rows in which neither cooling towers was on - 2078\n",
    "# Remove these rows\n",
    "df = df[df['Cell_1aFan fanOnOff'] & df['Cell_1bFan fanOnOff'] | df['Cell_2aFan fanOnOff'] & df['Cell_2bFan fanOnOff']]\n",
    "\n",
    "# Number of rows in which both cooling towers were on - 6\n",
    "# Since there are only 6 rows, we can remove these rows\n",
    "df = df[(df['Cell_1aFan fanOnOff'] & df['Cell_1bFan fanOnOff']) ^ (df['Cell_2aFan fanOnOff'] & df['Cell_2bFan fanOnOff'])]\n",
    "```"
   ]
  },
  {
   "attachments": {},
   "cell_type": "markdown",
   "metadata": {},
   "source": [
    "<h3 style=\"color:#27469c\">Merge cooling tower 1 with cooling tower 2 data</h3>"
   ]
  },
  {
   "attachments": {},
   "cell_type": "markdown",
   "metadata": {},
   "source": [
    "```\n",
    "# Assign values from Cell_2a columns to Cell_1a columns wherever cooling tower 1 was off\n",
    "# Do not change Cell_1aFan fanOnOff and Cell_2aFan fanOnOff data\n",
    "\n",
    "condition = df['Cell_1aFan fanOnOff'] == False\n",
    "\n",
    "df.loc[df['Cell_1aFan fanOnOff'] == True, 'whichCoolingTower'] = 1\n",
    "df.loc[condition, 'whichCoolingTower'] = 2\n",
    "\n",
    "for column_name in df.columns:\n",
    "    if '1' in column_name and column_name != \"Cell_1aFan fanOnOff\":\n",
    "        replacement_column = column_name.replace('1', '2')\n",
    "        df.loc[condition, column_name] = df.loc[condition, replacement_column]\n",
    "\n",
    "# Cell_1aFan fanOnOff column was skipped in iterations so do the same with it\n",
    "df.loc[condition, 'Cell_1aFan fanOnOff'] = df.loc[condition, 'Cell_2aFan fanOnOff']\n",
    "\n",
    "# rename columns so that they're not specific to cooling tower\n",
    "renaming = {}\n",
    "for column_name in df.columns:\n",
    "    if '1' in column_name:\n",
    "        renaming[column_name] = column_name.replace('1','X')\n",
    "    # also drop all cooling tower 2 columns since they have already been included when on\n",
    "    elif '2' in column_name:\n",
    "        df.drop(column_name, axis=1, inplace=True)\n",
    "df.rename(renaming, inplace=True, axis=1)\n",
    "```"
   ]
  },
  {
   "attachments": {},
   "cell_type": "markdown",
   "metadata": {},
   "source": [
    "<h3 style=\"color:#27469c\">Verify if merging is a viable option</h3>"
   ]
  },
  {
   "attachments": {},
   "cell_type": "markdown",
   "metadata": {},
   "source": [
    "```\n",
    "def knn_comparison(data, k, X, Y, category='whichCoolingTower'):\n",
    "    x = data[[X, Y]].values\n",
    "    y = data[category].astype(int).values\n",
    "    clf = neighbors.KNeighborsClassifier(n_neighbors=k)\n",
    "    clf.fit(x, y)\n",
    "    # Plotting decision region\n",
    "    plt.figure(figsize=(5,3))\n",
    "    plotting.plot_decision_regions(x, y, clf=clf, legend=2)\n",
    "    # Adding axes annotations\n",
    "    plt.xlabel(X)\n",
    "    plt.ylabel(Y)\n",
    "    plt.title('Knn with K='+ str(k))\n",
    "    plt.show()\n",
    "\n",
    "for i in [5,30,80]:\n",
    "    knn_comparison(data=df, k=i, X='ESB_Tower_X enteringWaterTemp', Y='ESB_Tower_X efficiency')\n",
    "```"
   ]
  },
  {
   "attachments": {},
   "cell_type": "markdown",
   "metadata": {},
   "source": [
    "`df.isna().sum()`"
   ]
  },
  {
   "attachments": {},
   "cell_type": "markdown",
   "metadata": {},
   "source": [
    "```\n",
    "# save as combined towers data for use in variable comparison\n",
    "df.to_csv(f'{datapath}/esb/esb_merged.csv')\n",
    "```"
   ]
  }
 ],
 "metadata": {
  "kernelspec": {
   "display_name": "python3-8",
   "language": "python",
   "name": "python3"
  },
  "language_info": {
   "codemirror_mode": {
    "name": "ipython",
    "version": 3
   },
   "file_extension": ".py",
   "mimetype": "text/x-python",
   "name": "python",
   "nbconvert_exporter": "python",
   "pygments_lexer": "ipython3",
   "version": "3.8.16"
  },
  "orig_nbformat": 4
 },
 "nbformat": 4,
 "nbformat_minor": 2
}
