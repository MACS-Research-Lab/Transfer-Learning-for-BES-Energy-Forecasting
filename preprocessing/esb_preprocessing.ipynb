{
 "cells": [
  {
   "attachments": {},
   "cell_type": "markdown",
   "metadata": {},
   "source": [
    "<h1 style=\"color:#27469c\"> Preprocessing of ESB Cooling Towers 1 and 2 data </h1>\n",
    "\n",
    "\n",
    "<h1 style=\"color:#27469c\">ESB Cooling Tower 1</h1>"
   ]
  },
  {
   "cell_type": "code",
   "execution_count": null,
   "metadata": {},
   "outputs": [],
   "source": [
    "import pandas as pd\n",
    "import matplotlib.pyplot as plt\n",
    "import preprocessor\n",
    "import matplotlib.pyplot as plt\n",
    "import numpy as np\n",
    "\n",
    "import warnings\n",
    "warnings.filterwarnings('ignore')\n",
    "\n",
    "rootpath = \"..\""
   ]
  },
  {
   "cell_type": "code",
   "execution_count": null,
   "metadata": {},
   "outputs": [],
   "source": [
    "# load cooling tower data\n",
    "df = pd.read_csv(f'{rootpath}/data/esb/2422_1.csv', index_col='time')\n",
    "df.index = pd.to_datetime(df.index, utc='True')\n",
    "df = df.drop(columns=['Setpoint_Python', 'Setpoint_Existing'])\n",
    "df.drop(columns=df.filter(like='generated', axis=1).columns, inplace=True)\n",
    "\n",
    "initial_data_size = df.shape[0]\n",
    "df.columns"
   ]
  },
  {
   "attachments": {},
   "cell_type": "markdown",
   "metadata": {},
   "source": [
    "<h3 style=\"color:#27469c\">Missing data removal</h3>"
   ]
  },
  {
   "cell_type": "code",
   "execution_count": null,
   "metadata": {},
   "outputs": [],
   "source": [
    "# drop columns with no data (FlowCond)\n",
    "df = df.dropna(axis=1, how=\"all\")\n",
    "\n",
    "# replace 0.0 in enviroment columns with null\n",
    "env_cols = [\"TempWetBulb\", \"TempCondIn\", \"TempEvapOut\", \"TempEvapIn\", \"TempAmbient\", \"PerHumidity\"]\n",
    "df[env_cols] = df[env_cols].replace(0.0, np.nan)\n",
    "\n",
    "print(df.isna().sum() / df.shape[0])\n",
    "\n",
    "df = df.dropna()\n",
    "print(f\"After missing data removal, we are left with {df.shape[0]} rows out of {initial_data_size}.\")"
   ]
  },
  {
   "cell_type": "markdown",
   "metadata": {},
   "source": [
    "# Iterate through the columns and create a separate figure for each\n",
    "for column in df.columns[1:]:\n",
    "    plt.figure()  # Create a new figure\n",
    "    plt.plot(df.index, df[column])\n",
    "    plt.title(f'Trendline for {column}')\n",
    "    plt.xlabel('Year')\n",
    "    plt.ylabel(column)\n",
    "\n",
    "plt.show()"
   ]
  },
  {
   "attachments": {},
   "cell_type": "markdown",
   "metadata": {},
   "source": [
    "<h3 style=\"color:#27469c\">Add efficiency and season columns + additional features</h3>"
   ]
  },
  {
   "cell_type": "code",
   "execution_count": null,
   "metadata": {},
   "outputs": [],
   "source": [
    "preprocessor.create_season_col(datadf=df, season_col_name=\"Season\")\n",
    "df[\"DayOfWeek\"] = df.index.weekday\n",
    "df['HourOfDay'] = df.index.hour\n",
    "\n",
    "\n",
    "# columns modified/dropped to align with kissam\n",
    "df[\"PerFreqFan\"] = df[\"PerFreqFanA\"]/2.0 + df[\"PerFreqFanB\"]/2.0\n",
    "df.drop(columns=['PerFreqFanA', 'PerFreqFanB', 'PressDiffCond', 'PressDiffEvap', 'RunChi', 'RunFanB', 'RunFanA', 'PerFreqChiP', 'RunConP'], inplace=True)"
   ]
  },
  {
   "attachments": {},
   "cell_type": "markdown",
   "metadata": {},
   "source": [
    "<h3 style=\"color:#27469c\">Target</h3>"
   ]
  },
  {
   "cell_type": "markdown",
   "metadata": {},
   "source": [
    "Since the three power variables are in the same range, we can conclude that they are using the same units and combine them into a single energy consumption variable."
   ]
  },
  {
   "cell_type": "code",
   "execution_count": null,
   "metadata": {},
   "outputs": [],
   "source": [
    "df['EnergyConsumption'] = df[\"PowFanA\"] + df[\"PowFanB\"] + df[\"PowConP\"] + df[\"PowChi\"] + df[\"PowChiP\"]\n",
    "df.drop(columns=[\"PowFanA\", \"PowFanB\", \"PowConP\", \"PowChi\", \"PowChiP\"], inplace=True)"
   ]
  },
  {
   "cell_type": "code",
   "execution_count": null,
   "metadata": {},
   "outputs": [],
   "source": [
    "df.columns"
   ]
  },
  {
   "cell_type": "code",
   "execution_count": null,
   "metadata": {},
   "outputs": [],
   "source": [
    "column = \"EnergyConsumption\"\n",
    "plt.figure()  # Create a new figure\n",
    "plt.plot(df.index, df[column])\n",
    "plt.title(f'Trendline for {column}')\n",
    "plt.xlabel('Year')\n",
    "plt.ylabel(column)\n",
    "\n",
    "plt.show()"
   ]
  },
  {
   "cell_type": "code",
   "execution_count": null,
   "metadata": {},
   "outputs": [],
   "source": [
    "# save preprocessed tower 1 data\n",
    "df.sort_index(axis=1).to_csv(f'{rootpath}/data/esb/esb1_preprocessed.csv')"
   ]
  },
  {
   "attachments": {},
   "cell_type": "markdown",
   "metadata": {},
   "source": [
    "<h1 style=\"color:#27469c\">ESB Cooling Tower 2</h1>\n",
    "\n",
    "Replicate the same steps as for cooling tower 1"
   ]
  },
  {
   "cell_type": "code",
   "execution_count": null,
   "metadata": {},
   "outputs": [],
   "source": [
    "# load cooling tower data\n",
    "df = pd.read_csv(f'{rootpath}/data/esb/2841_2.csv', index_col='time')\n",
    "df.index = pd.to_datetime(df.index, utc='True')\n",
    "df.drop(columns=df.filter(like='generated', axis=1).columns, inplace=True)\n",
    "initial_data_size = df.shape[0]"
   ]
  },
  {
   "cell_type": "code",
   "execution_count": null,
   "metadata": {},
   "outputs": [],
   "source": [
    "# missing data removal\n",
    "df = df.dropna(axis=1, how=\"all\")\n",
    "env_cols = [\"TempWetBulb\", \"TempCondIn\", \"TempEvapOut\", \"TempEvapIn\", \"TempAmbient\", \"PerHumidity\"]\n",
    "df[env_cols] = df[env_cols].replace(0.0, np.nan)\n",
    "df[[\"FlowEvap\"]] = df[[\"FlowEvap\"]].applymap(lambda x: np.nan if x < 0.0 else x)\n",
    "print(df.isna().sum() / df.shape[0])\n",
    "df = df.dropna()\n",
    "print(f\"After missing data removal, we are left with {df.shape[0]} rows out of {initial_data_size}.\")"
   ]
  },
  {
   "cell_type": "code",
   "execution_count": null,
   "metadata": {},
   "outputs": [],
   "source": [
    "preprocessor.create_season_col(datadf=df, season_col_name=\"Season\")\n",
    "df[\"DayOfWeek\"] = df.index.weekday\n",
    "df['HourOfDay'] = df.index.hour\n",
    "\n",
    "\n",
    "# columns modified/dropped to align with kissam\n",
    "df[\"PerFreqFan\"] = df[\"PerFreqFanA\"]/2.0 + df[\"PerFreqFanB\"]/2.0\n",
    "df.drop(columns=['PerFreqFanA', 'PerFreqFanB', 'PressDiffCond', 'PressDiffEvap', 'RunChi', 'RunFanB', 'RunFanA', 'PerFreqChiP', 'RunConP'], inplace=True)"
   ]
  },
  {
   "cell_type": "code",
   "execution_count": null,
   "metadata": {},
   "outputs": [],
   "source": [
    "# target\n",
    "df['EnergyConsumption'] = df[\"PowFanA\"] + df[\"PowFanB\"] + df[\"PowConP\"] + df[\"PowChi\"] + df[\"PowChiP\"]\n",
    "df.drop(columns=[\"PowFanA\", \"PowFanB\", \"PowConP\", \"PowChi\", \"PowChiP\"], inplace=True)"
   ]
  },
  {
   "cell_type": "code",
   "execution_count": null,
   "metadata": {},
   "outputs": [],
   "source": [
    "column = \"EnergyConsumption\"\n",
    "plt.figure()  # Create a new figure\n",
    "plt.plot(df.index, df[column])\n",
    "plt.title(f'Trendline for {column}')\n",
    "plt.xlabel('Year')\n",
    "plt.ylabel(column)\n",
    "\n",
    "plt.show()"
   ]
  },
  {
   "cell_type": "code",
   "execution_count": null,
   "metadata": {},
   "outputs": [],
   "source": [
    "# save preprocessed tower 2 data\n",
    "df.sort_index(axis=1).to_csv(f'{rootpath}/data/esb/esb2_preprocessed.csv')"
   ]
  },
  {
   "cell_type": "code",
   "execution_count": null,
   "metadata": {},
   "outputs": [],
   "source": [
    "df.columns"
   ]
  }
 ],
 "metadata": {
  "kernelspec": {
   "display_name": "python3-8",
   "language": "python",
   "name": "python3"
  },
  "language_info": {
   "codemirror_mode": {
    "name": "ipython",
    "version": 3
   },
   "file_extension": ".py",
   "mimetype": "text/x-python",
   "name": "python",
   "nbconvert_exporter": "python",
   "pygments_lexer": "ipython3",
   "version": "3.8.16"
  },
  "orig_nbformat": 4
 },
 "nbformat": 4,
 "nbformat_minor": 2
}
